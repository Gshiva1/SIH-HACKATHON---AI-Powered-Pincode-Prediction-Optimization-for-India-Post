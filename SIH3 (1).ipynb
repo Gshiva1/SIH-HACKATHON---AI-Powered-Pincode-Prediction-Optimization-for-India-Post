{
  "cells": [
    {
      "cell_type": "code",
      "execution_count": null,
      "metadata": {
        "colab": {
          "base_uri": "https://localhost:8080/",
          "height": 535
        },
        "id": "C73bcnJ6ad3n",
        "outputId": "847a6b8b-7c6b-4dd9-a56f-5d133694b656"
      },
      "outputs": [
        {
          "output_type": "stream",
          "name": "stdout",
          "text": [
            "Index(['Circle Name', 'Region Name', 'Division Name', 'Office Name', 'Pincode',\n",
            "       'OfficeType', 'Delivery', 'District', 'StateName'],\n",
            "      dtype='object')\n",
            "Cross-validated accuracy scores: [0.0500482  0.0434608  0.04655366 0.04157294 0.04350271]\n",
            "Mean cross-validation accuracy: 0.04502766310018789\n"
          ]
        },
        {
          "output_type": "error",
          "ename": "TerminatedWorkerError",
          "evalue": "A worker process managed by the executor was unexpectedly terminated. This could be caused by a segmentation fault while calling the function or by an excessive memory usage causing the Operating System to kill the worker.\n\nThe exit codes of the workers are {SIGKILL(-9)}",
          "traceback": [
            "\u001b[0;31m---------------------------------------------------------------------------\u001b[0m",
            "\u001b[0;31mTerminatedWorkerError\u001b[0m                     Traceback (most recent call last)",
            "\u001b[0;32m<ipython-input-2-d2b2d436d929>\u001b[0m in \u001b[0;36m<cell line: 62>\u001b[0;34m()\u001b[0m\n\u001b[1;32m     60\u001b[0m                            cv=kf, n_jobs=-1, scoring='accuracy')\n\u001b[1;32m     61\u001b[0m \u001b[0;34m\u001b[0m\u001b[0m\n\u001b[0;32m---> 62\u001b[0;31m \u001b[0mgrid_search\u001b[0m\u001b[0;34m.\u001b[0m\u001b[0mfit\u001b[0m\u001b[0;34m(\u001b[0m\u001b[0mX_train\u001b[0m\u001b[0;34m,\u001b[0m \u001b[0my_train\u001b[0m\u001b[0;34m)\u001b[0m\u001b[0;34m\u001b[0m\u001b[0;34m\u001b[0m\u001b[0m\n\u001b[0m\u001b[1;32m     63\u001b[0m \u001b[0;34m\u001b[0m\u001b[0m\n\u001b[1;32m     64\u001b[0m \u001b[0;31m# Best hyperparameters and best score\u001b[0m\u001b[0;34m\u001b[0m\u001b[0;34m\u001b[0m\u001b[0m\n",
            "\u001b[0;32m/usr/local/lib/python3.10/dist-packages/sklearn/base.py\u001b[0m in \u001b[0;36mwrapper\u001b[0;34m(estimator, *args, **kwargs)\u001b[0m\n\u001b[1;32m   1150\u001b[0m                 )\n\u001b[1;32m   1151\u001b[0m             ):\n\u001b[0;32m-> 1152\u001b[0;31m                 \u001b[0;32mreturn\u001b[0m \u001b[0mfit_method\u001b[0m\u001b[0;34m(\u001b[0m\u001b[0mestimator\u001b[0m\u001b[0;34m,\u001b[0m \u001b[0;34m*\u001b[0m\u001b[0margs\u001b[0m\u001b[0;34m,\u001b[0m \u001b[0;34m**\u001b[0m\u001b[0mkwargs\u001b[0m\u001b[0;34m)\u001b[0m\u001b[0;34m\u001b[0m\u001b[0;34m\u001b[0m\u001b[0m\n\u001b[0m\u001b[1;32m   1153\u001b[0m \u001b[0;34m\u001b[0m\u001b[0m\n\u001b[1;32m   1154\u001b[0m         \u001b[0;32mreturn\u001b[0m \u001b[0mwrapper\u001b[0m\u001b[0;34m\u001b[0m\u001b[0;34m\u001b[0m\u001b[0m\n",
            "\u001b[0;32m/usr/local/lib/python3.10/dist-packages/sklearn/model_selection/_search.py\u001b[0m in \u001b[0;36mfit\u001b[0;34m(self, X, y, groups, **fit_params)\u001b[0m\n\u001b[1;32m    896\u001b[0m                 \u001b[0;32mreturn\u001b[0m \u001b[0mresults\u001b[0m\u001b[0;34m\u001b[0m\u001b[0;34m\u001b[0m\u001b[0m\n\u001b[1;32m    897\u001b[0m \u001b[0;34m\u001b[0m\u001b[0m\n\u001b[0;32m--> 898\u001b[0;31m             \u001b[0mself\u001b[0m\u001b[0;34m.\u001b[0m\u001b[0m_run_search\u001b[0m\u001b[0;34m(\u001b[0m\u001b[0mevaluate_candidates\u001b[0m\u001b[0;34m)\u001b[0m\u001b[0;34m\u001b[0m\u001b[0;34m\u001b[0m\u001b[0m\n\u001b[0m\u001b[1;32m    899\u001b[0m \u001b[0;34m\u001b[0m\u001b[0m\n\u001b[1;32m    900\u001b[0m             \u001b[0;31m# multimetric is determined here because in the case of a callable\u001b[0m\u001b[0;34m\u001b[0m\u001b[0;34m\u001b[0m\u001b[0m\n",
            "\u001b[0;32m/usr/local/lib/python3.10/dist-packages/sklearn/model_selection/_search.py\u001b[0m in \u001b[0;36m_run_search\u001b[0;34m(self, evaluate_candidates)\u001b[0m\n\u001b[1;32m   1420\u001b[0m     \u001b[0;32mdef\u001b[0m \u001b[0m_run_search\u001b[0m\u001b[0;34m(\u001b[0m\u001b[0mself\u001b[0m\u001b[0;34m,\u001b[0m \u001b[0mevaluate_candidates\u001b[0m\u001b[0;34m)\u001b[0m\u001b[0;34m:\u001b[0m\u001b[0;34m\u001b[0m\u001b[0;34m\u001b[0m\u001b[0m\n\u001b[1;32m   1421\u001b[0m         \u001b[0;34m\"\"\"Search all candidates in param_grid\"\"\"\u001b[0m\u001b[0;34m\u001b[0m\u001b[0;34m\u001b[0m\u001b[0m\n\u001b[0;32m-> 1422\u001b[0;31m         \u001b[0mevaluate_candidates\u001b[0m\u001b[0;34m(\u001b[0m\u001b[0mParameterGrid\u001b[0m\u001b[0;34m(\u001b[0m\u001b[0mself\u001b[0m\u001b[0;34m.\u001b[0m\u001b[0mparam_grid\u001b[0m\u001b[0;34m)\u001b[0m\u001b[0;34m)\u001b[0m\u001b[0;34m\u001b[0m\u001b[0;34m\u001b[0m\u001b[0m\n\u001b[0m\u001b[1;32m   1423\u001b[0m \u001b[0;34m\u001b[0m\u001b[0m\n\u001b[1;32m   1424\u001b[0m \u001b[0;34m\u001b[0m\u001b[0m\n",
            "\u001b[0;32m/usr/local/lib/python3.10/dist-packages/sklearn/model_selection/_search.py\u001b[0m in \u001b[0;36mevaluate_candidates\u001b[0;34m(candidate_params, cv, more_results)\u001b[0m\n\u001b[1;32m    843\u001b[0m                     )\n\u001b[1;32m    844\u001b[0m \u001b[0;34m\u001b[0m\u001b[0m\n\u001b[0;32m--> 845\u001b[0;31m                 out = parallel(\n\u001b[0m\u001b[1;32m    846\u001b[0m                     delayed(_fit_and_score)(\n\u001b[1;32m    847\u001b[0m                         \u001b[0mclone\u001b[0m\u001b[0;34m(\u001b[0m\u001b[0mbase_estimator\u001b[0m\u001b[0;34m)\u001b[0m\u001b[0;34m,\u001b[0m\u001b[0;34m\u001b[0m\u001b[0;34m\u001b[0m\u001b[0m\n",
            "\u001b[0;32m/usr/local/lib/python3.10/dist-packages/sklearn/utils/parallel.py\u001b[0m in \u001b[0;36m__call__\u001b[0;34m(self, iterable)\u001b[0m\n\u001b[1;32m     63\u001b[0m             \u001b[0;32mfor\u001b[0m \u001b[0mdelayed_func\u001b[0m\u001b[0;34m,\u001b[0m \u001b[0margs\u001b[0m\u001b[0;34m,\u001b[0m \u001b[0mkwargs\u001b[0m \u001b[0;32min\u001b[0m \u001b[0miterable\u001b[0m\u001b[0;34m\u001b[0m\u001b[0;34m\u001b[0m\u001b[0m\n\u001b[1;32m     64\u001b[0m         )\n\u001b[0;32m---> 65\u001b[0;31m         \u001b[0;32mreturn\u001b[0m \u001b[0msuper\u001b[0m\u001b[0;34m(\u001b[0m\u001b[0;34m)\u001b[0m\u001b[0;34m.\u001b[0m\u001b[0m__call__\u001b[0m\u001b[0;34m(\u001b[0m\u001b[0miterable_with_config\u001b[0m\u001b[0;34m)\u001b[0m\u001b[0;34m\u001b[0m\u001b[0;34m\u001b[0m\u001b[0m\n\u001b[0m\u001b[1;32m     66\u001b[0m \u001b[0;34m\u001b[0m\u001b[0m\n\u001b[1;32m     67\u001b[0m \u001b[0;34m\u001b[0m\u001b[0m\n",
            "\u001b[0;32m/usr/local/lib/python3.10/dist-packages/joblib/parallel.py\u001b[0m in \u001b[0;36m__call__\u001b[0;34m(self, iterable)\u001b[0m\n\u001b[1;32m   2005\u001b[0m         \u001b[0mnext\u001b[0m\u001b[0;34m(\u001b[0m\u001b[0moutput\u001b[0m\u001b[0;34m)\u001b[0m\u001b[0;34m\u001b[0m\u001b[0;34m\u001b[0m\u001b[0m\n\u001b[1;32m   2006\u001b[0m \u001b[0;34m\u001b[0m\u001b[0m\n\u001b[0;32m-> 2007\u001b[0;31m         \u001b[0;32mreturn\u001b[0m \u001b[0moutput\u001b[0m \u001b[0;32mif\u001b[0m \u001b[0mself\u001b[0m\u001b[0;34m.\u001b[0m\u001b[0mreturn_generator\u001b[0m \u001b[0;32melse\u001b[0m \u001b[0mlist\u001b[0m\u001b[0;34m(\u001b[0m\u001b[0moutput\u001b[0m\u001b[0;34m)\u001b[0m\u001b[0;34m\u001b[0m\u001b[0;34m\u001b[0m\u001b[0m\n\u001b[0m\u001b[1;32m   2008\u001b[0m \u001b[0;34m\u001b[0m\u001b[0m\n\u001b[1;32m   2009\u001b[0m     \u001b[0;32mdef\u001b[0m \u001b[0m__repr__\u001b[0m\u001b[0;34m(\u001b[0m\u001b[0mself\u001b[0m\u001b[0;34m)\u001b[0m\u001b[0;34m:\u001b[0m\u001b[0;34m\u001b[0m\u001b[0;34m\u001b[0m\u001b[0m\n",
            "\u001b[0;32m/usr/local/lib/python3.10/dist-packages/joblib/parallel.py\u001b[0m in \u001b[0;36m_get_outputs\u001b[0;34m(self, iterator, pre_dispatch)\u001b[0m\n\u001b[1;32m   1648\u001b[0m \u001b[0;34m\u001b[0m\u001b[0m\n\u001b[1;32m   1649\u001b[0m             \u001b[0;32mwith\u001b[0m \u001b[0mself\u001b[0m\u001b[0;34m.\u001b[0m\u001b[0m_backend\u001b[0m\u001b[0;34m.\u001b[0m\u001b[0mretrieval_context\u001b[0m\u001b[0;34m(\u001b[0m\u001b[0;34m)\u001b[0m\u001b[0;34m:\u001b[0m\u001b[0;34m\u001b[0m\u001b[0;34m\u001b[0m\u001b[0m\n\u001b[0;32m-> 1650\u001b[0;31m                 \u001b[0;32myield\u001b[0m \u001b[0;32mfrom\u001b[0m \u001b[0mself\u001b[0m\u001b[0;34m.\u001b[0m\u001b[0m_retrieve\u001b[0m\u001b[0;34m(\u001b[0m\u001b[0;34m)\u001b[0m\u001b[0;34m\u001b[0m\u001b[0;34m\u001b[0m\u001b[0m\n\u001b[0m\u001b[1;32m   1651\u001b[0m \u001b[0;34m\u001b[0m\u001b[0m\n\u001b[1;32m   1652\u001b[0m         \u001b[0;32mexcept\u001b[0m \u001b[0mGeneratorExit\u001b[0m\u001b[0;34m:\u001b[0m\u001b[0;34m\u001b[0m\u001b[0;34m\u001b[0m\u001b[0m\n",
            "\u001b[0;32m/usr/local/lib/python3.10/dist-packages/joblib/parallel.py\u001b[0m in \u001b[0;36m_retrieve\u001b[0;34m(self)\u001b[0m\n\u001b[1;32m   1752\u001b[0m             \u001b[0;31m# worker traceback.\u001b[0m\u001b[0;34m\u001b[0m\u001b[0;34m\u001b[0m\u001b[0m\n\u001b[1;32m   1753\u001b[0m             \u001b[0;32mif\u001b[0m \u001b[0mself\u001b[0m\u001b[0;34m.\u001b[0m\u001b[0m_aborting\u001b[0m\u001b[0;34m:\u001b[0m\u001b[0;34m\u001b[0m\u001b[0;34m\u001b[0m\u001b[0m\n\u001b[0;32m-> 1754\u001b[0;31m                 \u001b[0mself\u001b[0m\u001b[0;34m.\u001b[0m\u001b[0m_raise_error_fast\u001b[0m\u001b[0;34m(\u001b[0m\u001b[0;34m)\u001b[0m\u001b[0;34m\u001b[0m\u001b[0;34m\u001b[0m\u001b[0m\n\u001b[0m\u001b[1;32m   1755\u001b[0m                 \u001b[0;32mbreak\u001b[0m\u001b[0;34m\u001b[0m\u001b[0;34m\u001b[0m\u001b[0m\n\u001b[1;32m   1756\u001b[0m \u001b[0;34m\u001b[0m\u001b[0m\n",
            "\u001b[0;32m/usr/local/lib/python3.10/dist-packages/joblib/parallel.py\u001b[0m in \u001b[0;36m_raise_error_fast\u001b[0;34m(self)\u001b[0m\n\u001b[1;32m   1787\u001b[0m         \u001b[0;31m# called directly or if the generator is gc'ed.\u001b[0m\u001b[0;34m\u001b[0m\u001b[0;34m\u001b[0m\u001b[0m\n\u001b[1;32m   1788\u001b[0m         \u001b[0;32mif\u001b[0m \u001b[0merror_job\u001b[0m \u001b[0;32mis\u001b[0m \u001b[0;32mnot\u001b[0m \u001b[0;32mNone\u001b[0m\u001b[0;34m:\u001b[0m\u001b[0;34m\u001b[0m\u001b[0;34m\u001b[0m\u001b[0m\n\u001b[0;32m-> 1789\u001b[0;31m             \u001b[0merror_job\u001b[0m\u001b[0;34m.\u001b[0m\u001b[0mget_result\u001b[0m\u001b[0;34m(\u001b[0m\u001b[0mself\u001b[0m\u001b[0;34m.\u001b[0m\u001b[0mtimeout\u001b[0m\u001b[0;34m)\u001b[0m\u001b[0;34m\u001b[0m\u001b[0;34m\u001b[0m\u001b[0m\n\u001b[0m\u001b[1;32m   1790\u001b[0m \u001b[0;34m\u001b[0m\u001b[0m\n\u001b[1;32m   1791\u001b[0m     \u001b[0;32mdef\u001b[0m \u001b[0m_warn_exit_early\u001b[0m\u001b[0;34m(\u001b[0m\u001b[0mself\u001b[0m\u001b[0;34m)\u001b[0m\u001b[0;34m:\u001b[0m\u001b[0;34m\u001b[0m\u001b[0;34m\u001b[0m\u001b[0m\n",
            "\u001b[0;32m/usr/local/lib/python3.10/dist-packages/joblib/parallel.py\u001b[0m in \u001b[0;36mget_result\u001b[0;34m(self, timeout)\u001b[0m\n\u001b[1;32m    743\u001b[0m             \u001b[0;31m# callback thread, and is stored internally. It's just waiting to\u001b[0m\u001b[0;34m\u001b[0m\u001b[0;34m\u001b[0m\u001b[0m\n\u001b[1;32m    744\u001b[0m             \u001b[0;31m# be returned.\u001b[0m\u001b[0;34m\u001b[0m\u001b[0;34m\u001b[0m\u001b[0m\n\u001b[0;32m--> 745\u001b[0;31m             \u001b[0;32mreturn\u001b[0m \u001b[0mself\u001b[0m\u001b[0;34m.\u001b[0m\u001b[0m_return_or_raise\u001b[0m\u001b[0;34m(\u001b[0m\u001b[0;34m)\u001b[0m\u001b[0;34m\u001b[0m\u001b[0;34m\u001b[0m\u001b[0m\n\u001b[0m\u001b[1;32m    746\u001b[0m \u001b[0;34m\u001b[0m\u001b[0m\n\u001b[1;32m    747\u001b[0m         \u001b[0;31m# For other backends, the main thread needs to run the retrieval step.\u001b[0m\u001b[0;34m\u001b[0m\u001b[0;34m\u001b[0m\u001b[0m\n",
            "\u001b[0;32m/usr/local/lib/python3.10/dist-packages/joblib/parallel.py\u001b[0m in \u001b[0;36m_return_or_raise\u001b[0;34m(self)\u001b[0m\n\u001b[1;32m    761\u001b[0m         \u001b[0;32mtry\u001b[0m\u001b[0;34m:\u001b[0m\u001b[0;34m\u001b[0m\u001b[0;34m\u001b[0m\u001b[0m\n\u001b[1;32m    762\u001b[0m             \u001b[0;32mif\u001b[0m \u001b[0mself\u001b[0m\u001b[0;34m.\u001b[0m\u001b[0mstatus\u001b[0m \u001b[0;34m==\u001b[0m \u001b[0mTASK_ERROR\u001b[0m\u001b[0;34m:\u001b[0m\u001b[0;34m\u001b[0m\u001b[0;34m\u001b[0m\u001b[0m\n\u001b[0;32m--> 763\u001b[0;31m                 \u001b[0;32mraise\u001b[0m \u001b[0mself\u001b[0m\u001b[0;34m.\u001b[0m\u001b[0m_result\u001b[0m\u001b[0;34m\u001b[0m\u001b[0;34m\u001b[0m\u001b[0m\n\u001b[0m\u001b[1;32m    764\u001b[0m             \u001b[0;32mreturn\u001b[0m \u001b[0mself\u001b[0m\u001b[0;34m.\u001b[0m\u001b[0m_result\u001b[0m\u001b[0;34m\u001b[0m\u001b[0;34m\u001b[0m\u001b[0m\n\u001b[1;32m    765\u001b[0m         \u001b[0;32mfinally\u001b[0m\u001b[0;34m:\u001b[0m\u001b[0;34m\u001b[0m\u001b[0;34m\u001b[0m\u001b[0m\n",
            "\u001b[0;31mTerminatedWorkerError\u001b[0m: A worker process managed by the executor was unexpectedly terminated. This could be caused by a segmentation fault while calling the function or by an excessive memory usage causing the Operating System to kill the worker.\n\nThe exit codes of the workers are {SIGKILL(-9)}"
          ]
        }
      ],
      "source": [
        "# Import necessary libraries\n",
        "import pandas as pd\n",
        "from sklearn.ensemble import RandomForestClassifier\n",
        "from sklearn.model_selection import train_test_split, KFold, cross_val_score, GridSearchCV\n",
        "from sklearn.metrics import accuracy_score, confusion_matrix, classification_report\n",
        "from sklearn.preprocessing import LabelEncoder\n",
        "import matplotlib.pyplot as plt\n",
        "import numpy as np\n",
        "\n",
        "# Step 1: Load the CSV data\n",
        "file_path = '/content/pincodes_all.csv'  # Update this to the correct file path if needed\n",
        "data = pd.read_csv(file_path, encoding='latin-1') # Changed encoding to latin-1\n",
        "\n",
        "# Check column names\n",
        "print(data.columns)\n",
        "\n",
        "# Step 2: Data Preprocessing\n",
        "# Handling missing values (fill with forward fill for simplicity)\n",
        "data.ffill(inplace=True)  # Updated to use ffill() instead of fillna(method='ffill')\n",
        "\n",
        "# Encoding categorical variables\n",
        "label_encoders = {}\n",
        "# Encoding 'Region Name' and 'District' as categorical variables\n",
        "for column in ['Region Name', 'District']:\n",
        "    le = LabelEncoder()\n",
        "    data[column] = le.fit_transform(data[column])\n",
        "    label_encoders[column] = le\n",
        "\n",
        "# Define features (X) and target (y) - Using 'Region Name' and 'District' to predict 'Pincode'\n",
        "X = data[['Region Name', 'District']]\n",
        "y = data['Pincode']\n",
        "\n",
        "# Step 3: Split data into training and test sets\n",
        "X_train, X_test, y_train, y_test = train_test_split(X, y, test_size=0.2, random_state=42)\n",
        "\n",
        "# Step 4: Define and train the Random Forest model with K-Fold Cross-Validation\n",
        "rf_model = RandomForestClassifier(\n",
        "    n_estimators=100,     # Number of trees\n",
        "    max_depth=10,         # Maximum depth of each tree\n",
        "    min_samples_split=10, # Minimum number of samples to split a node\n",
        "    min_samples_leaf=4,   # Minimum number of samples in a leaf node\n",
        "    random_state=42\n",
        ")\n",
        "\n",
        "# Step 5: Perform K-Fold Cross Validation\n",
        "kf = KFold(n_splits=5, shuffle=True, random_state=42)\n",
        "cv_scores = cross_val_score(rf_model, X_train, y_train, cv=kf, scoring='accuracy')\n",
        "print(f\"Cross-validated accuracy scores: {cv_scores}\")\n",
        "print(f\"Mean cross-validation accuracy: {cv_scores.mean()}\")\n",
        "\n",
        "# Step 6: Hyperparameter Tuning Using GridSearchCV\n",
        "param_grid = {\n",
        "    'n_estimators': [100, 200],\n",
        "    'max_depth': [10, 20, None],\n",
        "    'min_samples_split': [2, 5, 10],\n",
        "    'min_samples_leaf': [1, 2, 4],\n",
        "}\n",
        "\n",
        "grid_search = GridSearchCV(estimator=rf_model, param_grid=param_grid,\n",
        "                           cv=kf, n_jobs=-1, scoring='accuracy')\n",
        "\n",
        "grid_search.fit(X_train, y_train)\n",
        "\n",
        "# Best hyperparameters and best score\n",
        "print(f\"Best hyperparameters: {grid_search.best_params_}\")\n",
        "print(f\"Best cross-validation accuracy: {grid_search.best_score_}\")\n",
        "\n",
        "# Step 7: Train the model with the best parameters on the full training set\n",
        "best_rf_model = grid_search.best_estimator_\n",
        "best_rf_model.fit(X_train, y_train)\n",
        "\n",
        "# Step 8: Evaluate the model on the test set\n",
        "y_pred = best_rf_model.predict(X_test)\n",
        "\n",
        "# Calculate accuracy\n",
        "test_accuracy = accuracy_score(y_test, y_pred)\n",
        "print(f\"Test Accuracy: {test_accuracy}\")\n",
        "\n",
        "\n",
        "# Print classification report and confusion matrix\n",
        "print(\"Classification Report:\")\n",
        "print(classification_report(y_test, y_pred))\n",
        "\n",
        "print(\"Confusion Matrix:\")\n",
        "print(confusion_matrix(y_test, y_pred))\n",
        "\n",
        "# Step 9: Feature Importance Analysis (optional)\n",
        "importances = best_rf_model.feature_importances_\n",
        "indices = np.argsort(importances)[::-1]\n",
        "\n",
        "# Print the feature ranking\n",
        "print(\"Feature ranking:\")\n",
        "for i in range(X_train.shape[1]):\n",
        "    print(f\"{i+1}. Feature {X_train.columns[indices[i]]} ({importances[indices[i]]})\")\n",
        "\n",
        "# Step 10: Predict Pincode for New Entries\n",
        "def predict_pincode(region_name, district):\n",
        "    # Encode the new inputs using the same label encoder used during training\n",
        "    encoded_region = label_encoders['Region Name'].transform([region_name])[0]\n",
        "    encoded_district = label_encoders['District'].transform([district])[0]\n",
        "\n",
        "    # Predict the pincode\n",
        "    predicted_pincode = best_rf_model.predict([[encoded_region, encoded_district]])\n",
        "\n",
        "    return predicted_pincode[0]\n",
        "\n",
        "# Example prediction:\n",
        "region_name_input = \"Kurnool Region\"  # Replace with actual region name from the dataset\n",
        "district_input = \"ANANTHAPUR\"  # Replace with actual district name from the dataset\n",
        "predicted_pincode = predict_pincode(region_name_input, district_input)\n",
        "print(f\"Predicted Pincode: {predicted_pincode}\")\n"
      ]
    },
    {
      "cell_type": "code",
      "source": [
        "# Import necessary libraries\n",
        "import pandas as pd\n",
        "from sklearn.ensemble import RandomForestClassifier\n",
        "from sklearn.model_selection import train_test_split, KFold, cross_val_score, GridSearchCV\n",
        "from sklearn.metrics import accuracy_score, confusion_matrix, classification_report\n",
        "from sklearn.preprocessing import LabelEncoder\n",
        "import matplotlib.pyplot as plt\n",
        "import numpy as np\n",
        "\n",
        "# Step 1: Load the CSV data\n",
        "file_path = '/content/pincodes_all.csv'  # Update this to the correct file path if needed\n",
        "data = pd.read_csv(file_path, encoding='latin-1') # Changed encoding to latin-1\n",
        "\n",
        "# Check column names# Filter the dataset for \"Head Office\" (HO) office types, which might correspond to \"GPO\"\n",
        "gpo_offices = data[data['OfficeType'] == 'HO']\n",
        "\n",
        "# Display the result to check for GPO-like entries\n",
        "gpo_offices[['Office Name', 'Pincode', 'OfficeType']]\n"
      ],
      "metadata": {
        "colab": {
          "base_uri": "https://localhost:8080/",
          "height": 990
        },
        "id": "lVU2zKEL55y0",
        "outputId": "1c2a1f2b-dc9f-444a-8288-49d60db385a7"
      },
      "execution_count": null,
      "outputs": [
        {
          "output_type": "execute_result",
          "data": {
            "text/plain": [
              "            Office Name  Pincode OfficeType\n",
              "9         Anantapur H.O   515001         HO\n",
              "140        Guntakal H.O   515801         HO\n",
              "534        Chittoor H.O   517001         HO\n",
              "660     Madanapalle H.O   517325         HO\n",
              "995        Cuddapah H.O   516001         HO\n",
              "...                 ...      ...        ...\n",
              "154104        Salkia HO   711106         HO\n",
              "154456      Jhargram HO   721507         HO\n",
              "154609     Midnapore HO   721101         HO\n",
              "155145       Purulia HO   723101         HO\n",
              "155587        Tamluk HO   721636         HO\n",
              "\n",
              "[811 rows x 3 columns]"
            ],
            "text/html": [
              "\n",
              "  <div id=\"df-a7f07d6b-db84-4a34-8f26-086ad6914dc2\" class=\"colab-df-container\">\n",
              "    <div>\n",
              "<style scoped>\n",
              "    .dataframe tbody tr th:only-of-type {\n",
              "        vertical-align: middle;\n",
              "    }\n",
              "\n",
              "    .dataframe tbody tr th {\n",
              "        vertical-align: top;\n",
              "    }\n",
              "\n",
              "    .dataframe thead th {\n",
              "        text-align: right;\n",
              "    }\n",
              "</style>\n",
              "<table border=\"1\" class=\"dataframe\">\n",
              "  <thead>\n",
              "    <tr style=\"text-align: right;\">\n",
              "      <th></th>\n",
              "      <th>Office Name</th>\n",
              "      <th>Pincode</th>\n",
              "      <th>OfficeType</th>\n",
              "    </tr>\n",
              "  </thead>\n",
              "  <tbody>\n",
              "    <tr>\n",
              "      <th>9</th>\n",
              "      <td>Anantapur H.O</td>\n",
              "      <td>515001</td>\n",
              "      <td>HO</td>\n",
              "    </tr>\n",
              "    <tr>\n",
              "      <th>140</th>\n",
              "      <td>Guntakal H.O</td>\n",
              "      <td>515801</td>\n",
              "      <td>HO</td>\n",
              "    </tr>\n",
              "    <tr>\n",
              "      <th>534</th>\n",
              "      <td>Chittoor H.O</td>\n",
              "      <td>517001</td>\n",
              "      <td>HO</td>\n",
              "    </tr>\n",
              "    <tr>\n",
              "      <th>660</th>\n",
              "      <td>Madanapalle H.O</td>\n",
              "      <td>517325</td>\n",
              "      <td>HO</td>\n",
              "    </tr>\n",
              "    <tr>\n",
              "      <th>995</th>\n",
              "      <td>Cuddapah H.O</td>\n",
              "      <td>516001</td>\n",
              "      <td>HO</td>\n",
              "    </tr>\n",
              "    <tr>\n",
              "      <th>...</th>\n",
              "      <td>...</td>\n",
              "      <td>...</td>\n",
              "      <td>...</td>\n",
              "    </tr>\n",
              "    <tr>\n",
              "      <th>154104</th>\n",
              "      <td>Salkia HO</td>\n",
              "      <td>711106</td>\n",
              "      <td>HO</td>\n",
              "    </tr>\n",
              "    <tr>\n",
              "      <th>154456</th>\n",
              "      <td>Jhargram HO</td>\n",
              "      <td>721507</td>\n",
              "      <td>HO</td>\n",
              "    </tr>\n",
              "    <tr>\n",
              "      <th>154609</th>\n",
              "      <td>Midnapore HO</td>\n",
              "      <td>721101</td>\n",
              "      <td>HO</td>\n",
              "    </tr>\n",
              "    <tr>\n",
              "      <th>155145</th>\n",
              "      <td>Purulia HO</td>\n",
              "      <td>723101</td>\n",
              "      <td>HO</td>\n",
              "    </tr>\n",
              "    <tr>\n",
              "      <th>155587</th>\n",
              "      <td>Tamluk HO</td>\n",
              "      <td>721636</td>\n",
              "      <td>HO</td>\n",
              "    </tr>\n",
              "  </tbody>\n",
              "</table>\n",
              "<p>811 rows × 3 columns</p>\n",
              "</div>\n",
              "    <div class=\"colab-df-buttons\">\n",
              "\n",
              "  <div class=\"colab-df-container\">\n",
              "    <button class=\"colab-df-convert\" onclick=\"convertToInteractive('df-a7f07d6b-db84-4a34-8f26-086ad6914dc2')\"\n",
              "            title=\"Convert this dataframe to an interactive table.\"\n",
              "            style=\"display:none;\">\n",
              "\n",
              "  <svg xmlns=\"http://www.w3.org/2000/svg\" height=\"24px\" viewBox=\"0 -960 960 960\">\n",
              "    <path d=\"M120-120v-720h720v720H120Zm60-500h600v-160H180v160Zm220 220h160v-160H400v160Zm0 220h160v-160H400v160ZM180-400h160v-160H180v160Zm440 0h160v-160H620v160ZM180-180h160v-160H180v160Zm440 0h160v-160H620v160Z\"/>\n",
              "  </svg>\n",
              "    </button>\n",
              "\n",
              "  <style>\n",
              "    .colab-df-container {\n",
              "      display:flex;\n",
              "      gap: 12px;\n",
              "    }\n",
              "\n",
              "    .colab-df-convert {\n",
              "      background-color: #E8F0FE;\n",
              "      border: none;\n",
              "      border-radius: 50%;\n",
              "      cursor: pointer;\n",
              "      display: none;\n",
              "      fill: #1967D2;\n",
              "      height: 32px;\n",
              "      padding: 0 0 0 0;\n",
              "      width: 32px;\n",
              "    }\n",
              "\n",
              "    .colab-df-convert:hover {\n",
              "      background-color: #E2EBFA;\n",
              "      box-shadow: 0px 1px 2px rgba(60, 64, 67, 0.3), 0px 1px 3px 1px rgba(60, 64, 67, 0.15);\n",
              "      fill: #174EA6;\n",
              "    }\n",
              "\n",
              "    .colab-df-buttons div {\n",
              "      margin-bottom: 4px;\n",
              "    }\n",
              "\n",
              "    [theme=dark] .colab-df-convert {\n",
              "      background-color: #3B4455;\n",
              "      fill: #D2E3FC;\n",
              "    }\n",
              "\n",
              "    [theme=dark] .colab-df-convert:hover {\n",
              "      background-color: #434B5C;\n",
              "      box-shadow: 0px 1px 3px 1px rgba(0, 0, 0, 0.15);\n",
              "      filter: drop-shadow(0px 1px 2px rgba(0, 0, 0, 0.3));\n",
              "      fill: #FFFFFF;\n",
              "    }\n",
              "  </style>\n",
              "\n",
              "    <script>\n",
              "      const buttonEl =\n",
              "        document.querySelector('#df-a7f07d6b-db84-4a34-8f26-086ad6914dc2 button.colab-df-convert');\n",
              "      buttonEl.style.display =\n",
              "        google.colab.kernel.accessAllowed ? 'block' : 'none';\n",
              "\n",
              "      async function convertToInteractive(key) {\n",
              "        const element = document.querySelector('#df-a7f07d6b-db84-4a34-8f26-086ad6914dc2');\n",
              "        const dataTable =\n",
              "          await google.colab.kernel.invokeFunction('convertToInteractive',\n",
              "                                                    [key], {});\n",
              "        if (!dataTable) return;\n",
              "\n",
              "        const docLinkHtml = 'Like what you see? Visit the ' +\n",
              "          '<a target=\"_blank\" href=https://colab.research.google.com/notebooks/data_table.ipynb>data table notebook</a>'\n",
              "          + ' to learn more about interactive tables.';\n",
              "        element.innerHTML = '';\n",
              "        dataTable['output_type'] = 'display_data';\n",
              "        await google.colab.output.renderOutput(dataTable, element);\n",
              "        const docLink = document.createElement('div');\n",
              "        docLink.innerHTML = docLinkHtml;\n",
              "        element.appendChild(docLink);\n",
              "      }\n",
              "    </script>\n",
              "  </div>\n",
              "\n",
              "\n",
              "<div id=\"df-c16b79a7-5fbd-439c-8233-728a4ad36540\">\n",
              "  <button class=\"colab-df-quickchart\" onclick=\"quickchart('df-c16b79a7-5fbd-439c-8233-728a4ad36540')\"\n",
              "            title=\"Suggest charts\"\n",
              "            style=\"display:none;\">\n",
              "\n",
              "<svg xmlns=\"http://www.w3.org/2000/svg\" height=\"24px\"viewBox=\"0 0 24 24\"\n",
              "     width=\"24px\">\n",
              "    <g>\n",
              "        <path d=\"M19 3H5c-1.1 0-2 .9-2 2v14c0 1.1.9 2 2 2h14c1.1 0 2-.9 2-2V5c0-1.1-.9-2-2-2zM9 17H7v-7h2v7zm4 0h-2V7h2v10zm4 0h-2v-4h2v4z\"/>\n",
              "    </g>\n",
              "</svg>\n",
              "  </button>\n",
              "\n",
              "<style>\n",
              "  .colab-df-quickchart {\n",
              "      --bg-color: #E8F0FE;\n",
              "      --fill-color: #1967D2;\n",
              "      --hover-bg-color: #E2EBFA;\n",
              "      --hover-fill-color: #174EA6;\n",
              "      --disabled-fill-color: #AAA;\n",
              "      --disabled-bg-color: #DDD;\n",
              "  }\n",
              "\n",
              "  [theme=dark] .colab-df-quickchart {\n",
              "      --bg-color: #3B4455;\n",
              "      --fill-color: #D2E3FC;\n",
              "      --hover-bg-color: #434B5C;\n",
              "      --hover-fill-color: #FFFFFF;\n",
              "      --disabled-bg-color: #3B4455;\n",
              "      --disabled-fill-color: #666;\n",
              "  }\n",
              "\n",
              "  .colab-df-quickchart {\n",
              "    background-color: var(--bg-color);\n",
              "    border: none;\n",
              "    border-radius: 50%;\n",
              "    cursor: pointer;\n",
              "    display: none;\n",
              "    fill: var(--fill-color);\n",
              "    height: 32px;\n",
              "    padding: 0;\n",
              "    width: 32px;\n",
              "  }\n",
              "\n",
              "  .colab-df-quickchart:hover {\n",
              "    background-color: var(--hover-bg-color);\n",
              "    box-shadow: 0 1px 2px rgba(60, 64, 67, 0.3), 0 1px 3px 1px rgba(60, 64, 67, 0.15);\n",
              "    fill: var(--button-hover-fill-color);\n",
              "  }\n",
              "\n",
              "  .colab-df-quickchart-complete:disabled,\n",
              "  .colab-df-quickchart-complete:disabled:hover {\n",
              "    background-color: var(--disabled-bg-color);\n",
              "    fill: var(--disabled-fill-color);\n",
              "    box-shadow: none;\n",
              "  }\n",
              "\n",
              "  .colab-df-spinner {\n",
              "    border: 2px solid var(--fill-color);\n",
              "    border-color: transparent;\n",
              "    border-bottom-color: var(--fill-color);\n",
              "    animation:\n",
              "      spin 1s steps(1) infinite;\n",
              "  }\n",
              "\n",
              "  @keyframes spin {\n",
              "    0% {\n",
              "      border-color: transparent;\n",
              "      border-bottom-color: var(--fill-color);\n",
              "      border-left-color: var(--fill-color);\n",
              "    }\n",
              "    20% {\n",
              "      border-color: transparent;\n",
              "      border-left-color: var(--fill-color);\n",
              "      border-top-color: var(--fill-color);\n",
              "    }\n",
              "    30% {\n",
              "      border-color: transparent;\n",
              "      border-left-color: var(--fill-color);\n",
              "      border-top-color: var(--fill-color);\n",
              "      border-right-color: var(--fill-color);\n",
              "    }\n",
              "    40% {\n",
              "      border-color: transparent;\n",
              "      border-right-color: var(--fill-color);\n",
              "      border-top-color: var(--fill-color);\n",
              "    }\n",
              "    60% {\n",
              "      border-color: transparent;\n",
              "      border-right-color: var(--fill-color);\n",
              "    }\n",
              "    80% {\n",
              "      border-color: transparent;\n",
              "      border-right-color: var(--fill-color);\n",
              "      border-bottom-color: var(--fill-color);\n",
              "    }\n",
              "    90% {\n",
              "      border-color: transparent;\n",
              "      border-bottom-color: var(--fill-color);\n",
              "    }\n",
              "  }\n",
              "</style>\n",
              "\n",
              "  <script>\n",
              "    async function quickchart(key) {\n",
              "      const quickchartButtonEl =\n",
              "        document.querySelector('#' + key + ' button');\n",
              "      quickchartButtonEl.disabled = true;  // To prevent multiple clicks.\n",
              "      quickchartButtonEl.classList.add('colab-df-spinner');\n",
              "      try {\n",
              "        const charts = await google.colab.kernel.invokeFunction(\n",
              "            'suggestCharts', [key], {});\n",
              "      } catch (error) {\n",
              "        console.error('Error during call to suggestCharts:', error);\n",
              "      }\n",
              "      quickchartButtonEl.classList.remove('colab-df-spinner');\n",
              "      quickchartButtonEl.classList.add('colab-df-quickchart-complete');\n",
              "    }\n",
              "    (() => {\n",
              "      let quickchartButtonEl =\n",
              "        document.querySelector('#df-c16b79a7-5fbd-439c-8233-728a4ad36540 button');\n",
              "      quickchartButtonEl.style.display =\n",
              "        google.colab.kernel.accessAllowed ? 'block' : 'none';\n",
              "    })();\n",
              "  </script>\n",
              "</div>\n",
              "\n",
              "    </div>\n",
              "  </div>\n"
            ],
            "application/vnd.google.colaboratory.intrinsic+json": {
              "type": "dataframe",
              "summary": "{\n  \"name\": \"gpo_offices[['Office Name', 'Pincode', 'OfficeType']]\",\n  \"rows\": 811,\n  \"fields\": [\n    {\n      \"column\": \"Office Name\",\n      \"properties\": {\n        \"dtype\": \"string\",\n        \"num_unique_values\": 811,\n        \"samples\": [\n          \"Yadgiri H.O\",\n          \"Ranipet HO\",\n          \"Jalahalli H.O\"\n        ],\n        \"semantic_type\": \"\",\n        \"description\": \"\"\n      }\n    },\n    {\n      \"column\": \"Pincode\",\n      \"properties\": {\n        \"dtype\": \"number\",\n        \"std\": 202471,\n        \"min\": 110001,\n        \"max\": 854301,\n        \"num_unique_values\": 810,\n        \"samples\": [\n          581301,\n          505468,\n          560010\n        ],\n        \"semantic_type\": \"\",\n        \"description\": \"\"\n      }\n    },\n    {\n      \"column\": \"OfficeType\",\n      \"properties\": {\n        \"dtype\": \"category\",\n        \"num_unique_values\": 1,\n        \"samples\": [\n          \"HO\"\n        ],\n        \"semantic_type\": \"\",\n        \"description\": \"\"\n      }\n    }\n  ]\n}"
            }
          },
          "metadata": {},
          "execution_count": 7
        },
        {
          "output_type": "display_data",
          "data": {
            "text/plain": [
              "<google.colab._quickchart_helpers.SectionTitle at 0x79ed0a6ff670>"
            ],
            "text/html": [
              "<h4 class=\"colab-quickchart-section-title\">Distributions</h4>\n",
              "<style>\n",
              "  .colab-quickchart-section-title {\n",
              "      clear: both;\n",
              "  }\n",
              "</style>"
            ]
          },
          "metadata": {}
        },
        {
          "output_type": "display_data",
          "data": {
            "text/plain": [
              "from matplotlib import pyplot as plt\n",
              "_df_2['Pincode'].plot(kind='hist', bins=20, title='Pincode')\n",
              "plt.gca().spines[['top', 'right',]].set_visible(False)"
            ],
            "text/html": [
              "      <div class=\"colab-quickchart-chart-with-code\" id=\"chart-b85f631c-9022-4544-8470-58ba979d258f\">\n",
              "        <img style=\"width: 180px;\" src=\"data:image/png;base64,iVBORw0KGgoAAAANSUhEUgAAAicAAAGrCAYAAAAbyjfjAAAAOXRFWHRTb2Z0d2FyZQBNYXRwbG90\n",
              "bGliIHZlcnNpb24zLjcuMSwgaHR0cHM6Ly9tYXRwbG90bGliLm9yZy/bCgiHAAAACXBIWXMAAA9h\n",
              "AAAPYQGoP6dpAAAjiElEQVR4nO3de2xUdd7H8c+0g6Nc2kqRm2Wo2Au6hZZimwqreMP7goLEqAhd\n",
              "L60XZAluBNTEG6GYVSO6MaBiUbvr0uVmIl5QRNAFbAuCiiu0SC9gsS7UFhTGtvyePwjzMNJnHwd7\n",
              "Zn6deb+SSdpzZs58D9OSd86cnnEZY4wAAAAsERPuAQAAAI5HnAAAAKsQJwAAwCrECQAAsApxAgAA\n",
              "rEKcAAAAqxAnAADAKsQJAACwCnECAACsQpwA6BDdu3fXRx99FLbnf/nll5WcnBy25wfQcYgTAL/a\n",
              "RRddpFNOOUXdu3dXXFycMjIytHDhQknSwYMHddFFF4V3QAARgTgBEJQHHnhABw8eVGNjo2bOnKk7\n",
              "7rgjrEdMAEQe4gTASYmNjdXEiROVmJioTZs2yeVy6YMPPpAkffTRR3K5XFqyZInS0tLUo0cPjR49\n",
              "Wnv27PE//tChQ3r44Yf96wcNGqRXX33Vv37RokXKyMjwH6E5fp0kvffeexoyZIi6d++uSy65RHV1\n",
              "dQHr29ra9PTTT+ucc85RfHy8hg8frtWrVzv4LwKgoxAnAE5Ka2urXn/9de3fv185OTnt3mf58uUq\n",
              "Ly/X7t279dNPP+nBBx/0r7vzzju1atUqvfnmm2pubtYnn3yiIUOGSJKWLl2qqVOnat68eWpsbNSz\n",
              "zz6re++9VytWrJAk7dq1S2PGjNF9992nxsZGzZ49Wy+88ELAcz/xxBN6/fXXtWLFCjU2Nurhhx/W\n",
              "mDFjtHPnTmf+QQB0HAMAv9KoUaOMx+Mx8fHxJjEx0WRnZ5tFixYZY4yRZN5//31jjDFr1qwxkkxN\n",
              "TY3/sX/961/N4MGDjTHGfP/990aSKS8vb/d5Lr/8cjNt2rSAZVOnTjVXXHGFMcaY2bNnm+zs7ID1\n",
              "06dPNwMHDvR/HxcXZ959992A+1x22WXmiSeeOIk9BxBK7jC3EYBO5s9//rNmz579q+7bv39//9fd\n",
              "unXTgQMHJB098iFJ6enp7T6urq5Of/jDHwKWpaSk6P3335ck7d69W2eddVbA+uO//+6779Tc3KwJ\n",
              "EyYoJuZ/DxC3tLQoJSXlV80OIHyIEwAhd+xPfnfs2KHhw4efsH7AgAEnvP2yc+dOeb1eSVJSUpLK\n",
              "y8sD1ldXV/u/TkhI0Kmnnqq33npLF154YccOD8BxnHMCIOTOOOMM3XTTTbr33nu1fft2SVJ9fb02\n",
              "b94sSbrjjjv0yiuv6KOPPlJbW5s+/PBDLVy4UAUFBZKkm266SV988YVefvlltba2auPGjXrttdf8\n",
              "2/d4PLrrrrv0wAMP6N///reMMTp06JDWrVunHTt2hH6HAQSFOAEQFi+99JJGjRqlq666St27d9fI\n",
              "kSO1bds2SdKECRP09NNP65577lFCQoLuu+8+zZs3T+PGjZMkDRo0SMuXL9ezzz6rhIQEPfjgg7r7\n",
              "7rsDtv/UU0/ppptu0oQJE5SQkKDk5GQVFRWppaUl5PsKIDguY4wJ9xAAAADHcOQEAABYhTgBAABW\n",
              "IU4AAIBViBMAAGAV4gQAAFiFOAEAAFYhTgAAgFU6ZZzMmzcv3CMAAACHdMo4qampCfcIAADAIZ0y\n",
              "TgAAQOQiTgAAgFWIEwAAYBXiBAAAWIU4AQAAViFOAACAVYgTAABgFcfiZN++fcrKyvLf0tLS5Ha7\n",
              "tX//fjU0NOjKK69UamqqMjIytG7dOqfGAAAAnYzbqQ0nJiZqy5Yt/u+feuoprV27Vj179tRtt92m\n",
              "vLw8vfvuuyovL9f111+vXbt2qUuXLk6NAwAAOgnH4uSXFi5cqKKiIklSaWmpqqqqJEk5OTnq37+/\n",
              "1q5dq8suu+yEx/l8Pvl8voBlbW1tzg8MAADCIiTnnKxfv16NjY269tprtW/fPrW0tKhv377+9cnJ\n",
              "yaqtrW33sUVFRYqPjw+4lZWVhWJsAAAQBiGJk4ULF2rSpElyu4M/UDNr1iw1NTUF3HJzcx2YEgAA\n",
              "2MDxt3UOHjyo0tJSlZeXSzp6Lorb7dbevXv9R0+qq6vl9XrbfbzH45HH4wlYFhsb6+zQAAAgbBw/\n",
              "crJ48WJlZmZq8ODB/mUTJkzQ/PnzJUnl5eXas2ePRo0a5fQoAACgE3D8yMnChQt15513Bix78skn\n",
              "deuttyo1NVWnnHKKSkpK+EsdAAAgKQRxsn79+hOW9enTR6tWrXL6qQF0QskzVzq27eq51zi2bQAd\n",
              "hyvEAgAAqxAnAADAKsQJAACwCnECAACsQpwAAACrECcAAMAqxAkAALAKcQIAAKxCnAAAAKs4foVY\n",
              "AMDJc+qKuVwtFzbjyAkAALAKcQIAAKxCnAAAAKsQJwAAwCrECQAAsApxAgAArEKcAAAAqxAnAADA\n",
              "KsQJAACwCnECAACsQpwAAACrECcAAMAqxAkAALAKcQIAAKxCnAAAAKsQJwAAwCrECQAAsApxAgAA\n",
              "rEKcAAAAqxAnAADAKu5wDwAAiCzJM1c6tu3qudc4tm3YgyMnAADAKsQJAACwCnECAACsQpwAAACr\n",
              "ECcAAMAqxAkAALAKcQIAAKxCnAAAAKsQJwAAwCrECQAAsApxAgAArOJonPh8Pk2ZMkWpqakaMmSI\n",
              "Jk6cKEmqrKzUiBEjlJaWppycHG3bts3JMQAAQCfi6Af/zZw5Uy6XSzt27JDL5dLevXslSYWFhSoo\n",
              "KFB+fr6WLFmi/Px8lZeXOzkKAADoJByLkx9//FELFy7U7t275XK5JEl9+/ZVQ0ODKioqtGrVKknS\n",
              "+PHjNWXKFFVVVSklJeWE7fh8Pvl8voBlbW1tTo0NAADCzLG3dXbu3KmePXtqzpw5Ou+883TBBRdo\n",
              "9erVqqurU79+/eR2H+0il8slr9er2tradrdTVFSk+Pj4gFtZWZlTYwMAgDBzLE5aW1tVU1Ojc889\n",
              "VxUVFXruued04403qrW1NajtzJo1S01NTQG33Nxch6YGAADh5tjbOl6vVzExMbrlllskScOGDdNZ\n",
              "Z52lmpoa1dfXq7W1VW63W8YY1dbWyuv1trsdj8cjj8cTsCw2NtapsQEAQJg5duSkV69euvTSS/Xe\n",
              "e+9Jknbt2qVdu3Zp5MiRys7OVklJiSRp6dKlSkpKavd8EwAAEH0c/Wud+fPn6/bbb9eMGTMUExOj\n",
              "BQsW6Mwzz9SCBQuUn5+vOXPmKC4uTsXFxU6OAQAAOhFH42TQoEFas2bNCcvT09O1YcMGJ58aAAB0\n",
              "UlwhFgAAWIU4AQAAViFOAACAVYgTAABgFUdPiAWAaJA8c2W4RwAiCkdOAACAVYgTAABgFeIEAABY\n",
              "hTgBAABWIU4AAIBViBMAAGAV4gQAAFiFOAEAAFYhTgAAgFWIEwAAYBXiBAAAWIU4AQAAViFOAACA\n",
              "VYgTAABgFeIEAABYhTgBAABWIU4AAIBViBMAAGAV4gQAAFiFOAEAAFYhTgAAgFWIEwAAYBXiBAAA\n",
              "WIU4AQAAViFOAACAVYgTAABgFeIEAABYhTgBAABWIU4AAIBViBMAAGAV4gQAAFiFOAEAAFYhTgAA\n",
              "gFWIEwAAYBXiBAAAWIU4AQAAViFOAACAVRyNk+TkZKWnpysrK0tZWVlavHixJKmyslIjRoxQWlqa\n",
              "cnJytG3bNifHAAAAnYjb6SdYvHixsrKyApYVFhaqoKBA+fn5WrJkifLz81VeXu70KAAAoBMI+ds6\n",
              "DQ0Nqqio0MSJEyVJ48ePV11dnaqqqtq9v8/nU3Nzc8Ctra0tlCMDAIAQcjxOJk2apCFDhuj222/X\n",
              "999/r7q6OvXr109u99GDNi6XS16vV7W1te0+vqioSPHx8QG3srIyp8cGAABh4micrFu3Tp9//rk2\n",
              "b96sXr16afLkyUFvY9asWWpqagq45ebmOjAtAACwgaPnnHi9XklSly5dNG3aNKWlpWnAgAGqr69X\n",
              "a2ur3G63jDGqra313/eXPB6PPB5PwLLY2FgnxwYAAGHk2JGTH3/8UT/88IP/+zfeeEPDhg1T7969\n",
              "lZ2drZKSEknS0qVLlZSUpJSUFKdGAQAAnYhjR06+++47jR8/Xm1tbTLGaNCgQXrttdckSQsWLFB+\n",
              "fr7mzJmjuLg4FRcXOzUGAADoZByLk0GDBumzzz5rd116ero2bNjg1FMDAIBOjCvEAgAAqxAnAADA\n",
              "KsQJAACwCnECAACsQpwAAACrECcAAMAqxAkAALAKcQIAAKxCnAAAAKsQJwAAwCqOfioxgPBKnrnS\n",
              "sW1Xz73GsW0DiG4cOQEAAFYhTgAAgFWIEwAAYBXiBAAAWIU4AQAAViFOAACAVYgTAABgFeIEAABY\n",
              "hTgBAABW4Qqxv+DUFTW5miYAAL8OR04AAIBViBMAAGAV4gQAAFiFOAEAAFYhTgAAgFWIEwAAYBXi\n",
              "BAAAWIU4AQAAViFOAACAVbhCLICo4dQVoAF0LI6cAAAAqxAnAADAKsQJAACwCnECAACswgmxAAA4\n",
              "yKkTsavnXuPIdm3AkRMAAGAV4gQAAFiFOAEAAFYJOk7ee+89J+YAAACQdBJx8vjjjys9PV3z5s1T\n",
              "c3OzEzMBAIAoFnSc/Otf/9I//vEPffnll0pLS9M999yjr776yonZAABAFDqpc06GDRuml156Se++\n",
              "+67eeustDR06VKNHj9YXX3zR7v2Li4vlcrm0YsUKSVJDQ4OuvPJKpaamKiMjQ+vWrTvpHQAAAJHl\n",
              "pOLkgw8+0NixYzVu3Djde++92rt3rwoLC3X99defcN/q6mq99NJLysvL8y+bOXOm8vLyVFlZqeLi\n",
              "Yt18881qaWk5+b0AAAARI+iLsJ1zzjnq1auXpk6dqnHjxik2NlaSdMMNN2jhwoUB9z1y5IjuuOMO\n",
              "Pf/887r//vv9y0tLS1VVVSVJysnJUf/+/bV27VpddtllJzyfz+eTz+cLWNbW1hbs2AAAoJMIOk5K\n",
              "Sko0fPjwdte98847Ad8/88wzGjlyZMD99+3bp5aWFvXt29e/LDk5WbW1te1us6ioSI899ljAsuOP\n",
              "wgAAgMgS9Ns6mzZt0v79+/3f79u3Ty+99NIJ9/vyyy+1dOlSPfzww79pwFmzZqmpqSnglpub+5u2\n",
              "CQAA7BV0nLzwwgvq2bOn//vExES98MILJ9zv448/VnV1tVJTU5WcnKyNGzeqoKBApaWlcrvd2rt3\n",
              "r/++1dXV8nq97T6fx+NRXFxcwO3YW0kAACDyBB0nxpgTlrV3Dsjdd9+t+vp6VVdXq7q6Wnl5eXrx\n",
              "xRd19913a8KECZo/f74kqby8XHv27NGoUaNOYnwAABBpgo6Tfv36qbS01P/94sWL1a9fv6C28eST\n",
              "T2r9+vVKTU1Vfn6+SkpK1KVLl2BHAQAAESjoE2KfffZZjR07Vg888IAkqWvXrnrzzTf/38d99NFH\n",
              "/q/79OmjVatWBfvUAAAgCgQdJ4MHD9ZXX32l7du3S5LS09M5BwQAAHSYoONEklwulxISEtTa2qo9\n",
              "e/ZI0v95QisAAEAwgo6TRYsWaerUqerSpYtiYo6esuJyudTQ0NDhwwEAgOgTdJw88cQTKi8vV3p6\n",
              "uhPzAACAKBd0nPTq1YswgdWSZ650ZLvVc69xZLudlVP/zkA48PNsl6D/lPi6667Ts88+q4aGBjU3\n",
              "N/tvAAAAHSHoIycPPfSQJGn69OlyuVwyxsjlcvFhfAAAoEMEHSdHjhxxYg4AAABJJ/G2jnT0w/9e\n",
              "f/11SdIPP/yg+vr6Dh0KAABEr5P64L/bbrtNjz76qKSjn0p88803d/RcAAAgSgX9ts6LL76ojRs3\n",
              "asSIEZKks88+W99//32HD4bwc/Lsdf7yJRB/KQAA/yvoIycej0ennXZawDK3+6QuNAsAAHCCoOPk\n",
              "jDPO0I4dO+RyuSQdvWIsl64HAAAd5aQ+lfimm27S119/rQEDBiguLk5vvfWWE7MBAIAoFHScpKSk\n",
              "6NNPP9X27dtljOFTiQEAQIcKOk5qa2slSd26dZMkPpUYAAB0qKDjZPjw4f4rwx4+fFg//fSTEhMT\n",
              "+VRiAADQIYKOk1/+2fCyZcu0devWDhsIAABEt5O6Quzxxo0bp5UruUYDAADoGEEfOTn+E4jb2tr0\n",
              "6aef8qnEAACgwwQdJwkJCf5zTmJjY5WamqrnnnvOidkAAEAU4lOJAQCAVX7zOScAAAAdKegjJzEx\n",
              "Mf5L1x/PGCOXy6W2trYOGQwAAESnoOPk8ccf16FDh3T33XdLkubPn6/TTjtN06ZN6+jZAABAFAo6\n",
              "TpYvX65Nmzb5v589e7aGDx+uhx56qEMHAwAA0Snoc04OHDgQcDXYhoYGHThwoEOHAgAA0SvoIyf3\n",
              "33+/MjMzdfXVV0uS3n33XT366KMdPRcAAIhSQcdJYWGhRo4cqTVr1kiSpk+frt/97ncdPhgAAIhO\n",
              "QceJJCUmJmrIkCG66KKL1Nraqp9//lmnnHJKR88GAACiUNBxsmTJEt1///2KiYnRrl27tG3bNs2a\n",
              "NUtvv/22E/MBAOCXPJPPcosGQZ8QW1RUpM2bNyshIUGSlJmZqZqamo6eCwAARKmg4yQ2NlaJiYkB\n",
              "y3hLBwAAdJSg46RHjx767rvv/FeJXb16tXr27NnhgwEAgOgU9DknTz75pK666ip98803+v3vf69d\n",
              "u3Zp5UreAwQAAB0jqDg5cuSI2tratGbNGq1fv17GGI0YMcJ//gkAAMBvFVScxMTEqKCgQFu3btVV\n",
              "V13l1EwAACCKBX3OSWpqqqqqqpyYBQAAIPhzTvbv36+srCyNGDFC3bt39y9ftmxZhw4GAACi06+O\n",
              "k4KCAr344ouaPHmyxowZo9NPP93JuQAAQJT61XFSUVEhSZo8ebKys7O1efNmx4YCAAD/nZNXy62e\n",
              "e41j2/41gj7nRJKMMR09BwAAgKQgjpwcOnRIX3zxhYwxOnz4sP/rY4YOHXrCYy6//HLt3btXMTEx\n",
              "6tGjh5577jkNGzZMlZWVmjx5sv7zn/8oPj5eixYt4pONAQCApCDjZMyYMf7vj//a5XLpm2++OeEx\n",
              "paWl/mugLF++XPn5+dq6dasKCwtVUFCg/Px8LVmyRPn5+SovL/8NuwEAACLFr46T6urqoDd+/MXZ\n",
              "mpqa5HK51NDQoIqKCq1atUqSNH78eE2ZMkVVVVVKSUk5YRs+n08+ny9gWVtbW9CzAACAziHoPyUO\n",
              "1qRJk7RmzRpJ0ttvv626ujr169dPbvfRp3a5XPJ6vaqtrW03ToqKivTYY48FLMvLy3N6bAAAECYn\n",
              "dUJsMF577TXV1dVp9uzZmjFjRtCPnzVrlpqamgJuubm5DkwKAABs4PiRk2MmT56su+66S0lJSaqv\n",
              "r1dra6vcbreMMaqtrZXX6233cR6PRx6PJ2BZbGxsKEYGAABh4NiRkx9++EHffvut//sVK1YoMTFR\n",
              "vXv3VnZ2tkpKSiRJS5cuVVJSUrtv6QAAgOjj2JGTpqYmTZgwQYcOHVJMTIzOOOMMvfXWW3K5XFqw\n",
              "YIHy8/M1Z84cxcXFqbi42KkxAABAJ+NYnAwcOFBlZWXtrktPT9eGDRucemoAANCJOX5CLAAAQDCI\n",
              "EwAAYBXiBAAAWIU4AQAAViFOAACAVYgTAABgFeIEAABYhTgBAABWIU4AAIBViBMAAGCVkH0qcbRL\n",
              "nrnSsW1Xz73GsW07xcl/DwD/P34HYTOOnAAAAKsQJwAAwCrECQAAsApxAgAArMIJsRGAE9sAAJGE\n",
              "IycAAMAqxAkAALAKcQIAAKxCnAAAAKsQJwAAwCrECQAAsApxAgAArEKcAAAAqxAnAADAKsQJAACw\n",
              "CnECAACsQpwAAACrECcAAMAqxAkAALAKcQIAAKxCnAAAAKsQJwAAwCrECQAAsApxAgAArEKcAAAA\n",
              "qxAnAADAKsQJAACwCnECAACsQpwAAACrECcAAMAqxAkAALCKY3Fy+PBhXXfddUpLS1NmZqZGjx6t\n",
              "qqoqSVJDQ4OuvPJKpaamKiMjQ+vWrXNqDAAA0Mk4euSkoKBA27dv19atWzV27FjdcccdkqSZM2cq\n",
              "Ly9PlZWVKi4u1s0336yWlhYnRwEAAJ2EY3Fy6qmn6uqrr5bL5ZIk5eXlqbq6WpJUWlqqu+66S5KU\n",
              "k5Oj/v37a+3ate1ux+fzqbm5OeDW1tbm1NgAACDMQnbOybx58zR27Fjt27dPLS0t6tu3r39dcnKy\n",
              "amtr231cUVGR4uPjA25lZWWhGhsAAIRYSOJkzpw5qqqqUlFRUdCPnTVrlpqamgJuubm5DkwJAABs\n",
              "4Hb6CZ566iktW7ZMH3zwgbp27aquXbvK7XZr7969/qMn1dXV8nq97T7e4/HI4/EELIuNjXV6bAAA\n",
              "ECaOHjl55pln9MYbb+j9999XQkKCf/mECRM0f/58SVJ5ebn27NmjUaNGOTkKAADoJBw7crJ7927d\n",
              "f//9GjRokC6++GJJR4+CfPrpp3ryySd16623KjU1VaeccopKSkrUpUsXp0YBAACdiGNxkpSUJGNM\n",
              "u+v69OmjVatWOfXUAACgE+MKsQAAwCrECQAAsApxAgAArEKcAAAAqzh+nRMgUiTPXBnuEQAgKnDk\n",
              "BAAAWIU4AQAAViFOAACAVYgTAABgFeIEAABYhTgBAABWIU4AAIBViBMAAGAV4gQAAFiFOAEAAFYh\n",
              "TgAAgFWIEwAAYBXiBAAAWIU4AQAAViFOAACAVYgTAABgFeIEAABYhTgBAABWIU4AAIBViBMAAGAV\n",
              "4gQAAFiFOAEAAFYhTgAAgFWIEwAAYBXiBAAAWIU4AQAAViFOAACAVYgTAABgFeIEAABYhTgBAABW\n",
              "IU4AAIBViBMAAGAV4gQAAFiFOAEAAFYhTgAAgFWIEwAAYBXiBAAAWMXROJk6daqSk5Plcrm0ZcsW\n",
              "//LKykqNGDFCaWlpysnJ0bZt25wcAwAAdCKOxskNN9ygTz75RAMHDgxYXlhYqIKCAu3YsUMzZsxQ\n",
              "fn6+k2MAAIBOxNE4ufDCC5WUlBSwrKGhQRUVFZo4caIkafz48aqrq1NVVVW72/D5fGpubg64tbW1\n",
              "OTk2AAAIo5Cfc1JXV6d+/frJ7XZLklwul7xer2pra9u9f1FRkeLj4wNuZWVloRwZAACEkPUnxM6a\n",
              "NUtNTU0Bt9zc3HCPBQAAHOIO9RMOGDBA9fX1am1tldvtljFGtbW18nq97d7f4/HI4/EELIuNjQ3F\n",
              "qAAAIAxCfuSkd+/eys7OVklJiSRp6dKlSkpKUkpKSqhHAQAAFnI0TgoLC5WUlKTdu3friiuu8AfI\n",
              "ggULtGDBAqWlpWnu3LkqLi52cgwAANCJOPq2zoIFC9pdnp6erg0bNjj51AAAoJOy/oRYAAAQXYgT\n",
              "AABgFeIEAABYhTgBAABWIU4AAIBViBMAAGAV4gQAAFiFOAEAAFYhTgAAgFWIEwAAYBXiBAAAWIU4\n",
              "AQAAViFOAACAVYgTAABgFeIEAABYhTgBAABWIU4AAIBViBMAAGAV4gQAAFiFOAEAAFYhTgAAgFWI\n",
              "EwAAYBXiBAAAWIU4AQAAViFOAACAVYgTAABgFeIEAABYhTgBAABWIU4AAIBViBMAAGAV4gQAAFiF\n",
              "OAEAAFYhTgAAgFWIEwAAYBXiBAAAWIU4AQAAViFOAACAVYgTAABgFeIEAABYhTgBAABWIU4AAIBV\n",
              "iBMAAGCVsMVJZWWlRowYobS0NOXk5Gjbtm3hGgUAAFgkbHFSWFiogoIC7dixQzNmzFB+fn64RgEA\n",
              "ABYJS5w0NDSooqJCEydOlCSNHz9edXV1qqqqOuG+Pp9Pzc3NAbe2trZQjwwAAELEHY4nraurU79+\n",
              "/eR2H316l8slr9er2tpapaSkBNy3qKhIjz32WMCywYMHa/r06Sf9/G1tbSorK1Nubq5iY2MD1o07\n",
              "6a3a67/tb6SKtn2Otv2V2Odo2Odo21/Jnn2ePn21I9sdOHCg/vSnP/2/93MZY4wjE/wXmzZt0s03\n",
              "36zt27f7l+Xm5mru3Lm65JJLAu7r8/nk8/kClnk8Hnk8npN+/ubmZsXHx6upqUlxcXEnvZ3OItr2\n",
              "V4q+fY62/ZXY52jY52jbXyk697k9YTlyMmDAANXX16u1tVVut1vGGNXW1srr9Z5w398aIgAAoHMJ\n",
              "yzknvXv3VnZ2tkpKSiRJS5cuVVJS0glv6QAAgOgTliMnkrRgwQLl5+drzpw5iouLU3FxcbhGAQAA\n",
              "FglbnKSnp2vDhg1heW6Px6NHHnkkat4uirb9laJvn6NtfyX2ORpE2/5K0bnP7QnLCbEAAAD/Fy5f\n",
              "DwAArEKcAAAAqxAnAADAKsQJAACwSqeJk6lTpyo5OVkul0tbtmzxL/9vn24c6nUd6fDhw7ruuuuU\n",
              "lpamzMxMjR492v/ZQw0NDbryyiuVmpqqjIwMrVu3zv+4UK/raJdffrmGDh2qrKwsXXDBBfrss88k\n",
              "Re7rfExxcbFcLpdWrFghKbJf4+TkZKWnpysrK0tZWVlavHixpMh9jX0+n6ZMmaLU1FQNGTLE/5li\n",
              "kbq/+/bt87+2WVlZSktLk9vt1v79+yP25/rtt99Wdna2srKylJGRoVdffTUs+xTK32PHmU5i7dq1\n",
              "pq6uzgwcONB89tln/uUXX3yxKS4uNsYY889//tOcd955YVvXkQ4dOmRWrlxpjhw5Yowx5vnnnzej\n",
              "Ro0yxhjzxz/+0TzyyCPGGGPKysrMmWeeaX7++eewrOtojY2N/q+XLVtmhg4daoyJ3NfZGGN27dpl\n",
              "zj//fJOXl2eWL19ujIns1/iXv8PHROprPG3aNDNlyhT/73J9fX1Y9imUP9PH+8tf/mKuvfZaY0xk\n",
              "/lwfOXLEnH766Wbr1q3GmKO/zx6PxzQ3N0fk/oZKp4mTY47/j+27774zPXr0MC0tLcaYoz8kffr0\n",
              "MZWVlSFf57Ty8nIzcOBAY4wx3bp18/8HZ4wxOTk55v333w/LOicVFxebzMzMiH6d29razKWXXmoq\n",
              "KirMqFGj/HESya9xe3ESqa/xwYMHTY8ePUxTU1NU7G97Bg8eHNE/10eOHDE9e/Y0a9euNcYYs3Xr\n",
              "VtO/f3/j8/kicn9DJWwXYesI/+3TjePj40O6zulL78+bN09jx47Vvn371NLSor59+/rXJScnq7a2\n",
              "NuTrnDJp0iStWbNG0tHDpZH8Oj/zzDMaOXKkhg8f7l8WLa+xMcb/gZ+R+hrv3LlTPXv21Jw5c/TB\n",
              "Bx/otNNO06OPPqqEhISI3N9fWr9+vRobG3XttddG7M+1y+XS4sWLNW7cOHXr1k2NjY1atmyZDhw4\n",
              "EJH7Gyqd5pyTaDZnzhxVVVWpqKgo3KOExGuvvaa6ujrNnj1bM2bMCPc4jvnyyy+1dOlSPfzww+Ee\n",
              "JaTWrVunzz//XJs3b1avXr00efLkcI/kmNbWVtXU1Ojcc89VRUWFnnvuOd14441qbW0N92ghsXDh\n",
              "Qk2aNMkfRZGotbVVs2fP1rJly1RTU6PVq1fr1ltvjZrX2CmdOk6O/3RjSQGfbhzqdU556qmntGzZ\n",
              "Mr3zzjvq2rWrEhMT5Xa7tXfvXv99qqur5fV6Q77OaZMnT9aaNWuUlJQUka/zxx9/rOrqaqWmpio5\n",
              "OVkbN25UQUGBSktLI/o1PrbdLl26aNq0afr4448j9nfZ6/UqJiZGt9xyiyRp2LBhOuuss1RTUxOR\n",
              "+3u8gwcPqrS0VLfddpskRez/XVu2bNG3336rCy+8UJKUk5OjpKQkff755xG5vyET0jeROsAv368e\n",
              "NWpUwElew4cPD9u6jvb000+b7Oxss3///oDlkydPDjjpqX///v6TnkK9riM1NjaaPXv2+L9fvny5\n",
              "OfPMM82RI0ci+nU+/jmPvTcfqa/xwYMHA056fvrpp80FF1zg3/9IfI1Hjx5tVq5caYwx5ptvvjGJ\n",
              "iYlm9+7dEbu/x7z88stm5MiRAcsi8ed67969pnv37uarr74yxhhTWVlpTj/9dFNTUxOR+xsqnSZO\n",
              "CgoKzJlnnmliY2NN7969zdlnn22MMebrr782eXl5JjU11QwfPtx8/vnn/seEel1HqqurM5LMoEGD\n",
              "TGZmpsnMzDS5ubnGmKO/DKNHjzYpKSnm3HPPNR9++KH/caFe15Gqq6tNTk6OycjIMEOHDjWXXnqp\n",
              "P0Qj9XU+3vFxEqmv8c6dO01WVpYZMmSIycjIMGPGjDG7du0yxkTua7xz505z0UUX+X+ulyxZEtH7\n",
              "e8z5559vXnnllYBlkfpz/fe//93/+mZkZJi//e1vEb2/ocAH/wEAAKt06nNOAABA5CFOAACAVYgT\n",
              "AABgFeIEAABYhTgBAABWIU4AAIBViBMAAGAV4gQAAFiFOAEAAFYhTgAAgFX+B0sCNDLI/8SsAAAA\n",
              "AElFTkSuQmCC\n",
              "\">\n",
              "      </div>\n",
              "      <script type=\"text/javascript\">\n",
              "        (() => {\n",
              "          const chartElement = document.getElementById(\"chart-b85f631c-9022-4544-8470-58ba979d258f\");\n",
              "          async function getCodeForChartHandler(event) {\n",
              "            const chartCodeResponse =  await google.colab.kernel.invokeFunction(\n",
              "                'getCodeForChart', [\"chart-b85f631c-9022-4544-8470-58ba979d258f\"], {});\n",
              "            const responseJson = chartCodeResponse.data['application/json'];\n",
              "            await google.colab.notebook.addCell(responseJson.code, 'code');\n",
              "          }\n",
              "          chartElement.onclick = getCodeForChartHandler;\n",
              "        })();\n",
              "      </script>\n",
              "      <style>\n",
              "        .colab-quickchart-chart-with-code  {\n",
              "            display: block;\n",
              "            float: left;\n",
              "            border: 1px solid transparent;\n",
              "        }\n",
              "\n",
              "        .colab-quickchart-chart-with-code:hover {\n",
              "            cursor: pointer;\n",
              "            border: 1px solid #aaa;\n",
              "        }\n",
              "      </style>"
            ]
          },
          "metadata": {}
        },
        {
          "output_type": "display_data",
          "data": {
            "text/plain": [
              "<google.colab._quickchart_helpers.SectionTitle at 0x79ed0a6ff0d0>"
            ],
            "text/html": [
              "<h4 class=\"colab-quickchart-section-title\">Values</h4>\n",
              "<style>\n",
              "  .colab-quickchart-section-title {\n",
              "      clear: both;\n",
              "  }\n",
              "</style>"
            ]
          },
          "metadata": {}
        },
        {
          "output_type": "display_data",
          "data": {
            "text/plain": [
              "from matplotlib import pyplot as plt\n",
              "_df_3['Pincode'].plot(kind='line', figsize=(8, 4), title='Pincode')\n",
              "plt.gca().spines[['top', 'right']].set_visible(False)"
            ],
            "text/html": [
              "      <div class=\"colab-quickchart-chart-with-code\" id=\"chart-cc0f792f-b8be-4f6c-975a-21b802b1f28e\">\n",
              "        <img style=\"width: 180px;\" src=\"data:image/png;base64,iVBORw0KGgoAAAANSUhEUgAAArwAAAFuCAYAAABjpMv6AAAAOXRFWHRTb2Z0d2FyZQBNYXRwbG90\n",
              "bGliIHZlcnNpb24zLjcuMSwgaHR0cHM6Ly9tYXRwbG90bGliLm9yZy/bCgiHAAAACXBIWXMAAA9h\n",
              "AAAPYQGoP6dpAABwGklEQVR4nO3dd3wUdf4/8Nf29IT0hDRCEnoXjHAUC4qevd1hxVOxnKf+PE/B\n",
              "06/n6Yneqafn6dmxoJ6cIHeKBSwUBQSU0FsgIYUU0vtmy/z+2OzsbrJJdpPs7szO6/l48CCZ2fLZ\n",
              "yezMe97z/nw+KkEQBBARERERBSl1oBtARERERORLDHiJiIiIKKgx4CUiIiKioMaAl4iIiIiCGgNe\n",
              "IiIiIgpqDHiJiIiIKKgx4CUiIiKioMaAl4iIiIiCGgNeIiIiIgpqDHiJiAIsIiICGzZsCNj7v/HG\n",
              "G8jKygrY+xMR+RoDXiIiP5g3bx70ej0iIiIQFRWF8ePH48033wQAtLS0YN68eYFtIBFREGPAS0Tk\n",
              "Jw888ABaWlpQX1+PJUuW4JZbbgloZpeISCkY8BIR+ZlGo8F1112HuLg4/PTTT1CpVPj6668BABs2\n",
              "bIBKpcLHH3+MvLw8REZGYv78+SgvLxef397ejocfflhcn52djXfeeUdc//bbb2P8+PFiJtl5HQB8\n",
              "9dVXmDBhAiIiInDWWWehtLTUZb3FYsGzzz6LMWPGIDo6GtOmTcM333zjwy1CRORbDHiJiPzMbDbj\n",
              "vffeQ11dHaZPn+72MZ988gl27NiBsrIytLW14aGHHhLX3XrrrVi3bh3++9//oqmpCd9//z0mTJgA\n",
              "AFi1ahXuvvtuvPDCC6ivr8fzzz+P3/72t1izZg0AoKioCBdffDF+97vfob6+Hk888QRefvlll/d+\n",
              "/PHH8d5772HNmjWor6/Hww8/jIsvvhjHjh3zzQYhIvIxlSAIQqAbQUQU7ObNm4dt27YhJCQEWq0W\n",
              "mZmZuPvuu3HjjTdCpVJh/fr1OOecc7BhwwaceeaZOHHiBDIyMgAAL730Ev75z3/i4MGDqKmpQUJC\n",
              "Anbs2IHTTjutx/ucd955GDt2LP7+97+Ly+655x4cPnwYX375Jf7yl79g9erV+Omnn8T1v//977Fq\n",
              "1SoUFxcDAKKjo7Fy5Uqcd9554mPmz5+PuXPn4uGHH/bRFiIi8h1toBtARKQU999/P5544gmPHpua\n",
              "mir+HB4ejubmZgC2DC0AjBo1yu3zSktLcdFFF7ksy8nJwfr16wEAZWVlGDFihMt659+rqqrQ1NSE\n",
              "q666Cmq14yagyWRCTk6OR20nIpIaBrxERDJiHz7syJEjmDZtWo/16enpPUoPjh07JmaL09LSsGPH\n",
              "Dpf19swuAMTExCAkJASfffYZ5syZM7SNJyIKENbwEhHJSEJCAhYuXIjf/va3OHz4MACgoqICP//8\n",
              "MwDglltuwVtvvYUNGzbAYrHg22+/xZtvvonFixcDABYuXIi9e/fijTfegNlsxrZt2/Duu++Kr28w\n",
              "GHD77bfjgQcewMGDByEIAtrb27Fp0yYcOXLE/x+YiGgIMOAlIpKZ119/HXPnzsX555+PiIgIzJo1\n",
              "C/v37wcAXHXVVXj22Wdx5513IiYmBr/73e/wwgsv4PLLLwcAZGdn45NPPsHzzz+PmJgYPPTQQ7jj\n",
              "jjtcXv+ZZ57BwoULcdVVVyEmJgZZWVlYtmwZTCaT3z8rEdFQYKc1IiIiIgpqzPASERERUVBjwEtE\n",
              "REREQY0BLxEREREFNQa8RERERBTUGPASERERUVBjwEtEREREQY0BLxEREREFNcUGvC+88EKgm0BE\n",
              "REREfqDYgPfEiROBbgIRERER+YFiA14iIiIiUgYGvEREREQU1BjwEhEREVFQY8BLREREREGNAS8R\n",
              "ERERBTUGvEREREQU1BjwEhEREVFQY8BLREREREGNAS8RERERBTUGvEREREQU1BjwEhEREVFQY8BL\n",
              "PlfTYsRDn+zFvvJGr5/b1GHC/f/ZjU1HTvmgZURERKQEDHjJJw6cbMKH20sgCAJW/1yGD34sweub\n",
              "j7s8xmi24NKXfsCFL27GyYZ2t6/z0Oq9+PinMtzw1nZ/NJuIiIiCkDbQDaDgIwgCLvjHZgBAakwo\n",
              "TtS2AQDqWjtdHnfgZBMKShsAALe8sxP/uf0MhBtsu6TRbIFBq8Fneyr813AiIiIKSgx4acjtP9kk\n",
              "/lxa14ayelv2tqnd5PK4kw0d4s8HKppw3vObcNmU4dhZXI9tRbW48Ywsl8cLggCVSgWzxYov91fi\n",
              "jOw4xEUYfPdBiIiIKCgw4KUh9+W+SvHnFqMZZfW2DG9Th9nlceUNtuVpw0JR3WREWX07Xvy2UFz/\n",
              "9pZil8ev3FmKw5UtqG7uwGd7KnBGdhw+XJzvo09BREREwYIBLw25Q5XN4s9VTR1ihrexlwzvRZNS\n",
              "cenk4fj2UDVK6toQHapDY7sJH24vcXn8g6v2uvy+9XitL5pPREREQYYBLw0559KFQxXNMJqt4nJ7\n",
              "WQIAMRAeHhOKUcmRGJUcKT7PYhVgsVpxqLIZoToNfiyqQ7heg9ZOi/iYyBDuvkRERNQ/Rgw05Bra\n",
              "HZ3Tdpc1iD+brQLaOi1ix7TyBkfA251GrcJfr5wEAOg0W3G8pgUj4sOhVavx+GcH8PaWYszIivXh\n",
              "pwhen+wqQ12rCeePT0aqm21PREQUbDgsGQ0559KFNqeMLGAbV9fOPhTZ8GF9B116rRqjk6Ng0Gqg\n",
              "UaswLjUKAGARhKFqsmLsK2/E//toNx7/7ADm/W0DDpxsgtFswT3/3oVXNh4LdPOIiIh8ggEvDbmG\n",
              "NlOv6+zBcIvRLP7sbZZRo7aVRFgZ73pMEATsK2/Eyp2l4rJOixW7Suuxbn8V/ltwEk99cUjsYEhE\n",
              "RBRMWNJAQ6rDZBFrdt1p7AqG7dnd6FAdIgze7YbqrhpggRnePjW0deLTPRW4dHIq3v+xBE99cUhc\n",
              "NzwmFOUN7Sivb8fOxnpx+bFTrUgbFhaI5hIREfkMM7zkNbPFim8OVqG+20QSgKPDmloF6DU9dy/7\n",
              "0GTlXR3WBlJD2hXvwsIUb5+eXXcEj6zZh2vf+NEl2I0L1+Oa0zMAACfq2vDtoWpxnZUXEUREFIQY\n",
              "8JLXPtpZipvf2YnL/7UFAPDC10fxi6e/RUVjOxq6At6oUB0SoxyTQhi0tl3NXsbg6LAW4vX7O0oa\n",
              "GJz1xR7I7ilrdFm+YHwyMuNsWdy1eypcaq6ZNSciomDEgJe8tvHwKQBAUU0rBEHA378+grL6dvyv\n",
              "4KSY9Y0O1SEx0hHwju4acqypR8DrfYbXXtLABG/fZuXEuV1+9WnpvW53a+/VKERERLLFGl7y2sjE\n",
              "COBAFQDgYIVjkomESANO1DlmT7PX5qpUwKjkSOwuaxSzifYa3oGUNHQleGFlxNunML3r1/vhX47B\n",
              "hOHRmJQeg+rmDrfP4cgXREQUjBjwktcSIhyZ23/vcMyGplIBx061AABGJkTAHjslR4Ugvus5YklD\n",
              "vWdDkrnjyPAyOPNUqE6D6/IzEaLTAADiww0u68ekROFgRRNLGoiIKCixpIG85hwSrdh2QvzZZBFw\n",
              "rLoVgC3gTegqaUgbFoqoUB0A4NPdJwE4ShoGluFlSYO3bpk9Qgx2AUCtVmFMim0849m58YjsysZz\n",
              "mxIRUTBihpe85pwFdA6QzBYBx7syvDmJEejsGp5scnoMUqJtndNqWztR2diBqibbLfW0gQS8avt7\n",
              "MzrzxO/OysHvzx3VY/lL10zBD4U1OG9cMn734S4A3KZERBScvM7wfv7555g6dSomT56M8ePH4513\n",
              "3gEAVFdXY8GCBcjNzcX48eOxadMm8Tn+Xke+1dtwYG2dZrGGd2RCBM4cnYjND5yJJeePwYLxyeLj\n",
              "PttzElbBNmxZfITB7Wv1hSUNnumvPCE7IQLXn5GFxKgQZs2JiCioeRXwCoKA6667Dm+//TYKCgrw\n",
              "2Wef4bbbbkNzczOWLFmC/Px8HD16FMuXL8c111wDk8lWr+nvdeRbvQVFhyqbYbEKCNdrkNQ1JFl6\n",
              "bBg0ahUMWg2uz88EAPz1q8MAgJSYEKjtPdC8IAZnHFHAI55sYTFrzoiXiIiCkNcZXpVKhYaGBgBA\n",
              "U1MT4uLiYDAYsHLlStx+++0AgOnTpyM1NRUbN24EAL+vI9/qLbP68U9lAGyjOKhUPcOs/GzbMFmd\n",
              "ZivC9Brc/IsRA3p/Zng9483W4TYlTwiCAEEQYLUK7OBIRLLiVQ2vSqXCRx99hMsvvxzh4eGor6/H\n",
              "6tWr0dzcDJPJhORkx23rrKwslJSUoLa21q/r3DEajTAajS7LLBaLNx+dnDif6NJjQ/Hiwqm4c8VP\n",
              "ONloq8sdmRDh9nnnj0/GIxeORUyoDgvGJyPcyymF7VjD6yU3Fx/dsaSB+lLZ2IGlq/dg89EaxEXo\n",
              "YbYISIsNw1s3noa4AZQlERH5m1cRh9lsxhNPPIHVq1djzpw52LFjBy6++GIUFBT4qHlDY9myZXjs\n",
              "scdcluXn5weoNfJn6SolWDgjA8sunwAAeP7XU/Dit0ehUat6zdyq+1jnDQZnnvHmekAc25gXEQTb\n",
              "8IL/2VmGgxVNOFDRhFPNjoRBVZPt59rWTix8fRtW3HI6EiO9nzGRiMifvCppKCgowMmTJzFnzhwA\n",
              "tlKCtLQ07NmzB1qtFpWVleJji4uLkZGRgbi4OL+uc2fp0qVobGx0+TdjxgxvPjo5sQdFGqe9Z8aI\n",
              "WLx38+l4+6YZGD882qfv76jhZXDmCY9qeLu2KW9TEwD84T+78crGY9h45BRONRuhUgHjUqOQk+i4\n",
              "e6NSAUeqWjDjL99g89FTAWwtEVH/vAp409PTUVFRgYMHDwIACgsLcezYMYwaNQpXXXUVXnnlFQDA\n",
              "jh07UF5ejrlz5wKA39d1ZzAYEBUV5fJPo9G4fawS9TbqQm/sQZHag1vlvqBhSYNHBC+qeO2dBy3s\n",
              "CEhwTBBz29xsrL5zJvb96TysvXs27pg7UnzMWzdOF39+Z0uxv5tIROQVr0oakpKS8Nprr+Hqq6+G\n",
              "Wq2G1WrFP//5T2RkZODpp5/G9ddfj9zcXOj1eqxYsQI6nW2yAX+vI880d5hw1StbcfxUKy6dkoon\n",
              "L5sArcb1Gqi0rg3bi+pw/oRkcapae3wcqIBXxZIGr3jyZ2JJAzmz7wVnjUrE1Ixh4vKzxyQiOSoE\n",
              "44dH4czRibh8ynCs3lXea90+EZFUeN1raOHChVi4cGGP5UlJSVi3bp3b5/h7HXnmSFUzDlU2AwBW\n",
              "7ixDW6cFD/9yLJK7JonYcLgaN7+zExargO8La3Dx5FQ8/Mk+cZa0AMW7YqDtbWZaabyr4WVJAzmx\n",
              "X9R2GzYwJkyPrUvPEn+3HyuMZt4aICJp40xrCtb99vVneyrw2Z4KjEmJwp3zRuKf3xaKQeUnu8rx\n",
              "ya5y8bEhOjXm5CX4s7kiDYMzr6g8qOJlR0ByZs/0u9tznIcc1Gttd4RMrIUhIoljwKtg9pNaTmIE\n",
              "bp09Am9sLsLR6hYcrGgSp5qNMGhxxsg4rD9QBQBIiDTguasnYXpWLEJ0gamDVom33wPy9rLhzeax\n",
              "b1NmzQlw7Dv93cXRdZVAdTLDS0QSx4BXwaxi5zPgV9Mz8KvpGTh+qgV/+vQAimpaEBduwI0zM3Hh\n",
              "xFR8sqscVquAq09LH9DsaENJLGlghnfIaNSceIIcHLtB3991AzO8RCQTDHgVTHDT+Sw7IQLv/qbn\n",
              "kG1Xn5bur2b1yx6csaTBM551WrNvUx83hmTBPsKHxxleBrxEJHFeTy1MwUOs0wtU77MBUrOkwSPe\n",
              "BK8qjtJATuy7QX9HBnsNb6eZ+w0RSRszvApmr9cMcIWC11QcpcEr3kw8wU1KgPu7P+7o/ZjhLW9o\n",
              "x87iOggC8P6PJ1BY3YKP75jJIdGIyCMMeBXMflLTyCziZb2ppzzfPhoVtyk5CIKHJQ1ihtcyoPfZ\n",
              "UVyHXSX1OHtMkkvg+srGY/hiXyVeu34akqJCYLEKuPzlH8Rpje3+u6sc9507akDvTUTKwoBXweRe\n",
              "0sDYzDMe1fDaZ69jipfgNEpDP/cH7Blek8X7/aa0rg03vrUdbZ0WPPn5IYxLjcJFk1Jx1uhEPPXF\n",
              "IQDAc+uO4OkrJ2L/yUYx2J2WOQw/nagHAESH6b1+XyJSJtbwKphjxrTAtsNbnHjCM97V8LKkgRzE\n",
              "Gt5+jg0GrffDkhXXtOKuD37G7L9+h7ZOC+IjDNCqVdh/sglPfXEI5/59k/jYtXsr0NRhwpZjtQCA\n",
              "c8YkYdUdM3HJ5FTvPhARKR4zvArmGJZMXhGvmiUNXvEkg8+phcmZ4GE5jE7j2bBk5Q3taOkwIyHS\n",
              "gBXbTuCzPRUAbAHzx7efgehQHb7YV4lPd5/E1uO14vNajGZMfmwd4iMMAIAzRsYN5OMQETHgVTKr\n",
              "TDutsaTBM95sH85eR8487rTWleE9XtOKC1/cjNvmjMRFk1JR3dyBbcfrMCU9Bv/45ij+81MZAECn\n",
              "USGhK3gFgMcuHoes+HAAwDWnZ+Ca0zPQ0NaJ/SebcLiyGX/+7ACsAlDdbCtn+EVOfLd2cn8lIs8w\n",
              "4FUwq4cnNanhxBNDT8VtSk6sHpY0DB8WCpXKVtKwr9w2Q+MX+yrw7aFqdJgcWV+1CogM0aGx3YST\n",
              "jR0AgDduOA3njE3q8ZoxYXrMyonHrJx4/HJiCg5VNuNwZRMSI0MwKjnS1q6h+ZhEpCAMeBVMtiUN\n",
              "HFHAI57elgY4LBl159koDcNjQrHu3jkoa2jHP78txE8n6vH53kqXxyREGvDXKydibm4CHli1Bx93\n",
              "ZXuHDwvttxVJUSFIigrB3LyEgX0MIqIuDHgVTAx4ZdZ10bmkQRAE2Y0y4W+ezbRm+58XEQQ4TzzR\n",
              "/86TmxSJ3KRIZMSG4Yp/bUFkiBZ/vng85o1yBKn27+jTV0xEYqQBNS1GjEqK9EnbiYjcYcCrYHLP\n",
              "8AK2jKRGXs33G29iV7U4XbOPGkOyIg5L5sV3a2RCBDY/cCZCdRpoNe6vojVqFR5YMHrwDSRSqOOn\n",
              "WhAbrkdMP0PyMRnUEwNeBbN2ldjJ7UuhVjsHvAI0rOgbNA71Rs7EiSe8fF5kiG7oG0NEAIDtRXW4\n",
              "+tWtAIAN989DVnw4jp1qwb+3l6Ct04LcxAhMSIuGVQBuf+8n3Dx7BO6clxPgVksHA14Fs2d45ZYh\n",
              "dR5Vgrfg++fJbWmWNJAzR6c1aR4cpNouIl/665eHxJ8fXLUHH96aj2fXHe5RN+94/GEkRobgymlp\n",
              "/mqipMmsepOGkqdDD0mNS0mD5+PdK443oataxZIGcvB0amEi8g9BELCza4ZBAPixqA7v/3gCDW0m\n",
              "AMB8NyOeAMDS1XuwzWlsayVjhlfB5Dq1sKZbSQP1jZ3WyFuOqYWJSArsU2s7W/bFIUSH2sqILp8y\n",
              "HDfNzMI1b/wortdr1eg0W3HjW9sxf2wSDFoNfiiswYLxyfi/C8e6lAcqAQNeBbOIndYC3BAvqVjS\n",
              "4JGBdFrj9iQAYsQr9Yth7q6kFN3HSI+PsI120tZpAWALbrt/X2+alYXDlc3YcPiUOLshALy9pRgh\n",
              "Og2WnK+sDqQsaVAwuU88AbCkwROe/HUdndZ82xaSB6lneKXaLiJ/eeTCMS6/6zRql7ufADAsTI/l\n",
              "i6bjL5eNR25iBOaPTcKd80YCAD7aUeK3tkoFM7wKZq/T6/4lkTqNiiUNnvBu4omu53B7Ehz7gdwu\n",
              "homCVfdjc1ZcOPKSInCkqgWALcPb/VQeqtNApVLh2tMzce3pmQCAU81GvLzhGBraTbBaBUWVNTDD\n",
              "q2BWqzw7prCkwTue/H1VnL2OnHg6tTARBc7EtBjxZ71W3SN4DdH1DPHsNb+CADR1mDx6H6tVwNZj\n",
              "tfj2UBU6TJaBNzjAmOFVMLmWNKhUKqhUti9s97omcuJNDS+nFiYn3twdICL/swoCdE5jiuo1api7\n",
              "HcBDdJoez9Nr1QjXa9DaacHkP6/HN7+fi5EJEfhyXwW+2l+FP18yThxP+/ipFjy8Zh8Kq1tQ3Wzr\n",
              "NBdh0OKSyan4y2UTfPjpfIMZXgWzyrTTGuAoa2C82z9PxuG1T4xlZcRLcJpaWOLHBgbmpBTdz3UW\n",
              "qwCd04yGeq3apdwPsJU0uOM8S9vlL29Bi9GMBz7eg092lePf20vFdf/acAxbjtWiutmIyBAtUqJD\n",
              "0GI0o7Hds8yw1DDDq2BynVoYsLdZ4C34PgxkHF5uTwKcpxaW6LFBos0i8heTpVvAq1HD1K3Xcaje\n",
              "fcAbFapDeUM7AKCx3YTr3/wRTR1mAMD/dp/ErXOyYbJYse5AFQBg0cwsLDl/NPQaNXaV1rvNHMsB\n",
              "A14FE0saZJjitZ+HORXu0FCxpIGc2TO8gW0FEfXCZLFC61TSoNOqoTZ5luE1aF1v7u8qaRB/3lve\n",
              "iHe2FKPdZEFjuwlx4Xo8cuFYsXP7tMzYIfoE/seAV8HkXNLAmcH6581sWZx4gpzJ+e4PkRJYrAJ0\n",
              "atcMb/cRl3rLxOYkRqCgtAEhOjWSo0JQXNuG+Ag9chIjsO14HR79337xseeOS5bdSE698aqGt7a2\n",
              "FpMnTxb/5eXlQavVoq6uDtXV1ViwYAFyc3Mxfvx4bNq0SXyev9eRZ+z1mnI8qWk4UcKQsm9Pbk4C\n",
              "nEsaAtqMfnF/JaUyWawu3093w5L1FvA+etFYPHf1JHx5zxy8d/PpeOzicfjg1nw8dvF4zBwZh7yk\n",
              "CPGxV05L80XzA8KrDG9cXBwKCgrE35955hls3LgRsbGx+M1vfoP8/Hx8+eWX2LFjBy677DIUFRVB\n",
              "p9NhyZIlfl1HnnEMPSTxs5obLGnonzdbRiVOPMHtSU53BwLcjt540hGTKJiZrYLLBZ9eo+6RvOqt\n",
              "hjcyRIfLpzoC2RtnZok/f3BrPgCgqqkDVkFASnTo0DU6wAY1SsObb76Jm2++GQCwcuVK3H777QCA\n",
              "6dOnIzU1FRs3bgzIOvJMMJQ0MD4bGixpIGfiXiDDYwNRMOp+aDZZrC6jlOi1PUsaeqvh9URSVEhQ\n",
              "BbvAIGp4t2zZgvr6elx44YWora2FyWRCcnKyuD4rKwslJSV+X+eO0WiE0Wh0WWaxyHfw5KFiDxbl\n",
              "WJ/juAXPAK0/nmTweQFBzsRhyRjxEkmS2eKa4dWoVT0yvO4mnlCyAW+NN998EzfccAO0Wun3e1u2\n",
              "bBmio6Nd/m3fvj3QzQo4OU8fao/ROfFE77zZNJxamOyc9wEZXgsTKcKUjBiMSYkCAMSG28bVjQnT\n",
              "iZNRJEQaEKKV5/BhvjKgaLWlpQUrV67Ejh07ANhqe7VaLSorK8Wsa3FxMTIyMvy+zp2lS5fivvvu\n",
              "c1n2yCOPDOSjBxWLTKcWBpyG0bL280DyKEcn1XF4O0wW3PruTpTUtWH88Gi8+OspshxGT06cdwGp\n",
              "1/dLa28l8h3n8oV1/28OshMikBkXjsgQLUbEhwOw1eauvXs2CqtbMCk9hsfKbgaU4f3oo48wadIk\n",
              "jB49Wlx21VVX4ZVXXgEA7NixA+Xl5Zg7d25A1nVnMBgQFRXl8k+j4ZWPXKcWBhwzrUktQJOSgUw8\n",
              "YZHI5txX3og//Gc3Jv95HTYfrcGJ2jas3VOBotpWj19DEAS0dZp92Mrg5LwLSPXIIMNDFtGQCNdr\n",
              "kJcUCcBWxjBvVCIy48LF9XlJkbhgQgqGxwRX/e1QGFCG980338Stt97qsuzpp5/G9ddfj9zcXOj1\n",
              "eqxYsUIcMcHf68gz9luXcqzhddyCD2w75MCjcXi7Ln2lUtLw0Cd7saesscfyDpP72vufTtQjOlSL\n",
              "nMRIcdm9HxXgu0PV+OS3szAyIcLt86gn532AgSURBYsBBbxbtmzpsSwpKQnr1q1z+3h/ryPPWL2Y\n",
              "mEBqxGG0JBKgSZE3wavUShrcBbsAYDT3rGGpbTHiin/ZjkkjE8Lxp4vHQRCA/xacBGCbD/6Zqyb5\n",
              "rrFBxjXDK8ODAxGRG9LvcUY+I+uSBk484TGvanglUhOdHR+O4zWteGDBKBi0Gjy77jDaOi1uM7x1\n",
              "rZ3iz8dOteL6N107pJbXt/u8vcHE5Tsl8UMDv/6kFOLIKTI8X0sFx6xQMIs401qAGzIAHFWgfwOr\n",
              "4ZXW9pyeFYubfzEC2Qm2GjV3Gd7+2rz1eC1ajKzl9ZTz5pTqsUGizSIiCWPAq2DyHpbMPjNYgBsS\n",
              "JKR2AdG9FYau4XWMJtsf/LvD1bjyX1vwzFeHseD5zf2+3hubjw91ExWB2SQiChYsaVAwOZc0qFnS\n",
              "0D8vboGpJDrxhL3lBq3t2txotuDT3Sfxuw93AQB2nqgXH5sRG4av75uLI1XN+Mvag7j/vFFibe+P\n",
              "x+v82m45k1FFA5Fi2L+W/E4OHDO8CmaVdYbX9j8D3qEh9Zpoe8C7u7RRDHa7azGaodeqMX54ND5c\n",
              "nI9pmcNw7zm5ACCWRFD/nMf7lOGhgYjILQa8CubI8Aa2HQMhtU5WUmQPXDwalky8gPBhg7zQvbQi\n",
              "LsIAAHjrhyJx2eo7Z7o8Ji+p59BjHGXAe64ZXmlvP4FTTxCRhxjwKpjV3mlNhhGv1IbRkjvHBYS0\n",
              "tqc9WL/n7FykRoeIy2+fOxJT0mPE36dkxODJyyb0+jrS+lTSZpXBOLxSbReRr4hJAO77A8YaXgWT\n",
              "8zi89okSGPD2z5M/r0piJSLdW5EeG4bP75mN1zcfR2O7CX84bxRUKhU+vesX+L6wBovnZLudQEWO\n",
              "+3aguYzDy+1HREGCAa+C2ZN5Ghme1Zjh7Z83m0Yt0U5rzuF6TJgefzhvtMvaCWnRmJAW3e+rcDfx\n",
              "nJxKGoiIPMWSBgULhmHJWMPrAQ/+vvbsqGSGJRuiZshvz5YA54BX4htQIrsrkc9xVx88BrwKZpFz\n",
              "SYPEbsFLkTebxr4PWCSW4h26fVNan0vKXEZpCGA7+sLMMykV9/yBY8CrYLIeh5clDR7zamphiWzP\n",
              "oep9L8NdO+CsLhlebkAiCg4MeBXMMQ5vgBsyAI6JJwLcEAnzJmi0B7wSiXdFMtw1Zc+5rEWOxwai\n",
              "YCS1Y7McMeBVMPuJzV3vdqljScPQ0khs1IuhboZEPpYsuI7SIL9jA1Ew43dy4BjwKpi9w5ccv0D2\n",
              "jKTUak6lRBy20YM/r2SnFh7kvinHfTvQeHFARMGIAa+CWWQ8SoNjVIEANyRISO0CghnewPFmhr5A\n",
              "kXLbgkVFYzt+KKxBp5lD4UgDD2KDxXF4FUyQcQ2vSmKdrKTIvmU86dFu3wekMiyZnQx3TdnjhE7K\n",
              "89X+SpTWteGGM7Kg16phtQq47KUtqGzqwLAwHb75/TzEhuvx/o8nsPlIDRbNykJ+dlygm61IvNgb\n",
              "OAa8CibvURps/0slIyl30p14YmgM1agPSiDI+LggZ/vKG/G3rw7jD+eNwvjh/U+mMlSaOky47b2f\n",
              "AABPrD2Id34zA2NTolDZ1AEAqG8z4fvCGuQlReCPn+wDYLs7yICX5IYBr4KJozTIMMWrkeioAlLi\n",
              "TQ2v1IYlGyqM2bwnh5IGO6ndkRiMj3aUYuORU8iMC/NrwNtqNLv8fuNb25GbGOGy7I3Nx7GnrFH8\n",
              "3WRhmYO/BdGuHjCs4VUwR4Y3sO0YCJY0DC21OEpDYNvR3VAFXdxNPOcoaZDugUEOwbi3yurbAAAV\n",
              "jR0ePb6+tRMltW0uy8wWK46faoEgCGjpFsj2xmzp+eU4Wt3i8rtzsAtI7zihJEG46/sNM7wKZrXK\n",
              "t9OaWNLASKZfspx4YojaIeWgTarELc9N51dl9e0AbJ3F+lNc04pzntsItUqFiWnRSIwy4KVrpuKB\n",
              "j/dg9a5yzMiKxfbiOrx6/TSkRIeguLYNF05IgVqtwqHKJqzcUYZfz0hHXlIkzE7R65Enzsc/vjmK\n",
              "gxVNuPecPIxICMdX+yrx5vdFOFDRJD4umDLrpBwMeBXMHtzIMN4VR2lgpqEv3kw8YftfKgGv3VAF\n",
              "rNL6VNJmD2ZkeFiQLUEQUN7QFfA29J/hXbu3oitQFbDzRD0AoKHNhNW7ygEA24vrAECszQWAd7YU\n",
              "4+Vrp+L3K3dj/8kmvPVDEZacPxqvbToOABgWpoNeq8b9541yea8rpqVhSkYM/vldIYbHhOLFbwt5\n",
              "xyQAuMkHjwGvglllPCyZY2YwHgb641UNr0SuIIaqFTLctQPOm9pvGhoNbSa0dVoAALWtnegwWRCi\n",
              "0/T6eHc1tM0dfZcw/HSiHqc/+Y3Lsqe+OCT+rFH3XuGYnRCB566ejP8W2AJqdgINHI4tPnCs4VUw\n",
              "e2wjx5nW7N95jtLQO2+uBSQ7tTBreP1OTqM0BMvf1Z7dtavqGiGhxWjG1weqUFpnq9Vt6zSjsrHD\n",
              "7edubDe5fe3cxAj834Vj+21D945q7qgkepwg8gQzvArmqOENcEMGgCUNQ0uceEIiZ7KhaoYMd+2A\n",
              "E0dpCHA7+ibt1nnLXr9rd7KhA5lx4fjzp/uxcmeZuHxa5jAUlDYgKy6sx2s0tHdCr1Gjs1v295Xr\n",
              "pyE7PhwqFbDteC3WH6jCqOQoLDl/NObkxqPFaEZpXTtyPAl4u/6XWumTEnCTDx4DXgVz1PDK7+TB\n",
              "kob+eTPxhEqiNbxDhbdgPecoaZDfcUGu7CM02FU2taPDZMHaPRUuy3/qqtc9dqq1x2s0tJmQEhOC\n",
              "E04jN2x+4Eykx9qC45tmjcBNs0bAaLZAq1aLSYPIEB3Gpuo8aqd9lwjSw4Qs8Fs5cCxpUDA5TzzB\n",
              "koahJbWM+VAFqDLctQPOcaFE/tK9pOFkQwde3nAMrZ0WDI8J9eg1GtpN0GtcT+nDwvU9HmfQagZc\n",
              "xiYmGgb0bKLAYoZXweQ8tbBGJa0ATYoEx4Cq/ZJqxnzIAlZpfSxJs3qx3wRasPxZy7tKGmLCdGho\n",
              "M+FoVTPWFJwEAFw4KQVRITr87avDfb5GY1unyxBjABCu773j20DYdwmpHSeIPMEMr4KJGV4ZRrxS\n",
              "GzdW7hzDkgW2HXZDV8Mrv3070OTQaU3CTRsQexnCzJG26XrtwS4A3DkvB9eenoHYcD0M2t5P2Q1t\n",
              "JnSaXet3h7oshSUNgSOnGRClyuuA12g04q677kJubi4mTJiA6667DgBw9OhRzJw5E3l5eZg+fTr2\n",
              "798vPsff68gzFjlPPGGfGUwqEZoEeXNr2n5ilFqJCMfhDQSeWP3JahVwuKoZAHDzL7KREevokPZ/\n",
              "F45FdKgOMWF6/PTwOdj32HnIjg93+zo1LcYepRFDjTNckpx5HfAuWbIEKpUKR44cwd69e/HMM88A\n",
              "AG677TYsXrwYR44cwYMPPohFixaJz/H3OvKMVcYlDWqWNAwp530gmG5XMmjznowqGoJCS6dj/Nz0\n",
              "2FC8ceNpWDwnG+/8ZgZumpUlrlOpVNBp1EiJCXH7Os5ZYQCIDBn6ikWxpGHIX5nI97wKeFtbW/Hm\n",
              "m2/iL3/5i3ill5ycjOrqauzcuVPM9l5xxRUoLS1FYWGh39eR5+Rw67I3LGnonze97Z07sUjhImKo\n",
              "mxBMQbyviXcGZHhckCPn42+kQYe8pEg8dMEYzM1LcPs3uG9+Xr+vedvcbHx61y+GtJ0Ax+ENJMc2\n",
              "5/dyoLy6BDx27BhiY2Px5JNP4uuvv0ZoaCj+9Kc/ISYmBikpKdBqbS+nUqmQkZGBkpISREdH+3Vd\n",
              "Tk5Oj3YbjUYYjUaXZRaLxctNFXzkPLWwVKfClSvnE6tVEKCRyEFVjvum3InHhQC3wxPB8PV3vhjz\n",
              "ZH+flhnb72Ouz89E2rCeY/UOllqs4Q2CDU+K41WG12w248SJExg7dix27tyJf/zjH/jVr34Fs7nv\n",
              "KQ0DbdmyZYiOjnb5t3379kA3K+DsJzaNDKMKtZoZXk958td1LmmQQh3vUP9ZA/+J5EMO4/BKt2Xe\n",
              "G8i++f4tpyM1OgSnj4hFpEGL38wagWeumoSoEC1OHxGLlGjPhjLzlthpzSevTuRbXmV4MzIyoFar\n",
              "ce211wIApkyZghEjRuDEiROoqKiA2WyGVquFIAgoKSlBRkYGoqKi/LrOnaVLl+K+++5zWfbII48M\n",
              "cJMFj+AYpSHADZEwbzaN821VKV1DDDbmknLQJlWOgDew7VAK5++bp9t8Vk48tiw9u8fyK6elDVGr\n",
              "3LN3IpXSMUIp+L0cPK8yvPHx8Tj77LPx1VdfAQCKiopQVFSEWbNmYerUqVixYgUAYNWqVUhLS0NO\n",
              "Tg4SExP9us4dg8GAqKgol38azdCOTyhH8u60ZvufozT0z5MDpGsNr2ObrtlVjqwla/Hb93/G7e/9\n",
              "hK3HalHV1IHfvL0Dm4+e8kVzuwzt35UnaM/JY2rh4CT1YfSCfUZGCm5ed+N85ZVXcPPNN+PBBx+E\n",
              "Wq3Gq6++iuHDh+PVV1/FokWL8OSTTyIqKgrLly8Xn+PvdeQZWU8tzJKGfnlTZ+e8C5gsVmwprEF6\n",
              "bBju/agAALB2r22K04LSBoxJicR3h0/h20PVKH7ql0PZ5J7tkngAEIzklEkKiimjZfQR2GmN5Mzr\n",
              "gDc7Oxvfffddj+WjRo3C1q1b3T7H3+vIM9auMcplWcPLkoYh5VzS8MTag/j4pzK3j6ts6kCr0zBK\n",
              "m4+ewvaiOiRHh+CKqWnQadRYf6ASr28uwpOXTcCo5MgBtWfoJp6ggZLyxYYMD1m9cg7apf657M1j\n",
              "osH/eOdl8Di1sII5phaW31fIfgdeCh2spM6TP6/zPrCrpL7PxzZ3OALe6990dP784yf7XB636ucy\n",
              "PHTBGA9b6d5Q7ZrcSzwn59Fb5MilhjdwzfCIHM8VRHacWljBLDI+sWnEW2sMZYaCcx13WX27y/JP\n",
              "7pyJv145sdcZnnrT3GEacHuG6q8qx3070OQ8PrccOe/rUi8v49TCJGfM8CqYVcYnNhVLGvrlmDGr\n",
              "/7+vSqWCSmV7jtFsq3X525UTMTY1CuNSozElYxj2lzfieE0rQnUanD0mEesOVGHJgtG4YEIKrvjX\n",
              "FoxLjcKpFiN2lTQAAD7cXoozRsbj4kmpfb632WLFG98Xob61E/nZcThzdCJajeautg8NXhh5jlsq\n",
              "cKR+JGantcCRU229VDHgVTCxpEGGeX57kG7hgXfIqFUqcXvqNWpcMTXNZci6352di/TYMJw3Lhnp\n",
              "sWHoNFuh19p2nh+WnCU+7puDVbj5nZ0AgLs/3AVBEHDJ5OHi+hajGU9/cQgXTkzBjBGxWLJ6r1gz\n",
              "/Oqm4/jlxBQx6B4snhu8J8jozk8wfP3ldDEmDksW4HYQDYQMQx0aKvbsqBw7rWm69lw5nSz8Tezk\n",
              "4OGf17msISUmpMf4zPERBtwyOxvpsbYZnOzBbndz8hJw7zm54u/3/LsAC57fhK8PVAEAlqzag/e2\n",
              "ncCvXtuGa9/4UQx27UOjrd1TIT43M867MorecC/xnGNq4YA2o09S7lDnLdeShoA1wyOOkgZ+o0h+\n",
              "GPAqmL3Dl9TrxtwRSxqGJhFIcN0PUgcxU5NOo8a95+Th+JMX4NrTbZPBHKpsxi3v7sR7207gM6eA\n",
              "dsuxWgDABROSsf+x8/CXy8aLgffqO2f2GlR7So77dqCJGd4gCiqlzHXiCWlvc7XYdyLADVEwfi8H\n",
              "jiUNCibviSdY0tAfbzeNc6Z/+LDBT02qVqvwl8sm4K6zcnDvvwvwY1EdHlnjOpKDTqPCQxeMwU2z\n",
              "RgAArj09E6OSIlHb2ompGcMG3QYRdxOPOTqtBbYdSiGnsYQ5tTDJGQNeBZNzb2x7SQM7Twwd5wBn\n",
              "eMzgA167lOhQ5GfH4ceiOnHZp3f9AgIEZMWHIypE5/L407Jih+y9ZbhrB5yjpEH6Gy+Yvv0y2Nxi\n",
              "bpElDSRHDHgVzCrrcXh5a81TngYuzvvBUAa8AJAZFyb+fP74ZExIix7S1++PnLJogeYY3UO6ZHjI\n",
              "6p2Mdk2OjhM4HKVh8BjwKphVxqM02A+8nHiid95eDDgfSHOSIoa0LZPTY6BSAXHhBjy4YPSQvnZf\n",
              "eG7wniCHiDeIiBn1gLbCM46SBh53SX4Y8CqYvcOXHDO8Go4HOeTOHJ2I/xacxIwRsZicFjOkr52d\n",
              "EIFNfzgTseF6hBv8f9jhbuI5K+Ndv3Jk7qS/xcWphdlZmGSIAa+CybqkQc2Shv54O/f6C7+egqev\n",
              "mAiDVu2Tk699ODO/kuG+HWiO4ey47fzB2+9pIMnxXBEs5LSfSBUDXgWT8ygNLGnwjRCdJtBN8Ale\n",
              "GHlBTqM0BNEfVg6xJMfhJTmTYfUmDRWrjG6ldacRO0/wwNsbdnJgNmQgHDWl0t160m2Z97yZAjzQ\n",
              "7G1knoHkiAGvQjlfoWtkkcpxpRZreAPbDpIHdrLxHC+U/EtOeyY7rQWOnGq9pYoBr0I5lwLIMN4V\n",
              "a8mY4e2dHDJ1vsZzg/cYzPiXnEbFcJQ0BLYdRAPBgFehnDOjcrxitHdaY8BLnuBu4jk5lToFw59V\n",
              "RvEuSxpI1hjwKpRzoCjPDK/tfx54+8Bb04rObg+UIIPOrHIIxr0lh4/kGLOdB16SHwa8EtVhsuDL\n",
              "fRX4xzdHUd3c0edjrVYB6w9Uoay+rce62hYjfvXqVpz794144euj6DTbBlB0znjJcagZsaSBES95\n",
              "gHuJ5xxTCwe0GYojh4szZngDh5t88DgsmUT945ujeHnDMQDA4cpmvHTt1F4f++GOEvzxk31IijLg\n",
              "iUsn4L6VBYg0aPHwhWPx2Kf7UdVkBAAcqTqCL/dXYkpGDKqbbEG0XqOGXiu/6x6WNPSP4zYyaBsQ\n",
              "GY0aEAzkdAhTizW8Mmo0URcGvBJVWt8u/rx2bwVe6uOx/y04CQCoajJi3f5KNHeY0dxhxp3v/wwA\n",
              "MGjVuGRyKtYdqMLBiiYcrGgSn3vTrCzoNDIMeDnTGnmBu4nnHBNPBLghCiGn7e0YpYECRQ77iVQx\n",
              "4JWo9k6zy++NbSZEh+l6PM5iFbC/vNHxuHaT+HNSlAEXTEjBvWfnITpMh/ubO7BmVzn2ljfh090n\n",
              "kREbhnvOyfXdh/AhR0lDgBsiA0o+QCr4ow+Y/Tslh20XDBcycuq0Zm8lS8n8j1n1wWPAKxGCIOB4\n",
              "TSuy48OhUqnQ1mlxWf/Aqt1Ycv4YjIgPR6fZin/vKEGr0YJQnRqtTo9t6Ap4/3jBGNw6J9vlNRIj\n",
              "Q7B4zkgAwP87JxfxkQaE6eW5C3BYsv5x09BAiLuNkq+UAkAOHfHUzPCSjMkz2gkyZosVd7z/M9Yf\n",
              "qMKTl03ANadn9Ah4v9pfha/2VyEuXI/6ts5eOw1sL6oD0P9kEtkJEUPS9kBhSQN5h/uJp+QwSkMw\n",
              "cYyXLX0q1jSQjMmveDOIWKwCvj9ag+vf3I71B6oAAD+dqAcAtBhtJQ1TM2JcnlPbagt2w/UaTMsc\n",
              "htToEOQk9gxetRo5HD4Hzp7htfDA2yvHpgnufaEvMkiaSY6cArBgIKdb1fZ9gokG/+PoKYPHDK8f\n",
              "NLR14oPtJfj6QBWKaloxOzcBqTGheHtLETpMrkWoq34uwxf7KsQM7x3zcrDteC0mp8dgV0kDyurb\n",
              "8MuJKTh/fIrL6AqN7Sb88h+bUVbfDoNWjYlpMf78iH5nHw9STicLChzuJp6T0xSmwTArnKOEJJCt\n",
              "8Iw90SD/rU5KxIDXx45UNWPha9tQ29opLvvf7pMujxmXGoVrTs/Ad4eq8fXBajHYHR4TivzsWMwf\n",
              "mwQAuGhSaq/vEx2qw+YHzkR9mwmhOg1C9RoffBrpYA1v/+wXAzKIW3yGQ2t5T9xvAtyOvgTTPi2n\n",
              "TmsqlpKRjDHg9bER8eFIiDQgNlyPRbOyMCIuHBuOnEJjmwkHKppw7zm5OHuMLaC99vRMHKpsQnFN\n",
              "KyalxyAxMqTfWlxnKpUKseF6X30USRFLGjhKA3mAp2fP8dZpYMgho27HeNf/HBdG8tlPpIYBr4/p\n",
              "NGq8uWg6EiIMYgnCzJz4Xh8/OjkKo5Oj/NU82RJvrfHI2yvWYkLhH35g5FTSEBzkcyfGPuFPf0dd\n",
              "o9mCI5UtWPVzGb4+WIXcxAjMyonHdfmZCNFpUNXUgbe3FGPLsVqU1bXhsUvG4cKJvd/BJBoKXge8\n",
              "WVlZMBgMCA0NBQAsXboUv/rVr3D06FHceOONqKmpQXR0NN5++22MGzcOAPy+TmqGx4QGuglBx17D\n",
              "y1tr5AleGHmOM/T5l5x2Tfs+0f371NhmwqubjuGHwhpEheqw/2QT6pzK+Mrq2/Hd4VNoNVowMjEc\n",
              "v/twl8vnvuuDXWhsN+Ha0zP98ClIqQY0SsNHH32EgoICFBQU4Fe/+hUA4LbbbsPixYtx5MgRPPjg\n",
              "g1i0aJH4eH+vo+DnKGmQ0dnCz5ipY9A2EI79JrDt8IScgsXeyOlOjH2fMFkEbDxyCl/uq8Csp77F\n",
              "pD+vw8sbjmF3WSM2H61BXWsntGoVZufG44VfT8ZpmcMAAH//+gju+sAW7EYYtHj80vGIMNjybs9/\n",
              "fTRQH0sm5HMnQKqGpKShuroaO3fuxLp16wAAV1xxBe666y4UFhYiKirKr+tycnKG4iORxDlKGgLc\n",
              "EJIF7iaecwRg0j2zSrltAyWHC1O1UxtvfGu7y7qRCeG4Pj8Te8ubkBUXhlvnZCNEZ+s8fd64ZMx6\n",
              "6lux83basFC8fdN05CRGYkxyJK58ZSuTF+RzAwp4b7jhBgiCgBkzZuCpp55CaWkpUlJSoNXaXk6l\n",
              "UiEjIwMlJSWIjo726zp3Aa/RaITRaHRZZrFYejyO5EPTS0nDzyX1MFsEjEqORHRoz6mYlUROmSNf\n",
              "kUMQITUc3cO/5DRKQ4hWA5XK0WadRgWTRUBKdAi+vm9ur9+3EJ0GH92Wj++P1iAxKgQLxiWL9cBR\n",
              "Cj9Ok/94HfBu2rQJGRkZMJlMePjhh3HjjTfi8ccf90XbhsyyZcvw2GOPuSzLz88PUGtoKNgPrMW1\n",
              "bXh903HcMnsECkobcPnLW8TH5GfH4snLJiAzLhw/Hq/FuOHRig+ClYp3Ajwnp5KGYCDI6FZ1dJgO\n",
              "T18+EYermrFoZhbiIwxYvqUIU9KH9XtxmZMYiZzESD+1NPjI6cJIqrwOeDMyMgAAOp0O9957L/Ly\n",
              "8pCeno6KigqYzWZotVoIgoCSkhJkZGQgKirKr+vcWbp0Ke677z6XZY888sgANhdJRVSII3D9y+cH\n",
              "UVjdgjCD7faZQauG0WzFtuN1OP+FzYgM0aGmxYhLJqfihV9PCVSTKQB4cvCePQBTyyACC4brGLld\n",
              "jF09Pd3l9zvnsYyQ5MGrTmutra1oaGgQf//www8xZcoUJCYmYurUqVixYgUAYNWqVUhLS0NOTo7f\n",
              "17ljMBgQFRXl8k+jCe6JGYLdyIRwvLhwCq7Lz4BaBXy0sxTLfygGADx79SRsfuBMzM6Nh9FsRU2L\n",
              "rZzlZEN7AFscALw1LZJZTBFQcgjAgmmfdmzvIPpQA8CRVMjXvMrwVlVV4YorroDFYoEgCMjOzsa7\n",
              "774LAHj11VexaNEiPPnkk4iKisLy5cvF5/l7HQU/lUqFiyal4qJJqZibl4jbV/wEi1XA3LwEnDMm\n",
              "CSE6Dd79zQysKSjHS98dQ2F1i1eTeFBw6CswqmrqwHtbTyA6VIeRieGYlhmL6FAdGttN+OZgFc4d\n",
              "lyz2IFcSju4RGErd3Ar92F5zTAjDLTZQXh3Ns7OzsWvXLrfrRo0aha1bt0piHSnL/LFJ+Ox3v4DF\n",
              "KmD88GhxuUqlwmVT0mDQanDn+z9DaZ2AOWOWg7vs0fIfivHKxmPi7+mxodh4/5l46JO9WLunAgvG\n",
              "VeGV66e5PKex3YT61k5kxYf7vM2BYu8Iyt3GPzjuMZF/DGgcXiKpGZMS5RLsOrMndq1Ki3hJDPa3\n",
              "HqtFU4fJZV1dq63UJbsreC2ta0dFUwfW7qkAAHy5v7LH69341nac/dxGlPdTHvNzST3e2Hxclvsc\n",
              "L5T8i50EifyDAS8FPXvnG6XNysa51wFN15R8ZquAC17YDKtVwD3/3oVrXt+GpnYzAOC6/ExkxIYB\n",
              "AI5UNvf6Wu2dFuwua4DFKmBfeWOf73v5y1vwxNqD+GxvxRB9Ej/q2m9k0WktiL7SSv6eUv84SsPg\n",
              "MeCloOcIeAPcEPK7ObnxmDcqAYBtetMOswX/LTiJLcdqsfV4LQAgTK8Rp/9+ffNx8bkxYa5D2B2t\n",
              "bhZPOiW1bQCAbw5W4Ya3tuOdLcVuB84vrmkd8s/ka3K4xS7ltnkrmIJ2IilTXo8MUhx1L5NUBDt7\n",
              "4BJU0YGXYsL0eOvG6ch+6HMAQEuHWVzX2G4rcQjVa5A2zBbwbjlWK65vaDPhpe8KcbKhHRmxYRgW\n",
              "rhfXldTZAt7XNh3Hj0V12HTkFDLjwjBvVKLL+xu08ssp8BZ7YCh1e9s/t7KOzhQIDHgp6Cm1pIFs\n",
              "1GoV9Bo1Oi1WXP1qz46uYXothncFvICt5tuerP3bV4fF5RdOTBF/PtEV8J5qdszguP9kE+aNSnTp\n",
              "IGefWlVOHIlqhUZgfiaHjDoFnsCahkGTX/qByEv2gNdiDXBD/IzHRwf7kHTFXaUIzsL0GrGGFwB+\n",
              "kZuA9FhHAGzP0m47XicuK+0KeO1jPANAYXULAKCt0zFteYhOfodYOc38JQRBXpDDwBH5h/yOxkRe\n",
              "sge8HNhcudpNll7Xheo1OHdcMn51WjrGpETh3nNykRrtCHhTokMAuAa3ZfVt6DBZ0ORUInG0uhkb\n",
              "j5zCXR/8LC6TYxAjhwslGW7WXvGoROQfLGmgoKfYGl5mjjwSptcgwqDF01dOFJcNHxYKFNl+jghx\n",
              "HCZVKkCjUsFk6TlSw6GKZtz3UQFqWzvFZWaL/PY5e4vlMEpDMOCFOHmD38qBY4aXgp6jpIEnFqWL\n",
              "dDNzWpiu57Lb5oxEmF6D0zKHucy2lhEbJpY//FxSDwCIj9BDr1XDbBVcgl0AMMmxjoZTUgcEtzf1\n",
              "hWevwWPAS0HPXr/JRIpyPXrRWExKj8EzV08Sl6VEhyBcr0F8pL7H40clR+Knh+fjg1vzEWFwDE+W\n",
              "lxSJ9K6Ad2exLeBNjAwRJ6/oTo4BLyee8C9ubx6fyT9Y0kBBT5xpTWFHVPFEGtBWSMNNs0bgplkj\n",
              "AAAPLBiFEXHhOC0rFp0WK8L07g+DoXrbCAuRTiUNo5MjxeHM1h2oAgDkJEZAo1bhUNekFZlxYTjR\n",
              "1TmuU4YBr312OFlMhBAEX2lOEEPeYInawDHgpaBnP0BYFBbwknt3zsvx6vHOpTBhei2iQx0Z3xCd\n",
              "Gr8/Nw9qlQoqFZCbGInTs2Nx+ctbAAAms/z2OTmMShZcJ32WkFD/ePoaPAa8FPQ09nF45ZdsGxSB\n",
              "tZhDIivOMWTZwhnp2HD4lPj7/eeOQmacrZzhuasni8svnzIcq3eVy7OkQUZTCwcDBjJE/sGAl4Ie\n",
              "J56gwVh4egZaOy248YwsxITpkZsUIa6zl0l0Fxdhqws2yfAqi6UwgcHtTZ7gfjJwDHgp6KkUWsNr\n",
              "x9rAwUmJDsUjF44Vfx+XGo0Pbj0dyVEhYofI7nQaW3/goSxpqGkx4r8FJ1Fa14ZTzUYYzVZcfVoa\n",
              "5o9N6nGL/3+7T+J/BSfx6EVjxU52npLTnYFg+EY7Oq3JYIP7gDi1sEKPz54KhklWAo0BLwU9e1DC\n",
              "UcloqMwcGd/nejHgHcKShj9/egD/233SZdnXB6swOzce549PwdHqZlitApo7zFi9qxwAMD1rGG6b\n",
              "O9Kr95HFxBOBbsAQksP2JgoGDHgp6IklDQqLeB0TTwS2HUqk1w59wFvfZhvjd/7YJEQYtPikK6jd\n",
              "fLQGm4/WuH1O93GBPeGYWpg7jj8IjHjJC/xaDhwDXgp6GoXOtEaBo9PYzkq+GJbsggnJuGxKGp69\n",
              "ahJO1LXh3a3F+PinMjR3mDE8JhQXTEjGgYom/FBYi/qBBLy8UPIrHpXII9xRBo0BLwU9lUqZJQ1i\n",
              "pi7A7VAirdqe4fXdTqdWqzAiPhyPXjQODy4YDaPZKg6Z9sGPJbaAt20gGV4b1n77F7c2kW9xpjUK\n",
              "ekotaaDA0XWVNHy6+yT++uUhNLaZXNZ/tuck7v/PbrR3WtBptuKJzw5g89FT7l7KIyE6jcv4wLHh\n",
              "tp/ru72vJ+SU4Q2Gjk6O7S2DDe4DyvzUA8cL0YFjhpeCnkahw5Ip7ONKSoxT8PnyhmOob+vEsssn\n",
              "AgD2lDXg3n8XwGwVMGNELML1WrzxfRG2Hq/F7NyEXl/Tmxm5hoXZhkUbSEmD/Xsi6dOqpBvnHd6J\n",
              "seHhqm/cPoPHDC8FPXviRLEzrSn9TBoA88cmYen5o3HBhGQAwMqdZThc2YwWoxl3f7gL5q67DduO\n",
              "12LniToAQHWzccjePzbcFvDWDaCkwU6hCUf/k1FGnUjOmOGloKfmsGTkZyE6jTgc2C3v7MDXB6tx\n",
              "wT82i9MUG7RqGM1WbDtWi4RIAwCgrrUTVqsg7q/dCV5MQTusK+BtaDOhoLQBk9NjPG67OA4vr5T8\n",
              "gjXT5A1eGA0cM7wU9OwlDcFQ7+cNnkil4U8Xj8NpmcPEYFejVuHla6dCp1HhZGMHdpc1AgAsVgFN\n",
              "Hd7X3LoTE6pDiM52eL/0pR+w4XA1jlQ1iz/3RZxaWAZnB4V9pUnBuK8PHjO8FPTsCTMLU7wUAGnD\n",
              "wvDxHTNR3tCO5g4TYsP1SIwMwaS0GOw8Ue/y2JqWTsR01d/amSxWtJssMHsx4oNWo8Yr103DouU7\n",
              "AADvbT2BQ5XNKG9ox6LlO1D81C97fa7jXaR7oRRMF3Fy6iToC0rtrEf+x4CXgp5ihyWT0RSxSjA8\n",
              "JhRAqPj7GSPjegS85zy3Ednx4UiINECrUaGysQPFtW0DulibNyoRz109Cfet3I1moxnlDe3iOkEQ\n",
              "XAKNbw5WYeeJeqRGh6CqqQMA9xt/4ZSxRP7BgJeCnsapJrL7iZ4oUM7IjsOL3xb2WH68phXHa1qH\n",
              "5D1GJUcCAA5XNrssn/CndWgxmnHRpFRMSY/BE2sP9Lgg5LfEP5Q+LJmIcX+feGE0eAx4Keg59wGy\n",
              "WAVoNco4sThqeEmKpmYOQ2p0CE61GJEVF46j1S0AgF9OTMF545IhCAKGhemRlxSJha9vQ1FXEOxN\n",
              "YDQyIQIatQqN7a61wS1GMwDbOMGf7j4JAMiOD0d8pAE7i+tgFYD02LCh+JjUD35PifxjwN0Sli9f\n",
              "DpVKhTVr1gAAqqursWDBAuTm5mL8+PHYtGmT+Fh/ryNy5tzrXWllDSRdIToNvr1/Hnb+cT5Oy4oV\n",
              "l88fk4SLJ6XiksnDMScvAcnRIeIwYwN5jxHx4T2W3zlvpNNj1MjPjsUX987GytvOwM6H5+Pj28/A\n",
              "oplZA3pPf+LXmZRG8XcCBmFAGd7i4mK8/vrryM/PF5ctWbIE+fn5+PLLL7Fjxw5cdtllKCoqgk6n\n",
              "8/s6ImdqlXPAq6BTJG+VSl6IToMQnQYxYY7j1vjh0T0eFxky8JtxE9OiUdiVPba7fd5I/PbMHITp\n",
              "NbAKtuyi/cIwNlyP2PBYN68kHcG0S7PWnjyhpFOXr3id4bVarbjlllvw4osvwmAwiMtXrlyJ22+/\n",
              "HQAwffp0pKamYuPGjQFZR+TMuaRBUQEvyUan2Sr+nO0mIxthcAS83sZFk9JieizTa9QIN2ihUqmg\n",
              "Uat6HfuXfE8saVDon0ChH5sCwOu0wXPPPYdZs2Zh2rRp4rLa2lqYTCYkJyeLy7KyslBSUuL3de4Y\n",
              "jUYYja6zGFksFm8/OsmUa4Y3gA3xMwV9VNlbOCMDq34uw7ljk9wGn4PJ8LqbdEKnkcEgu0rhxZTR\n",
              "wYzHK88oey8ZHK+Oovv27cOqVatkVy+7bNkyPPbYYy7LnMsxKLg5B7z+GItXEASsKShHTXMnrj8j\n",
              "EyE6jcv6U81GnGxoxyQvZr8aDKVmjuQkJzECO/54Tq+B6NiUKPHnrLieGeC+TEyLxm/PHImECAM+\n",
              "21OB2HC9y8glchYMN2y8mUGPlCsIdvWA8yrg3bx5M4qLi5GbmwsAqKysxOLFi/HYY49Bq9WisrJS\n",
              "zLoWFxcjIyMDcXFxfl3nztKlS3Hfffe5LHvkkUe8+egkY87n9qGebc1iFfDo//bBaLLi7rNzkR4b\n",
              "hp9LGvD/PtoNwHYSa+u04O0txXji0vEYnxqNy//1A2paOrHpD2ciI853PeGVNrOc3PWVdb0uPxNn\n",
              "jIyHQav2evQElUqFP5w3GgCwaNaIQbVRKhgbEpG3vLqvdccdd6CiogLFxcUoLi5Gfn4+XnvtNdxx\n",
              "xx246qqr8MorrwAAduzYgfLycsydOxcA/L6uO4PBgKioKJd/Go3G7WMp+Gh8OErD1mO1WLGtBP/5\n",
              "qQxnP7cR/9pwDAWlDeL6J9YexHPrj6CutRN//GQvrn1zG2paOgEAp1o6hrYxvWBwIH8qlQo5iREc\n",
              "KiwIiePwBrYZJBO8EzBwQzYO79NPP43rr78eubm50Ov1WLFihThigr/XETlT+bCkYdXPZQCA6FAd\n",
              "GttNePrLQwjRub+OrG8zob7N5HYdESmToPBeawr92BQAgwp4N2zYIP6clJSEdevWuX2cv9cRdadW\n",
              "2bK7zrf5i2takREbNuAe6oIg4Kv9lQCAtxZNR2F1M/7vv/vRYbK6PO66/AxMHB6D578+ghC9BjXN\n",
              "RjR1mAf+YTxtX9f/PKEQSRcnniBPsERt8DjTGimCRq2C1SLA0nXQWLHtBB5esw/xEQacPz4ZO4rr\n",
              "UNNixMS0GDx0wRjkJEb0+5qdFivaOm2jfeQmRWBa5jBMTh+Guz74GdXNRrx/y+k41WzE3LwEqNUq\n",
              "XD09HQAw72/foanDHBQdbogCKRimW+U4vDYM6MjXGPCSItjKGgRYBaCqqQMPr9kHAKhpMeK9bSfE\n",
              "x317qBqVjR34/J7Z/b6myeI4QOu7OhyNSo7EV/fOQafF2mN0Bn9znD8UfialoKP04JCUi/v+wDHg\n",
              "JUXQdB0lrFYBf1t/RFyeEGnA7Jx4nDsuGQatGje9vQMHKprQ2GZCdFjfNeEmp8kCnHvYq9UqhKjZ\n",
              "KZKI+seSBvIE89+Dx4CXFMFepmsVBNS12kZJ+PX0dDx1xUSXx2XFhaG4tg0FZQ2Ym5fQ52t2WmwB\n",
              "r0at8mpcU3snOl8fwDi+J5H0iaM0KPSLqvQJN8h/ON0OKYJ98gnnjmtTM4f1eJx9VqqCkoZ+X9M+\n",
              "HaxOwwM2USAER9ln14VpgFtB8sALhIFjwEuKYB+JwSo4urmo3WRU7AHvrtL6HussVgFvfl+E3V3j\n",
              "7Jq6Mrx6iU7TyvE9KVgF00nfkeENbDsCLSiuXXyJG2jQpHmmJhpiYkmDVRAnn3B3fpmcYcv67i5t\n",
              "6NFr+H+7y/H4Zwfwm7d3oLnDJHZa02v5NSIiIpIynqlJEdyVNLjLqIxNiYJeq0Z9mwkvfVeIVqNj\n",
              "vNzVP5cDAGpbO/GvDcecShq8+xrZ39bXt2OD43YvUXBzdFpTeIqXPKL0OwGDwYCXFMFe0uA805q7\n",
              "A4deq8bsnHgAwDPrjuCKf23B0apmfLmvEj8U1oiPe/P7IvxcYit78Dbg9TeldoYhkgNB4cM08PDk\n",
              "mWAYczrQOEoDKYLzKA32E4y7Gl4AeOnaqfhfwUn89avDOFTZjPl/3ySum5IRA71GjR+L6vDo//YD\n",
              "ACYMj/Zp24koeAnstEbkF9JOTRENEXtwKwi2oLcvIToNrp6ejk/unIncrhnXRsSHY+GMDPztykl4\n",
              "9KJxiA61jdE7Jy8BT10xwbvGdJ3Z/DWzEE+kFGyCKSvITmvkDe4mA8cMLymCPeC1OGV4+7vVnx4b\n",
              "hrV3z0ZThwnxEQaXdd8/eCYKq1swMS3GqzF4iYjcUXoNL/sc9I3bZ/AY8JIiqLvuZdiGJfP8FqJe\n",
              "q+4R7AJAZIgOUzJ6juMrJX11ziMiaWAcQ+QfLGkgRdCIJQ391/ASkTz4qyzIl3hhSl7hjjJgDHhJ\n",
              "EcSSBmvga+bEYcl8/D4c7oiClVz26FajGeauCWr6wziG+hIE13YBx4CXFEHlPEoDe0UT0RCxWAU8\n",
              "+PEevP/jCZfl1U0dmPu373DDW9vdPm/D4WqU1rU5zYjIIxKRLzHgJUXQOE8trJBe0Ur5nESBVFDa\n",
              "gI92luKPn+zDyYZ2cfmrm46jpqUTW47VYv5zG/HbD35GcU0rAGBPWQMWLd+Be/69S3w8v6fkCe4m\n",
              "A8eAlxRBnGnN6nSrP0BnGJXTEGlEJG/OJQtvfV8k/vxjUa3489HqFqzdU4G3txQDAHYU2yatOdnQ\n",
              "wQkFunA79I1bZ/AY8JIiqFSODK99HN5gv1LmCYSCnRT28E6ngPfD7SVobDehuKYV+8qbAACf3DkT\n",
              "i+dkAwDK6m0Z4P3ljQCAxnYT/rXhmJ9bTKRMDHhJEeyz/3ozDi8RSZSEvrudZkfA29ppwQtfH8Vv\n",
              "3tkBAJidG48pGcNw+ohYAEBlky3g3XfSFvC2myw4UtUCwDbhjRJJ6E8pC9xeA8dxeEkR1M7DknUt\n",
              "C/bjBksmiHzP1G0Uhrd+cJQ1XDZlOAAgOToEAFDR0IH2TgsKq1t6vM5vz8zxYStJ7oJhCL5AY4aX\n",
              "FMG5htceCaoDtPc7hiXz09TCwR7ZEw1AcU0rfvv+zzhwsqnPx1mtAtYfqEJ9a6fb9cauDO/MkXF4\n",
              "6ILRUKlsnWSvOT0Dl062Bbyp0aEAgNrWThSUNsDa7at/06wsTE6PGdwHIqI+McNLimCf/dciCOLJ\n",
              "JtiHAWI+gILdYJJe5z2/CUazFZVNHVh1x8xeH/f65uNY9sUhzBuVgKumpeOBj3fj9rkjcddZOVCp\n",
              "VGJJg16rxuI5I3FJV5CbFBUivkZMmA4GrRpGsxXfHKzq8R72gFjJmMD0THCftXyLAS8pgmtJgxjx\n",
              "KkKwB/akPIPdo8sb2sXM7Klmo7h8xbYTOFHbiiunpWNUciQA4Ln1RwAAGw6fwobDpwAAz64/gq3H\n",
              "a/HezaeLndZ0XR0FnANdsb0qFVJjQlFU04r1bgJee8kDUW94PTB4DHhJEdTiOLxO49MGqC0qR00D\n",
              "EQXAyh2l4s+RIbbTYHFNKx5esw8AsLu0EStvPwOAo2Shuy3HalFY3QKTU4a3L8lRISiqacWJ2rYe\n",
              "61IUHPCy8zD5C2t4SRHEkgarY5QGdZAfaDnxBJF7G4+cEn+u7srwFtW2isvq22z1umX1PYPTF349\n",
              "GRPTogEAhdUtYobXoOn7dNo9qB0e4yhjYIaXPMULhIFjwEuKoHY3Di+PG0SK09huwp6yBvH32hYj\n",
              "LFZBHCMXADrMFgDAjuI6l+eOS43CRRNTkZtoK3fYW96I7UW2SST6y/CmxDiC2mFhOiREGsTf3ZVB\n",
              "ENHQYkkDKYLz1MJ2gapt9d/7MrCn4DaQkU62Ha+FVQCy4sJQUtcGqwDUthpdsrntndaumdFOuDz3\n",
              "wQWjoVarkJMYAQB4ZaNj0ghdPxneZKeOaeOHR6OyscPj5xKxU9/gMeAlRVA5Ty0skVv9PH4RDcxg\n",
              "vrs/FNYAAGbnJuDL/ZU41WxEdZMR5U4Z3poWI377wc/i77fNycbolEjMzo0HADHgtdNpVJg/NqnP\n",
              "9011KlsYlxrtdixeJePx0DPMXwyc15eV5557LiZOnIjJkydj9uzZ2LVrFwDg6NGjmDlzJvLy8jB9\n",
              "+nTs379ffI6/1xF1Z6/htTqN0hDogNfXBIUMv0bkDXvAOysnHoldZQWnmo0uJQ12Z2TH4b2bZ2DJ\n",
              "+aNx2ZQ08cLZOeDNTgjH0b9cgDl5CX2+r3Od7oTh0WjpMA/6sxCR57wOeFeuXIk9e/agoKAA9913\n",
              "HxYtWgQAuO2227B48WIcOXIEDz74oLg8EOuIutO41PDaljEQJFKWisZ2HDvVCrXKFsza62gf+e8+\n",
              "FJQ29Hj8jTOzMDs3oUdHofRhjvKEMSlRHr13WkyY+PPEtGg8evE4AMBvzxzp7ccIKjwKe4o58MHy\n",
              "OuCNiYkRf25sbIRKpUJ1dTV27tyJ6667DgBwxRVXoLS0FIWFhX5fR+SOWNIgOKZoDFSG11/vy8Mj\n",
              "BTtv6xp/KKwFYMuwRofpxAyvc3Z3UnoMRidH4vr8TJw9JtHt62g1akzPGgYA+M2sER69d3SYDv9Y\n",
              "OAUvLpyC9NgwXDktDVuWnIX7zx3l3YcgRQv2O5O+NKAa3htuuAHfffcdAODzzz9HaWkpUlJSoNXa\n",
              "Xk6lUiEjIwMlJSWIjo7267qcnJ7zkRuNRhiNRpdlFotlIB+dZMreJ8RW0mAT6OOGvzoh8ABJwWag\n",
              "d2dKuoYeGz/cNqzYrJx4fPxTGaZkDINeo8bFk1OxcEaGR6/1ynXTcKrFiNHJnmV4AeDiSakuv6fG\n",
              "cIY1In8ZUMD77rvvAgDeeecdPPjgg3j88ceHtFFDbdmyZXjsscdcluXn5weoNRQI4rBkVkFMfdon\n",
              "owhWArv1ErmwlzPZR0W4ZPJwzB+bhDC996fCuAgD4iIM/T+QPMPDVZ94OB+8QY2FcuONN+K7775D\n",
              "WloaKioqYDbbivAFQUBJSQkyMjKQnp7u13XuLF26FI2NjS7/ZsyYMZiPTjKjdippEMfhDWSD/Egp\n",
              "n5OoP+7G4B5IsEsUKOx7MnBeBbwNDQ04efKk+PuaNWsQFxeHxMRETJ06FStWrAAArFq1CmlpacjJ\n",
              "yfH7OncMBgOioqJc/mk0Gi83FcmZPZtrsTqVNAR8WDLfXrIzIUDkyp7hDfZZFuWEfwryF68ubRsb\n",
              "G3HVVVehvb0darUaCQkJ+Oyzz6BSqfDqq69i0aJFePLJJxEVFYXly5eLz/P3OqLuXIYlEyNBZRxp\n",
              "eUKhYOXtRZ39IjPIq5koCDGBMXheBbyZmZnYvn2723WjRo3C1q1bJbGOqDt7RkcQlHPSY80XBauB\n",
              "XsQJzPDKjiAI+HJfJY5Wt+CmWVmIDNEFukmBxV13wFi8RIpgP8FZBAFWq21Z97E1/cX/78sjJBHQ\n",
              "1WkVgfvuk/e+2FeJO9+3zXq3+ucyrL5zFmLD9QFuFckRJ/AmRXAuabAL9CmPGVgi/xInnQn0l59E\n",
              "9k5Y1l4OiM5TMBfXtmHq4+vx1vdFfmmblPB8MXgMeEkRXEoaAjzxhL8o5XOScnkbBNiDqmAvZ5KT\n",
              "EJ0tDDFbBZgs1h7rm9pNPZb9+bMDQ/b+VquAsvo2t+/tC/vKG/HSd4XoNA/s/bjrDhxLGkgR3I3S\n",
              "EKg6Ph6wiAZnsN8h1vBKh/OwcG2dFkSHuubhmjvMPn3/t34owhNrD8KgVePBBaPxm1/YZs5rbDNh\n",
              "e3Ed9pY14OwxSZiUHgNBEHCqxYj4cMOAx3G/8MXvAQAatQq3z1X2tNL+xoCXFMG5pKG3W2f+5utW\n",
              "SONTEkmHYxxeBrxSodeqoVWrYLYKaO+0IDrUtVNaU0fPDO9QOljRDAAwmq14fO0BbD1ei/L6dhys\n",
              "bBLvILy66TiumJaGjYdPobyhHQ8sGIU757kfBtVTe8sbvXq8r4exVAIGvKQIGrVjpjVBYXV8CvmY\n",
              "RP1iSYM0heo1aO4wo62zZzbX1xles9VRWiAIwPoDVeLv2QnhaDNaUNnUgQ9+LBGX7yn1Llh1Z6C7\n",
              "oFLOW77AgJcUwXmmNXHiiWAPBZkQoKDn3U4udloL9u++zISJAa+lxzpfZ3jNFttO8dAFoxEZooPZ\n",
              "KiA+XI9pWcOQGBmC46da8Oz6I9CoVAjVafDRzlK0mXq201u8y+B/DHhJEVROJQ3iWJwB6rLp7+Mc\n",
              "D6xENgIzvJIUrtcCMLoPeN10WvOWyWJFY7sJ8REGt+sAWy3xwhkZPdZnJ0TgpWumAgC+2FthC3iN\n",
              "g886O++Ca/dU4KcT9YgN1+GW2dkI0WmwvagOseE65CRGwmyxDriTGzkw4CVF0DiNwyuOXhDgLI/g\n",
              "41piJngpWA164glGvJISqtcAQJ8lDSE6NTpM/Qd9rUYzFr6+DWdkx2HpBWMAAH/76jBe33wcK287\n",
              "A9OzYl0eb+5K++s0/e8TYQZbyNTqJjAfqKYOE3734c/i3YeU6FDkJkXg6le3QqdRYdf/nYuFr20T\n",
              "a34Dfd6SMw5LRopgP8EJziUNCjluKORjEvXLyqH6JCmsK+Bt7xZICoIgljQMC/Nsson/FpzEnrJG\n",
              "vLrpuLjstU3HIQjA//13f4/H2zO8Wg9u+YWL7RxYhtc5oLf3K+kwWcRgFwBO1LbiYEVTV9sErNlV\n",
              "7nUHN3KPGV5SBLGkweqc4Q1sW3zN1xlkIrlhDa80herdZ06NZitMXTW2MWF6VDR29Ptada1G8ecO\n",
              "k8XleNtp7pmZtdfwaj3I8Noz0QPN8BbXtIk/i0PjdTtMn2zscLkD8cbm46ChwYCXFMGlpKFrWaBr\n",
              "W/0VjjKbRcGKE08Eh94yp/b6XbUKiAzxLFypa3XU/J5qNqLV6TVrWjohCILLsd8+SoNO40mGV9vV\n",
              "zoEFvEU1reLPHb10fKts7BDPV4BtdjlnRjdBO3mGAS8pgvNMa1arMm5rMr9LwWrAF6v2Gt5g//LL\n",
              "jKOG1zWYa+qq340M0UHr4VVKca0jqKxq6kB5Q7v4e2O7Cf/ZWYarp6fjha+PoqSuDa1G23t68vph\n",
              "YobX3CNw9sTxU45pku3lDd2P0ycb2/usMf+5pMGr9yQHBrykCPbjh/NMawErafDzO/P2LZENa3il\n",
              "KazXgNeWrY0M0Yo1r/1xDngrmzpwtKrFZf2Dq/cgLkKPv399xGW5Jxlee6c1QQA6TFYxUPeUc4bX\n",
              "/lm736U4fqoVx0+1oruYMB0a2nw7RFuwY6c1UgT7FbPVqddaoEsaiMi/rMzwSpJ9euHuozTYR2iI\n",
              "CtF59DczW6worXOUAPzjm6M4VGmbSe2mWVkAbAHmze/s7PFcj2p4dY4A192IEt21dZrx0neFKKy2\n",
              "teG4ByUN7kSFaPGf285ATJgOfzhvlMfPI1fM8JIiuJt4IuB1fD6uOWCfNQp2A63hZbwrLb1meNsd\n",
              "GV7nkoPeyg8qGjvETm4AcKSqBUe6MrzzxyRBp1Hjta7RGzRqFfKSIsURETwZpUGjVonDo7V1WhDX\n",
              "z+P/+uVhvL2lGH/76jCKll3QraShK8MLx7Boc/MScLiqGeeNTcaUjGHYW96IVzYew73n5CE3KRK7\n",
              "HpnPRM0gMOAlRXCeWtgqkXF4/YXHRyIbgRleSeptWDIxwxuqc1neW/nBya563RHx4bjhjEw89ukB\n",
              "cV1eciRSYkKxo7gO1U1G3DJ7BM4Zk4TZf/3OpQ39Cddr0WHqdDtJRnfbi+rEn+vbTGJNMgC0d8vw\n",
              "qqDCGzdOd1l2wYRkLJ6TjWFhts/PYHdwGPCSIribaS1Qxw6/DUvGbmtELuzfiYDf3SEXoWJJQ+81\n",
              "vI1O9au9TRLRYrSXQGhx06wRGJkQgT+u2Yv0YWGIjzAgPsKAT+6c5fKctxadhr1lTZiYFu1hWzVA\n",
              "K1xGf+iNfQQIACiqca0lbu+lhteZSqVCbLhn4w9T/xjwkiK4ljRIIxCUSjuIlMIefzBTJi1hOsfo\n",
              "B86auwLeqBAdTjU7xtfVa91neO0Bb0TXEGZz8hKw6Q9n9vneZ41Owlmjkzxuq31osjZj/xles1N5\n",
              "hb0jWkZsGErq2npkeBVywzGg2GmNFEGjcnRaU8r0oqzhJXLlGIc3uL/7chNucF/S0NTuKGmwz4gG\n",
              "2C5Y1uwqx4RHv8LdH+7CzyX1sFgFsQQiwqB1eexQXuCEGXqfBrk7k0uG1xbwjk2JAmAraRAEpj38\n",
              "iRleUgS3JQ2Baou/34/ndgpS3oYL1gCXM5F7/ZU0RIVoXTqjWa0C3vqhCM1GM/63+yT+t/skEiIN\n",
              "OC1zGAAgwuBa8zuUeutg545zhvflDccAAONSo/Dl/kpxaLNAz/ypJMzwkiLYMzq2cXiV0VObmQMK\n",
              "VgOed4IzrUmS2GnN1EuntRAdOs2ObGltayf2lDUCAH45MQWAbVa1L/ZVAvB8VraBtdV9cO6Oc1ba\n",
              "bnJGjPiz8+cN9vORFDDDS4pgH6VBEOCU4Q3w1MJ+ikhZr0hkI5VpxcmVfXzbVqP7qYUjQ7QuAa/d\n",
              "pPQYvHTNVPzxgnac9/wmNHeYERuux7ljPa/J9ZYjw9uzpOGZrw7jna3FGJ8ajekjYnu0+bxxSfhF\n",
              "Tjz0WjU6zVa0dZpZeuZHDHhJEdTOJQ3dlgUtHkiJXLCGV5rCu2pu+xqWzF229KxRiQCA1JhQbF16\n",
              "NowmC2LD9T69oOkrw/vV/ko0d5ix9Xgtth6vdVkXF67HK9dNg0qlQpheg06zFbP/+h2mZdjKMAKd\n",
              "gFECljSQItg7qFmcxuENXBGvv6cWJgpO3k88Yfs/6C92ZUbMmnZ15LJzHpas003Ae/aYRPHnCIMW\n",
              "cREGn2fvw/XuR5QAAKObLLTdHfNGim3Ljg8HYNt/d56ot72uwbtpisl7zPCSIrgMS6aQkgb2/yVy\n",
              "JXCmNUkK7QoiLVYBnRYrDFrb7841vN0zvElRBoxLjfJvQ+EUnLsZlsxewvDr6en4945Sl3WJUSHi\n",
              "z8sXzcDByia0dZpx4GQTals7ceaoRJBvMeAlRbBndJyzB0o56Snlc5JyDPRilSUN0mQfhxewBZIG\n",
              "rQYWqyCOq+uuhndeXmJAarHDDK4lDTuK65A2LBQp0aFiFnpOXkLPgDfSIP4cHaZDfrZtYmJvxgCm\n",
              "wWHAS4pgP8GZrUKPZf7GUy1RYDhmWeS3UEq0GrWjI5fJgmEAWpym4Y3sNkoDAMwdleDnVtrYM7yr\n",
              "fi5DdKgOb/1QhKy4MKy/by6MXaMujEuNQly4HrWtneLznANeCgyvang7Ojpw6aWXIi8vD5MmTcL8\n",
              "+fNRWFgIAKiursaCBQuQm5uL8ePHY9OmTeLz/L2OqDvnYcnsgv2Ux96/RK6sHJZMssShyTrNEAQB\n",
              "PxbZOn2F6GzBsPM4vHqNGrNz4wPSzuhQxxi/b/1QBAAorm1D7h+/QGtX1jdUpxEzuHbOJQ0UGF53\n",
              "Wlu8eDEOHz6M3bt345JLLsEtt9wCAFiyZAny8/Nx9OhRLF++HNdccw1MJlNA1hF1p+7a010C3gCf\n",
              "9PwVjwa6VpnIV7z9Djk6rfE7ITX2soa2Tgve/L4Ii9/7CYBjEgnnTmtf/b85iAzx3eQSfZk/NgnX\n",
              "52fivHFJGJsShZEJ4eI6vVaNhTPSkRBpwOnZsS7Pc579jQLDq79ASEgILrjgAvH3/Px8PPPMMwCA\n",
              "lStXitne6dOnIzU1FRs3bsQ555zj93VE3YkZXuca3iAPBJngpWA12IkngvubL0/2jmvPrjuC7UV1\n",
              "4vLJ6TEAgNm58dh8tAYjE8IxIj7c3Uv4RZhei8cvHS/+brEKWPVzGUJ1Gpw5OlEMbLtneCnwBnXJ\n",
              "8cILL+CSSy5BbW0tTCYTkpOTxXVZWVkoKSnx+zp3jEYjjEajyzKLpf9ZUih4uC1pCNCgfP5OLjGZ\n",
              "RWRjZQ2vZEV1lQpsPHIKADBjRCz+8espiA3XAwCe/9VkfLi9BFdOSw9YG93RqFW4+rSebcpNjAhA\n",
              "a6gvAw54n3zySRQWFuKbb75Be3v7ULZpyC1btgyPPfaYy7L8/PwAtYYCwV2ntUCf8gQfF9n6+vWJ\n",
              "5IZTC0vXffPz8PFPZciIDcOo5EicMyYJIU6jN8RFGHDXWbkBbKF3VCoV5o9NwvoDVVg0MyvQzSEM\n",
              "MOB95plnsHr1anz99dcICwtDWFgYtFotKisrxaxrcXExMjIyEBcX59d17ixduhT33Xefy7JHHnlk\n",
              "IB+dZEoj1vA66sCCKcsjCEKvnyd4PiWRq4FPPMFvhdTMzk3A7NzAjLzgK6/fcBpMFit0Gs7xJQVe\n",
              "/xWee+45fPjhh1i/fj1iYmLE5VdddRVeeeUVAMCOHTtQXl6OuXPnBmRddwaDAVFRUS7/NBrOaqIk\n",
              "KrGkwWlZoNoyxK/32Kf7ccayb1Hd3IFvD1Vh2RcHUdnYwRpeom7EDC/jD/ITBrvS4VWGt6ysDL//\n",
              "/e+RnZ2NM888E4AtmPzxxx/x9NNP4/rrr0dubi70ej1WrFgBnc5Wk+PvdUTdacSA1xHxBkuWZ/kP\n",
              "xQCApz4/hILSBhyvacWrG4+L6+2dQYiCxUC/uWINL+97ECmOVwFvWlpar3WBSUlJWLdunSTWEXVn\n",
              "z+iYg3hYsh+L6lDe0LOePkzP4XCIAMd024H+7hOR/zHXTopgL2mwWoP3Rr+7YBew9SImIsB+gydY\n",
              "7u4QkecY8JIiaNyNwxugc95Qd5aLj9C7/D5+eBRmjIjt5dFEwUPw8j6JY6Y1BrxESsOAlxRBHIfX\n",
              "aXrKQJ/0hmrUMOdOEcNjQvHJnbPw5GXjEa7XYG5ecPV6JgIGM/GE7X/e9CBSHhb3kSLYT3BSGoe3\n",
              "P6t/LsPzXx/FqWYjpmUOw/eFNcjPjsWV09IxIysWGXFhAFwn03hgwSjoNGrkJEZiy5KzEWZghzUi\n",
              "O3uGV/JffiIacgx4SRHUajczrQUow+vpuz7/9VGU1LUBAL4vrAEAbDteh23HbdNurrj5dKhVQHWz\n",
              "bRbBL+6ZjTEpUeLzo8M4agmRM/u3P9B3d4jI/xjwkiKo3dXwBqoxHuo023rYnDkqAVVNRhyoaMLw\n",
              "mFCcbGyHIADXvfmj+NjIEC1SokMC1VSiwPB64gnW8BIpFQNeUgR7SYNzDW/gz3l9n63tJ+f7zxuF\n",
              "MclRKKptRXZ8OJqNZlz84vcorrVlf68+LQ33npOHmDB9Xy9HpHis4SVSLga8pAj2kgazFEoaPHxb\n",
              "e8CrUaugVqswMiECABAVosN398/DrtIGCAIwLXOYr5pKJEkDnTjC/p0KpmnFicgzDHhJEbqXNMjh\n",
              "fGevN3Z3+1WlUmFqBgNdIm9YZfT9J6KhxWHJSBE03SaekMP5zirefpVDa4mkT+B3ikixGPCSIqi6\n",
              "DUsmhRNef+PwWsW2+qExRDLS/fvsKdbwEikXA15ShO4BbiDjXU/rD51reInIwd5Bs6Hd5NXzOEoD\n",
              "kXKxhpcUoXvQONBOL/5k4cmZyK3YcNsY0/WtnT3WFde04lSLEaV1bUiINGB2rmO2QetQTW9IRLLD\n",
              "gJcUoUeSVAIxZH+nXqttGF5xhAkisrFneOvbHAGvIAhYf6AKi9/7yeWxe/90LiJDbAEy6+KJlIsB\n",
              "LylC92GIAhpDejssGU/ORC5i7QFvaydK69pw70cF+OlEPQzanlV6G4+cQlZcOMakRDlqeFnMR6Q4\n",
              "DHhJEWRd0sCTM5GLYeG2gLe104LZf/1OXG7smp3Q2V0f7AIAjEmJQk2LbRpuZniJlIenUlKE7hld\n",
              "qZ/vBEHgEEpEvYgK8T5Xc7CiCQCg06gQG85ZCYmUhhleUoQeozQEqB3O+uo/4zzaEksaiFz1NlNa\n",
              "dkI4RiZEoLSuDYcqmzE2JQo5iRGYljkMJosVoXoNJqXFID7C4OcWE1GgMeAlReje8SuQWVP7O9e1\n",
              "9exhDgDrD1S59D5npzWinq49PQPv/1iCuXkJaO4w4f5zR2FmTjwAoNVoRnlDO/KSIgPcSiKSCga8\n",
              "pAhSGqWhxWgGADyyZh+y4sJchk3aVVKPW9/d6fJ4xrtEPf3lsgl44tLxbrO94QYtg10icsEaXlKE\n",
              "7mUBgYwhnesHD1c2iz+fbGjHZS9v6fF4TjxB5F5vpQ1ERN0x4CVF6H5iDOSJ8u6zc8Wf2zot4s97\n",
              "yhp6PFajVkGn4deUiIhoMHgmJUXoniQNZNJ0elYsfjNrBACgqd0EQRDwQ2ENXtt0vMdjp2UMY8BL\n",
              "REQ0SKzhJUXoMQ5vgG+Fjkmx1ReuO1CFkro2rDtQ5fZxc0cluF1OREREnmPqiBShR0lDgNphd8GE\n",
              "FITpNWKwq1WrcOaoBCw9fzTe/c0MJEeFIDZcj4snpQa4pURERPLHDC8pgtQmngg3aHFdfiZe23Qc\n",
              "c/MSsPSC0RidHCWu37r0LACBz0QTEREFAwa8pAhSK2kAgCULRuP2uSPdzvokhfYREREFC5Y0kCJI\n",
              "caY1tZpTnBIREfkDA15ShO4JUyZQiYiIlMOrgPfuu+9GVlYWVCoVCgoKxOVHjx7FzJkzkZeXh+nT\n",
              "p2P//v0BW0fkjk6tRmKkQfw9JTo0gK0hIiIif/Iq4L3yyivx/fffIzMz02X5bbfdhsWLF+PIkSN4\n",
              "8MEHsWjRooCtI3JHrVbhf3f9Aq9dPw2vXj8Nby2aHugmERERkZ+oBEEQvH1SVlYW1qxZg8mTJ6O6\n",
              "uho5OTmoq6uDVquFIAhISUnB999/j6ioKL+uy8nJ8fgz3HfffXjuuee8/ehEREREJDODHqWhtLQU\n",
              "KSkp0GptL6VSqZCRkYGSkhJER0f7dV1vAa/RaITRaHRZZrFY3D6WiIiIiIKLIjqtLVu2DNHR0S7/\n",
              "tm/fHuhmEREREZEfDDrgTU9PR0VFBcxmMwBAEASUlJQgIyPD7+t6s3TpUjQ2Nrr8mzFjxmA/OhER\n",
              "ERHJwKAD3sTEREydOhUrVqwAAKxatQppaWnIycnx+7reGAwGREVFufzTaDSD/ehEREREJANedVq7\n",
              "7bbbsHbtWlRWViIuLg6RkZEoLCzE4cOHsWjRItTW1iIqKgrLly/HhAkTAMDv6zzFTmtEREREyjCg\n",
              "URqCAQNeIiIiImVQRKc1IiIiIlIuBrxEREREFNQY8BIRERFRUGPAS0RERERBjQEvEREREQU1xY7S\n",
              "cPnllyMrK8sv72WxWLB9+3bMmDGD4/+6we3TP26jvnH79I/bqG/cPv3jNuobt0//BrKNMjMzcc89\n",
              "9wz6vRUb8PpTU1MToqOj0djYiKioqEA3R3K4ffrHbdQ3bp/+cRv1jdunf9xGfeP26V8gtxFLGoiI\n",
              "iIgoqDHgJSIiIqKgxoCXiIiIiIIaA14/MBgMePTRR2EwGALdFEni9ukft1HfuH36x23UN26f/nEb\n",
              "9Y3bp3+B3EbstEZEREREQY0ZXiIiIiIKagx4iYiIiCioMeAlIiIioqDGgNfHjh49ipkzZyIvLw/T\n",
              "p0/H/v37A90kn+jo6MCll16KvLw8TJo0CfPnz0dhYSEAoLq6GgsWLEBubi7Gjx+PTZs2ic/zxTqp\n",
              "W758OVQqFdasWQOA28eZ0WjEXXfdhdzcXEyYMAHXXXcdgL6/R75YJ1Wff/45pk6dismTJ2P8+PF4\n",
              "5513ACh3H7r77ruRlZUFlUqFgoICcbm/9xcp70vutlFfx2tAWftTb/uQXffjNaCs7QP0vo16O14D\n",
              "Ev2eCeRTZ555prB8+XJBEAThP//5j3DaaacFtkE+0t7eLqxdu1awWq2CIAjCiy++KMydO1cQBEG4\n",
              "6aabhEcffVQQBEHYvn27MHz4cKGzs9Nn66SsqKhIOOOMM4T8/Hzhk08+EQSB28fZvffeK9x1113i\n",
              "flRRUSEIQt/fI1+skyKr1SoMGzZM2L17tyAItn3JYDAITU1Nit2HNm7cKJSWlgqZmZnCrl27xOX+\n",
              "3l+kvC+520Z9Ha8FQVnHpN72IUFwf7wWBGVtH0HofRv1drwWBGl+zxjw+lBVVZUQGRkpmEwmQRBs\n",
              "J6ykpCTh6NGjAW6Z7+3YsUPIzMwUBEEQwsPDXb4I06dPF9avX++zdVJlsViEs88+W9i5c6cwd+5c\n",
              "8QDK7WPT0tIiREZGCo2NjS7L+/oe+WKdVFmtViE2NlbYuHGjIAiCsHv3biE1NVUwGo2K34ecT8T+\n",
              "3l/ksi+5C+jsnI/XgqDMY1L37dPb8VoQlLl9BMF1G/V2vBYE6R6zWdLgQ6WlpUhJSYFWqwUAqFQq\n",
              "ZGRkoKSkJMAt870XXngBl1xyCWpra2EymZCcnCyuy8rKQklJiU/WSdlzzz2HWbNmYdq0aeIybh+H\n",
              "Y8eOITY2Fk8++SROO+00zJ49G998802f3yNfrJMqlUqFjz76CJdffjkyMzPxi1/8Au+88w6am5u5\n",
              "Dznx9/4ix32pO/vxGuAxyc7d8Rrg9rHr7XgN+P876CntUG4AIgB48sknUVhYiG+++Qbt7e2Bbo4k\n",
              "7Nu3D6tWrZJUXZbUmM1mnDhxAmPHjsVTTz2FXbt2Yf78+Vi7dm2gmyYJZrMZTzzxBFavXo05c+Zg\n",
              "x44duPjii93WHRJ5yvl4TTY8Xvevt+O1lOrXu2OG14fS09NRUVEBs9kMABAEASUlJcjIyAhwy3zn\n",
              "mWeewerVq/HFF18gLCwMcXFx0Gq1qKysFB9TXFyMjIwMn6yTqs2bN6O4uBi5ubnIysrCtm3bsHjx\n",
              "YqxcuZLbp0tGRgbUajWuvfZaAMCUKVMwYsQInDhxotfvUV/fsYGuk6qCggKcPHkSc+bMAQBMnz4d\n",
              "aWlp2LNnD/chJ77YJ4JtX7LrfrwGwGM2ej9e/+tf/+L26dLb8Xrv3r3S/Z55V8FB3po7d65LkfW0\n",
              "adMC2yAfevbZZ4WpU6cKdXV1LstvvPFGl2L81NRUsRjfF+vkwLkmjNvHYf78+cLatWsFQRCE48eP\n",
              "C3FxcUJZWVmf3yNfrJOiyspKISIiQjhw4IAgCIJw9OhRYdiwYcKJEycUvw91r7/09/4ih32p+zbq\n",
              "7XgtCMo8JvVV49y9hleJ20cQem6j3o7XgiDN7xkDXh87dOiQkJ+fL+Tm5grTpk0T9uzZE+gm+URp\n",
              "aakAQMjOzhYmTZokTJo0SZgxY4YgCLYT9fz584WcnBxh7Nixwrfffis+zxfr5MD5AMrt43Ds2DFh\n",
              "3rx5wvjx44WJEycKH3/8sSAIfX+PfLFOqj744ANx24wfP154//33BUFQ7j60ePFiYfjw4YJGoxES\n",
              "ExOFkSNHCoLg//1FyvuSu23U1/FaEJS1P/W2DznrHvAqafsIQu/bqLfjtSBI83umEgRBGLIcNxER\n",
              "ERGRxLCGl4iIiIiCGgNeIiIiIgpqDHiJiIiIKKgx4CUiIiKioMaAl4iIiIiCGgNeIiIiIgpqDHiJ\n",
              "iIiIKKgx4CUiIiKioMaAl4iIiIiCGgNeIiIiIgpqDHiJiIiIKKj9f8uzbh7urDCeAAAAAElFTkSu\n",
              "QmCC\n",
              "\">\n",
              "      </div>\n",
              "      <script type=\"text/javascript\">\n",
              "        (() => {\n",
              "          const chartElement = document.getElementById(\"chart-cc0f792f-b8be-4f6c-975a-21b802b1f28e\");\n",
              "          async function getCodeForChartHandler(event) {\n",
              "            const chartCodeResponse =  await google.colab.kernel.invokeFunction(\n",
              "                'getCodeForChart', [\"chart-cc0f792f-b8be-4f6c-975a-21b802b1f28e\"], {});\n",
              "            const responseJson = chartCodeResponse.data['application/json'];\n",
              "            await google.colab.notebook.addCell(responseJson.code, 'code');\n",
              "          }\n",
              "          chartElement.onclick = getCodeForChartHandler;\n",
              "        })();\n",
              "      </script>\n",
              "      <style>\n",
              "        .colab-quickchart-chart-with-code  {\n",
              "            display: block;\n",
              "            float: left;\n",
              "            border: 1px solid transparent;\n",
              "        }\n",
              "\n",
              "        .colab-quickchart-chart-with-code:hover {\n",
              "            cursor: pointer;\n",
              "            border: 1px solid #aaa;\n",
              "        }\n",
              "      </style>"
            ]
          },
          "metadata": {}
        }
      ]
    },
    {
      "cell_type": "code",
      "source": [
        "# Import necessary libraries\n",
        "import pandas as pd\n",
        "from google.colab import files\n",
        "\n",
        "# Step 1: Load the CSV data\n",
        "file_path = '/content/pincodes_all.csv'  # Update this to the correct file path if needed\n",
        "data = pd.read_csv(file_path, encoding='latin-1')  # Changed encoding to latin-1\n",
        "\n",
        "# Step 2: Filter the dataset for \"Head Office\" (HO) office types, which might correspond to \"GPO\"\n",
        "gpo_offices = data[data['OfficeType'] == 'GPO']\n",
        "\n",
        "# Step 3: Display the relevant columns for GPO-like entries (just for visualization)\n",
        "print(gpo_offices[['Office Name', 'Pincode', 'OfficeType']])\n",
        "\n",
        "# Step 4: Save the filtered data to a CSV file\n",
        "output_file_path = '/content/gpo_offices.csv'  # File path in the current environment\n",
        "gpo_offices.to_csv(output_file_path, index=False)\n",
        "\n",
        "# Step 5: Download the saved file\n",
        "files.download(output_file_path)\n"
      ],
      "metadata": {
        "colab": {
          "base_uri": "https://localhost:8080/",
          "height": 72
        },
        "id": "i7FI5B6G_Lgf",
        "outputId": "f14806ec-d2b8-4fc8-83f6-f986b9a640a8"
      },
      "execution_count": null,
      "outputs": [
        {
          "output_type": "stream",
          "name": "stdout",
          "text": [
            "Empty DataFrame\n",
            "Columns: [Office Name, Pincode, OfficeType]\n",
            "Index: []\n"
          ]
        },
        {
          "output_type": "display_data",
          "data": {
            "text/plain": [
              "<IPython.core.display.Javascript object>"
            ],
            "application/javascript": [
              "\n",
              "    async function download(id, filename, size) {\n",
              "      if (!google.colab.kernel.accessAllowed) {\n",
              "        return;\n",
              "      }\n",
              "      const div = document.createElement('div');\n",
              "      const label = document.createElement('label');\n",
              "      label.textContent = `Downloading \"${filename}\": `;\n",
              "      div.appendChild(label);\n",
              "      const progress = document.createElement('progress');\n",
              "      progress.max = size;\n",
              "      div.appendChild(progress);\n",
              "      document.body.appendChild(div);\n",
              "\n",
              "      const buffers = [];\n",
              "      let downloaded = 0;\n",
              "\n",
              "      const channel = await google.colab.kernel.comms.open(id);\n",
              "      // Send a message to notify the kernel that we're ready.\n",
              "      channel.send({})\n",
              "\n",
              "      for await (const message of channel.messages) {\n",
              "        // Send a message to notify the kernel that we're ready.\n",
              "        channel.send({})\n",
              "        if (message.buffers) {\n",
              "          for (const buffer of message.buffers) {\n",
              "            buffers.push(buffer);\n",
              "            downloaded += buffer.byteLength;\n",
              "            progress.value = downloaded;\n",
              "          }\n",
              "        }\n",
              "      }\n",
              "      const blob = new Blob(buffers, {type: 'application/binary'});\n",
              "      const a = document.createElement('a');\n",
              "      a.href = window.URL.createObjectURL(blob);\n",
              "      a.download = filename;\n",
              "      div.appendChild(a);\n",
              "      a.click();\n",
              "      div.remove();\n",
              "    }\n",
              "  "
            ]
          },
          "metadata": {}
        },
        {
          "output_type": "display_data",
          "data": {
            "text/plain": [
              "<IPython.core.display.Javascript object>"
            ],
            "application/javascript": [
              "download(\"download_20b97270-f27a-4093-89b3-90d8f8fa0b91\", \"gpo_offices.csv\", 97)"
            ]
          },
          "metadata": {}
        }
      ]
    },
    {
      "cell_type": "code",
      "source": [
        "# Import necessary libraries\n",
        "import pandas as pd\n",
        "from google.colab import files\n",
        "\n",
        "# Step 1: Load the CSV data\n",
        "file_path = '/content/pincodes_all.csv'  # Update this to the correct file path if needed\n",
        "data = pd.read_csv(file_path, encoding='latin-1')  # Changed encoding to latin-1\n",
        "\n",
        "# Step 2: Group data by 'Region Name' and 'OfficeType'\n",
        "regions = data['Region Name'].unique()  # Get unique regions\n",
        "office_types = ['HO', 'SO', 'BO']  # Define office types\n",
        "\n",
        "# Step 3: Iterate over each region and office type, and save separate CSVs\n",
        "for region in regions:\n",
        "    for office_type in office_types:\n",
        "        # Filter data for specific region and office type\n",
        "        regional_offices = data[(data['Region Name'] == region) & (data['OfficeType'] == office_type)]\n",
        "\n",
        "        # If there are no records, skip\n",
        "        if regional_offices.empty:\n",
        "            continue\n",
        "\n",
        "        # Create a filename based on region and office type\n",
        "        file_name = f\"{region}_{office_type}_offices.csv\".replace(\" \", \"_\")  # Replace spaces with underscores for file names\n",
        "\n",
        "        # Save the filtered data to CSV\n",
        "        output_file_path = f'/content/{file_name}'\n",
        "        regional_offices.to_csv(output_file_path, index=False)\n",
        "\n",
        "        # Download the CSV file\n",
        "        files.download(output_file_path)\n",
        "\n",
        "        # Print a message to confirm\n",
        "        print(f\"Downloaded {file_name}\")\n",
        "\n"
      ],
      "metadata": {
        "colab": {
          "base_uri": "https://localhost:8080/",
          "height": 1000
        },
        "id": "PxI_nYLwCdIw",
        "outputId": "e0e5cddd-0eb6-4ae5-8674-5879b9358a75"
      },
      "execution_count": null,
      "outputs": [
        {
          "output_type": "display_data",
          "data": {
            "text/plain": [
              "<IPython.core.display.Javascript object>"
            ],
            "application/javascript": [
              "\n",
              "    async function download(id, filename, size) {\n",
              "      if (!google.colab.kernel.accessAllowed) {\n",
              "        return;\n",
              "      }\n",
              "      const div = document.createElement('div');\n",
              "      const label = document.createElement('label');\n",
              "      label.textContent = `Downloading \"${filename}\": `;\n",
              "      div.appendChild(label);\n",
              "      const progress = document.createElement('progress');\n",
              "      progress.max = size;\n",
              "      div.appendChild(progress);\n",
              "      document.body.appendChild(div);\n",
              "\n",
              "      const buffers = [];\n",
              "      let downloaded = 0;\n",
              "\n",
              "      const channel = await google.colab.kernel.comms.open(id);\n",
              "      // Send a message to notify the kernel that we're ready.\n",
              "      channel.send({})\n",
              "\n",
              "      for await (const message of channel.messages) {\n",
              "        // Send a message to notify the kernel that we're ready.\n",
              "        channel.send({})\n",
              "        if (message.buffers) {\n",
              "          for (const buffer of message.buffers) {\n",
              "            buffers.push(buffer);\n",
              "            downloaded += buffer.byteLength;\n",
              "            progress.value = downloaded;\n",
              "          }\n",
              "        }\n",
              "      }\n",
              "      const blob = new Blob(buffers, {type: 'application/binary'});\n",
              "      const a = document.createElement('a');\n",
              "      a.href = window.URL.createObjectURL(blob);\n",
              "      a.download = filename;\n",
              "      div.appendChild(a);\n",
              "      a.click();\n",
              "      div.remove();\n",
              "    }\n",
              "  "
            ]
          },
          "metadata": {}
        },
        {
          "output_type": "display_data",
          "data": {
            "text/plain": [
              "<IPython.core.display.Javascript object>"
            ],
            "application/javascript": [
              "download(\"download_5661d23c-fe73-4802-93cf-55f48ed2e278\", \"Kurnool_Region_HO_offices.csv\", 1993)"
            ]
          },
          "metadata": {}
        },
        {
          "output_type": "stream",
          "name": "stdout",
          "text": [
            "Downloaded Kurnool_Region_HO_offices.csv\n"
          ]
        },
        {
          "output_type": "display_data",
          "data": {
            "text/plain": [
              "<IPython.core.display.Javascript object>"
            ],
            "application/javascript": [
              "\n",
              "    async function download(id, filename, size) {\n",
              "      if (!google.colab.kernel.accessAllowed) {\n",
              "        return;\n",
              "      }\n",
              "      const div = document.createElement('div');\n",
              "      const label = document.createElement('label');\n",
              "      label.textContent = `Downloading \"${filename}\": `;\n",
              "      div.appendChild(label);\n",
              "      const progress = document.createElement('progress');\n",
              "      progress.max = size;\n",
              "      div.appendChild(progress);\n",
              "      document.body.appendChild(div);\n",
              "\n",
              "      const buffers = [];\n",
              "      let downloaded = 0;\n",
              "\n",
              "      const channel = await google.colab.kernel.comms.open(id);\n",
              "      // Send a message to notify the kernel that we're ready.\n",
              "      channel.send({})\n",
              "\n",
              "      for await (const message of channel.messages) {\n",
              "        // Send a message to notify the kernel that we're ready.\n",
              "        channel.send({})\n",
              "        if (message.buffers) {\n",
              "          for (const buffer of message.buffers) {\n",
              "            buffers.push(buffer);\n",
              "            downloaded += buffer.byteLength;\n",
              "            progress.value = downloaded;\n",
              "          }\n",
              "        }\n",
              "      }\n",
              "      const blob = new Blob(buffers, {type: 'application/binary'});\n",
              "      const a = document.createElement('a');\n",
              "      a.href = window.URL.createObjectURL(blob);\n",
              "      a.download = filename;\n",
              "      div.appendChild(a);\n",
              "      a.click();\n",
              "      div.remove();\n",
              "    }\n",
              "  "
            ]
          },
          "metadata": {}
        },
        {
          "output_type": "display_data",
          "data": {
            "text/plain": [
              "<IPython.core.display.Javascript object>"
            ],
            "application/javascript": [
              "download(\"download_57b3bda2-6527-48ce-9357-1082f32668a9\", \"Kurnool_Region_SO_offices.csv\", 56055)"
            ]
          },
          "metadata": {}
        },
        {
          "output_type": "stream",
          "name": "stdout",
          "text": [
            "Downloaded Kurnool_Region_SO_offices.csv\n"
          ]
        },
        {
          "output_type": "display_data",
          "data": {
            "text/plain": [
              "<IPython.core.display.Javascript object>"
            ],
            "application/javascript": [
              "\n",
              "    async function download(id, filename, size) {\n",
              "      if (!google.colab.kernel.accessAllowed) {\n",
              "        return;\n",
              "      }\n",
              "      const div = document.createElement('div');\n",
              "      const label = document.createElement('label');\n",
              "      label.textContent = `Downloading \"${filename}\": `;\n",
              "      div.appendChild(label);\n",
              "      const progress = document.createElement('progress');\n",
              "      progress.max = size;\n",
              "      div.appendChild(progress);\n",
              "      document.body.appendChild(div);\n",
              "\n",
              "      const buffers = [];\n",
              "      let downloaded = 0;\n",
              "\n",
              "      const channel = await google.colab.kernel.comms.open(id);\n",
              "      // Send a message to notify the kernel that we're ready.\n",
              "      channel.send({})\n",
              "\n",
              "      for await (const message of channel.messages) {\n",
              "        // Send a message to notify the kernel that we're ready.\n",
              "        channel.send({})\n",
              "        if (message.buffers) {\n",
              "          for (const buffer of message.buffers) {\n",
              "            buffers.push(buffer);\n",
              "            downloaded += buffer.byteLength;\n",
              "            progress.value = downloaded;\n",
              "          }\n",
              "        }\n",
              "      }\n",
              "      const blob = new Blob(buffers, {type: 'application/binary'});\n",
              "      const a = document.createElement('a');\n",
              "      a.href = window.URL.createObjectURL(blob);\n",
              "      a.download = filename;\n",
              "      div.appendChild(a);\n",
              "      a.click();\n",
              "      div.remove();\n",
              "    }\n",
              "  "
            ]
          },
          "metadata": {}
        },
        {
          "output_type": "display_data",
          "data": {
            "text/plain": [
              "<IPython.core.display.Javascript object>"
            ],
            "application/javascript": [
              "download(\"download_6123bdfc-6c54-4305-9cd8-9f8bdceac782\", \"Kurnool_Region_BO_offices.csv\", 363835)"
            ]
          },
          "metadata": {}
        },
        {
          "output_type": "stream",
          "name": "stdout",
          "text": [
            "Downloaded Kurnool_Region_BO_offices.csv\n"
          ]
        },
        {
          "output_type": "display_data",
          "data": {
            "text/plain": [
              "<IPython.core.display.Javascript object>"
            ],
            "application/javascript": [
              "\n",
              "    async function download(id, filename, size) {\n",
              "      if (!google.colab.kernel.accessAllowed) {\n",
              "        return;\n",
              "      }\n",
              "      const div = document.createElement('div');\n",
              "      const label = document.createElement('label');\n",
              "      label.textContent = `Downloading \"${filename}\": `;\n",
              "      div.appendChild(label);\n",
              "      const progress = document.createElement('progress');\n",
              "      progress.max = size;\n",
              "      div.appendChild(progress);\n",
              "      document.body.appendChild(div);\n",
              "\n",
              "      const buffers = [];\n",
              "      let downloaded = 0;\n",
              "\n",
              "      const channel = await google.colab.kernel.comms.open(id);\n",
              "      // Send a message to notify the kernel that we're ready.\n",
              "      channel.send({})\n",
              "\n",
              "      for await (const message of channel.messages) {\n",
              "        // Send a message to notify the kernel that we're ready.\n",
              "        channel.send({})\n",
              "        if (message.buffers) {\n",
              "          for (const buffer of message.buffers) {\n",
              "            buffers.push(buffer);\n",
              "            downloaded += buffer.byteLength;\n",
              "            progress.value = downloaded;\n",
              "          }\n",
              "        }\n",
              "      }\n",
              "      const blob = new Blob(buffers, {type: 'application/binary'});\n",
              "      const a = document.createElement('a');\n",
              "      a.href = window.URL.createObjectURL(blob);\n",
              "      a.download = filename;\n",
              "      div.appendChild(a);\n",
              "      a.click();\n",
              "      div.remove();\n",
              "    }\n",
              "  "
            ]
          },
          "metadata": {}
        },
        {
          "output_type": "display_data",
          "data": {
            "text/plain": [
              "<IPython.core.display.Javascript object>"
            ],
            "application/javascript": [
              "download(\"download_bcbb46c1-a7f4-44ab-9264-d19e427e65c3\", \"Vijayawada_Region_HO_offices.csv\", 3110)"
            ]
          },
          "metadata": {}
        },
        {
          "output_type": "stream",
          "name": "stdout",
          "text": [
            "Downloaded Vijayawada_Region_HO_offices.csv\n"
          ]
        },
        {
          "output_type": "display_data",
          "data": {
            "text/plain": [
              "<IPython.core.display.Javascript object>"
            ],
            "application/javascript": [
              "\n",
              "    async function download(id, filename, size) {\n",
              "      if (!google.colab.kernel.accessAllowed) {\n",
              "        return;\n",
              "      }\n",
              "      const div = document.createElement('div');\n",
              "      const label = document.createElement('label');\n",
              "      label.textContent = `Downloading \"${filename}\": `;\n",
              "      div.appendChild(label);\n",
              "      const progress = document.createElement('progress');\n",
              "      progress.max = size;\n",
              "      div.appendChild(progress);\n",
              "      document.body.appendChild(div);\n",
              "\n",
              "      const buffers = [];\n",
              "      let downloaded = 0;\n",
              "\n",
              "      const channel = await google.colab.kernel.comms.open(id);\n",
              "      // Send a message to notify the kernel that we're ready.\n",
              "      channel.send({})\n",
              "\n",
              "      for await (const message of channel.messages) {\n",
              "        // Send a message to notify the kernel that we're ready.\n",
              "        channel.send({})\n",
              "        if (message.buffers) {\n",
              "          for (const buffer of message.buffers) {\n",
              "            buffers.push(buffer);\n",
              "            downloaded += buffer.byteLength;\n",
              "            progress.value = downloaded;\n",
              "          }\n",
              "        }\n",
              "      }\n",
              "      const blob = new Blob(buffers, {type: 'application/binary'});\n",
              "      const a = document.createElement('a');\n",
              "      a.href = window.URL.createObjectURL(blob);\n",
              "      a.download = filename;\n",
              "      div.appendChild(a);\n",
              "      a.click();\n",
              "      div.remove();\n",
              "    }\n",
              "  "
            ]
          },
          "metadata": {}
        },
        {
          "output_type": "display_data",
          "data": {
            "text/plain": [
              "<IPython.core.display.Javascript object>"
            ],
            "application/javascript": [
              "download(\"download_3f2374cc-a10d-4930-8b02-d86e106a8fca\", \"Vijayawada_Region_SO_offices.csv\", 78811)"
            ]
          },
          "metadata": {}
        },
        {
          "output_type": "stream",
          "name": "stdout",
          "text": [
            "Downloaded Vijayawada_Region_SO_offices.csv\n"
          ]
        },
        {
          "output_type": "display_data",
          "data": {
            "text/plain": [
              "<IPython.core.display.Javascript object>"
            ],
            "application/javascript": [
              "\n",
              "    async function download(id, filename, size) {\n",
              "      if (!google.colab.kernel.accessAllowed) {\n",
              "        return;\n",
              "      }\n",
              "      const div = document.createElement('div');\n",
              "      const label = document.createElement('label');\n",
              "      label.textContent = `Downloading \"${filename}\": `;\n",
              "      div.appendChild(label);\n",
              "      const progress = document.createElement('progress');\n",
              "      progress.max = size;\n",
              "      div.appendChild(progress);\n",
              "      document.body.appendChild(div);\n",
              "\n",
              "      const buffers = [];\n",
              "      let downloaded = 0;\n",
              "\n",
              "      const channel = await google.colab.kernel.comms.open(id);\n",
              "      // Send a message to notify the kernel that we're ready.\n",
              "      channel.send({})\n",
              "\n",
              "      for await (const message of channel.messages) {\n",
              "        // Send a message to notify the kernel that we're ready.\n",
              "        channel.send({})\n",
              "        if (message.buffers) {\n",
              "          for (const buffer of message.buffers) {\n",
              "            buffers.push(buffer);\n",
              "            downloaded += buffer.byteLength;\n",
              "            progress.value = downloaded;\n",
              "          }\n",
              "        }\n",
              "      }\n",
              "      const blob = new Blob(buffers, {type: 'application/binary'});\n",
              "      const a = document.createElement('a');\n",
              "      a.href = window.URL.createObjectURL(blob);\n",
              "      a.download = filename;\n",
              "      div.appendChild(a);\n",
              "      a.click();\n",
              "      div.remove();\n",
              "    }\n",
              "  "
            ]
          },
          "metadata": {}
        },
        {
          "output_type": "display_data",
          "data": {
            "text/plain": [
              "<IPython.core.display.Javascript object>"
            ],
            "application/javascript": [
              "download(\"download_159456da-6e49-422f-9ac7-907e8f595de6\", \"Vijayawada_Region_BO_offices.csv\", 377731)"
            ]
          },
          "metadata": {}
        },
        {
          "output_type": "stream",
          "name": "stdout",
          "text": [
            "Downloaded Vijayawada_Region_BO_offices.csv\n"
          ]
        },
        {
          "output_type": "display_data",
          "data": {
            "text/plain": [
              "<IPython.core.display.Javascript object>"
            ],
            "application/javascript": [
              "\n",
              "    async function download(id, filename, size) {\n",
              "      if (!google.colab.kernel.accessAllowed) {\n",
              "        return;\n",
              "      }\n",
              "      const div = document.createElement('div');\n",
              "      const label = document.createElement('label');\n",
              "      label.textContent = `Downloading \"${filename}\": `;\n",
              "      div.appendChild(label);\n",
              "      const progress = document.createElement('progress');\n",
              "      progress.max = size;\n",
              "      div.appendChild(progress);\n",
              "      document.body.appendChild(div);\n",
              "\n",
              "      const buffers = [];\n",
              "      let downloaded = 0;\n",
              "\n",
              "      const channel = await google.colab.kernel.comms.open(id);\n",
              "      // Send a message to notify the kernel that we're ready.\n",
              "      channel.send({})\n",
              "\n",
              "      for await (const message of channel.messages) {\n",
              "        // Send a message to notify the kernel that we're ready.\n",
              "        channel.send({})\n",
              "        if (message.buffers) {\n",
              "          for (const buffer of message.buffers) {\n",
              "            buffers.push(buffer);\n",
              "            downloaded += buffer.byteLength;\n",
              "            progress.value = downloaded;\n",
              "          }\n",
              "        }\n",
              "      }\n",
              "      const blob = new Blob(buffers, {type: 'application/binary'});\n",
              "      const a = document.createElement('a');\n",
              "      a.href = window.URL.createObjectURL(blob);\n",
              "      a.download = filename;\n",
              "      div.appendChild(a);\n",
              "      a.click();\n",
              "      div.remove();\n",
              "    }\n",
              "  "
            ]
          },
          "metadata": {}
        },
        {
          "output_type": "display_data",
          "data": {
            "text/plain": [
              "<IPython.core.display.Javascript object>"
            ],
            "application/javascript": [
              "download(\"download_0e5250b5-9669-4cfc-94ad-238b63233e85\", \"Visakhapatnam_Region_HO_offices.csv\", 2118)"
            ]
          },
          "metadata": {}
        },
        {
          "output_type": "stream",
          "name": "stdout",
          "text": [
            "Downloaded Visakhapatnam_Region_HO_offices.csv\n"
          ]
        },
        {
          "output_type": "display_data",
          "data": {
            "text/plain": [
              "<IPython.core.display.Javascript object>"
            ],
            "application/javascript": [
              "\n",
              "    async function download(id, filename, size) {\n",
              "      if (!google.colab.kernel.accessAllowed) {\n",
              "        return;\n",
              "      }\n",
              "      const div = document.createElement('div');\n",
              "      const label = document.createElement('label');\n",
              "      label.textContent = `Downloading \"${filename}\": `;\n",
              "      div.appendChild(label);\n",
              "      const progress = document.createElement('progress');\n",
              "      progress.max = size;\n",
              "      div.appendChild(progress);\n",
              "      document.body.appendChild(div);\n",
              "\n",
              "      const buffers = [];\n",
              "      let downloaded = 0;\n",
              "\n",
              "      const channel = await google.colab.kernel.comms.open(id);\n",
              "      // Send a message to notify the kernel that we're ready.\n",
              "      channel.send({})\n",
              "\n",
              "      for await (const message of channel.messages) {\n",
              "        // Send a message to notify the kernel that we're ready.\n",
              "        channel.send({})\n",
              "        if (message.buffers) {\n",
              "          for (const buffer of message.buffers) {\n",
              "            buffers.push(buffer);\n",
              "            downloaded += buffer.byteLength;\n",
              "            progress.value = downloaded;\n",
              "          }\n",
              "        }\n",
              "      }\n",
              "      const blob = new Blob(buffers, {type: 'application/binary'});\n",
              "      const a = document.createElement('a');\n",
              "      a.href = window.URL.createObjectURL(blob);\n",
              "      a.download = filename;\n",
              "      div.appendChild(a);\n",
              "      a.click();\n",
              "      div.remove();\n",
              "    }\n",
              "  "
            ]
          },
          "metadata": {}
        },
        {
          "output_type": "display_data",
          "data": {
            "text/plain": [
              "<IPython.core.display.Javascript object>"
            ],
            "application/javascript": [
              "download(\"download_664a7fca-e952-4515-8263-c9bd71a42a0d\", \"Visakhapatnam_Region_SO_offices.csv\", 52239)"
            ]
          },
          "metadata": {}
        },
        {
          "output_type": "stream",
          "name": "stdout",
          "text": [
            "Downloaded Visakhapatnam_Region_SO_offices.csv\n"
          ]
        },
        {
          "output_type": "display_data",
          "data": {
            "text/plain": [
              "<IPython.core.display.Javascript object>"
            ],
            "application/javascript": [
              "\n",
              "    async function download(id, filename, size) {\n",
              "      if (!google.colab.kernel.accessAllowed) {\n",
              "        return;\n",
              "      }\n",
              "      const div = document.createElement('div');\n",
              "      const label = document.createElement('label');\n",
              "      label.textContent = `Downloading \"${filename}\": `;\n",
              "      div.appendChild(label);\n",
              "      const progress = document.createElement('progress');\n",
              "      progress.max = size;\n",
              "      div.appendChild(progress);\n",
              "      document.body.appendChild(div);\n",
              "\n",
              "      const buffers = [];\n",
              "      let downloaded = 0;\n",
              "\n",
              "      const channel = await google.colab.kernel.comms.open(id);\n",
              "      // Send a message to notify the kernel that we're ready.\n",
              "      channel.send({})\n",
              "\n",
              "      for await (const message of channel.messages) {\n",
              "        // Send a message to notify the kernel that we're ready.\n",
              "        channel.send({})\n",
              "        if (message.buffers) {\n",
              "          for (const buffer of message.buffers) {\n",
              "            buffers.push(buffer);\n",
              "            downloaded += buffer.byteLength;\n",
              "            progress.value = downloaded;\n",
              "          }\n",
              "        }\n",
              "      }\n",
              "      const blob = new Blob(buffers, {type: 'application/binary'});\n",
              "      const a = document.createElement('a');\n",
              "      a.href = window.URL.createObjectURL(blob);\n",
              "      a.download = filename;\n",
              "      div.appendChild(a);\n",
              "      a.click();\n",
              "      div.remove();\n",
              "    }\n",
              "  "
            ]
          },
          "metadata": {}
        },
        {
          "output_type": "display_data",
          "data": {
            "text/plain": [
              "<IPython.core.display.Javascript object>"
            ],
            "application/javascript": [
              "download(\"download_bbc400c6-1713-4506-a4f9-a0058541ad06\", \"Visakhapatnam_Region_BO_offices.csv\", 316344)"
            ]
          },
          "metadata": {}
        },
        {
          "output_type": "stream",
          "name": "stdout",
          "text": [
            "Downloaded Visakhapatnam_Region_BO_offices.csv\n"
          ]
        },
        {
          "output_type": "display_data",
          "data": {
            "text/plain": [
              "<IPython.core.display.Javascript object>"
            ],
            "application/javascript": [
              "\n",
              "    async function download(id, filename, size) {\n",
              "      if (!google.colab.kernel.accessAllowed) {\n",
              "        return;\n",
              "      }\n",
              "      const div = document.createElement('div');\n",
              "      const label = document.createElement('label');\n",
              "      label.textContent = `Downloading \"${filename}\": `;\n",
              "      div.appendChild(label);\n",
              "      const progress = document.createElement('progress');\n",
              "      progress.max = size;\n",
              "      div.appendChild(progress);\n",
              "      document.body.appendChild(div);\n",
              "\n",
              "      const buffers = [];\n",
              "      let downloaded = 0;\n",
              "\n",
              "      const channel = await google.colab.kernel.comms.open(id);\n",
              "      // Send a message to notify the kernel that we're ready.\n",
              "      channel.send({})\n",
              "\n",
              "      for await (const message of channel.messages) {\n",
              "        // Send a message to notify the kernel that we're ready.\n",
              "        channel.send({})\n",
              "        if (message.buffers) {\n",
              "          for (const buffer of message.buffers) {\n",
              "            buffers.push(buffer);\n",
              "            downloaded += buffer.byteLength;\n",
              "            progress.value = downloaded;\n",
              "          }\n",
              "        }\n",
              "      }\n",
              "      const blob = new Blob(buffers, {type: 'application/binary'});\n",
              "      const a = document.createElement('a');\n",
              "      a.href = window.URL.createObjectURL(blob);\n",
              "      a.download = filename;\n",
              "      div.appendChild(a);\n",
              "      a.click();\n",
              "      div.remove();\n",
              "    }\n",
              "  "
            ]
          },
          "metadata": {}
        },
        {
          "output_type": "display_data",
          "data": {
            "text/plain": [
              "<IPython.core.display.Javascript object>"
            ],
            "application/javascript": [
              "download(\"download_82fc708b-a57b-46b8-81d3-f3e241ad784e\", \"Dibrugarh_Region_HO_offices.csv\", 860)"
            ]
          },
          "metadata": {}
        },
        {
          "output_type": "stream",
          "name": "stdout",
          "text": [
            "Downloaded Dibrugarh_Region_HO_offices.csv\n"
          ]
        },
        {
          "output_type": "display_data",
          "data": {
            "text/plain": [
              "<IPython.core.display.Javascript object>"
            ],
            "application/javascript": [
              "\n",
              "    async function download(id, filename, size) {\n",
              "      if (!google.colab.kernel.accessAllowed) {\n",
              "        return;\n",
              "      }\n",
              "      const div = document.createElement('div');\n",
              "      const label = document.createElement('label');\n",
              "      label.textContent = `Downloading \"${filename}\": `;\n",
              "      div.appendChild(label);\n",
              "      const progress = document.createElement('progress');\n",
              "      progress.max = size;\n",
              "      div.appendChild(progress);\n",
              "      document.body.appendChild(div);\n",
              "\n",
              "      const buffers = [];\n",
              "      let downloaded = 0;\n",
              "\n",
              "      const channel = await google.colab.kernel.comms.open(id);\n",
              "      // Send a message to notify the kernel that we're ready.\n",
              "      channel.send({})\n",
              "\n",
              "      for await (const message of channel.messages) {\n",
              "        // Send a message to notify the kernel that we're ready.\n",
              "        channel.send({})\n",
              "        if (message.buffers) {\n",
              "          for (const buffer of message.buffers) {\n",
              "            buffers.push(buffer);\n",
              "            downloaded += buffer.byteLength;\n",
              "            progress.value = downloaded;\n",
              "          }\n",
              "        }\n",
              "      }\n",
              "      const blob = new Blob(buffers, {type: 'application/binary'});\n",
              "      const a = document.createElement('a');\n",
              "      a.href = window.URL.createObjectURL(blob);\n",
              "      a.download = filename;\n",
              "      div.appendChild(a);\n",
              "      a.click();\n",
              "      div.remove();\n",
              "    }\n",
              "  "
            ]
          },
          "metadata": {}
        },
        {
          "output_type": "display_data",
          "data": {
            "text/plain": [
              "<IPython.core.display.Javascript object>"
            ],
            "application/javascript": [
              "download(\"download_08b5802d-f375-408d-aab2-30f9aceba117\", \"Dibrugarh_Region_SO_offices.csv\", 22744)"
            ]
          },
          "metadata": {}
        },
        {
          "output_type": "stream",
          "name": "stdout",
          "text": [
            "Downloaded Dibrugarh_Region_SO_offices.csv\n"
          ]
        },
        {
          "output_type": "display_data",
          "data": {
            "text/plain": [
              "<IPython.core.display.Javascript object>"
            ],
            "application/javascript": [
              "\n",
              "    async function download(id, filename, size) {\n",
              "      if (!google.colab.kernel.accessAllowed) {\n",
              "        return;\n",
              "      }\n",
              "      const div = document.createElement('div');\n",
              "      const label = document.createElement('label');\n",
              "      label.textContent = `Downloading \"${filename}\": `;\n",
              "      div.appendChild(label);\n",
              "      const progress = document.createElement('progress');\n",
              "      progress.max = size;\n",
              "      div.appendChild(progress);\n",
              "      document.body.appendChild(div);\n",
              "\n",
              "      const buffers = [];\n",
              "      let downloaded = 0;\n",
              "\n",
              "      const channel = await google.colab.kernel.comms.open(id);\n",
              "      // Send a message to notify the kernel that we're ready.\n",
              "      channel.send({})\n",
              "\n",
              "      for await (const message of channel.messages) {\n",
              "        // Send a message to notify the kernel that we're ready.\n",
              "        channel.send({})\n",
              "        if (message.buffers) {\n",
              "          for (const buffer of message.buffers) {\n",
              "            buffers.push(buffer);\n",
              "            downloaded += buffer.byteLength;\n",
              "            progress.value = downloaded;\n",
              "          }\n",
              "        }\n",
              "      }\n",
              "      const blob = new Blob(buffers, {type: 'application/binary'});\n",
              "      const a = document.createElement('a');\n",
              "      a.href = window.URL.createObjectURL(blob);\n",
              "      a.download = filename;\n",
              "      div.appendChild(a);\n",
              "      a.click();\n",
              "      div.remove();\n",
              "    }\n",
              "  "
            ]
          },
          "metadata": {}
        },
        {
          "output_type": "display_data",
          "data": {
            "text/plain": [
              "<IPython.core.display.Javascript object>"
            ],
            "application/javascript": [
              "download(\"download_e8249ae3-8beb-4246-adba-116377705628\", \"Dibrugarh_Region_BO_offices.csv\", 148276)"
            ]
          },
          "metadata": {}
        },
        {
          "output_type": "stream",
          "name": "stdout",
          "text": [
            "Downloaded Dibrugarh_Region_BO_offices.csv\n"
          ]
        },
        {
          "output_type": "display_data",
          "data": {
            "text/plain": [
              "<IPython.core.display.Javascript object>"
            ],
            "application/javascript": [
              "\n",
              "    async function download(id, filename, size) {\n",
              "      if (!google.colab.kernel.accessAllowed) {\n",
              "        return;\n",
              "      }\n",
              "      const div = document.createElement('div');\n",
              "      const label = document.createElement('label');\n",
              "      label.textContent = `Downloading \"${filename}\": `;\n",
              "      div.appendChild(label);\n",
              "      const progress = document.createElement('progress');\n",
              "      progress.max = size;\n",
              "      div.appendChild(progress);\n",
              "      document.body.appendChild(div);\n",
              "\n",
              "      const buffers = [];\n",
              "      let downloaded = 0;\n",
              "\n",
              "      const channel = await google.colab.kernel.comms.open(id);\n",
              "      // Send a message to notify the kernel that we're ready.\n",
              "      channel.send({})\n",
              "\n",
              "      for await (const message of channel.messages) {\n",
              "        // Send a message to notify the kernel that we're ready.\n",
              "        channel.send({})\n",
              "        if (message.buffers) {\n",
              "          for (const buffer of message.buffers) {\n",
              "            buffers.push(buffer);\n",
              "            downloaded += buffer.byteLength;\n",
              "            progress.value = downloaded;\n",
              "          }\n",
              "        }\n",
              "      }\n",
              "      const blob = new Blob(buffers, {type: 'application/binary'});\n",
              "      const a = document.createElement('a');\n",
              "      a.href = window.URL.createObjectURL(blob);\n",
              "      a.download = filename;\n",
              "      div.appendChild(a);\n",
              "      a.click();\n",
              "      div.remove();\n",
              "    }\n",
              "  "
            ]
          },
          "metadata": {}
        },
        {
          "output_type": "display_data",
          "data": {
            "text/plain": [
              "<IPython.core.display.Javascript object>"
            ],
            "application/javascript": [
              "download(\"download_dad92fdd-86ba-442b-a90c-ee6bad993ea5\", \"East_Region,_Bhagalpur_HO_offices.csv\", 1207)"
            ]
          },
          "metadata": {}
        },
        {
          "output_type": "stream",
          "name": "stdout",
          "text": [
            "Downloaded East_Region,_Bhagalpur_HO_offices.csv\n"
          ]
        },
        {
          "output_type": "display_data",
          "data": {
            "text/plain": [
              "<IPython.core.display.Javascript object>"
            ],
            "application/javascript": [
              "\n",
              "    async function download(id, filename, size) {\n",
              "      if (!google.colab.kernel.accessAllowed) {\n",
              "        return;\n",
              "      }\n",
              "      const div = document.createElement('div');\n",
              "      const label = document.createElement('label');\n",
              "      label.textContent = `Downloading \"${filename}\": `;\n",
              "      div.appendChild(label);\n",
              "      const progress = document.createElement('progress');\n",
              "      progress.max = size;\n",
              "      div.appendChild(progress);\n",
              "      document.body.appendChild(div);\n",
              "\n",
              "      const buffers = [];\n",
              "      let downloaded = 0;\n",
              "\n",
              "      const channel = await google.colab.kernel.comms.open(id);\n",
              "      // Send a message to notify the kernel that we're ready.\n",
              "      channel.send({})\n",
              "\n",
              "      for await (const message of channel.messages) {\n",
              "        // Send a message to notify the kernel that we're ready.\n",
              "        channel.send({})\n",
              "        if (message.buffers) {\n",
              "          for (const buffer of message.buffers) {\n",
              "            buffers.push(buffer);\n",
              "            downloaded += buffer.byteLength;\n",
              "            progress.value = downloaded;\n",
              "          }\n",
              "        }\n",
              "      }\n",
              "      const blob = new Blob(buffers, {type: 'application/binary'});\n",
              "      const a = document.createElement('a');\n",
              "      a.href = window.URL.createObjectURL(blob);\n",
              "      a.download = filename;\n",
              "      div.appendChild(a);\n",
              "      a.click();\n",
              "      div.remove();\n",
              "    }\n",
              "  "
            ]
          },
          "metadata": {}
        },
        {
          "output_type": "display_data",
          "data": {
            "text/plain": [
              "<IPython.core.display.Javascript object>"
            ],
            "application/javascript": [
              "download(\"download_c03f3329-402b-4c0a-acaa-7d8163c70ea1\", \"East_Region,_Bhagalpur_SO_offices.csv\", 34093)"
            ]
          },
          "metadata": {}
        },
        {
          "output_type": "stream",
          "name": "stdout",
          "text": [
            "Downloaded East_Region,_Bhagalpur_SO_offices.csv\n"
          ]
        },
        {
          "output_type": "display_data",
          "data": {
            "text/plain": [
              "<IPython.core.display.Javascript object>"
            ],
            "application/javascript": [
              "\n",
              "    async function download(id, filename, size) {\n",
              "      if (!google.colab.kernel.accessAllowed) {\n",
              "        return;\n",
              "      }\n",
              "      const div = document.createElement('div');\n",
              "      const label = document.createElement('label');\n",
              "      label.textContent = `Downloading \"${filename}\": `;\n",
              "      div.appendChild(label);\n",
              "      const progress = document.createElement('progress');\n",
              "      progress.max = size;\n",
              "      div.appendChild(progress);\n",
              "      document.body.appendChild(div);\n",
              "\n",
              "      const buffers = [];\n",
              "      let downloaded = 0;\n",
              "\n",
              "      const channel = await google.colab.kernel.comms.open(id);\n",
              "      // Send a message to notify the kernel that we're ready.\n",
              "      channel.send({})\n",
              "\n",
              "      for await (const message of channel.messages) {\n",
              "        // Send a message to notify the kernel that we're ready.\n",
              "        channel.send({})\n",
              "        if (message.buffers) {\n",
              "          for (const buffer of message.buffers) {\n",
              "            buffers.push(buffer);\n",
              "            downloaded += buffer.byteLength;\n",
              "            progress.value = downloaded;\n",
              "          }\n",
              "        }\n",
              "      }\n",
              "      const blob = new Blob(buffers, {type: 'application/binary'});\n",
              "      const a = document.createElement('a');\n",
              "      a.href = window.URL.createObjectURL(blob);\n",
              "      a.download = filename;\n",
              "      div.appendChild(a);\n",
              "      a.click();\n",
              "      div.remove();\n",
              "    }\n",
              "  "
            ]
          },
          "metadata": {}
        },
        {
          "output_type": "display_data",
          "data": {
            "text/plain": [
              "<IPython.core.display.Javascript object>"
            ],
            "application/javascript": [
              "download(\"download_2fddd6f0-a3ad-4449-a52b-d9fade416c34\", \"East_Region,_Bhagalpur_BO_offices.csv\", 295652)"
            ]
          },
          "metadata": {}
        },
        {
          "output_type": "stream",
          "name": "stdout",
          "text": [
            "Downloaded East_Region,_Bhagalpur_BO_offices.csv\n"
          ]
        },
        {
          "output_type": "display_data",
          "data": {
            "text/plain": [
              "<IPython.core.display.Javascript object>"
            ],
            "application/javascript": [
              "\n",
              "    async function download(id, filename, size) {\n",
              "      if (!google.colab.kernel.accessAllowed) {\n",
              "        return;\n",
              "      }\n",
              "      const div = document.createElement('div');\n",
              "      const label = document.createElement('label');\n",
              "      label.textContent = `Downloading \"${filename}\": `;\n",
              "      div.appendChild(label);\n",
              "      const progress = document.createElement('progress');\n",
              "      progress.max = size;\n",
              "      div.appendChild(progress);\n",
              "      document.body.appendChild(div);\n",
              "\n",
              "      const buffers = [];\n",
              "      let downloaded = 0;\n",
              "\n",
              "      const channel = await google.colab.kernel.comms.open(id);\n",
              "      // Send a message to notify the kernel that we're ready.\n",
              "      channel.send({})\n",
              "\n",
              "      for await (const message of channel.messages) {\n",
              "        // Send a message to notify the kernel that we're ready.\n",
              "        channel.send({})\n",
              "        if (message.buffers) {\n",
              "          for (const buffer of message.buffers) {\n",
              "            buffers.push(buffer);\n",
              "            downloaded += buffer.byteLength;\n",
              "            progress.value = downloaded;\n",
              "          }\n",
              "        }\n",
              "      }\n",
              "      const blob = new Blob(buffers, {type: 'application/binary'});\n",
              "      const a = document.createElement('a');\n",
              "      a.href = window.URL.createObjectURL(blob);\n",
              "      a.download = filename;\n",
              "      div.appendChild(a);\n",
              "      a.click();\n",
              "      div.remove();\n",
              "    }\n",
              "  "
            ]
          },
          "metadata": {}
        },
        {
          "output_type": "display_data",
          "data": {
            "text/plain": [
              "<IPython.core.display.Javascript object>"
            ],
            "application/javascript": [
              "download(\"download_6eca59e7-50b1-4c9d-a681-eaa92ce88bc1\", \"Muzaffarpur_Region_HO_offices.csv\", 1267)"
            ]
          },
          "metadata": {}
        },
        {
          "output_type": "stream",
          "name": "stdout",
          "text": [
            "Downloaded Muzaffarpur_Region_HO_offices.csv\n"
          ]
        },
        {
          "output_type": "display_data",
          "data": {
            "text/plain": [
              "<IPython.core.display.Javascript object>"
            ],
            "application/javascript": [
              "\n",
              "    async function download(id, filename, size) {\n",
              "      if (!google.colab.kernel.accessAllowed) {\n",
              "        return;\n",
              "      }\n",
              "      const div = document.createElement('div');\n",
              "      const label = document.createElement('label');\n",
              "      label.textContent = `Downloading \"${filename}\": `;\n",
              "      div.appendChild(label);\n",
              "      const progress = document.createElement('progress');\n",
              "      progress.max = size;\n",
              "      div.appendChild(progress);\n",
              "      document.body.appendChild(div);\n",
              "\n",
              "      const buffers = [];\n",
              "      let downloaded = 0;\n",
              "\n",
              "      const channel = await google.colab.kernel.comms.open(id);\n",
              "      // Send a message to notify the kernel that we're ready.\n",
              "      channel.send({})\n",
              "\n",
              "      for await (const message of channel.messages) {\n",
              "        // Send a message to notify the kernel that we're ready.\n",
              "        channel.send({})\n",
              "        if (message.buffers) {\n",
              "          for (const buffer of message.buffers) {\n",
              "            buffers.push(buffer);\n",
              "            downloaded += buffer.byteLength;\n",
              "            progress.value = downloaded;\n",
              "          }\n",
              "        }\n",
              "      }\n",
              "      const blob = new Blob(buffers, {type: 'application/binary'});\n",
              "      const a = document.createElement('a');\n",
              "      a.href = window.URL.createObjectURL(blob);\n",
              "      a.download = filename;\n",
              "      div.appendChild(a);\n",
              "      a.click();\n",
              "      div.remove();\n",
              "    }\n",
              "  "
            ]
          },
          "metadata": {}
        },
        {
          "output_type": "display_data",
          "data": {
            "text/plain": [
              "<IPython.core.display.Javascript object>"
            ],
            "application/javascript": [
              "download(\"download_a9c51404-5cc9-4793-b1e8-003204ee055a\", \"Muzaffarpur_Region_SO_offices.csv\", 38092)"
            ]
          },
          "metadata": {}
        },
        {
          "output_type": "stream",
          "name": "stdout",
          "text": [
            "Downloaded Muzaffarpur_Region_SO_offices.csv\n"
          ]
        },
        {
          "output_type": "display_data",
          "data": {
            "text/plain": [
              "<IPython.core.display.Javascript object>"
            ],
            "application/javascript": [
              "\n",
              "    async function download(id, filename, size) {\n",
              "      if (!google.colab.kernel.accessAllowed) {\n",
              "        return;\n",
              "      }\n",
              "      const div = document.createElement('div');\n",
              "      const label = document.createElement('label');\n",
              "      label.textContent = `Downloading \"${filename}\": `;\n",
              "      div.appendChild(label);\n",
              "      const progress = document.createElement('progress');\n",
              "      progress.max = size;\n",
              "      div.appendChild(progress);\n",
              "      document.body.appendChild(div);\n",
              "\n",
              "      const buffers = [];\n",
              "      let downloaded = 0;\n",
              "\n",
              "      const channel = await google.colab.kernel.comms.open(id);\n",
              "      // Send a message to notify the kernel that we're ready.\n",
              "      channel.send({})\n",
              "\n",
              "      for await (const message of channel.messages) {\n",
              "        // Send a message to notify the kernel that we're ready.\n",
              "        channel.send({})\n",
              "        if (message.buffers) {\n",
              "          for (const buffer of message.buffers) {\n",
              "            buffers.push(buffer);\n",
              "            downloaded += buffer.byteLength;\n",
              "            progress.value = downloaded;\n",
              "          }\n",
              "        }\n",
              "      }\n",
              "      const blob = new Blob(buffers, {type: 'application/binary'});\n",
              "      const a = document.createElement('a');\n",
              "      a.href = window.URL.createObjectURL(blob);\n",
              "      a.download = filename;\n",
              "      div.appendChild(a);\n",
              "      a.click();\n",
              "      div.remove();\n",
              "    }\n",
              "  "
            ]
          },
          "metadata": {}
        },
        {
          "output_type": "display_data",
          "data": {
            "text/plain": [
              "<IPython.core.display.Javascript object>"
            ],
            "application/javascript": [
              "download(\"download_f7fca1bd-bc9d-464f-bde0-26c31f3f7c4c\", \"Muzaffarpur_Region_BO_offices.csv\", 311618)"
            ]
          },
          "metadata": {}
        },
        {
          "output_type": "stream",
          "name": "stdout",
          "text": [
            "Downloaded Muzaffarpur_Region_BO_offices.csv\n"
          ]
        },
        {
          "output_type": "display_data",
          "data": {
            "text/plain": [
              "<IPython.core.display.Javascript object>"
            ],
            "application/javascript": [
              "\n",
              "    async function download(id, filename, size) {\n",
              "      if (!google.colab.kernel.accessAllowed) {\n",
              "        return;\n",
              "      }\n",
              "      const div = document.createElement('div');\n",
              "      const label = document.createElement('label');\n",
              "      label.textContent = `Downloading \"${filename}\": `;\n",
              "      div.appendChild(label);\n",
              "      const progress = document.createElement('progress');\n",
              "      progress.max = size;\n",
              "      div.appendChild(progress);\n",
              "      document.body.appendChild(div);\n",
              "\n",
              "      const buffers = [];\n",
              "      let downloaded = 0;\n",
              "\n",
              "      const channel = await google.colab.kernel.comms.open(id);\n",
              "      // Send a message to notify the kernel that we're ready.\n",
              "      channel.send({})\n",
              "\n",
              "      for await (const message of channel.messages) {\n",
              "        // Send a message to notify the kernel that we're ready.\n",
              "        channel.send({})\n",
              "        if (message.buffers) {\n",
              "          for (const buffer of message.buffers) {\n",
              "            buffers.push(buffer);\n",
              "            downloaded += buffer.byteLength;\n",
              "            progress.value = downloaded;\n",
              "          }\n",
              "        }\n",
              "      }\n",
              "      const blob = new Blob(buffers, {type: 'application/binary'});\n",
              "      const a = document.createElement('a');\n",
              "      a.href = window.URL.createObjectURL(blob);\n",
              "      a.download = filename;\n",
              "      div.appendChild(a);\n",
              "      a.click();\n",
              "      div.remove();\n",
              "    }\n",
              "  "
            ]
          },
          "metadata": {}
        },
        {
          "output_type": "display_data",
          "data": {
            "text/plain": [
              "<IPython.core.display.Javascript object>"
            ],
            "application/javascript": [
              "download(\"download_90ac8cd0-735d-4286-877b-8c10d3ffd0c6\", \"Raipur_Region_HO_offices.csv\", 296)"
            ]
          },
          "metadata": {}
        },
        {
          "output_type": "stream",
          "name": "stdout",
          "text": [
            "Downloaded Raipur_Region_HO_offices.csv\n"
          ]
        },
        {
          "output_type": "display_data",
          "data": {
            "text/plain": [
              "<IPython.core.display.Javascript object>"
            ],
            "application/javascript": [
              "\n",
              "    async function download(id, filename, size) {\n",
              "      if (!google.colab.kernel.accessAllowed) {\n",
              "        return;\n",
              "      }\n",
              "      const div = document.createElement('div');\n",
              "      const label = document.createElement('label');\n",
              "      label.textContent = `Downloading \"${filename}\": `;\n",
              "      div.appendChild(label);\n",
              "      const progress = document.createElement('progress');\n",
              "      progress.max = size;\n",
              "      div.appendChild(progress);\n",
              "      document.body.appendChild(div);\n",
              "\n",
              "      const buffers = [];\n",
              "      let downloaded = 0;\n",
              "\n",
              "      const channel = await google.colab.kernel.comms.open(id);\n",
              "      // Send a message to notify the kernel that we're ready.\n",
              "      channel.send({})\n",
              "\n",
              "      for await (const message of channel.messages) {\n",
              "        // Send a message to notify the kernel that we're ready.\n",
              "        channel.send({})\n",
              "        if (message.buffers) {\n",
              "          for (const buffer of message.buffers) {\n",
              "            buffers.push(buffer);\n",
              "            downloaded += buffer.byteLength;\n",
              "            progress.value = downloaded;\n",
              "          }\n",
              "        }\n",
              "      }\n",
              "      const blob = new Blob(buffers, {type: 'application/binary'});\n",
              "      const a = document.createElement('a');\n",
              "      a.href = window.URL.createObjectURL(blob);\n",
              "      a.download = filename;\n",
              "      div.appendChild(a);\n",
              "      a.click();\n",
              "      div.remove();\n",
              "    }\n",
              "  "
            ]
          },
          "metadata": {}
        },
        {
          "output_type": "display_data",
          "data": {
            "text/plain": [
              "<IPython.core.display.Javascript object>"
            ],
            "application/javascript": [
              "download(\"download_8a8c4309-cc03-448a-93f0-50b604632242\", \"Raipur_Region_SO_offices.csv\", 4771)"
            ]
          },
          "metadata": {}
        },
        {
          "output_type": "stream",
          "name": "stdout",
          "text": [
            "Downloaded Raipur_Region_SO_offices.csv\n"
          ]
        },
        {
          "output_type": "display_data",
          "data": {
            "text/plain": [
              "<IPython.core.display.Javascript object>"
            ],
            "application/javascript": [
              "\n",
              "    async function download(id, filename, size) {\n",
              "      if (!google.colab.kernel.accessAllowed) {\n",
              "        return;\n",
              "      }\n",
              "      const div = document.createElement('div');\n",
              "      const label = document.createElement('label');\n",
              "      label.textContent = `Downloading \"${filename}\": `;\n",
              "      div.appendChild(label);\n",
              "      const progress = document.createElement('progress');\n",
              "      progress.max = size;\n",
              "      div.appendChild(progress);\n",
              "      document.body.appendChild(div);\n",
              "\n",
              "      const buffers = [];\n",
              "      let downloaded = 0;\n",
              "\n",
              "      const channel = await google.colab.kernel.comms.open(id);\n",
              "      // Send a message to notify the kernel that we're ready.\n",
              "      channel.send({})\n",
              "\n",
              "      for await (const message of channel.messages) {\n",
              "        // Send a message to notify the kernel that we're ready.\n",
              "        channel.send({})\n",
              "        if (message.buffers) {\n",
              "          for (const buffer of message.buffers) {\n",
              "            buffers.push(buffer);\n",
              "            downloaded += buffer.byteLength;\n",
              "            progress.value = downloaded;\n",
              "          }\n",
              "        }\n",
              "      }\n",
              "      const blob = new Blob(buffers, {type: 'application/binary'});\n",
              "      const a = document.createElement('a');\n",
              "      a.href = window.URL.createObjectURL(blob);\n",
              "      a.download = filename;\n",
              "      div.appendChild(a);\n",
              "      a.click();\n",
              "      div.remove();\n",
              "    }\n",
              "  "
            ]
          },
          "metadata": {}
        },
        {
          "output_type": "display_data",
          "data": {
            "text/plain": [
              "<IPython.core.display.Javascript object>"
            ],
            "application/javascript": [
              "download(\"download_b28ea574-6326-4c3d-be24-26616efd5965\", \"Raipur_Region_BO_offices.csv\", 57727)"
            ]
          },
          "metadata": {}
        },
        {
          "output_type": "stream",
          "name": "stdout",
          "text": [
            "Downloaded Raipur_Region_BO_offices.csv\n"
          ]
        },
        {
          "output_type": "display_data",
          "data": {
            "text/plain": [
              "<IPython.core.display.Javascript object>"
            ],
            "application/javascript": [
              "\n",
              "    async function download(id, filename, size) {\n",
              "      if (!google.colab.kernel.accessAllowed) {\n",
              "        return;\n",
              "      }\n",
              "      const div = document.createElement('div');\n",
              "      const label = document.createElement('label');\n",
              "      label.textContent = `Downloading \"${filename}\": `;\n",
              "      div.appendChild(label);\n",
              "      const progress = document.createElement('progress');\n",
              "      progress.max = size;\n",
              "      div.appendChild(progress);\n",
              "      document.body.appendChild(div);\n",
              "\n",
              "      const buffers = [];\n",
              "      let downloaded = 0;\n",
              "\n",
              "      const channel = await google.colab.kernel.comms.open(id);\n",
              "      // Send a message to notify the kernel that we're ready.\n",
              "      channel.send({})\n",
              "\n",
              "      for await (const message of channel.messages) {\n",
              "        // Send a message to notify the kernel that we're ready.\n",
              "        channel.send({})\n",
              "        if (message.buffers) {\n",
              "          for (const buffer of message.buffers) {\n",
              "            buffers.push(buffer);\n",
              "            downloaded += buffer.byteLength;\n",
              "            progress.value = downloaded;\n",
              "          }\n",
              "        }\n",
              "      }\n",
              "      const blob = new Blob(buffers, {type: 'application/binary'});\n",
              "      const a = document.createElement('a');\n",
              "      a.href = window.URL.createObjectURL(blob);\n",
              "      a.download = filename;\n",
              "      div.appendChild(a);\n",
              "      a.click();\n",
              "      div.remove();\n",
              "    }\n",
              "  "
            ]
          },
          "metadata": {}
        },
        {
          "output_type": "display_data",
          "data": {
            "text/plain": [
              "<IPython.core.display.Javascript object>"
            ],
            "application/javascript": [
              "download(\"download_091a7095-1cd6-4baa-81fd-0b88855d1dbf\", \"Ahmedabad_HQ_Region_HO_offices.csv\", 1064)"
            ]
          },
          "metadata": {}
        },
        {
          "output_type": "stream",
          "name": "stdout",
          "text": [
            "Downloaded Ahmedabad_HQ_Region_HO_offices.csv\n"
          ]
        },
        {
          "output_type": "display_data",
          "data": {
            "text/plain": [
              "<IPython.core.display.Javascript object>"
            ],
            "application/javascript": [
              "\n",
              "    async function download(id, filename, size) {\n",
              "      if (!google.colab.kernel.accessAllowed) {\n",
              "        return;\n",
              "      }\n",
              "      const div = document.createElement('div');\n",
              "      const label = document.createElement('label');\n",
              "      label.textContent = `Downloading \"${filename}\": `;\n",
              "      div.appendChild(label);\n",
              "      const progress = document.createElement('progress');\n",
              "      progress.max = size;\n",
              "      div.appendChild(progress);\n",
              "      document.body.appendChild(div);\n",
              "\n",
              "      const buffers = [];\n",
              "      let downloaded = 0;\n",
              "\n",
              "      const channel = await google.colab.kernel.comms.open(id);\n",
              "      // Send a message to notify the kernel that we're ready.\n",
              "      channel.send({})\n",
              "\n",
              "      for await (const message of channel.messages) {\n",
              "        // Send a message to notify the kernel that we're ready.\n",
              "        channel.send({})\n",
              "        if (message.buffers) {\n",
              "          for (const buffer of message.buffers) {\n",
              "            buffers.push(buffer);\n",
              "            downloaded += buffer.byteLength;\n",
              "            progress.value = downloaded;\n",
              "          }\n",
              "        }\n",
              "      }\n",
              "      const blob = new Blob(buffers, {type: 'application/binary'});\n",
              "      const a = document.createElement('a');\n",
              "      a.href = window.URL.createObjectURL(blob);\n",
              "      a.download = filename;\n",
              "      div.appendChild(a);\n",
              "      a.click();\n",
              "      div.remove();\n",
              "    }\n",
              "  "
            ]
          },
          "metadata": {}
        },
        {
          "output_type": "display_data",
          "data": {
            "text/plain": [
              "<IPython.core.display.Javascript object>"
            ],
            "application/javascript": [
              "download(\"download_5378197d-357e-452a-8649-da31273403be\", \"Ahmedabad_HQ_Region_SO_offices.csv\", 39735)"
            ]
          },
          "metadata": {}
        },
        {
          "output_type": "stream",
          "name": "stdout",
          "text": [
            "Downloaded Ahmedabad_HQ_Region_SO_offices.csv\n"
          ]
        },
        {
          "output_type": "display_data",
          "data": {
            "text/plain": [
              "<IPython.core.display.Javascript object>"
            ],
            "application/javascript": [
              "\n",
              "    async function download(id, filename, size) {\n",
              "      if (!google.colab.kernel.accessAllowed) {\n",
              "        return;\n",
              "      }\n",
              "      const div = document.createElement('div');\n",
              "      const label = document.createElement('label');\n",
              "      label.textContent = `Downloading \"${filename}\": `;\n",
              "      div.appendChild(label);\n",
              "      const progress = document.createElement('progress');\n",
              "      progress.max = size;\n",
              "      div.appendChild(progress);\n",
              "      document.body.appendChild(div);\n",
              "\n",
              "      const buffers = [];\n",
              "      let downloaded = 0;\n",
              "\n",
              "      const channel = await google.colab.kernel.comms.open(id);\n",
              "      // Send a message to notify the kernel that we're ready.\n",
              "      channel.send({})\n",
              "\n",
              "      for await (const message of channel.messages) {\n",
              "        // Send a message to notify the kernel that we're ready.\n",
              "        channel.send({})\n",
              "        if (message.buffers) {\n",
              "          for (const buffer of message.buffers) {\n",
              "            buffers.push(buffer);\n",
              "            downloaded += buffer.byteLength;\n",
              "            progress.value = downloaded;\n",
              "          }\n",
              "        }\n",
              "      }\n",
              "      const blob = new Blob(buffers, {type: 'application/binary'});\n",
              "      const a = document.createElement('a');\n",
              "      a.href = window.URL.createObjectURL(blob);\n",
              "      a.download = filename;\n",
              "      div.appendChild(a);\n",
              "      a.click();\n",
              "      div.remove();\n",
              "    }\n",
              "  "
            ]
          },
          "metadata": {}
        },
        {
          "output_type": "display_data",
          "data": {
            "text/plain": [
              "<IPython.core.display.Javascript object>"
            ],
            "application/javascript": [
              "download(\"download_8e73732c-3f05-404b-b3bb-5d2e2e4d267c\", \"Ahmedabad_HQ_Region_BO_offices.csv\", 197242)"
            ]
          },
          "metadata": {}
        },
        {
          "output_type": "stream",
          "name": "stdout",
          "text": [
            "Downloaded Ahmedabad_HQ_Region_BO_offices.csv\n"
          ]
        },
        {
          "output_type": "display_data",
          "data": {
            "text/plain": [
              "<IPython.core.display.Javascript object>"
            ],
            "application/javascript": [
              "\n",
              "    async function download(id, filename, size) {\n",
              "      if (!google.colab.kernel.accessAllowed) {\n",
              "        return;\n",
              "      }\n",
              "      const div = document.createElement('div');\n",
              "      const label = document.createElement('label');\n",
              "      label.textContent = `Downloading \"${filename}\": `;\n",
              "      div.appendChild(label);\n",
              "      const progress = document.createElement('progress');\n",
              "      progress.max = size;\n",
              "      div.appendChild(progress);\n",
              "      document.body.appendChild(div);\n",
              "\n",
              "      const buffers = [];\n",
              "      let downloaded = 0;\n",
              "\n",
              "      const channel = await google.colab.kernel.comms.open(id);\n",
              "      // Send a message to notify the kernel that we're ready.\n",
              "      channel.send({})\n",
              "\n",
              "      for await (const message of channel.messages) {\n",
              "        // Send a message to notify the kernel that we're ready.\n",
              "        channel.send({})\n",
              "        if (message.buffers) {\n",
              "          for (const buffer of message.buffers) {\n",
              "            buffers.push(buffer);\n",
              "            downloaded += buffer.byteLength;\n",
              "            progress.value = downloaded;\n",
              "          }\n",
              "        }\n",
              "      }\n",
              "      const blob = new Blob(buffers, {type: 'application/binary'});\n",
              "      const a = document.createElement('a');\n",
              "      a.href = window.URL.createObjectURL(blob);\n",
              "      a.download = filename;\n",
              "      div.appendChild(a);\n",
              "      a.click();\n",
              "      div.remove();\n",
              "    }\n",
              "  "
            ]
          },
          "metadata": {}
        },
        {
          "output_type": "display_data",
          "data": {
            "text/plain": [
              "<IPython.core.display.Javascript object>"
            ],
            "application/javascript": [
              "download(\"download_e910bc18-3e39-4756-880a-42a98cfa529e\", \"Rajkot_Region_HO_offices.csv\", 952)"
            ]
          },
          "metadata": {}
        },
        {
          "output_type": "stream",
          "name": "stdout",
          "text": [
            "Downloaded Rajkot_Region_HO_offices.csv\n"
          ]
        },
        {
          "output_type": "display_data",
          "data": {
            "text/plain": [
              "<IPython.core.display.Javascript object>"
            ],
            "application/javascript": [
              "\n",
              "    async function download(id, filename, size) {\n",
              "      if (!google.colab.kernel.accessAllowed) {\n",
              "        return;\n",
              "      }\n",
              "      const div = document.createElement('div');\n",
              "      const label = document.createElement('label');\n",
              "      label.textContent = `Downloading \"${filename}\": `;\n",
              "      div.appendChild(label);\n",
              "      const progress = document.createElement('progress');\n",
              "      progress.max = size;\n",
              "      div.appendChild(progress);\n",
              "      document.body.appendChild(div);\n",
              "\n",
              "      const buffers = [];\n",
              "      let downloaded = 0;\n",
              "\n",
              "      const channel = await google.colab.kernel.comms.open(id);\n",
              "      // Send a message to notify the kernel that we're ready.\n",
              "      channel.send({})\n",
              "\n",
              "      for await (const message of channel.messages) {\n",
              "        // Send a message to notify the kernel that we're ready.\n",
              "        channel.send({})\n",
              "        if (message.buffers) {\n",
              "          for (const buffer of message.buffers) {\n",
              "            buffers.push(buffer);\n",
              "            downloaded += buffer.byteLength;\n",
              "            progress.value = downloaded;\n",
              "          }\n",
              "        }\n",
              "      }\n",
              "      const blob = new Blob(buffers, {type: 'application/binary'});\n",
              "      const a = document.createElement('a');\n",
              "      a.href = window.URL.createObjectURL(blob);\n",
              "      a.download = filename;\n",
              "      div.appendChild(a);\n",
              "      a.click();\n",
              "      div.remove();\n",
              "    }\n",
              "  "
            ]
          },
          "metadata": {}
        },
        {
          "output_type": "display_data",
          "data": {
            "text/plain": [
              "<IPython.core.display.Javascript object>"
            ],
            "application/javascript": [
              "download(\"download_612944bd-0ef9-4ee5-ab45-01b941aa02f7\", \"Rajkot_Region_SO_offices.csv\", 36228)"
            ]
          },
          "metadata": {}
        },
        {
          "output_type": "stream",
          "name": "stdout",
          "text": [
            "Downloaded Rajkot_Region_SO_offices.csv\n"
          ]
        },
        {
          "output_type": "display_data",
          "data": {
            "text/plain": [
              "<IPython.core.display.Javascript object>"
            ],
            "application/javascript": [
              "\n",
              "    async function download(id, filename, size) {\n",
              "      if (!google.colab.kernel.accessAllowed) {\n",
              "        return;\n",
              "      }\n",
              "      const div = document.createElement('div');\n",
              "      const label = document.createElement('label');\n",
              "      label.textContent = `Downloading \"${filename}\": `;\n",
              "      div.appendChild(label);\n",
              "      const progress = document.createElement('progress');\n",
              "      progress.max = size;\n",
              "      div.appendChild(progress);\n",
              "      document.body.appendChild(div);\n",
              "\n",
              "      const buffers = [];\n",
              "      let downloaded = 0;\n",
              "\n",
              "      const channel = await google.colab.kernel.comms.open(id);\n",
              "      // Send a message to notify the kernel that we're ready.\n",
              "      channel.send({})\n",
              "\n",
              "      for await (const message of channel.messages) {\n",
              "        // Send a message to notify the kernel that we're ready.\n",
              "        channel.send({})\n",
              "        if (message.buffers) {\n",
              "          for (const buffer of message.buffers) {\n",
              "            buffers.push(buffer);\n",
              "            downloaded += buffer.byteLength;\n",
              "            progress.value = downloaded;\n",
              "          }\n",
              "        }\n",
              "      }\n",
              "      const blob = new Blob(buffers, {type: 'application/binary'});\n",
              "      const a = document.createElement('a');\n",
              "      a.href = window.URL.createObjectURL(blob);\n",
              "      a.download = filename;\n",
              "      div.appendChild(a);\n",
              "      a.click();\n",
              "      div.remove();\n",
              "    }\n",
              "  "
            ]
          },
          "metadata": {}
        },
        {
          "output_type": "display_data",
          "data": {
            "text/plain": [
              "<IPython.core.display.Javascript object>"
            ],
            "application/javascript": [
              "download(\"download_5bdc2934-0f71-42b4-bc81-8103b4458252\", \"Rajkot_Region_BO_offices.csv\", 247514)"
            ]
          },
          "metadata": {}
        },
        {
          "output_type": "stream",
          "name": "stdout",
          "text": [
            "Downloaded Rajkot_Region_BO_offices.csv\n"
          ]
        },
        {
          "output_type": "display_data",
          "data": {
            "text/plain": [
              "<IPython.core.display.Javascript object>"
            ],
            "application/javascript": [
              "\n",
              "    async function download(id, filename, size) {\n",
              "      if (!google.colab.kernel.accessAllowed) {\n",
              "        return;\n",
              "      }\n",
              "      const div = document.createElement('div');\n",
              "      const label = document.createElement('label');\n",
              "      label.textContent = `Downloading \"${filename}\": `;\n",
              "      div.appendChild(label);\n",
              "      const progress = document.createElement('progress');\n",
              "      progress.max = size;\n",
              "      div.appendChild(progress);\n",
              "      document.body.appendChild(div);\n",
              "\n",
              "      const buffers = [];\n",
              "      let downloaded = 0;\n",
              "\n",
              "      const channel = await google.colab.kernel.comms.open(id);\n",
              "      // Send a message to notify the kernel that we're ready.\n",
              "      channel.send({})\n",
              "\n",
              "      for await (const message of channel.messages) {\n",
              "        // Send a message to notify the kernel that we're ready.\n",
              "        channel.send({})\n",
              "        if (message.buffers) {\n",
              "          for (const buffer of message.buffers) {\n",
              "            buffers.push(buffer);\n",
              "            downloaded += buffer.byteLength;\n",
              "            progress.value = downloaded;\n",
              "          }\n",
              "        }\n",
              "      }\n",
              "      const blob = new Blob(buffers, {type: 'application/binary'});\n",
              "      const a = document.createElement('a');\n",
              "      a.href = window.URL.createObjectURL(blob);\n",
              "      a.download = filename;\n",
              "      div.appendChild(a);\n",
              "      a.click();\n",
              "      div.remove();\n",
              "    }\n",
              "  "
            ]
          },
          "metadata": {}
        },
        {
          "output_type": "display_data",
          "data": {
            "text/plain": [
              "<IPython.core.display.Javascript object>"
            ],
            "application/javascript": [
              "download(\"download_b850a153-6cc3-4df2-bfb5-990e1f8df400\", \"Vadodara_Region_HO_offices.csv\", 1510)"
            ]
          },
          "metadata": {}
        },
        {
          "output_type": "stream",
          "name": "stdout",
          "text": [
            "Downloaded Vadodara_Region_HO_offices.csv\n"
          ]
        },
        {
          "output_type": "display_data",
          "data": {
            "text/plain": [
              "<IPython.core.display.Javascript object>"
            ],
            "application/javascript": [
              "\n",
              "    async function download(id, filename, size) {\n",
              "      if (!google.colab.kernel.accessAllowed) {\n",
              "        return;\n",
              "      }\n",
              "      const div = document.createElement('div');\n",
              "      const label = document.createElement('label');\n",
              "      label.textContent = `Downloading \"${filename}\": `;\n",
              "      div.appendChild(label);\n",
              "      const progress = document.createElement('progress');\n",
              "      progress.max = size;\n",
              "      div.appendChild(progress);\n",
              "      document.body.appendChild(div);\n",
              "\n",
              "      const buffers = [];\n",
              "      let downloaded = 0;\n",
              "\n",
              "      const channel = await google.colab.kernel.comms.open(id);\n",
              "      // Send a message to notify the kernel that we're ready.\n",
              "      channel.send({})\n",
              "\n",
              "      for await (const message of channel.messages) {\n",
              "        // Send a message to notify the kernel that we're ready.\n",
              "        channel.send({})\n",
              "        if (message.buffers) {\n",
              "          for (const buffer of message.buffers) {\n",
              "            buffers.push(buffer);\n",
              "            downloaded += buffer.byteLength;\n",
              "            progress.value = downloaded;\n",
              "          }\n",
              "        }\n",
              "      }\n",
              "      const blob = new Blob(buffers, {type: 'application/binary'});\n",
              "      const a = document.createElement('a');\n",
              "      a.href = window.URL.createObjectURL(blob);\n",
              "      a.download = filename;\n",
              "      div.appendChild(a);\n",
              "      a.click();\n",
              "      div.remove();\n",
              "    }\n",
              "  "
            ]
          },
          "metadata": {}
        },
        {
          "output_type": "display_data",
          "data": {
            "text/plain": [
              "<IPython.core.display.Javascript object>"
            ],
            "application/javascript": [
              "download(\"download_35a39925-d1b1-4888-81ce-b5bb7f5eda12\", \"Vadodara_Region_SO_offices.csv\", 50009)"
            ]
          },
          "metadata": {}
        },
        {
          "output_type": "stream",
          "name": "stdout",
          "text": [
            "Downloaded Vadodara_Region_SO_offices.csv\n"
          ]
        },
        {
          "output_type": "display_data",
          "data": {
            "text/plain": [
              "<IPython.core.display.Javascript object>"
            ],
            "application/javascript": [
              "\n",
              "    async function download(id, filename, size) {\n",
              "      if (!google.colab.kernel.accessAllowed) {\n",
              "        return;\n",
              "      }\n",
              "      const div = document.createElement('div');\n",
              "      const label = document.createElement('label');\n",
              "      label.textContent = `Downloading \"${filename}\": `;\n",
              "      div.appendChild(label);\n",
              "      const progress = document.createElement('progress');\n",
              "      progress.max = size;\n",
              "      div.appendChild(progress);\n",
              "      document.body.appendChild(div);\n",
              "\n",
              "      const buffers = [];\n",
              "      let downloaded = 0;\n",
              "\n",
              "      const channel = await google.colab.kernel.comms.open(id);\n",
              "      // Send a message to notify the kernel that we're ready.\n",
              "      channel.send({})\n",
              "\n",
              "      for await (const message of channel.messages) {\n",
              "        // Send a message to notify the kernel that we're ready.\n",
              "        channel.send({})\n",
              "        if (message.buffers) {\n",
              "          for (const buffer of message.buffers) {\n",
              "            buffers.push(buffer);\n",
              "            downloaded += buffer.byteLength;\n",
              "            progress.value = downloaded;\n",
              "          }\n",
              "        }\n",
              "      }\n",
              "      const blob = new Blob(buffers, {type: 'application/binary'});\n",
              "      const a = document.createElement('a');\n",
              "      a.href = window.URL.createObjectURL(blob);\n",
              "      a.download = filename;\n",
              "      div.appendChild(a);\n",
              "      a.click();\n",
              "      div.remove();\n",
              "    }\n",
              "  "
            ]
          },
          "metadata": {}
        },
        {
          "output_type": "display_data",
          "data": {
            "text/plain": [
              "<IPython.core.display.Javascript object>"
            ],
            "application/javascript": [
              "download(\"download_fd9f61b9-7a9d-401a-ad18-8bf65b4b0b85\", \"Vadodara_Region_BO_offices.csv\", 300220)"
            ]
          },
          "metadata": {}
        },
        {
          "output_type": "stream",
          "name": "stdout",
          "text": [
            "Downloaded Vadodara_Region_BO_offices.csv\n"
          ]
        },
        {
          "output_type": "display_data",
          "data": {
            "text/plain": [
              "<IPython.core.display.Javascript object>"
            ],
            "application/javascript": [
              "\n",
              "    async function download(id, filename, size) {\n",
              "      if (!google.colab.kernel.accessAllowed) {\n",
              "        return;\n",
              "      }\n",
              "      const div = document.createElement('div');\n",
              "      const label = document.createElement('label');\n",
              "      label.textContent = `Downloading \"${filename}\": `;\n",
              "      div.appendChild(label);\n",
              "      const progress = document.createElement('progress');\n",
              "      progress.max = size;\n",
              "      div.appendChild(progress);\n",
              "      document.body.appendChild(div);\n",
              "\n",
              "      const buffers = [];\n",
              "      let downloaded = 0;\n",
              "\n",
              "      const channel = await google.colab.kernel.comms.open(id);\n",
              "      // Send a message to notify the kernel that we're ready.\n",
              "      channel.send({})\n",
              "\n",
              "      for await (const message of channel.messages) {\n",
              "        // Send a message to notify the kernel that we're ready.\n",
              "        channel.send({})\n",
              "        if (message.buffers) {\n",
              "          for (const buffer of message.buffers) {\n",
              "            buffers.push(buffer);\n",
              "            downloaded += buffer.byteLength;\n",
              "            progress.value = downloaded;\n",
              "          }\n",
              "        }\n",
              "      }\n",
              "      const blob = new Blob(buffers, {type: 'application/binary'});\n",
              "      const a = document.createElement('a');\n",
              "      a.href = window.URL.createObjectURL(blob);\n",
              "      a.download = filename;\n",
              "      div.appendChild(a);\n",
              "      a.click();\n",
              "      div.remove();\n",
              "    }\n",
              "  "
            ]
          },
          "metadata": {}
        },
        {
          "output_type": "display_data",
          "data": {
            "text/plain": [
              "<IPython.core.display.Javascript object>"
            ],
            "application/javascript": [
              "download(\"download_42adf4d2-472e-49b4-8d59-c548acb059e3\", \"Srinagar_HQ_Region_HO_offices.csv\", 198)"
            ]
          },
          "metadata": {}
        },
        {
          "output_type": "stream",
          "name": "stdout",
          "text": [
            "Downloaded Srinagar_HQ_Region_HO_offices.csv\n"
          ]
        },
        {
          "output_type": "display_data",
          "data": {
            "text/plain": [
              "<IPython.core.display.Javascript object>"
            ],
            "application/javascript": [
              "\n",
              "    async function download(id, filename, size) {\n",
              "      if (!google.colab.kernel.accessAllowed) {\n",
              "        return;\n",
              "      }\n",
              "      const div = document.createElement('div');\n",
              "      const label = document.createElement('label');\n",
              "      label.textContent = `Downloading \"${filename}\": `;\n",
              "      div.appendChild(label);\n",
              "      const progress = document.createElement('progress');\n",
              "      progress.max = size;\n",
              "      div.appendChild(progress);\n",
              "      document.body.appendChild(div);\n",
              "\n",
              "      const buffers = [];\n",
              "      let downloaded = 0;\n",
              "\n",
              "      const channel = await google.colab.kernel.comms.open(id);\n",
              "      // Send a message to notify the kernel that we're ready.\n",
              "      channel.send({})\n",
              "\n",
              "      for await (const message of channel.messages) {\n",
              "        // Send a message to notify the kernel that we're ready.\n",
              "        channel.send({})\n",
              "        if (message.buffers) {\n",
              "          for (const buffer of message.buffers) {\n",
              "            buffers.push(buffer);\n",
              "            downloaded += buffer.byteLength;\n",
              "            progress.value = downloaded;\n",
              "          }\n",
              "        }\n",
              "      }\n",
              "      const blob = new Blob(buffers, {type: 'application/binary'});\n",
              "      const a = document.createElement('a');\n",
              "      a.href = window.URL.createObjectURL(blob);\n",
              "      a.download = filename;\n",
              "      div.appendChild(a);\n",
              "      a.click();\n",
              "      div.remove();\n",
              "    }\n",
              "  "
            ]
          },
          "metadata": {}
        },
        {
          "output_type": "display_data",
          "data": {
            "text/plain": [
              "<IPython.core.display.Javascript object>"
            ],
            "application/javascript": [
              "download(\"download_6696a7f2-3378-4280-a4bc-3c8d3a9352e1\", \"Srinagar_HQ_Region_SO_offices.csv\", 1794)"
            ]
          },
          "metadata": {}
        },
        {
          "output_type": "stream",
          "name": "stdout",
          "text": [
            "Downloaded Srinagar_HQ_Region_SO_offices.csv\n"
          ]
        },
        {
          "output_type": "display_data",
          "data": {
            "text/plain": [
              "<IPython.core.display.Javascript object>"
            ],
            "application/javascript": [
              "\n",
              "    async function download(id, filename, size) {\n",
              "      if (!google.colab.kernel.accessAllowed) {\n",
              "        return;\n",
              "      }\n",
              "      const div = document.createElement('div');\n",
              "      const label = document.createElement('label');\n",
              "      label.textContent = `Downloading \"${filename}\": `;\n",
              "      div.appendChild(label);\n",
              "      const progress = document.createElement('progress');\n",
              "      progress.max = size;\n",
              "      div.appendChild(progress);\n",
              "      document.body.appendChild(div);\n",
              "\n",
              "      const buffers = [];\n",
              "      let downloaded = 0;\n",
              "\n",
              "      const channel = await google.colab.kernel.comms.open(id);\n",
              "      // Send a message to notify the kernel that we're ready.\n",
              "      channel.send({})\n",
              "\n",
              "      for await (const message of channel.messages) {\n",
              "        // Send a message to notify the kernel that we're ready.\n",
              "        channel.send({})\n",
              "        if (message.buffers) {\n",
              "          for (const buffer of message.buffers) {\n",
              "            buffers.push(buffer);\n",
              "            downloaded += buffer.byteLength;\n",
              "            progress.value = downloaded;\n",
              "          }\n",
              "        }\n",
              "      }\n",
              "      const blob = new Blob(buffers, {type: 'application/binary'});\n",
              "      const a = document.createElement('a');\n",
              "      a.href = window.URL.createObjectURL(blob);\n",
              "      a.download = filename;\n",
              "      div.appendChild(a);\n",
              "      a.click();\n",
              "      div.remove();\n",
              "    }\n",
              "  "
            ]
          },
          "metadata": {}
        },
        {
          "output_type": "display_data",
          "data": {
            "text/plain": [
              "<IPython.core.display.Javascript object>"
            ],
            "application/javascript": [
              "download(\"download_13fc5dea-4328-4b42-bc7c-7fb5e8cd65e5\", \"Srinagar_HQ_Region_BO_offices.csv\", 10232)"
            ]
          },
          "metadata": {}
        },
        {
          "output_type": "stream",
          "name": "stdout",
          "text": [
            "Downloaded Srinagar_HQ_Region_BO_offices.csv\n"
          ]
        },
        {
          "output_type": "display_data",
          "data": {
            "text/plain": [
              "<IPython.core.display.Javascript object>"
            ],
            "application/javascript": [
              "\n",
              "    async function download(id, filename, size) {\n",
              "      if (!google.colab.kernel.accessAllowed) {\n",
              "        return;\n",
              "      }\n",
              "      const div = document.createElement('div');\n",
              "      const label = document.createElement('label');\n",
              "      label.textContent = `Downloading \"${filename}\": `;\n",
              "      div.appendChild(label);\n",
              "      const progress = document.createElement('progress');\n",
              "      progress.max = size;\n",
              "      div.appendChild(progress);\n",
              "      document.body.appendChild(div);\n",
              "\n",
              "      const buffers = [];\n",
              "      let downloaded = 0;\n",
              "\n",
              "      const channel = await google.colab.kernel.comms.open(id);\n",
              "      // Send a message to notify the kernel that we're ready.\n",
              "      channel.send({})\n",
              "\n",
              "      for await (const message of channel.messages) {\n",
              "        // Send a message to notify the kernel that we're ready.\n",
              "        channel.send({})\n",
              "        if (message.buffers) {\n",
              "          for (const buffer of message.buffers) {\n",
              "            buffers.push(buffer);\n",
              "            downloaded += buffer.byteLength;\n",
              "            progress.value = downloaded;\n",
              "          }\n",
              "        }\n",
              "      }\n",
              "      const blob = new Blob(buffers, {type: 'application/binary'});\n",
              "      const a = document.createElement('a');\n",
              "      a.href = window.URL.createObjectURL(blob);\n",
              "      a.download = filename;\n",
              "      div.appendChild(a);\n",
              "      a.click();\n",
              "      div.remove();\n",
              "    }\n",
              "  "
            ]
          },
          "metadata": {}
        },
        {
          "output_type": "display_data",
          "data": {
            "text/plain": [
              "<IPython.core.display.Javascript object>"
            ],
            "application/javascript": [
              "download(\"download_bf55ec05-6d45-4f6f-ab82-e2f08a267c57\", \"Bengaluru_HQ_Region_HO_offices.csv\", 673)"
            ]
          },
          "metadata": {}
        },
        {
          "output_type": "stream",
          "name": "stdout",
          "text": [
            "Downloaded Bengaluru_HQ_Region_HO_offices.csv\n"
          ]
        },
        {
          "output_type": "display_data",
          "data": {
            "text/plain": [
              "<IPython.core.display.Javascript object>"
            ],
            "application/javascript": [
              "\n",
              "    async function download(id, filename, size) {\n",
              "      if (!google.colab.kernel.accessAllowed) {\n",
              "        return;\n",
              "      }\n",
              "      const div = document.createElement('div');\n",
              "      const label = document.createElement('label');\n",
              "      label.textContent = `Downloading \"${filename}\": `;\n",
              "      div.appendChild(label);\n",
              "      const progress = document.createElement('progress');\n",
              "      progress.max = size;\n",
              "      div.appendChild(progress);\n",
              "      document.body.appendChild(div);\n",
              "\n",
              "      const buffers = [];\n",
              "      let downloaded = 0;\n",
              "\n",
              "      const channel = await google.colab.kernel.comms.open(id);\n",
              "      // Send a message to notify the kernel that we're ready.\n",
              "      channel.send({})\n",
              "\n",
              "      for await (const message of channel.messages) {\n",
              "        // Send a message to notify the kernel that we're ready.\n",
              "        channel.send({})\n",
              "        if (message.buffers) {\n",
              "          for (const buffer of message.buffers) {\n",
              "            buffers.push(buffer);\n",
              "            downloaded += buffer.byteLength;\n",
              "            progress.value = downloaded;\n",
              "          }\n",
              "        }\n",
              "      }\n",
              "      const blob = new Blob(buffers, {type: 'application/binary'});\n",
              "      const a = document.createElement('a');\n",
              "      a.href = window.URL.createObjectURL(blob);\n",
              "      a.download = filename;\n",
              "      div.appendChild(a);\n",
              "      a.click();\n",
              "      div.remove();\n",
              "    }\n",
              "  "
            ]
          },
          "metadata": {}
        },
        {
          "output_type": "display_data",
          "data": {
            "text/plain": [
              "<IPython.core.display.Javascript object>"
            ],
            "application/javascript": [
              "download(\"download_52a71441-e430-4547-9f7e-d21340254156\", \"Bengaluru_HQ_Region_SO_offices.csv\", 19324)"
            ]
          },
          "metadata": {}
        },
        {
          "output_type": "stream",
          "name": "stdout",
          "text": [
            "Downloaded Bengaluru_HQ_Region_SO_offices.csv\n"
          ]
        },
        {
          "output_type": "display_data",
          "data": {
            "text/plain": [
              "<IPython.core.display.Javascript object>"
            ],
            "application/javascript": [
              "\n",
              "    async function download(id, filename, size) {\n",
              "      if (!google.colab.kernel.accessAllowed) {\n",
              "        return;\n",
              "      }\n",
              "      const div = document.createElement('div');\n",
              "      const label = document.createElement('label');\n",
              "      label.textContent = `Downloading \"${filename}\": `;\n",
              "      div.appendChild(label);\n",
              "      const progress = document.createElement('progress');\n",
              "      progress.max = size;\n",
              "      div.appendChild(progress);\n",
              "      document.body.appendChild(div);\n",
              "\n",
              "      const buffers = [];\n",
              "      let downloaded = 0;\n",
              "\n",
              "      const channel = await google.colab.kernel.comms.open(id);\n",
              "      // Send a message to notify the kernel that we're ready.\n",
              "      channel.send({})\n",
              "\n",
              "      for await (const message of channel.messages) {\n",
              "        // Send a message to notify the kernel that we're ready.\n",
              "        channel.send({})\n",
              "        if (message.buffers) {\n",
              "          for (const buffer of message.buffers) {\n",
              "            buffers.push(buffer);\n",
              "            downloaded += buffer.byteLength;\n",
              "            progress.value = downloaded;\n",
              "          }\n",
              "        }\n",
              "      }\n",
              "      const blob = new Blob(buffers, {type: 'application/binary'});\n",
              "      const a = document.createElement('a');\n",
              "      a.href = window.URL.createObjectURL(blob);\n",
              "      a.download = filename;\n",
              "      div.appendChild(a);\n",
              "      a.click();\n",
              "      div.remove();\n",
              "    }\n",
              "  "
            ]
          },
          "metadata": {}
        },
        {
          "output_type": "display_data",
          "data": {
            "text/plain": [
              "<IPython.core.display.Javascript object>"
            ],
            "application/javascript": [
              "download(\"download_783ab675-f3b4-4850-b18d-281a49c3d81f\", \"Bengaluru_HQ_Region_BO_offices.csv\", 39350)"
            ]
          },
          "metadata": {}
        },
        {
          "output_type": "stream",
          "name": "stdout",
          "text": [
            "Downloaded Bengaluru_HQ_Region_BO_offices.csv\n"
          ]
        },
        {
          "output_type": "display_data",
          "data": {
            "text/plain": [
              "<IPython.core.display.Javascript object>"
            ],
            "application/javascript": [
              "\n",
              "    async function download(id, filename, size) {\n",
              "      if (!google.colab.kernel.accessAllowed) {\n",
              "        return;\n",
              "      }\n",
              "      const div = document.createElement('div');\n",
              "      const label = document.createElement('label');\n",
              "      label.textContent = `Downloading \"${filename}\": `;\n",
              "      div.appendChild(label);\n",
              "      const progress = document.createElement('progress');\n",
              "      progress.max = size;\n",
              "      div.appendChild(progress);\n",
              "      document.body.appendChild(div);\n",
              "\n",
              "      const buffers = [];\n",
              "      let downloaded = 0;\n",
              "\n",
              "      const channel = await google.colab.kernel.comms.open(id);\n",
              "      // Send a message to notify the kernel that we're ready.\n",
              "      channel.send({})\n",
              "\n",
              "      for await (const message of channel.messages) {\n",
              "        // Send a message to notify the kernel that we're ready.\n",
              "        channel.send({})\n",
              "        if (message.buffers) {\n",
              "          for (const buffer of message.buffers) {\n",
              "            buffers.push(buffer);\n",
              "            downloaded += buffer.byteLength;\n",
              "            progress.value = downloaded;\n",
              "          }\n",
              "        }\n",
              "      }\n",
              "      const blob = new Blob(buffers, {type: 'application/binary'});\n",
              "      const a = document.createElement('a');\n",
              "      a.href = window.URL.createObjectURL(blob);\n",
              "      a.download = filename;\n",
              "      div.appendChild(a);\n",
              "      a.click();\n",
              "      div.remove();\n",
              "    }\n",
              "  "
            ]
          },
          "metadata": {}
        },
        {
          "output_type": "display_data",
          "data": {
            "text/plain": [
              "<IPython.core.display.Javascript object>"
            ],
            "application/javascript": [
              "download(\"download_c196a6c6-04f9-4809-95fc-df07c31cbbc9\", \"North_Karnataka_Region_HO_offices.csv\", 2562)"
            ]
          },
          "metadata": {}
        },
        {
          "output_type": "stream",
          "name": "stdout",
          "text": [
            "Downloaded North_Karnataka_Region_HO_offices.csv\n"
          ]
        },
        {
          "output_type": "display_data",
          "data": {
            "text/plain": [
              "<IPython.core.display.Javascript object>"
            ],
            "application/javascript": [
              "\n",
              "    async function download(id, filename, size) {\n",
              "      if (!google.colab.kernel.accessAllowed) {\n",
              "        return;\n",
              "      }\n",
              "      const div = document.createElement('div');\n",
              "      const label = document.createElement('label');\n",
              "      label.textContent = `Downloading \"${filename}\": `;\n",
              "      div.appendChild(label);\n",
              "      const progress = document.createElement('progress');\n",
              "      progress.max = size;\n",
              "      div.appendChild(progress);\n",
              "      document.body.appendChild(div);\n",
              "\n",
              "      const buffers = [];\n",
              "      let downloaded = 0;\n",
              "\n",
              "      const channel = await google.colab.kernel.comms.open(id);\n",
              "      // Send a message to notify the kernel that we're ready.\n",
              "      channel.send({})\n",
              "\n",
              "      for await (const message of channel.messages) {\n",
              "        // Send a message to notify the kernel that we're ready.\n",
              "        channel.send({})\n",
              "        if (message.buffers) {\n",
              "          for (const buffer of message.buffers) {\n",
              "            buffers.push(buffer);\n",
              "            downloaded += buffer.byteLength;\n",
              "            progress.value = downloaded;\n",
              "          }\n",
              "        }\n",
              "      }\n",
              "      const blob = new Blob(buffers, {type: 'application/binary'});\n",
              "      const a = document.createElement('a');\n",
              "      a.href = window.URL.createObjectURL(blob);\n",
              "      a.download = filename;\n",
              "      div.appendChild(a);\n",
              "      a.click();\n",
              "      div.remove();\n",
              "    }\n",
              "  "
            ]
          },
          "metadata": {}
        },
        {
          "output_type": "display_data",
          "data": {
            "text/plain": [
              "<IPython.core.display.Javascript object>"
            ],
            "application/javascript": [
              "download(\"download_3a0d1352-90f3-446b-9229-2110c0ce00f3\", \"North_Karnataka_Region_SO_offices.csv\", 76962)"
            ]
          },
          "metadata": {}
        },
        {
          "output_type": "stream",
          "name": "stdout",
          "text": [
            "Downloaded North_Karnataka_Region_SO_offices.csv\n"
          ]
        },
        {
          "output_type": "display_data",
          "data": {
            "text/plain": [
              "<IPython.core.display.Javascript object>"
            ],
            "application/javascript": [
              "\n",
              "    async function download(id, filename, size) {\n",
              "      if (!google.colab.kernel.accessAllowed) {\n",
              "        return;\n",
              "      }\n",
              "      const div = document.createElement('div');\n",
              "      const label = document.createElement('label');\n",
              "      label.textContent = `Downloading \"${filename}\": `;\n",
              "      div.appendChild(label);\n",
              "      const progress = document.createElement('progress');\n",
              "      progress.max = size;\n",
              "      div.appendChild(progress);\n",
              "      document.body.appendChild(div);\n",
              "\n",
              "      const buffers = [];\n",
              "      let downloaded = 0;\n",
              "\n",
              "      const channel = await google.colab.kernel.comms.open(id);\n",
              "      // Send a message to notify the kernel that we're ready.\n",
              "      channel.send({})\n",
              "\n",
              "      for await (const message of channel.messages) {\n",
              "        // Send a message to notify the kernel that we're ready.\n",
              "        channel.send({})\n",
              "        if (message.buffers) {\n",
              "          for (const buffer of message.buffers) {\n",
              "            buffers.push(buffer);\n",
              "            downloaded += buffer.byteLength;\n",
              "            progress.value = downloaded;\n",
              "          }\n",
              "        }\n",
              "      }\n",
              "      const blob = new Blob(buffers, {type: 'application/binary'});\n",
              "      const a = document.createElement('a');\n",
              "      a.href = window.URL.createObjectURL(blob);\n",
              "      a.download = filename;\n",
              "      div.appendChild(a);\n",
              "      a.click();\n",
              "      div.remove();\n",
              "    }\n",
              "  "
            ]
          },
          "metadata": {}
        },
        {
          "output_type": "display_data",
          "data": {
            "text/plain": [
              "<IPython.core.display.Javascript object>"
            ],
            "application/javascript": [
              "download(\"download_d92c614b-acc5-4491-931c-a407f5622f67\", \"North_Karnataka_Region_BO_offices.csv\", 413986)"
            ]
          },
          "metadata": {}
        },
        {
          "output_type": "stream",
          "name": "stdout",
          "text": [
            "Downloaded North_Karnataka_Region_BO_offices.csv\n"
          ]
        },
        {
          "output_type": "display_data",
          "data": {
            "text/plain": [
              "<IPython.core.display.Javascript object>"
            ],
            "application/javascript": [
              "\n",
              "    async function download(id, filename, size) {\n",
              "      if (!google.colab.kernel.accessAllowed) {\n",
              "        return;\n",
              "      }\n",
              "      const div = document.createElement('div');\n",
              "      const label = document.createElement('label');\n",
              "      label.textContent = `Downloading \"${filename}\": `;\n",
              "      div.appendChild(label);\n",
              "      const progress = document.createElement('progress');\n",
              "      progress.max = size;\n",
              "      div.appendChild(progress);\n",
              "      document.body.appendChild(div);\n",
              "\n",
              "      const buffers = [];\n",
              "      let downloaded = 0;\n",
              "\n",
              "      const channel = await google.colab.kernel.comms.open(id);\n",
              "      // Send a message to notify the kernel that we're ready.\n",
              "      channel.send({})\n",
              "\n",
              "      for await (const message of channel.messages) {\n",
              "        // Send a message to notify the kernel that we're ready.\n",
              "        channel.send({})\n",
              "        if (message.buffers) {\n",
              "          for (const buffer of message.buffers) {\n",
              "            buffers.push(buffer);\n",
              "            downloaded += buffer.byteLength;\n",
              "            progress.value = downloaded;\n",
              "          }\n",
              "        }\n",
              "      }\n",
              "      const blob = new Blob(buffers, {type: 'application/binary'});\n",
              "      const a = document.createElement('a');\n",
              "      a.href = window.URL.createObjectURL(blob);\n",
              "      a.download = filename;\n",
              "      div.appendChild(a);\n",
              "      a.click();\n",
              "      div.remove();\n",
              "    }\n",
              "  "
            ]
          },
          "metadata": {}
        },
        {
          "output_type": "display_data",
          "data": {
            "text/plain": [
              "<IPython.core.display.Javascript object>"
            ],
            "application/javascript": [
              "download(\"download_f1a5d72f-3b10-47fd-be36-860a3075846c\", \"South_Karnataka_Region_HO_offices.csv\", 3070)"
            ]
          },
          "metadata": {}
        },
        {
          "output_type": "stream",
          "name": "stdout",
          "text": [
            "Downloaded South_Karnataka_Region_HO_offices.csv\n"
          ]
        },
        {
          "output_type": "display_data",
          "data": {
            "text/plain": [
              "<IPython.core.display.Javascript object>"
            ],
            "application/javascript": [
              "\n",
              "    async function download(id, filename, size) {\n",
              "      if (!google.colab.kernel.accessAllowed) {\n",
              "        return;\n",
              "      }\n",
              "      const div = document.createElement('div');\n",
              "      const label = document.createElement('label');\n",
              "      label.textContent = `Downloading \"${filename}\": `;\n",
              "      div.appendChild(label);\n",
              "      const progress = document.createElement('progress');\n",
              "      progress.max = size;\n",
              "      div.appendChild(progress);\n",
              "      document.body.appendChild(div);\n",
              "\n",
              "      const buffers = [];\n",
              "      let downloaded = 0;\n",
              "\n",
              "      const channel = await google.colab.kernel.comms.open(id);\n",
              "      // Send a message to notify the kernel that we're ready.\n",
              "      channel.send({})\n",
              "\n",
              "      for await (const message of channel.messages) {\n",
              "        // Send a message to notify the kernel that we're ready.\n",
              "        channel.send({})\n",
              "        if (message.buffers) {\n",
              "          for (const buffer of message.buffers) {\n",
              "            buffers.push(buffer);\n",
              "            downloaded += buffer.byteLength;\n",
              "            progress.value = downloaded;\n",
              "          }\n",
              "        }\n",
              "      }\n",
              "      const blob = new Blob(buffers, {type: 'application/binary'});\n",
              "      const a = document.createElement('a');\n",
              "      a.href = window.URL.createObjectURL(blob);\n",
              "      a.download = filename;\n",
              "      div.appendChild(a);\n",
              "      a.click();\n",
              "      div.remove();\n",
              "    }\n",
              "  "
            ]
          },
          "metadata": {}
        },
        {
          "output_type": "display_data",
          "data": {
            "text/plain": [
              "<IPython.core.display.Javascript object>"
            ],
            "application/javascript": [
              "download(\"download_23e8f84a-6b3c-440a-b02e-59a283cf8ff0\", \"South_Karnataka_Region_SO_offices.csv\", 86619)"
            ]
          },
          "metadata": {}
        },
        {
          "output_type": "stream",
          "name": "stdout",
          "text": [
            "Downloaded South_Karnataka_Region_SO_offices.csv\n"
          ]
        },
        {
          "output_type": "display_data",
          "data": {
            "text/plain": [
              "<IPython.core.display.Javascript object>"
            ],
            "application/javascript": [
              "\n",
              "    async function download(id, filename, size) {\n",
              "      if (!google.colab.kernel.accessAllowed) {\n",
              "        return;\n",
              "      }\n",
              "      const div = document.createElement('div');\n",
              "      const label = document.createElement('label');\n",
              "      label.textContent = `Downloading \"${filename}\": `;\n",
              "      div.appendChild(label);\n",
              "      const progress = document.createElement('progress');\n",
              "      progress.max = size;\n",
              "      div.appendChild(progress);\n",
              "      document.body.appendChild(div);\n",
              "\n",
              "      const buffers = [];\n",
              "      let downloaded = 0;\n",
              "\n",
              "      const channel = await google.colab.kernel.comms.open(id);\n",
              "      // Send a message to notify the kernel that we're ready.\n",
              "      channel.send({})\n",
              "\n",
              "      for await (const message of channel.messages) {\n",
              "        // Send a message to notify the kernel that we're ready.\n",
              "        channel.send({})\n",
              "        if (message.buffers) {\n",
              "          for (const buffer of message.buffers) {\n",
              "            buffers.push(buffer);\n",
              "            downloaded += buffer.byteLength;\n",
              "            progress.value = downloaded;\n",
              "          }\n",
              "        }\n",
              "      }\n",
              "      const blob = new Blob(buffers, {type: 'application/binary'});\n",
              "      const a = document.createElement('a');\n",
              "      a.href = window.URL.createObjectURL(blob);\n",
              "      a.download = filename;\n",
              "      div.appendChild(a);\n",
              "      a.click();\n",
              "      div.remove();\n",
              "    }\n",
              "  "
            ]
          },
          "metadata": {}
        },
        {
          "output_type": "display_data",
          "data": {
            "text/plain": [
              "<IPython.core.display.Javascript object>"
            ],
            "application/javascript": [
              "download(\"download_2cc84dcc-7ae5-4dfa-a777-471e859c321e\", \"South_Karnataka_Region_BO_offices.csv\", 426905)"
            ]
          },
          "metadata": {}
        },
        {
          "output_type": "stream",
          "name": "stdout",
          "text": [
            "Downloaded South_Karnataka_Region_BO_offices.csv\n"
          ]
        },
        {
          "output_type": "display_data",
          "data": {
            "text/plain": [
              "<IPython.core.display.Javascript object>"
            ],
            "application/javascript": [
              "\n",
              "    async function download(id, filename, size) {\n",
              "      if (!google.colab.kernel.accessAllowed) {\n",
              "        return;\n",
              "      }\n",
              "      const div = document.createElement('div');\n",
              "      const label = document.createElement('label');\n",
              "      label.textContent = `Downloading \"${filename}\": `;\n",
              "      div.appendChild(label);\n",
              "      const progress = document.createElement('progress');\n",
              "      progress.max = size;\n",
              "      div.appendChild(progress);\n",
              "      document.body.appendChild(div);\n",
              "\n",
              "      const buffers = [];\n",
              "      let downloaded = 0;\n",
              "\n",
              "      const channel = await google.colab.kernel.comms.open(id);\n",
              "      // Send a message to notify the kernel that we're ready.\n",
              "      channel.send({})\n",
              "\n",
              "      for await (const message of channel.messages) {\n",
              "        // Send a message to notify the kernel that we're ready.\n",
              "        channel.send({})\n",
              "        if (message.buffers) {\n",
              "          for (const buffer of message.buffers) {\n",
              "            buffers.push(buffer);\n",
              "            downloaded += buffer.byteLength;\n",
              "            progress.value = downloaded;\n",
              "          }\n",
              "        }\n",
              "      }\n",
              "      const blob = new Blob(buffers, {type: 'application/binary'});\n",
              "      const a = document.createElement('a');\n",
              "      a.href = window.URL.createObjectURL(blob);\n",
              "      a.download = filename;\n",
              "      div.appendChild(a);\n",
              "      a.click();\n",
              "      div.remove();\n",
              "    }\n",
              "  "
            ]
          },
          "metadata": {}
        },
        {
          "output_type": "display_data",
          "data": {
            "text/plain": [
              "<IPython.core.display.Javascript object>"
            ],
            "application/javascript": [
              "download(\"download_27ff4257-0320-4d2a-be06-893b1f8cac34\", \"Calicut_Region_HO_offices.csv\", 1815)"
            ]
          },
          "metadata": {}
        },
        {
          "output_type": "stream",
          "name": "stdout",
          "text": [
            "Downloaded Calicut_Region_HO_offices.csv\n"
          ]
        },
        {
          "output_type": "display_data",
          "data": {
            "text/plain": [
              "<IPython.core.display.Javascript object>"
            ],
            "application/javascript": [
              "\n",
              "    async function download(id, filename, size) {\n",
              "      if (!google.colab.kernel.accessAllowed) {\n",
              "        return;\n",
              "      }\n",
              "      const div = document.createElement('div');\n",
              "      const label = document.createElement('label');\n",
              "      label.textContent = `Downloading \"${filename}\": `;\n",
              "      div.appendChild(label);\n",
              "      const progress = document.createElement('progress');\n",
              "      progress.max = size;\n",
              "      div.appendChild(progress);\n",
              "      document.body.appendChild(div);\n",
              "\n",
              "      const buffers = [];\n",
              "      let downloaded = 0;\n",
              "\n",
              "      const channel = await google.colab.kernel.comms.open(id);\n",
              "      // Send a message to notify the kernel that we're ready.\n",
              "      channel.send({})\n",
              "\n",
              "      for await (const message of channel.messages) {\n",
              "        // Send a message to notify the kernel that we're ready.\n",
              "        channel.send({})\n",
              "        if (message.buffers) {\n",
              "          for (const buffer of message.buffers) {\n",
              "            buffers.push(buffer);\n",
              "            downloaded += buffer.byteLength;\n",
              "            progress.value = downloaded;\n",
              "          }\n",
              "        }\n",
              "      }\n",
              "      const blob = new Blob(buffers, {type: 'application/binary'});\n",
              "      const a = document.createElement('a');\n",
              "      a.href = window.URL.createObjectURL(blob);\n",
              "      a.download = filename;\n",
              "      div.appendChild(a);\n",
              "      a.click();\n",
              "      div.remove();\n",
              "    }\n",
              "  "
            ]
          },
          "metadata": {}
        },
        {
          "output_type": "display_data",
          "data": {
            "text/plain": [
              "<IPython.core.display.Javascript object>"
            ],
            "application/javascript": [
              "download(\"download_0c1c8c34-e1ad-4c6d-91fb-04d9fa1b31ef\", \"Calicut_Region_SO_offices.csv\", 47325)"
            ]
          },
          "metadata": {}
        },
        {
          "output_type": "stream",
          "name": "stdout",
          "text": [
            "Downloaded Calicut_Region_SO_offices.csv\n"
          ]
        },
        {
          "output_type": "display_data",
          "data": {
            "text/plain": [
              "<IPython.core.display.Javascript object>"
            ],
            "application/javascript": [
              "\n",
              "    async function download(id, filename, size) {\n",
              "      if (!google.colab.kernel.accessAllowed) {\n",
              "        return;\n",
              "      }\n",
              "      const div = document.createElement('div');\n",
              "      const label = document.createElement('label');\n",
              "      label.textContent = `Downloading \"${filename}\": `;\n",
              "      div.appendChild(label);\n",
              "      const progress = document.createElement('progress');\n",
              "      progress.max = size;\n",
              "      div.appendChild(progress);\n",
              "      document.body.appendChild(div);\n",
              "\n",
              "      const buffers = [];\n",
              "      let downloaded = 0;\n",
              "\n",
              "      const channel = await google.colab.kernel.comms.open(id);\n",
              "      // Send a message to notify the kernel that we're ready.\n",
              "      channel.send({})\n",
              "\n",
              "      for await (const message of channel.messages) {\n",
              "        // Send a message to notify the kernel that we're ready.\n",
              "        channel.send({})\n",
              "        if (message.buffers) {\n",
              "          for (const buffer of message.buffers) {\n",
              "            buffers.push(buffer);\n",
              "            downloaded += buffer.byteLength;\n",
              "            progress.value = downloaded;\n",
              "          }\n",
              "        }\n",
              "      }\n",
              "      const blob = new Blob(buffers, {type: 'application/binary'});\n",
              "      const a = document.createElement('a');\n",
              "      a.href = window.URL.createObjectURL(blob);\n",
              "      a.download = filename;\n",
              "      div.appendChild(a);\n",
              "      a.click();\n",
              "      div.remove();\n",
              "    }\n",
              "  "
            ]
          },
          "metadata": {}
        },
        {
          "output_type": "display_data",
          "data": {
            "text/plain": [
              "<IPython.core.display.Javascript object>"
            ],
            "application/javascript": [
              "download(\"download_cc0fc5ac-248a-4cba-a720-51bbc9efb562\", \"Calicut_Region_BO_offices.csv\", 151999)"
            ]
          },
          "metadata": {}
        },
        {
          "output_type": "stream",
          "name": "stdout",
          "text": [
            "Downloaded Calicut_Region_BO_offices.csv\n"
          ]
        },
        {
          "output_type": "display_data",
          "data": {
            "text/plain": [
              "<IPython.core.display.Javascript object>"
            ],
            "application/javascript": [
              "\n",
              "    async function download(id, filename, size) {\n",
              "      if (!google.colab.kernel.accessAllowed) {\n",
              "        return;\n",
              "      }\n",
              "      const div = document.createElement('div');\n",
              "      const label = document.createElement('label');\n",
              "      label.textContent = `Downloading \"${filename}\": `;\n",
              "      div.appendChild(label);\n",
              "      const progress = document.createElement('progress');\n",
              "      progress.max = size;\n",
              "      div.appendChild(progress);\n",
              "      document.body.appendChild(div);\n",
              "\n",
              "      const buffers = [];\n",
              "      let downloaded = 0;\n",
              "\n",
              "      const channel = await google.colab.kernel.comms.open(id);\n",
              "      // Send a message to notify the kernel that we're ready.\n",
              "      channel.send({})\n",
              "\n",
              "      for await (const message of channel.messages) {\n",
              "        // Send a message to notify the kernel that we're ready.\n",
              "        channel.send({})\n",
              "        if (message.buffers) {\n",
              "          for (const buffer of message.buffers) {\n",
              "            buffers.push(buffer);\n",
              "            downloaded += buffer.byteLength;\n",
              "            progress.value = downloaded;\n",
              "          }\n",
              "        }\n",
              "      }\n",
              "      const blob = new Blob(buffers, {type: 'application/binary'});\n",
              "      const a = document.createElement('a');\n",
              "      a.href = window.URL.createObjectURL(blob);\n",
              "      a.download = filename;\n",
              "      div.appendChild(a);\n",
              "      a.click();\n",
              "      div.remove();\n",
              "    }\n",
              "  "
            ]
          },
          "metadata": {}
        },
        {
          "output_type": "display_data",
          "data": {
            "text/plain": [
              "<IPython.core.display.Javascript object>"
            ],
            "application/javascript": [
              "download(\"download_22f0ba5e-c2f9-47cc-8c9e-efca48804bb5\", \"Kochi_Region_HO_offices.csv\", 2182)"
            ]
          },
          "metadata": {}
        },
        {
          "output_type": "stream",
          "name": "stdout",
          "text": [
            "Downloaded Kochi_Region_HO_offices.csv\n"
          ]
        },
        {
          "output_type": "display_data",
          "data": {
            "text/plain": [
              "<IPython.core.display.Javascript object>"
            ],
            "application/javascript": [
              "\n",
              "    async function download(id, filename, size) {\n",
              "      if (!google.colab.kernel.accessAllowed) {\n",
              "        return;\n",
              "      }\n",
              "      const div = document.createElement('div');\n",
              "      const label = document.createElement('label');\n",
              "      label.textContent = `Downloading \"${filename}\": `;\n",
              "      div.appendChild(label);\n",
              "      const progress = document.createElement('progress');\n",
              "      progress.max = size;\n",
              "      div.appendChild(progress);\n",
              "      document.body.appendChild(div);\n",
              "\n",
              "      const buffers = [];\n",
              "      let downloaded = 0;\n",
              "\n",
              "      const channel = await google.colab.kernel.comms.open(id);\n",
              "      // Send a message to notify the kernel that we're ready.\n",
              "      channel.send({})\n",
              "\n",
              "      for await (const message of channel.messages) {\n",
              "        // Send a message to notify the kernel that we're ready.\n",
              "        channel.send({})\n",
              "        if (message.buffers) {\n",
              "          for (const buffer of message.buffers) {\n",
              "            buffers.push(buffer);\n",
              "            downloaded += buffer.byteLength;\n",
              "            progress.value = downloaded;\n",
              "          }\n",
              "        }\n",
              "      }\n",
              "      const blob = new Blob(buffers, {type: 'application/binary'});\n",
              "      const a = document.createElement('a');\n",
              "      a.href = window.URL.createObjectURL(blob);\n",
              "      a.download = filename;\n",
              "      div.appendChild(a);\n",
              "      a.click();\n",
              "      div.remove();\n",
              "    }\n",
              "  "
            ]
          },
          "metadata": {}
        },
        {
          "output_type": "display_data",
          "data": {
            "text/plain": [
              "<IPython.core.display.Javascript object>"
            ],
            "application/javascript": [
              "download(\"download_c1e431d6-df8c-4b69-bb02-2b9a1836a9d8\", \"Kochi_Region_SO_offices.csv\", 57867)"
            ]
          },
          "metadata": {}
        },
        {
          "output_type": "stream",
          "name": "stdout",
          "text": [
            "Downloaded Kochi_Region_SO_offices.csv\n"
          ]
        },
        {
          "output_type": "display_data",
          "data": {
            "text/plain": [
              "<IPython.core.display.Javascript object>"
            ],
            "application/javascript": [
              "\n",
              "    async function download(id, filename, size) {\n",
              "      if (!google.colab.kernel.accessAllowed) {\n",
              "        return;\n",
              "      }\n",
              "      const div = document.createElement('div');\n",
              "      const label = document.createElement('label');\n",
              "      label.textContent = `Downloading \"${filename}\": `;\n",
              "      div.appendChild(label);\n",
              "      const progress = document.createElement('progress');\n",
              "      progress.max = size;\n",
              "      div.appendChild(progress);\n",
              "      document.body.appendChild(div);\n",
              "\n",
              "      const buffers = [];\n",
              "      let downloaded = 0;\n",
              "\n",
              "      const channel = await google.colab.kernel.comms.open(id);\n",
              "      // Send a message to notify the kernel that we're ready.\n",
              "      channel.send({})\n",
              "\n",
              "      for await (const message of channel.messages) {\n",
              "        // Send a message to notify the kernel that we're ready.\n",
              "        channel.send({})\n",
              "        if (message.buffers) {\n",
              "          for (const buffer of message.buffers) {\n",
              "            buffers.push(buffer);\n",
              "            downloaded += buffer.byteLength;\n",
              "            progress.value = downloaded;\n",
              "          }\n",
              "        }\n",
              "      }\n",
              "      const blob = new Blob(buffers, {type: 'application/binary'});\n",
              "      const a = document.createElement('a');\n",
              "      a.href = window.URL.createObjectURL(blob);\n",
              "      a.download = filename;\n",
              "      div.appendChild(a);\n",
              "      a.click();\n",
              "      div.remove();\n",
              "    }\n",
              "  "
            ]
          },
          "metadata": {}
        },
        {
          "output_type": "display_data",
          "data": {
            "text/plain": [
              "<IPython.core.display.Javascript object>"
            ],
            "application/javascript": [
              "download(\"download_59103ad0-560f-433d-80be-4a1d6bb3df02\", \"Kochi_Region_BO_offices.csv\", 117557)"
            ]
          },
          "metadata": {}
        },
        {
          "output_type": "stream",
          "name": "stdout",
          "text": [
            "Downloaded Kochi_Region_BO_offices.csv\n"
          ]
        },
        {
          "output_type": "display_data",
          "data": {
            "text/plain": [
              "<IPython.core.display.Javascript object>"
            ],
            "application/javascript": [
              "\n",
              "    async function download(id, filename, size) {\n",
              "      if (!google.colab.kernel.accessAllowed) {\n",
              "        return;\n",
              "      }\n",
              "      const div = document.createElement('div');\n",
              "      const label = document.createElement('label');\n",
              "      label.textContent = `Downloading \"${filename}\": `;\n",
              "      div.appendChild(label);\n",
              "      const progress = document.createElement('progress');\n",
              "      progress.max = size;\n",
              "      div.appendChild(progress);\n",
              "      document.body.appendChild(div);\n",
              "\n",
              "      const buffers = [];\n",
              "      let downloaded = 0;\n",
              "\n",
              "      const channel = await google.colab.kernel.comms.open(id);\n",
              "      // Send a message to notify the kernel that we're ready.\n",
              "      channel.send({})\n",
              "\n",
              "      for await (const message of channel.messages) {\n",
              "        // Send a message to notify the kernel that we're ready.\n",
              "        channel.send({})\n",
              "        if (message.buffers) {\n",
              "          for (const buffer of message.buffers) {\n",
              "            buffers.push(buffer);\n",
              "            downloaded += buffer.byteLength;\n",
              "            progress.value = downloaded;\n",
              "          }\n",
              "        }\n",
              "      }\n",
              "      const blob = new Blob(buffers, {type: 'application/binary'});\n",
              "      const a = document.createElement('a');\n",
              "      a.href = window.URL.createObjectURL(blob);\n",
              "      a.download = filename;\n",
              "      div.appendChild(a);\n",
              "      a.click();\n",
              "      div.remove();\n",
              "    }\n",
              "  "
            ]
          },
          "metadata": {}
        },
        {
          "output_type": "display_data",
          "data": {
            "text/plain": [
              "<IPython.core.display.Javascript object>"
            ],
            "application/javascript": [
              "download(\"download_dc1bfd57-197f-452e-8777-ebae5f8683b8\", \"Indore_Region_HO_offices.csv\", 2560)"
            ]
          },
          "metadata": {}
        },
        {
          "output_type": "stream",
          "name": "stdout",
          "text": [
            "Downloaded Indore_Region_HO_offices.csv\n"
          ]
        },
        {
          "output_type": "display_data",
          "data": {
            "text/plain": [
              "<IPython.core.display.Javascript object>"
            ],
            "application/javascript": [
              "\n",
              "    async function download(id, filename, size) {\n",
              "      if (!google.colab.kernel.accessAllowed) {\n",
              "        return;\n",
              "      }\n",
              "      const div = document.createElement('div');\n",
              "      const label = document.createElement('label');\n",
              "      label.textContent = `Downloading \"${filename}\": `;\n",
              "      div.appendChild(label);\n",
              "      const progress = document.createElement('progress');\n",
              "      progress.max = size;\n",
              "      div.appendChild(progress);\n",
              "      document.body.appendChild(div);\n",
              "\n",
              "      const buffers = [];\n",
              "      let downloaded = 0;\n",
              "\n",
              "      const channel = await google.colab.kernel.comms.open(id);\n",
              "      // Send a message to notify the kernel that we're ready.\n",
              "      channel.send({})\n",
              "\n",
              "      for await (const message of channel.messages) {\n",
              "        // Send a message to notify the kernel that we're ready.\n",
              "        channel.send({})\n",
              "        if (message.buffers) {\n",
              "          for (const buffer of message.buffers) {\n",
              "            buffers.push(buffer);\n",
              "            downloaded += buffer.byteLength;\n",
              "            progress.value = downloaded;\n",
              "          }\n",
              "        }\n",
              "      }\n",
              "      const blob = new Blob(buffers, {type: 'application/binary'});\n",
              "      const a = document.createElement('a');\n",
              "      a.href = window.URL.createObjectURL(blob);\n",
              "      a.download = filename;\n",
              "      div.appendChild(a);\n",
              "      a.click();\n",
              "      div.remove();\n",
              "    }\n",
              "  "
            ]
          },
          "metadata": {}
        },
        {
          "output_type": "display_data",
          "data": {
            "text/plain": [
              "<IPython.core.display.Javascript object>"
            ],
            "application/javascript": [
              "download(\"download_0a2749ba-f605-4c2c-9fb4-926dddf3eb46\", \"Indore_Region_SO_offices.csv\", 57356)"
            ]
          },
          "metadata": {}
        },
        {
          "output_type": "stream",
          "name": "stdout",
          "text": [
            "Downloaded Indore_Region_SO_offices.csv\n"
          ]
        },
        {
          "output_type": "display_data",
          "data": {
            "text/plain": [
              "<IPython.core.display.Javascript object>"
            ],
            "application/javascript": [
              "\n",
              "    async function download(id, filename, size) {\n",
              "      if (!google.colab.kernel.accessAllowed) {\n",
              "        return;\n",
              "      }\n",
              "      const div = document.createElement('div');\n",
              "      const label = document.createElement('label');\n",
              "      label.textContent = `Downloading \"${filename}\": `;\n",
              "      div.appendChild(label);\n",
              "      const progress = document.createElement('progress');\n",
              "      progress.max = size;\n",
              "      div.appendChild(progress);\n",
              "      document.body.appendChild(div);\n",
              "\n",
              "      const buffers = [];\n",
              "      let downloaded = 0;\n",
              "\n",
              "      const channel = await google.colab.kernel.comms.open(id);\n",
              "      // Send a message to notify the kernel that we're ready.\n",
              "      channel.send({})\n",
              "\n",
              "      for await (const message of channel.messages) {\n",
              "        // Send a message to notify the kernel that we're ready.\n",
              "        channel.send({})\n",
              "        if (message.buffers) {\n",
              "          for (const buffer of message.buffers) {\n",
              "            buffers.push(buffer);\n",
              "            downloaded += buffer.byteLength;\n",
              "            progress.value = downloaded;\n",
              "          }\n",
              "        }\n",
              "      }\n",
              "      const blob = new Blob(buffers, {type: 'application/binary'});\n",
              "      const a = document.createElement('a');\n",
              "      a.href = window.URL.createObjectURL(blob);\n",
              "      a.download = filename;\n",
              "      div.appendChild(a);\n",
              "      a.click();\n",
              "      div.remove();\n",
              "    }\n",
              "  "
            ]
          },
          "metadata": {}
        },
        {
          "output_type": "display_data",
          "data": {
            "text/plain": [
              "<IPython.core.display.Javascript object>"
            ],
            "application/javascript": [
              "download(\"download_f20e7e1e-5e8d-4e1c-ad91-b26c392f2277\", \"Indore_Region_BO_offices.csv\", 384870)"
            ]
          },
          "metadata": {}
        },
        {
          "output_type": "stream",
          "name": "stdout",
          "text": [
            "Downloaded Indore_Region_BO_offices.csv\n"
          ]
        },
        {
          "output_type": "display_data",
          "data": {
            "text/plain": [
              "<IPython.core.display.Javascript object>"
            ],
            "application/javascript": [
              "\n",
              "    async function download(id, filename, size) {\n",
              "      if (!google.colab.kernel.accessAllowed) {\n",
              "        return;\n",
              "      }\n",
              "      const div = document.createElement('div');\n",
              "      const label = document.createElement('label');\n",
              "      label.textContent = `Downloading \"${filename}\": `;\n",
              "      div.appendChild(label);\n",
              "      const progress = document.createElement('progress');\n",
              "      progress.max = size;\n",
              "      div.appendChild(progress);\n",
              "      document.body.appendChild(div);\n",
              "\n",
              "      const buffers = [];\n",
              "      let downloaded = 0;\n",
              "\n",
              "      const channel = await google.colab.kernel.comms.open(id);\n",
              "      // Send a message to notify the kernel that we're ready.\n",
              "      channel.send({})\n",
              "\n",
              "      for await (const message of channel.messages) {\n",
              "        // Send a message to notify the kernel that we're ready.\n",
              "        channel.send({})\n",
              "        if (message.buffers) {\n",
              "          for (const buffer of message.buffers) {\n",
              "            buffers.push(buffer);\n",
              "            downloaded += buffer.byteLength;\n",
              "            progress.value = downloaded;\n",
              "          }\n",
              "        }\n",
              "      }\n",
              "      const blob = new Blob(buffers, {type: 'application/binary'});\n",
              "      const a = document.createElement('a');\n",
              "      a.href = window.URL.createObjectURL(blob);\n",
              "      a.download = filename;\n",
              "      div.appendChild(a);\n",
              "      a.click();\n",
              "      div.remove();\n",
              "    }\n",
              "  "
            ]
          },
          "metadata": {}
        },
        {
          "output_type": "display_data",
          "data": {
            "text/plain": [
              "<IPython.core.display.Javascript object>"
            ],
            "application/javascript": [
              "download(\"download_6df61c30-a91f-448f-9ccb-f1befb759dfe\", \"Jabalpur_Region_HO_offices.csv\", 203)"
            ]
          },
          "metadata": {}
        },
        {
          "output_type": "stream",
          "name": "stdout",
          "text": [
            "Downloaded Jabalpur_Region_HO_offices.csv\n"
          ]
        },
        {
          "output_type": "display_data",
          "data": {
            "text/plain": [
              "<IPython.core.display.Javascript object>"
            ],
            "application/javascript": [
              "\n",
              "    async function download(id, filename, size) {\n",
              "      if (!google.colab.kernel.accessAllowed) {\n",
              "        return;\n",
              "      }\n",
              "      const div = document.createElement('div');\n",
              "      const label = document.createElement('label');\n",
              "      label.textContent = `Downloading \"${filename}\": `;\n",
              "      div.appendChild(label);\n",
              "      const progress = document.createElement('progress');\n",
              "      progress.max = size;\n",
              "      div.appendChild(progress);\n",
              "      document.body.appendChild(div);\n",
              "\n",
              "      const buffers = [];\n",
              "      let downloaded = 0;\n",
              "\n",
              "      const channel = await google.colab.kernel.comms.open(id);\n",
              "      // Send a message to notify the kernel that we're ready.\n",
              "      channel.send({})\n",
              "\n",
              "      for await (const message of channel.messages) {\n",
              "        // Send a message to notify the kernel that we're ready.\n",
              "        channel.send({})\n",
              "        if (message.buffers) {\n",
              "          for (const buffer of message.buffers) {\n",
              "            buffers.push(buffer);\n",
              "            downloaded += buffer.byteLength;\n",
              "            progress.value = downloaded;\n",
              "          }\n",
              "        }\n",
              "      }\n",
              "      const blob = new Blob(buffers, {type: 'application/binary'});\n",
              "      const a = document.createElement('a');\n",
              "      a.href = window.URL.createObjectURL(blob);\n",
              "      a.download = filename;\n",
              "      div.appendChild(a);\n",
              "      a.click();\n",
              "      div.remove();\n",
              "    }\n",
              "  "
            ]
          },
          "metadata": {}
        },
        {
          "output_type": "display_data",
          "data": {
            "text/plain": [
              "<IPython.core.display.Javascript object>"
            ],
            "application/javascript": [
              "download(\"download_63a5cb3f-11d6-43e3-bc85-e0299a1b43b1\", \"Jabalpur_Region_SO_offices.csv\", 2521)"
            ]
          },
          "metadata": {}
        },
        {
          "output_type": "stream",
          "name": "stdout",
          "text": [
            "Downloaded Jabalpur_Region_SO_offices.csv\n"
          ]
        },
        {
          "output_type": "display_data",
          "data": {
            "text/plain": [
              "<IPython.core.display.Javascript object>"
            ],
            "application/javascript": [
              "\n",
              "    async function download(id, filename, size) {\n",
              "      if (!google.colab.kernel.accessAllowed) {\n",
              "        return;\n",
              "      }\n",
              "      const div = document.createElement('div');\n",
              "      const label = document.createElement('label');\n",
              "      label.textContent = `Downloading \"${filename}\": `;\n",
              "      div.appendChild(label);\n",
              "      const progress = document.createElement('progress');\n",
              "      progress.max = size;\n",
              "      div.appendChild(progress);\n",
              "      document.body.appendChild(div);\n",
              "\n",
              "      const buffers = [];\n",
              "      let downloaded = 0;\n",
              "\n",
              "      const channel = await google.colab.kernel.comms.open(id);\n",
              "      // Send a message to notify the kernel that we're ready.\n",
              "      channel.send({})\n",
              "\n",
              "      for await (const message of channel.messages) {\n",
              "        // Send a message to notify the kernel that we're ready.\n",
              "        channel.send({})\n",
              "        if (message.buffers) {\n",
              "          for (const buffer of message.buffers) {\n",
              "            buffers.push(buffer);\n",
              "            downloaded += buffer.byteLength;\n",
              "            progress.value = downloaded;\n",
              "          }\n",
              "        }\n",
              "      }\n",
              "      const blob = new Blob(buffers, {type: 'application/binary'});\n",
              "      const a = document.createElement('a');\n",
              "      a.href = window.URL.createObjectURL(blob);\n",
              "      a.download = filename;\n",
              "      div.appendChild(a);\n",
              "      a.click();\n",
              "      div.remove();\n",
              "    }\n",
              "  "
            ]
          },
          "metadata": {}
        },
        {
          "output_type": "display_data",
          "data": {
            "text/plain": [
              "<IPython.core.display.Javascript object>"
            ],
            "application/javascript": [
              "download(\"download_701e19e0-656b-456e-a8e3-143b5167a5df\", \"Jabalpur_Region_BO_offices.csv\", 22585)"
            ]
          },
          "metadata": {}
        },
        {
          "output_type": "stream",
          "name": "stdout",
          "text": [
            "Downloaded Jabalpur_Region_BO_offices.csv\n"
          ]
        },
        {
          "output_type": "display_data",
          "data": {
            "text/plain": [
              "<IPython.core.display.Javascript object>"
            ],
            "application/javascript": [
              "\n",
              "    async function download(id, filename, size) {\n",
              "      if (!google.colab.kernel.accessAllowed) {\n",
              "        return;\n",
              "      }\n",
              "      const div = document.createElement('div');\n",
              "      const label = document.createElement('label');\n",
              "      label.textContent = `Downloading \"${filename}\": `;\n",
              "      div.appendChild(label);\n",
              "      const progress = document.createElement('progress');\n",
              "      progress.max = size;\n",
              "      div.appendChild(progress);\n",
              "      document.body.appendChild(div);\n",
              "\n",
              "      const buffers = [];\n",
              "      let downloaded = 0;\n",
              "\n",
              "      const channel = await google.colab.kernel.comms.open(id);\n",
              "      // Send a message to notify the kernel that we're ready.\n",
              "      channel.send({})\n",
              "\n",
              "      for await (const message of channel.messages) {\n",
              "        // Send a message to notify the kernel that we're ready.\n",
              "        channel.send({})\n",
              "        if (message.buffers) {\n",
              "          for (const buffer of message.buffers) {\n",
              "            buffers.push(buffer);\n",
              "            downloaded += buffer.byteLength;\n",
              "            progress.value = downloaded;\n",
              "          }\n",
              "        }\n",
              "      }\n",
              "      const blob = new Blob(buffers, {type: 'application/binary'});\n",
              "      const a = document.createElement('a');\n",
              "      a.href = window.URL.createObjectURL(blob);\n",
              "      a.download = filename;\n",
              "      div.appendChild(a);\n",
              "      a.click();\n",
              "      div.remove();\n",
              "    }\n",
              "  "
            ]
          },
          "metadata": {}
        },
        {
          "output_type": "display_data",
          "data": {
            "text/plain": [
              "<IPython.core.display.Javascript object>"
            ],
            "application/javascript": [
              "download(\"download_a9357964-5730-45f0-89c5-e16a150f1492\", \"Aurangabad_Region_HO_offices.csv\", 1261)"
            ]
          },
          "metadata": {}
        },
        {
          "output_type": "stream",
          "name": "stdout",
          "text": [
            "Downloaded Aurangabad_Region_HO_offices.csv\n"
          ]
        },
        {
          "output_type": "display_data",
          "data": {
            "text/plain": [
              "<IPython.core.display.Javascript object>"
            ],
            "application/javascript": [
              "\n",
              "    async function download(id, filename, size) {\n",
              "      if (!google.colab.kernel.accessAllowed) {\n",
              "        return;\n",
              "      }\n",
              "      const div = document.createElement('div');\n",
              "      const label = document.createElement('label');\n",
              "      label.textContent = `Downloading \"${filename}\": `;\n",
              "      div.appendChild(label);\n",
              "      const progress = document.createElement('progress');\n",
              "      progress.max = size;\n",
              "      div.appendChild(progress);\n",
              "      document.body.appendChild(div);\n",
              "\n",
              "      const buffers = [];\n",
              "      let downloaded = 0;\n",
              "\n",
              "      const channel = await google.colab.kernel.comms.open(id);\n",
              "      // Send a message to notify the kernel that we're ready.\n",
              "      channel.send({})\n",
              "\n",
              "      for await (const message of channel.messages) {\n",
              "        // Send a message to notify the kernel that we're ready.\n",
              "        channel.send({})\n",
              "        if (message.buffers) {\n",
              "          for (const buffer of message.buffers) {\n",
              "            buffers.push(buffer);\n",
              "            downloaded += buffer.byteLength;\n",
              "            progress.value = downloaded;\n",
              "          }\n",
              "        }\n",
              "      }\n",
              "      const blob = new Blob(buffers, {type: 'application/binary'});\n",
              "      const a = document.createElement('a');\n",
              "      a.href = window.URL.createObjectURL(blob);\n",
              "      a.download = filename;\n",
              "      div.appendChild(a);\n",
              "      a.click();\n",
              "      div.remove();\n",
              "    }\n",
              "  "
            ]
          },
          "metadata": {}
        },
        {
          "output_type": "display_data",
          "data": {
            "text/plain": [
              "<IPython.core.display.Javascript object>"
            ],
            "application/javascript": [
              "download(\"download_5f8bf168-f2a6-4e8d-b37d-2f6359837d8b\", \"Aurangabad_Region_SO_offices.csv\", 42784)"
            ]
          },
          "metadata": {}
        },
        {
          "output_type": "stream",
          "name": "stdout",
          "text": [
            "Downloaded Aurangabad_Region_SO_offices.csv\n"
          ]
        },
        {
          "output_type": "display_data",
          "data": {
            "text/plain": [
              "<IPython.core.display.Javascript object>"
            ],
            "application/javascript": [
              "\n",
              "    async function download(id, filename, size) {\n",
              "      if (!google.colab.kernel.accessAllowed) {\n",
              "        return;\n",
              "      }\n",
              "      const div = document.createElement('div');\n",
              "      const label = document.createElement('label');\n",
              "      label.textContent = `Downloading \"${filename}\": `;\n",
              "      div.appendChild(label);\n",
              "      const progress = document.createElement('progress');\n",
              "      progress.max = size;\n",
              "      div.appendChild(progress);\n",
              "      document.body.appendChild(div);\n",
              "\n",
              "      const buffers = [];\n",
              "      let downloaded = 0;\n",
              "\n",
              "      const channel = await google.colab.kernel.comms.open(id);\n",
              "      // Send a message to notify the kernel that we're ready.\n",
              "      channel.send({})\n",
              "\n",
              "      for await (const message of channel.messages) {\n",
              "        // Send a message to notify the kernel that we're ready.\n",
              "        channel.send({})\n",
              "        if (message.buffers) {\n",
              "          for (const buffer of message.buffers) {\n",
              "            buffers.push(buffer);\n",
              "            downloaded += buffer.byteLength;\n",
              "            progress.value = downloaded;\n",
              "          }\n",
              "        }\n",
              "      }\n",
              "      const blob = new Blob(buffers, {type: 'application/binary'});\n",
              "      const a = document.createElement('a');\n",
              "      a.href = window.URL.createObjectURL(blob);\n",
              "      a.download = filename;\n",
              "      div.appendChild(a);\n",
              "      a.click();\n",
              "      div.remove();\n",
              "    }\n",
              "  "
            ]
          },
          "metadata": {}
        },
        {
          "output_type": "display_data",
          "data": {
            "text/plain": [
              "<IPython.core.display.Javascript object>"
            ],
            "application/javascript": [
              "download(\"download_f14aba3a-eb12-4fea-aaf4-0a65efd815e5\", \"Aurangabad_Region_BO_offices.csv\", 299817)"
            ]
          },
          "metadata": {}
        },
        {
          "output_type": "stream",
          "name": "stdout",
          "text": [
            "Downloaded Aurangabad_Region_BO_offices.csv\n"
          ]
        },
        {
          "output_type": "display_data",
          "data": {
            "text/plain": [
              "<IPython.core.display.Javascript object>"
            ],
            "application/javascript": [
              "\n",
              "    async function download(id, filename, size) {\n",
              "      if (!google.colab.kernel.accessAllowed) {\n",
              "        return;\n",
              "      }\n",
              "      const div = document.createElement('div');\n",
              "      const label = document.createElement('label');\n",
              "      label.textContent = `Downloading \"${filename}\": `;\n",
              "      div.appendChild(label);\n",
              "      const progress = document.createElement('progress');\n",
              "      progress.max = size;\n",
              "      div.appendChild(progress);\n",
              "      document.body.appendChild(div);\n",
              "\n",
              "      const buffers = [];\n",
              "      let downloaded = 0;\n",
              "\n",
              "      const channel = await google.colab.kernel.comms.open(id);\n",
              "      // Send a message to notify the kernel that we're ready.\n",
              "      channel.send({})\n",
              "\n",
              "      for await (const message of channel.messages) {\n",
              "        // Send a message to notify the kernel that we're ready.\n",
              "        channel.send({})\n",
              "        if (message.buffers) {\n",
              "          for (const buffer of message.buffers) {\n",
              "            buffers.push(buffer);\n",
              "            downloaded += buffer.byteLength;\n",
              "            progress.value = downloaded;\n",
              "          }\n",
              "        }\n",
              "      }\n",
              "      const blob = new Blob(buffers, {type: 'application/binary'});\n",
              "      const a = document.createElement('a');\n",
              "      a.href = window.URL.createObjectURL(blob);\n",
              "      a.download = filename;\n",
              "      div.appendChild(a);\n",
              "      a.click();\n",
              "      div.remove();\n",
              "    }\n",
              "  "
            ]
          },
          "metadata": {}
        },
        {
          "output_type": "display_data",
          "data": {
            "text/plain": [
              "<IPython.core.display.Javascript object>"
            ],
            "application/javascript": [
              "download(\"download_3a70b371-6bfa-49f6-8930-b065651faf55\", \"Goa-Panaji_Region_HO_offices.csv\", 1265)"
            ]
          },
          "metadata": {}
        },
        {
          "output_type": "stream",
          "name": "stdout",
          "text": [
            "Downloaded Goa-Panaji_Region_HO_offices.csv\n"
          ]
        },
        {
          "output_type": "display_data",
          "data": {
            "text/plain": [
              "<IPython.core.display.Javascript object>"
            ],
            "application/javascript": [
              "\n",
              "    async function download(id, filename, size) {\n",
              "      if (!google.colab.kernel.accessAllowed) {\n",
              "        return;\n",
              "      }\n",
              "      const div = document.createElement('div');\n",
              "      const label = document.createElement('label');\n",
              "      label.textContent = `Downloading \"${filename}\": `;\n",
              "      div.appendChild(label);\n",
              "      const progress = document.createElement('progress');\n",
              "      progress.max = size;\n",
              "      div.appendChild(progress);\n",
              "      document.body.appendChild(div);\n",
              "\n",
              "      const buffers = [];\n",
              "      let downloaded = 0;\n",
              "\n",
              "      const channel = await google.colab.kernel.comms.open(id);\n",
              "      // Send a message to notify the kernel that we're ready.\n",
              "      channel.send({})\n",
              "\n",
              "      for await (const message of channel.messages) {\n",
              "        // Send a message to notify the kernel that we're ready.\n",
              "        channel.send({})\n",
              "        if (message.buffers) {\n",
              "          for (const buffer of message.buffers) {\n",
              "            buffers.push(buffer);\n",
              "            downloaded += buffer.byteLength;\n",
              "            progress.value = downloaded;\n",
              "          }\n",
              "        }\n",
              "      }\n",
              "      const blob = new Blob(buffers, {type: 'application/binary'});\n",
              "      const a = document.createElement('a');\n",
              "      a.href = window.URL.createObjectURL(blob);\n",
              "      a.download = filename;\n",
              "      div.appendChild(a);\n",
              "      a.click();\n",
              "      div.remove();\n",
              "    }\n",
              "  "
            ]
          },
          "metadata": {}
        },
        {
          "output_type": "display_data",
          "data": {
            "text/plain": [
              "<IPython.core.display.Javascript object>"
            ],
            "application/javascript": [
              "download(\"download_74e96b73-a298-422f-a8de-7b19d4e189b6\", \"Goa-Panaji_Region_SO_offices.csv\", 43923)"
            ]
          },
          "metadata": {}
        },
        {
          "output_type": "stream",
          "name": "stdout",
          "text": [
            "Downloaded Goa-Panaji_Region_SO_offices.csv\n"
          ]
        },
        {
          "output_type": "display_data",
          "data": {
            "text/plain": [
              "<IPython.core.display.Javascript object>"
            ],
            "application/javascript": [
              "\n",
              "    async function download(id, filename, size) {\n",
              "      if (!google.colab.kernel.accessAllowed) {\n",
              "        return;\n",
              "      }\n",
              "      const div = document.createElement('div');\n",
              "      const label = document.createElement('label');\n",
              "      label.textContent = `Downloading \"${filename}\": `;\n",
              "      div.appendChild(label);\n",
              "      const progress = document.createElement('progress');\n",
              "      progress.max = size;\n",
              "      div.appendChild(progress);\n",
              "      document.body.appendChild(div);\n",
              "\n",
              "      const buffers = [];\n",
              "      let downloaded = 0;\n",
              "\n",
              "      const channel = await google.colab.kernel.comms.open(id);\n",
              "      // Send a message to notify the kernel that we're ready.\n",
              "      channel.send({})\n",
              "\n",
              "      for await (const message of channel.messages) {\n",
              "        // Send a message to notify the kernel that we're ready.\n",
              "        channel.send({})\n",
              "        if (message.buffers) {\n",
              "          for (const buffer of message.buffers) {\n",
              "            buffers.push(buffer);\n",
              "            downloaded += buffer.byteLength;\n",
              "            progress.value = downloaded;\n",
              "          }\n",
              "        }\n",
              "      }\n",
              "      const blob = new Blob(buffers, {type: 'application/binary'});\n",
              "      const a = document.createElement('a');\n",
              "      a.href = window.URL.createObjectURL(blob);\n",
              "      a.download = filename;\n",
              "      div.appendChild(a);\n",
              "      a.click();\n",
              "      div.remove();\n",
              "    }\n",
              "  "
            ]
          },
          "metadata": {}
        },
        {
          "output_type": "display_data",
          "data": {
            "text/plain": [
              "<IPython.core.display.Javascript object>"
            ],
            "application/javascript": [
              "download(\"download_ac13f120-4170-4dae-a77d-7f977532f93d\", \"Goa-Panaji_Region_BO_offices.csv\", 199862)"
            ]
          },
          "metadata": {}
        },
        {
          "output_type": "stream",
          "name": "stdout",
          "text": [
            "Downloaded Goa-Panaji_Region_BO_offices.csv\n"
          ]
        },
        {
          "output_type": "display_data",
          "data": {
            "text/plain": [
              "<IPython.core.display.Javascript object>"
            ],
            "application/javascript": [
              "\n",
              "    async function download(id, filename, size) {\n",
              "      if (!google.colab.kernel.accessAllowed) {\n",
              "        return;\n",
              "      }\n",
              "      const div = document.createElement('div');\n",
              "      const label = document.createElement('label');\n",
              "      label.textContent = `Downloading \"${filename}\": `;\n",
              "      div.appendChild(label);\n",
              "      const progress = document.createElement('progress');\n",
              "      progress.max = size;\n",
              "      div.appendChild(progress);\n",
              "      document.body.appendChild(div);\n",
              "\n",
              "      const buffers = [];\n",
              "      let downloaded = 0;\n",
              "\n",
              "      const channel = await google.colab.kernel.comms.open(id);\n",
              "      // Send a message to notify the kernel that we're ready.\n",
              "      channel.send({})\n",
              "\n",
              "      for await (const message of channel.messages) {\n",
              "        // Send a message to notify the kernel that we're ready.\n",
              "        channel.send({})\n",
              "        if (message.buffers) {\n",
              "          for (const buffer of message.buffers) {\n",
              "            buffers.push(buffer);\n",
              "            downloaded += buffer.byteLength;\n",
              "            progress.value = downloaded;\n",
              "          }\n",
              "        }\n",
              "      }\n",
              "      const blob = new Blob(buffers, {type: 'application/binary'});\n",
              "      const a = document.createElement('a');\n",
              "      a.href = window.URL.createObjectURL(blob);\n",
              "      a.download = filename;\n",
              "      div.appendChild(a);\n",
              "      a.click();\n",
              "      div.remove();\n",
              "    }\n",
              "  "
            ]
          },
          "metadata": {}
        },
        {
          "output_type": "display_data",
          "data": {
            "text/plain": [
              "<IPython.core.display.Javascript object>"
            ],
            "application/javascript": [
              "download(\"download_1b55d733-3132-4a07-a74a-7990b832d76e\", \"Mumbai_Region_HO_offices.csv\", 1002)"
            ]
          },
          "metadata": {}
        },
        {
          "output_type": "stream",
          "name": "stdout",
          "text": [
            "Downloaded Mumbai_Region_HO_offices.csv\n"
          ]
        },
        {
          "output_type": "display_data",
          "data": {
            "text/plain": [
              "<IPython.core.display.Javascript object>"
            ],
            "application/javascript": [
              "\n",
              "    async function download(id, filename, size) {\n",
              "      if (!google.colab.kernel.accessAllowed) {\n",
              "        return;\n",
              "      }\n",
              "      const div = document.createElement('div');\n",
              "      const label = document.createElement('label');\n",
              "      label.textContent = `Downloading \"${filename}\": `;\n",
              "      div.appendChild(label);\n",
              "      const progress = document.createElement('progress');\n",
              "      progress.max = size;\n",
              "      div.appendChild(progress);\n",
              "      document.body.appendChild(div);\n",
              "\n",
              "      const buffers = [];\n",
              "      let downloaded = 0;\n",
              "\n",
              "      const channel = await google.colab.kernel.comms.open(id);\n",
              "      // Send a message to notify the kernel that we're ready.\n",
              "      channel.send({})\n",
              "\n",
              "      for await (const message of channel.messages) {\n",
              "        // Send a message to notify the kernel that we're ready.\n",
              "        channel.send({})\n",
              "        if (message.buffers) {\n",
              "          for (const buffer of message.buffers) {\n",
              "            buffers.push(buffer);\n",
              "            downloaded += buffer.byteLength;\n",
              "            progress.value = downloaded;\n",
              "          }\n",
              "        }\n",
              "      }\n",
              "      const blob = new Blob(buffers, {type: 'application/binary'});\n",
              "      const a = document.createElement('a');\n",
              "      a.href = window.URL.createObjectURL(blob);\n",
              "      a.download = filename;\n",
              "      div.appendChild(a);\n",
              "      a.click();\n",
              "      div.remove();\n",
              "    }\n",
              "  "
            ]
          },
          "metadata": {}
        },
        {
          "output_type": "display_data",
          "data": {
            "text/plain": [
              "<IPython.core.display.Javascript object>"
            ],
            "application/javascript": [
              "download(\"download_4079b743-e573-489c-aaa8-b06632675ecc\", \"Mumbai_Region_SO_offices.csv\", 27377)"
            ]
          },
          "metadata": {}
        },
        {
          "output_type": "stream",
          "name": "stdout",
          "text": [
            "Downloaded Mumbai_Region_SO_offices.csv\n"
          ]
        },
        {
          "output_type": "display_data",
          "data": {
            "text/plain": [
              "<IPython.core.display.Javascript object>"
            ],
            "application/javascript": [
              "\n",
              "    async function download(id, filename, size) {\n",
              "      if (!google.colab.kernel.accessAllowed) {\n",
              "        return;\n",
              "      }\n",
              "      const div = document.createElement('div');\n",
              "      const label = document.createElement('label');\n",
              "      label.textContent = `Downloading \"${filename}\": `;\n",
              "      div.appendChild(label);\n",
              "      const progress = document.createElement('progress');\n",
              "      progress.max = size;\n",
              "      div.appendChild(progress);\n",
              "      document.body.appendChild(div);\n",
              "\n",
              "      const buffers = [];\n",
              "      let downloaded = 0;\n",
              "\n",
              "      const channel = await google.colab.kernel.comms.open(id);\n",
              "      // Send a message to notify the kernel that we're ready.\n",
              "      channel.send({})\n",
              "\n",
              "      for await (const message of channel.messages) {\n",
              "        // Send a message to notify the kernel that we're ready.\n",
              "        channel.send({})\n",
              "        if (message.buffers) {\n",
              "          for (const buffer of message.buffers) {\n",
              "            buffers.push(buffer);\n",
              "            downloaded += buffer.byteLength;\n",
              "            progress.value = downloaded;\n",
              "          }\n",
              "        }\n",
              "      }\n",
              "      const blob = new Blob(buffers, {type: 'application/binary'});\n",
              "      const a = document.createElement('a');\n",
              "      a.href = window.URL.createObjectURL(blob);\n",
              "      a.download = filename;\n",
              "      div.appendChild(a);\n",
              "      a.click();\n",
              "      div.remove();\n",
              "    }\n",
              "  "
            ]
          },
          "metadata": {}
        },
        {
          "output_type": "display_data",
          "data": {
            "text/plain": [
              "<IPython.core.display.Javascript object>"
            ],
            "application/javascript": [
              "download(\"download_7111a675-a477-4b1a-a97d-63bf465717e6\", \"Mumbai_Region_BO_offices.csv\", 333)"
            ]
          },
          "metadata": {}
        },
        {
          "output_type": "stream",
          "name": "stdout",
          "text": [
            "Downloaded Mumbai_Region_BO_offices.csv\n"
          ]
        },
        {
          "output_type": "display_data",
          "data": {
            "text/plain": [
              "<IPython.core.display.Javascript object>"
            ],
            "application/javascript": [
              "\n",
              "    async function download(id, filename, size) {\n",
              "      if (!google.colab.kernel.accessAllowed) {\n",
              "        return;\n",
              "      }\n",
              "      const div = document.createElement('div');\n",
              "      const label = document.createElement('label');\n",
              "      label.textContent = `Downloading \"${filename}\": `;\n",
              "      div.appendChild(label);\n",
              "      const progress = document.createElement('progress');\n",
              "      progress.max = size;\n",
              "      div.appendChild(progress);\n",
              "      document.body.appendChild(div);\n",
              "\n",
              "      const buffers = [];\n",
              "      let downloaded = 0;\n",
              "\n",
              "      const channel = await google.colab.kernel.comms.open(id);\n",
              "      // Send a message to notify the kernel that we're ready.\n",
              "      channel.send({})\n",
              "\n",
              "      for await (const message of channel.messages) {\n",
              "        // Send a message to notify the kernel that we're ready.\n",
              "        channel.send({})\n",
              "        if (message.buffers) {\n",
              "          for (const buffer of message.buffers) {\n",
              "            buffers.push(buffer);\n",
              "            downloaded += buffer.byteLength;\n",
              "            progress.value = downloaded;\n",
              "          }\n",
              "        }\n",
              "      }\n",
              "      const blob = new Blob(buffers, {type: 'application/binary'});\n",
              "      const a = document.createElement('a');\n",
              "      a.href = window.URL.createObjectURL(blob);\n",
              "      a.download = filename;\n",
              "      div.appendChild(a);\n",
              "      a.click();\n",
              "      div.remove();\n",
              "    }\n",
              "  "
            ]
          },
          "metadata": {}
        },
        {
          "output_type": "display_data",
          "data": {
            "text/plain": [
              "<IPython.core.display.Javascript object>"
            ],
            "application/javascript": [
              "download(\"download_6d984552-abb1-4d18-b7b1-6fd5ecfed51a\", \"Nagpur_Region_HO_offices.csv\", 1455)"
            ]
          },
          "metadata": {}
        },
        {
          "output_type": "stream",
          "name": "stdout",
          "text": [
            "Downloaded Nagpur_Region_HO_offices.csv\n"
          ]
        },
        {
          "output_type": "display_data",
          "data": {
            "text/plain": [
              "<IPython.core.display.Javascript object>"
            ],
            "application/javascript": [
              "\n",
              "    async function download(id, filename, size) {\n",
              "      if (!google.colab.kernel.accessAllowed) {\n",
              "        return;\n",
              "      }\n",
              "      const div = document.createElement('div');\n",
              "      const label = document.createElement('label');\n",
              "      label.textContent = `Downloading \"${filename}\": `;\n",
              "      div.appendChild(label);\n",
              "      const progress = document.createElement('progress');\n",
              "      progress.max = size;\n",
              "      div.appendChild(progress);\n",
              "      document.body.appendChild(div);\n",
              "\n",
              "      const buffers = [];\n",
              "      let downloaded = 0;\n",
              "\n",
              "      const channel = await google.colab.kernel.comms.open(id);\n",
              "      // Send a message to notify the kernel that we're ready.\n",
              "      channel.send({})\n",
              "\n",
              "      for await (const message of channel.messages) {\n",
              "        // Send a message to notify the kernel that we're ready.\n",
              "        channel.send({})\n",
              "        if (message.buffers) {\n",
              "          for (const buffer of message.buffers) {\n",
              "            buffers.push(buffer);\n",
              "            downloaded += buffer.byteLength;\n",
              "            progress.value = downloaded;\n",
              "          }\n",
              "        }\n",
              "      }\n",
              "      const blob = new Blob(buffers, {type: 'application/binary'});\n",
              "      const a = document.createElement('a');\n",
              "      a.href = window.URL.createObjectURL(blob);\n",
              "      a.download = filename;\n",
              "      div.appendChild(a);\n",
              "      a.click();\n",
              "      div.remove();\n",
              "    }\n",
              "  "
            ]
          },
          "metadata": {}
        },
        {
          "output_type": "display_data",
          "data": {
            "text/plain": [
              "<IPython.core.display.Javascript object>"
            ],
            "application/javascript": [
              "download(\"download_172b7b48-047d-4e9a-b046-c9826a309abf\", \"Nagpur_Region_SO_offices.csv\", 41680)"
            ]
          },
          "metadata": {}
        },
        {
          "output_type": "stream",
          "name": "stdout",
          "text": [
            "Downloaded Nagpur_Region_SO_offices.csv\n"
          ]
        },
        {
          "output_type": "display_data",
          "data": {
            "text/plain": [
              "<IPython.core.display.Javascript object>"
            ],
            "application/javascript": [
              "\n",
              "    async function download(id, filename, size) {\n",
              "      if (!google.colab.kernel.accessAllowed) {\n",
              "        return;\n",
              "      }\n",
              "      const div = document.createElement('div');\n",
              "      const label = document.createElement('label');\n",
              "      label.textContent = `Downloading \"${filename}\": `;\n",
              "      div.appendChild(label);\n",
              "      const progress = document.createElement('progress');\n",
              "      progress.max = size;\n",
              "      div.appendChild(progress);\n",
              "      document.body.appendChild(div);\n",
              "\n",
              "      const buffers = [];\n",
              "      let downloaded = 0;\n",
              "\n",
              "      const channel = await google.colab.kernel.comms.open(id);\n",
              "      // Send a message to notify the kernel that we're ready.\n",
              "      channel.send({})\n",
              "\n",
              "      for await (const message of channel.messages) {\n",
              "        // Send a message to notify the kernel that we're ready.\n",
              "        channel.send({})\n",
              "        if (message.buffers) {\n",
              "          for (const buffer of message.buffers) {\n",
              "            buffers.push(buffer);\n",
              "            downloaded += buffer.byteLength;\n",
              "            progress.value = downloaded;\n",
              "          }\n",
              "        }\n",
              "      }\n",
              "      const blob = new Blob(buffers, {type: 'application/binary'});\n",
              "      const a = document.createElement('a');\n",
              "      a.href = window.URL.createObjectURL(blob);\n",
              "      a.download = filename;\n",
              "      div.appendChild(a);\n",
              "      a.click();\n",
              "      div.remove();\n",
              "    }\n",
              "  "
            ]
          },
          "metadata": {}
        },
        {
          "output_type": "display_data",
          "data": {
            "text/plain": [
              "<IPython.core.display.Javascript object>"
            ],
            "application/javascript": [
              "download(\"download_2d1e99e2-f31b-4b44-afdf-2051b537db5d\", \"Nagpur_Region_BO_offices.csv\", 282068)"
            ]
          },
          "metadata": {}
        },
        {
          "output_type": "stream",
          "name": "stdout",
          "text": [
            "Downloaded Nagpur_Region_BO_offices.csv\n"
          ]
        },
        {
          "output_type": "display_data",
          "data": {
            "text/plain": [
              "<IPython.core.display.Javascript object>"
            ],
            "application/javascript": [
              "\n",
              "    async function download(id, filename, size) {\n",
              "      if (!google.colab.kernel.accessAllowed) {\n",
              "        return;\n",
              "      }\n",
              "      const div = document.createElement('div');\n",
              "      const label = document.createElement('label');\n",
              "      label.textContent = `Downloading \"${filename}\": `;\n",
              "      div.appendChild(label);\n",
              "      const progress = document.createElement('progress');\n",
              "      progress.max = size;\n",
              "      div.appendChild(progress);\n",
              "      document.body.appendChild(div);\n",
              "\n",
              "      const buffers = [];\n",
              "      let downloaded = 0;\n",
              "\n",
              "      const channel = await google.colab.kernel.comms.open(id);\n",
              "      // Send a message to notify the kernel that we're ready.\n",
              "      channel.send({})\n",
              "\n",
              "      for await (const message of channel.messages) {\n",
              "        // Send a message to notify the kernel that we're ready.\n",
              "        channel.send({})\n",
              "        if (message.buffers) {\n",
              "          for (const buffer of message.buffers) {\n",
              "            buffers.push(buffer);\n",
              "            downloaded += buffer.byteLength;\n",
              "            progress.value = downloaded;\n",
              "          }\n",
              "        }\n",
              "      }\n",
              "      const blob = new Blob(buffers, {type: 'application/binary'});\n",
              "      const a = document.createElement('a');\n",
              "      a.href = window.URL.createObjectURL(blob);\n",
              "      a.download = filename;\n",
              "      div.appendChild(a);\n",
              "      a.click();\n",
              "      div.remove();\n",
              "    }\n",
              "  "
            ]
          },
          "metadata": {}
        },
        {
          "output_type": "display_data",
          "data": {
            "text/plain": [
              "<IPython.core.display.Javascript object>"
            ],
            "application/javascript": [
              "download(\"download_fc0dbbe3-d4e6-4f9a-b73f-b639d494aadb\", \"Navi_Mumbai_Region_HO_offices.csv\", 947)"
            ]
          },
          "metadata": {}
        },
        {
          "output_type": "stream",
          "name": "stdout",
          "text": [
            "Downloaded Navi_Mumbai_Region_HO_offices.csv\n"
          ]
        },
        {
          "output_type": "display_data",
          "data": {
            "text/plain": [
              "<IPython.core.display.Javascript object>"
            ],
            "application/javascript": [
              "\n",
              "    async function download(id, filename, size) {\n",
              "      if (!google.colab.kernel.accessAllowed) {\n",
              "        return;\n",
              "      }\n",
              "      const div = document.createElement('div');\n",
              "      const label = document.createElement('label');\n",
              "      label.textContent = `Downloading \"${filename}\": `;\n",
              "      div.appendChild(label);\n",
              "      const progress = document.createElement('progress');\n",
              "      progress.max = size;\n",
              "      div.appendChild(progress);\n",
              "      document.body.appendChild(div);\n",
              "\n",
              "      const buffers = [];\n",
              "      let downloaded = 0;\n",
              "\n",
              "      const channel = await google.colab.kernel.comms.open(id);\n",
              "      // Send a message to notify the kernel that we're ready.\n",
              "      channel.send({})\n",
              "\n",
              "      for await (const message of channel.messages) {\n",
              "        // Send a message to notify the kernel that we're ready.\n",
              "        channel.send({})\n",
              "        if (message.buffers) {\n",
              "          for (const buffer of message.buffers) {\n",
              "            buffers.push(buffer);\n",
              "            downloaded += buffer.byteLength;\n",
              "            progress.value = downloaded;\n",
              "          }\n",
              "        }\n",
              "      }\n",
              "      const blob = new Blob(buffers, {type: 'application/binary'});\n",
              "      const a = document.createElement('a');\n",
              "      a.href = window.URL.createObjectURL(blob);\n",
              "      a.download = filename;\n",
              "      div.appendChild(a);\n",
              "      a.click();\n",
              "      div.remove();\n",
              "    }\n",
              "  "
            ]
          },
          "metadata": {}
        },
        {
          "output_type": "display_data",
          "data": {
            "text/plain": [
              "<IPython.core.display.Javascript object>"
            ],
            "application/javascript": [
              "download(\"download_d590b8cb-09bf-4034-b19e-96d605e2ffd0\", \"Navi_Mumbai_Region_SO_offices.csv\", 30266)"
            ]
          },
          "metadata": {}
        },
        {
          "output_type": "stream",
          "name": "stdout",
          "text": [
            "Downloaded Navi_Mumbai_Region_SO_offices.csv\n"
          ]
        },
        {
          "output_type": "display_data",
          "data": {
            "text/plain": [
              "<IPython.core.display.Javascript object>"
            ],
            "application/javascript": [
              "\n",
              "    async function download(id, filename, size) {\n",
              "      if (!google.colab.kernel.accessAllowed) {\n",
              "        return;\n",
              "      }\n",
              "      const div = document.createElement('div');\n",
              "      const label = document.createElement('label');\n",
              "      label.textContent = `Downloading \"${filename}\": `;\n",
              "      div.appendChild(label);\n",
              "      const progress = document.createElement('progress');\n",
              "      progress.max = size;\n",
              "      div.appendChild(progress);\n",
              "      document.body.appendChild(div);\n",
              "\n",
              "      const buffers = [];\n",
              "      let downloaded = 0;\n",
              "\n",
              "      const channel = await google.colab.kernel.comms.open(id);\n",
              "      // Send a message to notify the kernel that we're ready.\n",
              "      channel.send({})\n",
              "\n",
              "      for await (const message of channel.messages) {\n",
              "        // Send a message to notify the kernel that we're ready.\n",
              "        channel.send({})\n",
              "        if (message.buffers) {\n",
              "          for (const buffer of message.buffers) {\n",
              "            buffers.push(buffer);\n",
              "            downloaded += buffer.byteLength;\n",
              "            progress.value = downloaded;\n",
              "          }\n",
              "        }\n",
              "      }\n",
              "      const blob = new Blob(buffers, {type: 'application/binary'});\n",
              "      const a = document.createElement('a');\n",
              "      a.href = window.URL.createObjectURL(blob);\n",
              "      a.download = filename;\n",
              "      div.appendChild(a);\n",
              "      a.click();\n",
              "      div.remove();\n",
              "    }\n",
              "  "
            ]
          },
          "metadata": {}
        },
        {
          "output_type": "display_data",
          "data": {
            "text/plain": [
              "<IPython.core.display.Javascript object>"
            ],
            "application/javascript": [
              "download(\"download_342ad395-45d9-434f-8fad-08622c8eca50\", \"Navi_Mumbai_Region_BO_offices.csv\", 135634)"
            ]
          },
          "metadata": {}
        },
        {
          "output_type": "stream",
          "name": "stdout",
          "text": [
            "Downloaded Navi_Mumbai_Region_BO_offices.csv\n"
          ]
        },
        {
          "output_type": "display_data",
          "data": {
            "text/plain": [
              "<IPython.core.display.Javascript object>"
            ],
            "application/javascript": [
              "\n",
              "    async function download(id, filename, size) {\n",
              "      if (!google.colab.kernel.accessAllowed) {\n",
              "        return;\n",
              "      }\n",
              "      const div = document.createElement('div');\n",
              "      const label = document.createElement('label');\n",
              "      label.textContent = `Downloading \"${filename}\": `;\n",
              "      div.appendChild(label);\n",
              "      const progress = document.createElement('progress');\n",
              "      progress.max = size;\n",
              "      div.appendChild(progress);\n",
              "      document.body.appendChild(div);\n",
              "\n",
              "      const buffers = [];\n",
              "      let downloaded = 0;\n",
              "\n",
              "      const channel = await google.colab.kernel.comms.open(id);\n",
              "      // Send a message to notify the kernel that we're ready.\n",
              "      channel.send({})\n",
              "\n",
              "      for await (const message of channel.messages) {\n",
              "        // Send a message to notify the kernel that we're ready.\n",
              "        channel.send({})\n",
              "        if (message.buffers) {\n",
              "          for (const buffer of message.buffers) {\n",
              "            buffers.push(buffer);\n",
              "            downloaded += buffer.byteLength;\n",
              "            progress.value = downloaded;\n",
              "          }\n",
              "        }\n",
              "      }\n",
              "      const blob = new Blob(buffers, {type: 'application/binary'});\n",
              "      const a = document.createElement('a');\n",
              "      a.href = window.URL.createObjectURL(blob);\n",
              "      a.download = filename;\n",
              "      div.appendChild(a);\n",
              "      a.click();\n",
              "      div.remove();\n",
              "    }\n",
              "  "
            ]
          },
          "metadata": {}
        },
        {
          "output_type": "display_data",
          "data": {
            "text/plain": [
              "<IPython.core.display.Javascript object>"
            ],
            "application/javascript": [
              "download(\"download_16b9449d-ef00-4c06-92c0-29499539890d\", \"Pune_Region_HO_offices.csv\", 1129)"
            ]
          },
          "metadata": {}
        },
        {
          "output_type": "stream",
          "name": "stdout",
          "text": [
            "Downloaded Pune_Region_HO_offices.csv\n"
          ]
        },
        {
          "output_type": "display_data",
          "data": {
            "text/plain": [
              "<IPython.core.display.Javascript object>"
            ],
            "application/javascript": [
              "\n",
              "    async function download(id, filename, size) {\n",
              "      if (!google.colab.kernel.accessAllowed) {\n",
              "        return;\n",
              "      }\n",
              "      const div = document.createElement('div');\n",
              "      const label = document.createElement('label');\n",
              "      label.textContent = `Downloading \"${filename}\": `;\n",
              "      div.appendChild(label);\n",
              "      const progress = document.createElement('progress');\n",
              "      progress.max = size;\n",
              "      div.appendChild(progress);\n",
              "      document.body.appendChild(div);\n",
              "\n",
              "      const buffers = [];\n",
              "      let downloaded = 0;\n",
              "\n",
              "      const channel = await google.colab.kernel.comms.open(id);\n",
              "      // Send a message to notify the kernel that we're ready.\n",
              "      channel.send({})\n",
              "\n",
              "      for await (const message of channel.messages) {\n",
              "        // Send a message to notify the kernel that we're ready.\n",
              "        channel.send({})\n",
              "        if (message.buffers) {\n",
              "          for (const buffer of message.buffers) {\n",
              "            buffers.push(buffer);\n",
              "            downloaded += buffer.byteLength;\n",
              "            progress.value = downloaded;\n",
              "          }\n",
              "        }\n",
              "      }\n",
              "      const blob = new Blob(buffers, {type: 'application/binary'});\n",
              "      const a = document.createElement('a');\n",
              "      a.href = window.URL.createObjectURL(blob);\n",
              "      a.download = filename;\n",
              "      div.appendChild(a);\n",
              "      a.click();\n",
              "      div.remove();\n",
              "    }\n",
              "  "
            ]
          },
          "metadata": {}
        },
        {
          "output_type": "display_data",
          "data": {
            "text/plain": [
              "<IPython.core.display.Javascript object>"
            ],
            "application/javascript": [
              "download(\"download_d3e662f7-3efa-4ce1-89b0-785a0941d78c\", \"Pune_Region_SO_offices.csv\", 52049)"
            ]
          },
          "metadata": {}
        },
        {
          "output_type": "stream",
          "name": "stdout",
          "text": [
            "Downloaded Pune_Region_SO_offices.csv\n"
          ]
        },
        {
          "output_type": "display_data",
          "data": {
            "text/plain": [
              "<IPython.core.display.Javascript object>"
            ],
            "application/javascript": [
              "\n",
              "    async function download(id, filename, size) {\n",
              "      if (!google.colab.kernel.accessAllowed) {\n",
              "        return;\n",
              "      }\n",
              "      const div = document.createElement('div');\n",
              "      const label = document.createElement('label');\n",
              "      label.textContent = `Downloading \"${filename}\": `;\n",
              "      div.appendChild(label);\n",
              "      const progress = document.createElement('progress');\n",
              "      progress.max = size;\n",
              "      div.appendChild(progress);\n",
              "      document.body.appendChild(div);\n",
              "\n",
              "      const buffers = [];\n",
              "      let downloaded = 0;\n",
              "\n",
              "      const channel = await google.colab.kernel.comms.open(id);\n",
              "      // Send a message to notify the kernel that we're ready.\n",
              "      channel.send({})\n",
              "\n",
              "      for await (const message of channel.messages) {\n",
              "        // Send a message to notify the kernel that we're ready.\n",
              "        channel.send({})\n",
              "        if (message.buffers) {\n",
              "          for (const buffer of message.buffers) {\n",
              "            buffers.push(buffer);\n",
              "            downloaded += buffer.byteLength;\n",
              "            progress.value = downloaded;\n",
              "          }\n",
              "        }\n",
              "      }\n",
              "      const blob = new Blob(buffers, {type: 'application/binary'});\n",
              "      const a = document.createElement('a');\n",
              "      a.href = window.URL.createObjectURL(blob);\n",
              "      a.download = filename;\n",
              "      div.appendChild(a);\n",
              "      a.click();\n",
              "      div.remove();\n",
              "    }\n",
              "  "
            ]
          },
          "metadata": {}
        },
        {
          "output_type": "display_data",
          "data": {
            "text/plain": [
              "<IPython.core.display.Javascript object>"
            ],
            "application/javascript": [
              "download(\"download_c2fefbb7-0c98-43ce-8a45-41bbc9d91edf\", \"Pune_Region_BO_offices.csv\", 222712)"
            ]
          },
          "metadata": {}
        },
        {
          "output_type": "stream",
          "name": "stdout",
          "text": [
            "Downloaded Pune_Region_BO_offices.csv\n"
          ]
        },
        {
          "output_type": "display_data",
          "data": {
            "text/plain": [
              "<IPython.core.display.Javascript object>"
            ],
            "application/javascript": [
              "\n",
              "    async function download(id, filename, size) {\n",
              "      if (!google.colab.kernel.accessAllowed) {\n",
              "        return;\n",
              "      }\n",
              "      const div = document.createElement('div');\n",
              "      const label = document.createElement('label');\n",
              "      label.textContent = `Downloading \"${filename}\": `;\n",
              "      div.appendChild(label);\n",
              "      const progress = document.createElement('progress');\n",
              "      progress.max = size;\n",
              "      div.appendChild(progress);\n",
              "      document.body.appendChild(div);\n",
              "\n",
              "      const buffers = [];\n",
              "      let downloaded = 0;\n",
              "\n",
              "      const channel = await google.colab.kernel.comms.open(id);\n",
              "      // Send a message to notify the kernel that we're ready.\n",
              "      channel.send({})\n",
              "\n",
              "      for await (const message of channel.messages) {\n",
              "        // Send a message to notify the kernel that we're ready.\n",
              "        channel.send({})\n",
              "        if (message.buffers) {\n",
              "          for (const buffer of message.buffers) {\n",
              "            buffers.push(buffer);\n",
              "            downloaded += buffer.byteLength;\n",
              "            progress.value = downloaded;\n",
              "          }\n",
              "        }\n",
              "      }\n",
              "      const blob = new Blob(buffers, {type: 'application/binary'});\n",
              "      const a = document.createElement('a');\n",
              "      a.href = window.URL.createObjectURL(blob);\n",
              "      a.download = filename;\n",
              "      div.appendChild(a);\n",
              "      a.click();\n",
              "      div.remove();\n",
              "    }\n",
              "  "
            ]
          },
          "metadata": {}
        },
        {
          "output_type": "display_data",
          "data": {
            "text/plain": [
              "<IPython.core.display.Javascript object>"
            ],
            "application/javascript": [
              "download(\"download_14333dcd-bc29-4280-8f13-012cd40891bb\", \"North_Eastern_Region_HO_offices.csv\", 416)"
            ]
          },
          "metadata": {}
        },
        {
          "output_type": "stream",
          "name": "stdout",
          "text": [
            "Downloaded North_Eastern_Region_HO_offices.csv\n"
          ]
        },
        {
          "output_type": "display_data",
          "data": {
            "text/plain": [
              "<IPython.core.display.Javascript object>"
            ],
            "application/javascript": [
              "\n",
              "    async function download(id, filename, size) {\n",
              "      if (!google.colab.kernel.accessAllowed) {\n",
              "        return;\n",
              "      }\n",
              "      const div = document.createElement('div');\n",
              "      const label = document.createElement('label');\n",
              "      label.textContent = `Downloading \"${filename}\": `;\n",
              "      div.appendChild(label);\n",
              "      const progress = document.createElement('progress');\n",
              "      progress.max = size;\n",
              "      div.appendChild(progress);\n",
              "      document.body.appendChild(div);\n",
              "\n",
              "      const buffers = [];\n",
              "      let downloaded = 0;\n",
              "\n",
              "      const channel = await google.colab.kernel.comms.open(id);\n",
              "      // Send a message to notify the kernel that we're ready.\n",
              "      channel.send({})\n",
              "\n",
              "      for await (const message of channel.messages) {\n",
              "        // Send a message to notify the kernel that we're ready.\n",
              "        channel.send({})\n",
              "        if (message.buffers) {\n",
              "          for (const buffer of message.buffers) {\n",
              "            buffers.push(buffer);\n",
              "            downloaded += buffer.byteLength;\n",
              "            progress.value = downloaded;\n",
              "          }\n",
              "        }\n",
              "      }\n",
              "      const blob = new Blob(buffers, {type: 'application/binary'});\n",
              "      const a = document.createElement('a');\n",
              "      a.href = window.URL.createObjectURL(blob);\n",
              "      a.download = filename;\n",
              "      div.appendChild(a);\n",
              "      a.click();\n",
              "      div.remove();\n",
              "    }\n",
              "  "
            ]
          },
          "metadata": {}
        },
        {
          "output_type": "display_data",
          "data": {
            "text/plain": [
              "<IPython.core.display.Javascript object>"
            ],
            "application/javascript": [
              "download(\"download_cb7085ed-4356-4921-aae1-ec7d2e021746\", \"North_Eastern_Region_SO_offices.csv\", 15932)"
            ]
          },
          "metadata": {}
        },
        {
          "output_type": "stream",
          "name": "stdout",
          "text": [
            "Downloaded North_Eastern_Region_SO_offices.csv\n"
          ]
        },
        {
          "output_type": "display_data",
          "data": {
            "text/plain": [
              "<IPython.core.display.Javascript object>"
            ],
            "application/javascript": [
              "\n",
              "    async function download(id, filename, size) {\n",
              "      if (!google.colab.kernel.accessAllowed) {\n",
              "        return;\n",
              "      }\n",
              "      const div = document.createElement('div');\n",
              "      const label = document.createElement('label');\n",
              "      label.textContent = `Downloading \"${filename}\": `;\n",
              "      div.appendChild(label);\n",
              "      const progress = document.createElement('progress');\n",
              "      progress.max = size;\n",
              "      div.appendChild(progress);\n",
              "      document.body.appendChild(div);\n",
              "\n",
              "      const buffers = [];\n",
              "      let downloaded = 0;\n",
              "\n",
              "      const channel = await google.colab.kernel.comms.open(id);\n",
              "      // Send a message to notify the kernel that we're ready.\n",
              "      channel.send({})\n",
              "\n",
              "      for await (const message of channel.messages) {\n",
              "        // Send a message to notify the kernel that we're ready.\n",
              "        channel.send({})\n",
              "        if (message.buffers) {\n",
              "          for (const buffer of message.buffers) {\n",
              "            buffers.push(buffer);\n",
              "            downloaded += buffer.byteLength;\n",
              "            progress.value = downloaded;\n",
              "          }\n",
              "        }\n",
              "      }\n",
              "      const blob = new Blob(buffers, {type: 'application/binary'});\n",
              "      const a = document.createElement('a');\n",
              "      a.href = window.URL.createObjectURL(blob);\n",
              "      a.download = filename;\n",
              "      div.appendChild(a);\n",
              "      a.click();\n",
              "      div.remove();\n",
              "    }\n",
              "  "
            ]
          },
          "metadata": {}
        },
        {
          "output_type": "display_data",
          "data": {
            "text/plain": [
              "<IPython.core.display.Javascript object>"
            ],
            "application/javascript": [
              "download(\"download_a5884e66-31d0-46cf-9f28-7c76c491cceb\", \"North_Eastern_Region_BO_offices.csv\", 145676)"
            ]
          },
          "metadata": {}
        },
        {
          "output_type": "stream",
          "name": "stdout",
          "text": [
            "Downloaded North_Eastern_Region_BO_offices.csv\n"
          ]
        },
        {
          "output_type": "display_data",
          "data": {
            "text/plain": [
              "<IPython.core.display.Javascript object>"
            ],
            "application/javascript": [
              "\n",
              "    async function download(id, filename, size) {\n",
              "      if (!google.colab.kernel.accessAllowed) {\n",
              "        return;\n",
              "      }\n",
              "      const div = document.createElement('div');\n",
              "      const label = document.createElement('label');\n",
              "      label.textContent = `Downloading \"${filename}\": `;\n",
              "      div.appendChild(label);\n",
              "      const progress = document.createElement('progress');\n",
              "      progress.max = size;\n",
              "      div.appendChild(progress);\n",
              "      document.body.appendChild(div);\n",
              "\n",
              "      const buffers = [];\n",
              "      let downloaded = 0;\n",
              "\n",
              "      const channel = await google.colab.kernel.comms.open(id);\n",
              "      // Send a message to notify the kernel that we're ready.\n",
              "      channel.send({})\n",
              "\n",
              "      for await (const message of channel.messages) {\n",
              "        // Send a message to notify the kernel that we're ready.\n",
              "        channel.send({})\n",
              "        if (message.buffers) {\n",
              "          for (const buffer of message.buffers) {\n",
              "            buffers.push(buffer);\n",
              "            downloaded += buffer.byteLength;\n",
              "            progress.value = downloaded;\n",
              "          }\n",
              "        }\n",
              "      }\n",
              "      const blob = new Blob(buffers, {type: 'application/binary'});\n",
              "      const a = document.createElement('a');\n",
              "      a.href = window.URL.createObjectURL(blob);\n",
              "      a.download = filename;\n",
              "      div.appendChild(a);\n",
              "      a.click();\n",
              "      div.remove();\n",
              "    }\n",
              "  "
            ]
          },
          "metadata": {}
        },
        {
          "output_type": "display_data",
          "data": {
            "text/plain": [
              "<IPython.core.display.Javascript object>"
            ],
            "application/javascript": [
              "download(\"download_b5a65039-0461-4cfe-a153-c5be4057bbae\", \"Shillong_HQ_Region_HO_offices.csv\", 805)"
            ]
          },
          "metadata": {}
        },
        {
          "output_type": "stream",
          "name": "stdout",
          "text": [
            "Downloaded Shillong_HQ_Region_HO_offices.csv\n"
          ]
        },
        {
          "output_type": "display_data",
          "data": {
            "text/plain": [
              "<IPython.core.display.Javascript object>"
            ],
            "application/javascript": [
              "\n",
              "    async function download(id, filename, size) {\n",
              "      if (!google.colab.kernel.accessAllowed) {\n",
              "        return;\n",
              "      }\n",
              "      const div = document.createElement('div');\n",
              "      const label = document.createElement('label');\n",
              "      label.textContent = `Downloading \"${filename}\": `;\n",
              "      div.appendChild(label);\n",
              "      const progress = document.createElement('progress');\n",
              "      progress.max = size;\n",
              "      div.appendChild(progress);\n",
              "      document.body.appendChild(div);\n",
              "\n",
              "      const buffers = [];\n",
              "      let downloaded = 0;\n",
              "\n",
              "      const channel = await google.colab.kernel.comms.open(id);\n",
              "      // Send a message to notify the kernel that we're ready.\n",
              "      channel.send({})\n",
              "\n",
              "      for await (const message of channel.messages) {\n",
              "        // Send a message to notify the kernel that we're ready.\n",
              "        channel.send({})\n",
              "        if (message.buffers) {\n",
              "          for (const buffer of message.buffers) {\n",
              "            buffers.push(buffer);\n",
              "            downloaded += buffer.byteLength;\n",
              "            progress.value = downloaded;\n",
              "          }\n",
              "        }\n",
              "      }\n",
              "      const blob = new Blob(buffers, {type: 'application/binary'});\n",
              "      const a = document.createElement('a');\n",
              "      a.href = window.URL.createObjectURL(blob);\n",
              "      a.download = filename;\n",
              "      div.appendChild(a);\n",
              "      a.click();\n",
              "      div.remove();\n",
              "    }\n",
              "  "
            ]
          },
          "metadata": {}
        },
        {
          "output_type": "display_data",
          "data": {
            "text/plain": [
              "<IPython.core.display.Javascript object>"
            ],
            "application/javascript": [
              "download(\"download_e7f79bdf-ef10-4123-bdbe-616dbd44d6c8\", \"Shillong_HQ_Region_SO_offices.csv\", 23871)"
            ]
          },
          "metadata": {}
        },
        {
          "output_type": "stream",
          "name": "stdout",
          "text": [
            "Downloaded Shillong_HQ_Region_SO_offices.csv\n"
          ]
        },
        {
          "output_type": "display_data",
          "data": {
            "text/plain": [
              "<IPython.core.display.Javascript object>"
            ],
            "application/javascript": [
              "\n",
              "    async function download(id, filename, size) {\n",
              "      if (!google.colab.kernel.accessAllowed) {\n",
              "        return;\n",
              "      }\n",
              "      const div = document.createElement('div');\n",
              "      const label = document.createElement('label');\n",
              "      label.textContent = `Downloading \"${filename}\": `;\n",
              "      div.appendChild(label);\n",
              "      const progress = document.createElement('progress');\n",
              "      progress.max = size;\n",
              "      div.appendChild(progress);\n",
              "      document.body.appendChild(div);\n",
              "\n",
              "      const buffers = [];\n",
              "      let downloaded = 0;\n",
              "\n",
              "      const channel = await google.colab.kernel.comms.open(id);\n",
              "      // Send a message to notify the kernel that we're ready.\n",
              "      channel.send({})\n",
              "\n",
              "      for await (const message of channel.messages) {\n",
              "        // Send a message to notify the kernel that we're ready.\n",
              "        channel.send({})\n",
              "        if (message.buffers) {\n",
              "          for (const buffer of message.buffers) {\n",
              "            buffers.push(buffer);\n",
              "            downloaded += buffer.byteLength;\n",
              "            progress.value = downloaded;\n",
              "          }\n",
              "        }\n",
              "      }\n",
              "      const blob = new Blob(buffers, {type: 'application/binary'});\n",
              "      const a = document.createElement('a');\n",
              "      a.href = window.URL.createObjectURL(blob);\n",
              "      a.download = filename;\n",
              "      div.appendChild(a);\n",
              "      a.click();\n",
              "      div.remove();\n",
              "    }\n",
              "  "
            ]
          },
          "metadata": {}
        },
        {
          "output_type": "display_data",
          "data": {
            "text/plain": [
              "<IPython.core.display.Javascript object>"
            ],
            "application/javascript": [
              "download(\"download_535ba94f-f0a1-4ac5-8519-92f6ce8b4b44\", \"Shillong_HQ_Region_BO_offices.csv\", 157409)"
            ]
          },
          "metadata": {}
        },
        {
          "output_type": "stream",
          "name": "stdout",
          "text": [
            "Downloaded Shillong_HQ_Region_BO_offices.csv\n"
          ]
        },
        {
          "output_type": "display_data",
          "data": {
            "text/plain": [
              "<IPython.core.display.Javascript object>"
            ],
            "application/javascript": [
              "\n",
              "    async function download(id, filename, size) {\n",
              "      if (!google.colab.kernel.accessAllowed) {\n",
              "        return;\n",
              "      }\n",
              "      const div = document.createElement('div');\n",
              "      const label = document.createElement('label');\n",
              "      label.textContent = `Downloading \"${filename}\": `;\n",
              "      div.appendChild(label);\n",
              "      const progress = document.createElement('progress');\n",
              "      progress.max = size;\n",
              "      div.appendChild(progress);\n",
              "      document.body.appendChild(div);\n",
              "\n",
              "      const buffers = [];\n",
              "      let downloaded = 0;\n",
              "\n",
              "      const channel = await google.colab.kernel.comms.open(id);\n",
              "      // Send a message to notify the kernel that we're ready.\n",
              "      channel.send({})\n",
              "\n",
              "      for await (const message of channel.messages) {\n",
              "        // Send a message to notify the kernel that we're ready.\n",
              "        channel.send({})\n",
              "        if (message.buffers) {\n",
              "          for (const buffer of message.buffers) {\n",
              "            buffers.push(buffer);\n",
              "            downloaded += buffer.byteLength;\n",
              "            progress.value = downloaded;\n",
              "          }\n",
              "        }\n",
              "      }\n",
              "      const blob = new Blob(buffers, {type: 'application/binary'});\n",
              "      const a = document.createElement('a');\n",
              "      a.href = window.URL.createObjectURL(blob);\n",
              "      a.download = filename;\n",
              "      div.appendChild(a);\n",
              "      a.click();\n",
              "      div.remove();\n",
              "    }\n",
              "  "
            ]
          },
          "metadata": {}
        },
        {
          "output_type": "display_data",
          "data": {
            "text/plain": [
              "<IPython.core.display.Javascript object>"
            ],
            "application/javascript": [
              "download(\"download_c6882e8e-d51c-4b1a-af01-7129f7f12700\", \"Berhampur_Region_HO_offices.csv\", 1068)"
            ]
          },
          "metadata": {}
        },
        {
          "output_type": "stream",
          "name": "stdout",
          "text": [
            "Downloaded Berhampur_Region_HO_offices.csv\n"
          ]
        },
        {
          "output_type": "display_data",
          "data": {
            "text/plain": [
              "<IPython.core.display.Javascript object>"
            ],
            "application/javascript": [
              "\n",
              "    async function download(id, filename, size) {\n",
              "      if (!google.colab.kernel.accessAllowed) {\n",
              "        return;\n",
              "      }\n",
              "      const div = document.createElement('div');\n",
              "      const label = document.createElement('label');\n",
              "      label.textContent = `Downloading \"${filename}\": `;\n",
              "      div.appendChild(label);\n",
              "      const progress = document.createElement('progress');\n",
              "      progress.max = size;\n",
              "      div.appendChild(progress);\n",
              "      document.body.appendChild(div);\n",
              "\n",
              "      const buffers = [];\n",
              "      let downloaded = 0;\n",
              "\n",
              "      const channel = await google.colab.kernel.comms.open(id);\n",
              "      // Send a message to notify the kernel that we're ready.\n",
              "      channel.send({})\n",
              "\n",
              "      for await (const message of channel.messages) {\n",
              "        // Send a message to notify the kernel that we're ready.\n",
              "        channel.send({})\n",
              "        if (message.buffers) {\n",
              "          for (const buffer of message.buffers) {\n",
              "            buffers.push(buffer);\n",
              "            downloaded += buffer.byteLength;\n",
              "            progress.value = downloaded;\n",
              "          }\n",
              "        }\n",
              "      }\n",
              "      const blob = new Blob(buffers, {type: 'application/binary'});\n",
              "      const a = document.createElement('a');\n",
              "      a.href = window.URL.createObjectURL(blob);\n",
              "      a.download = filename;\n",
              "      div.appendChild(a);\n",
              "      a.click();\n",
              "      div.remove();\n",
              "    }\n",
              "  "
            ]
          },
          "metadata": {}
        },
        {
          "output_type": "display_data",
          "data": {
            "text/plain": [
              "<IPython.core.display.Javascript object>"
            ],
            "application/javascript": [
              "download(\"download_fe904ae6-48ba-4e2a-8fe4-54dc1350e9ab\", \"Berhampur_Region_SO_offices.csv\", 30112)"
            ]
          },
          "metadata": {}
        },
        {
          "output_type": "stream",
          "name": "stdout",
          "text": [
            "Downloaded Berhampur_Region_SO_offices.csv\n"
          ]
        },
        {
          "output_type": "display_data",
          "data": {
            "text/plain": [
              "<IPython.core.display.Javascript object>"
            ],
            "application/javascript": [
              "\n",
              "    async function download(id, filename, size) {\n",
              "      if (!google.colab.kernel.accessAllowed) {\n",
              "        return;\n",
              "      }\n",
              "      const div = document.createElement('div');\n",
              "      const label = document.createElement('label');\n",
              "      label.textContent = `Downloading \"${filename}\": `;\n",
              "      div.appendChild(label);\n",
              "      const progress = document.createElement('progress');\n",
              "      progress.max = size;\n",
              "      div.appendChild(progress);\n",
              "      document.body.appendChild(div);\n",
              "\n",
              "      const buffers = [];\n",
              "      let downloaded = 0;\n",
              "\n",
              "      const channel = await google.colab.kernel.comms.open(id);\n",
              "      // Send a message to notify the kernel that we're ready.\n",
              "      channel.send({})\n",
              "\n",
              "      for await (const message of channel.messages) {\n",
              "        // Send a message to notify the kernel that we're ready.\n",
              "        channel.send({})\n",
              "        if (message.buffers) {\n",
              "          for (const buffer of message.buffers) {\n",
              "            buffers.push(buffer);\n",
              "            downloaded += buffer.byteLength;\n",
              "            progress.value = downloaded;\n",
              "          }\n",
              "        }\n",
              "      }\n",
              "      const blob = new Blob(buffers, {type: 'application/binary'});\n",
              "      const a = document.createElement('a');\n",
              "      a.href = window.URL.createObjectURL(blob);\n",
              "      a.download = filename;\n",
              "      div.appendChild(a);\n",
              "      a.click();\n",
              "      div.remove();\n",
              "    }\n",
              "  "
            ]
          },
          "metadata": {}
        },
        {
          "output_type": "display_data",
          "data": {
            "text/plain": [
              "<IPython.core.display.Javascript object>"
            ],
            "application/javascript": [
              "download(\"download_67fae13a-e5f3-4647-8b17-cb3aa0545605\", \"Berhampur_Region_BO_offices.csv\", 202112)"
            ]
          },
          "metadata": {}
        },
        {
          "output_type": "stream",
          "name": "stdout",
          "text": [
            "Downloaded Berhampur_Region_BO_offices.csv\n"
          ]
        },
        {
          "output_type": "display_data",
          "data": {
            "text/plain": [
              "<IPython.core.display.Javascript object>"
            ],
            "application/javascript": [
              "\n",
              "    async function download(id, filename, size) {\n",
              "      if (!google.colab.kernel.accessAllowed) {\n",
              "        return;\n",
              "      }\n",
              "      const div = document.createElement('div');\n",
              "      const label = document.createElement('label');\n",
              "      label.textContent = `Downloading \"${filename}\": `;\n",
              "      div.appendChild(label);\n",
              "      const progress = document.createElement('progress');\n",
              "      progress.max = size;\n",
              "      div.appendChild(progress);\n",
              "      document.body.appendChild(div);\n",
              "\n",
              "      const buffers = [];\n",
              "      let downloaded = 0;\n",
              "\n",
              "      const channel = await google.colab.kernel.comms.open(id);\n",
              "      // Send a message to notify the kernel that we're ready.\n",
              "      channel.send({})\n",
              "\n",
              "      for await (const message of channel.messages) {\n",
              "        // Send a message to notify the kernel that we're ready.\n",
              "        channel.send({})\n",
              "        if (message.buffers) {\n",
              "          for (const buffer of message.buffers) {\n",
              "            buffers.push(buffer);\n",
              "            downloaded += buffer.byteLength;\n",
              "            progress.value = downloaded;\n",
              "          }\n",
              "        }\n",
              "      }\n",
              "      const blob = new Blob(buffers, {type: 'application/binary'});\n",
              "      const a = document.createElement('a');\n",
              "      a.href = window.URL.createObjectURL(blob);\n",
              "      a.download = filename;\n",
              "      div.appendChild(a);\n",
              "      a.click();\n",
              "      div.remove();\n",
              "    }\n",
              "  "
            ]
          },
          "metadata": {}
        },
        {
          "output_type": "display_data",
          "data": {
            "text/plain": [
              "<IPython.core.display.Javascript object>"
            ],
            "application/javascript": [
              "download(\"download_9dc4bcbe-3f47-4d3e-bd2e-1de5004ba16d\", \"Sambalpur_Region_HO_offices.csv\", 1092)"
            ]
          },
          "metadata": {}
        },
        {
          "output_type": "stream",
          "name": "stdout",
          "text": [
            "Downloaded Sambalpur_Region_HO_offices.csv\n"
          ]
        },
        {
          "output_type": "display_data",
          "data": {
            "text/plain": [
              "<IPython.core.display.Javascript object>"
            ],
            "application/javascript": [
              "\n",
              "    async function download(id, filename, size) {\n",
              "      if (!google.colab.kernel.accessAllowed) {\n",
              "        return;\n",
              "      }\n",
              "      const div = document.createElement('div');\n",
              "      const label = document.createElement('label');\n",
              "      label.textContent = `Downloading \"${filename}\": `;\n",
              "      div.appendChild(label);\n",
              "      const progress = document.createElement('progress');\n",
              "      progress.max = size;\n",
              "      div.appendChild(progress);\n",
              "      document.body.appendChild(div);\n",
              "\n",
              "      const buffers = [];\n",
              "      let downloaded = 0;\n",
              "\n",
              "      const channel = await google.colab.kernel.comms.open(id);\n",
              "      // Send a message to notify the kernel that we're ready.\n",
              "      channel.send({})\n",
              "\n",
              "      for await (const message of channel.messages) {\n",
              "        // Send a message to notify the kernel that we're ready.\n",
              "        channel.send({})\n",
              "        if (message.buffers) {\n",
              "          for (const buffer of message.buffers) {\n",
              "            buffers.push(buffer);\n",
              "            downloaded += buffer.byteLength;\n",
              "            progress.value = downloaded;\n",
              "          }\n",
              "        }\n",
              "      }\n",
              "      const blob = new Blob(buffers, {type: 'application/binary'});\n",
              "      const a = document.createElement('a');\n",
              "      a.href = window.URL.createObjectURL(blob);\n",
              "      a.download = filename;\n",
              "      div.appendChild(a);\n",
              "      a.click();\n",
              "      div.remove();\n",
              "    }\n",
              "  "
            ]
          },
          "metadata": {}
        },
        {
          "output_type": "display_data",
          "data": {
            "text/plain": [
              "<IPython.core.display.Javascript object>"
            ],
            "application/javascript": [
              "download(\"download_67e84bfb-4092-4c1c-ad97-48d743da3828\", \"Sambalpur_Region_SO_offices.csv\", 32864)"
            ]
          },
          "metadata": {}
        },
        {
          "output_type": "stream",
          "name": "stdout",
          "text": [
            "Downloaded Sambalpur_Region_SO_offices.csv\n"
          ]
        },
        {
          "output_type": "display_data",
          "data": {
            "text/plain": [
              "<IPython.core.display.Javascript object>"
            ],
            "application/javascript": [
              "\n",
              "    async function download(id, filename, size) {\n",
              "      if (!google.colab.kernel.accessAllowed) {\n",
              "        return;\n",
              "      }\n",
              "      const div = document.createElement('div');\n",
              "      const label = document.createElement('label');\n",
              "      label.textContent = `Downloading \"${filename}\": `;\n",
              "      div.appendChild(label);\n",
              "      const progress = document.createElement('progress');\n",
              "      progress.max = size;\n",
              "      div.appendChild(progress);\n",
              "      document.body.appendChild(div);\n",
              "\n",
              "      const buffers = [];\n",
              "      let downloaded = 0;\n",
              "\n",
              "      const channel = await google.colab.kernel.comms.open(id);\n",
              "      // Send a message to notify the kernel that we're ready.\n",
              "      channel.send({})\n",
              "\n",
              "      for await (const message of channel.messages) {\n",
              "        // Send a message to notify the kernel that we're ready.\n",
              "        channel.send({})\n",
              "        if (message.buffers) {\n",
              "          for (const buffer of message.buffers) {\n",
              "            buffers.push(buffer);\n",
              "            downloaded += buffer.byteLength;\n",
              "            progress.value = downloaded;\n",
              "          }\n",
              "        }\n",
              "      }\n",
              "      const blob = new Blob(buffers, {type: 'application/binary'});\n",
              "      const a = document.createElement('a');\n",
              "      a.href = window.URL.createObjectURL(blob);\n",
              "      a.download = filename;\n",
              "      div.appendChild(a);\n",
              "      a.click();\n",
              "      div.remove();\n",
              "    }\n",
              "  "
            ]
          },
          "metadata": {}
        },
        {
          "output_type": "display_data",
          "data": {
            "text/plain": [
              "<IPython.core.display.Javascript object>"
            ],
            "application/javascript": [
              "download(\"download_38b6ab82-f12b-4468-8317-6861f87e3cab\", \"Sambalpur_Region_BO_offices.csv\", 193089)"
            ]
          },
          "metadata": {}
        },
        {
          "output_type": "stream",
          "name": "stdout",
          "text": [
            "Downloaded Sambalpur_Region_BO_offices.csv\n"
          ]
        },
        {
          "output_type": "display_data",
          "data": {
            "text/plain": [
              "<IPython.core.display.Javascript object>"
            ],
            "application/javascript": [
              "\n",
              "    async function download(id, filename, size) {\n",
              "      if (!google.colab.kernel.accessAllowed) {\n",
              "        return;\n",
              "      }\n",
              "      const div = document.createElement('div');\n",
              "      const label = document.createElement('label');\n",
              "      label.textContent = `Downloading \"${filename}\": `;\n",
              "      div.appendChild(label);\n",
              "      const progress = document.createElement('progress');\n",
              "      progress.max = size;\n",
              "      div.appendChild(progress);\n",
              "      document.body.appendChild(div);\n",
              "\n",
              "      const buffers = [];\n",
              "      let downloaded = 0;\n",
              "\n",
              "      const channel = await google.colab.kernel.comms.open(id);\n",
              "      // Send a message to notify the kernel that we're ready.\n",
              "      channel.send({})\n",
              "\n",
              "      for await (const message of channel.messages) {\n",
              "        // Send a message to notify the kernel that we're ready.\n",
              "        channel.send({})\n",
              "        if (message.buffers) {\n",
              "          for (const buffer of message.buffers) {\n",
              "            buffers.push(buffer);\n",
              "            downloaded += buffer.byteLength;\n",
              "            progress.value = downloaded;\n",
              "          }\n",
              "        }\n",
              "      }\n",
              "      const blob = new Blob(buffers, {type: 'application/binary'});\n",
              "      const a = document.createElement('a');\n",
              "      a.href = window.URL.createObjectURL(blob);\n",
              "      a.download = filename;\n",
              "      div.appendChild(a);\n",
              "      a.click();\n",
              "      div.remove();\n",
              "    }\n",
              "  "
            ]
          },
          "metadata": {}
        },
        {
          "output_type": "display_data",
          "data": {
            "text/plain": [
              "<IPython.core.display.Javascript object>"
            ],
            "application/javascript": [
              "download(\"download_7612cf8f-b21a-430b-b776-a682d461e871\", \"Punjab_West_Region_HO_offices.csv\", 1505)"
            ]
          },
          "metadata": {}
        },
        {
          "output_type": "stream",
          "name": "stdout",
          "text": [
            "Downloaded Punjab_West_Region_HO_offices.csv\n"
          ]
        },
        {
          "output_type": "display_data",
          "data": {
            "text/plain": [
              "<IPython.core.display.Javascript object>"
            ],
            "application/javascript": [
              "\n",
              "    async function download(id, filename, size) {\n",
              "      if (!google.colab.kernel.accessAllowed) {\n",
              "        return;\n",
              "      }\n",
              "      const div = document.createElement('div');\n",
              "      const label = document.createElement('label');\n",
              "      label.textContent = `Downloading \"${filename}\": `;\n",
              "      div.appendChild(label);\n",
              "      const progress = document.createElement('progress');\n",
              "      progress.max = size;\n",
              "      div.appendChild(progress);\n",
              "      document.body.appendChild(div);\n",
              "\n",
              "      const buffers = [];\n",
              "      let downloaded = 0;\n",
              "\n",
              "      const channel = await google.colab.kernel.comms.open(id);\n",
              "      // Send a message to notify the kernel that we're ready.\n",
              "      channel.send({})\n",
              "\n",
              "      for await (const message of channel.messages) {\n",
              "        // Send a message to notify the kernel that we're ready.\n",
              "        channel.send({})\n",
              "        if (message.buffers) {\n",
              "          for (const buffer of message.buffers) {\n",
              "            buffers.push(buffer);\n",
              "            downloaded += buffer.byteLength;\n",
              "            progress.value = downloaded;\n",
              "          }\n",
              "        }\n",
              "      }\n",
              "      const blob = new Blob(buffers, {type: 'application/binary'});\n",
              "      const a = document.createElement('a');\n",
              "      a.href = window.URL.createObjectURL(blob);\n",
              "      a.download = filename;\n",
              "      div.appendChild(a);\n",
              "      a.click();\n",
              "      div.remove();\n",
              "    }\n",
              "  "
            ]
          },
          "metadata": {}
        },
        {
          "output_type": "display_data",
          "data": {
            "text/plain": [
              "<IPython.core.display.Javascript object>"
            ],
            "application/javascript": [
              "download(\"download_33d71351-29c2-43ba-a5ac-58d16f0a398d\", \"Punjab_West_Region_SO_offices.csv\", 48250)"
            ]
          },
          "metadata": {}
        },
        {
          "output_type": "stream",
          "name": "stdout",
          "text": [
            "Downloaded Punjab_West_Region_SO_offices.csv\n"
          ]
        },
        {
          "output_type": "display_data",
          "data": {
            "text/plain": [
              "<IPython.core.display.Javascript object>"
            ],
            "application/javascript": [
              "\n",
              "    async function download(id, filename, size) {\n",
              "      if (!google.colab.kernel.accessAllowed) {\n",
              "        return;\n",
              "      }\n",
              "      const div = document.createElement('div');\n",
              "      const label = document.createElement('label');\n",
              "      label.textContent = `Downloading \"${filename}\": `;\n",
              "      div.appendChild(label);\n",
              "      const progress = document.createElement('progress');\n",
              "      progress.max = size;\n",
              "      div.appendChild(progress);\n",
              "      document.body.appendChild(div);\n",
              "\n",
              "      const buffers = [];\n",
              "      let downloaded = 0;\n",
              "\n",
              "      const channel = await google.colab.kernel.comms.open(id);\n",
              "      // Send a message to notify the kernel that we're ready.\n",
              "      channel.send({})\n",
              "\n",
              "      for await (const message of channel.messages) {\n",
              "        // Send a message to notify the kernel that we're ready.\n",
              "        channel.send({})\n",
              "        if (message.buffers) {\n",
              "          for (const buffer of message.buffers) {\n",
              "            buffers.push(buffer);\n",
              "            downloaded += buffer.byteLength;\n",
              "            progress.value = downloaded;\n",
              "          }\n",
              "        }\n",
              "      }\n",
              "      const blob = new Blob(buffers, {type: 'application/binary'});\n",
              "      const a = document.createElement('a');\n",
              "      a.href = window.URL.createObjectURL(blob);\n",
              "      a.download = filename;\n",
              "      div.appendChild(a);\n",
              "      a.click();\n",
              "      div.remove();\n",
              "    }\n",
              "  "
            ]
          },
          "metadata": {}
        },
        {
          "output_type": "display_data",
          "data": {
            "text/plain": [
              "<IPython.core.display.Javascript object>"
            ],
            "application/javascript": [
              "download(\"download_654dba01-413b-49fd-b605-ed893067fc4c\", \"Punjab_West_Region_BO_offices.csv\", 221000)"
            ]
          },
          "metadata": {}
        },
        {
          "output_type": "stream",
          "name": "stdout",
          "text": [
            "Downloaded Punjab_West_Region_BO_offices.csv\n"
          ]
        },
        {
          "output_type": "display_data",
          "data": {
            "text/plain": [
              "<IPython.core.display.Javascript object>"
            ],
            "application/javascript": [
              "\n",
              "    async function download(id, filename, size) {\n",
              "      if (!google.colab.kernel.accessAllowed) {\n",
              "        return;\n",
              "      }\n",
              "      const div = document.createElement('div');\n",
              "      const label = document.createElement('label');\n",
              "      label.textContent = `Downloading \"${filename}\": `;\n",
              "      div.appendChild(label);\n",
              "      const progress = document.createElement('progress');\n",
              "      progress.max = size;\n",
              "      div.appendChild(progress);\n",
              "      document.body.appendChild(div);\n",
              "\n",
              "      const buffers = [];\n",
              "      let downloaded = 0;\n",
              "\n",
              "      const channel = await google.colab.kernel.comms.open(id);\n",
              "      // Send a message to notify the kernel that we're ready.\n",
              "      channel.send({})\n",
              "\n",
              "      for await (const message of channel.messages) {\n",
              "        // Send a message to notify the kernel that we're ready.\n",
              "        channel.send({})\n",
              "        if (message.buffers) {\n",
              "          for (const buffer of message.buffers) {\n",
              "            buffers.push(buffer);\n",
              "            downloaded += buffer.byteLength;\n",
              "            progress.value = downloaded;\n",
              "          }\n",
              "        }\n",
              "      }\n",
              "      const blob = new Blob(buffers, {type: 'application/binary'});\n",
              "      const a = document.createElement('a');\n",
              "      a.href = window.URL.createObjectURL(blob);\n",
              "      a.download = filename;\n",
              "      div.appendChild(a);\n",
              "      a.click();\n",
              "      div.remove();\n",
              "    }\n",
              "  "
            ]
          },
          "metadata": {}
        },
        {
          "output_type": "display_data",
          "data": {
            "text/plain": [
              "<IPython.core.display.Javascript object>"
            ],
            "application/javascript": [
              "download(\"download_2853396b-bdc1-47f1-94cc-b00329ae14a9\", \"Ajmer_Region_HO_offices.csv\", 1550)"
            ]
          },
          "metadata": {}
        },
        {
          "output_type": "stream",
          "name": "stdout",
          "text": [
            "Downloaded Ajmer_Region_HO_offices.csv\n"
          ]
        },
        {
          "output_type": "display_data",
          "data": {
            "text/plain": [
              "<IPython.core.display.Javascript object>"
            ],
            "application/javascript": [
              "\n",
              "    async function download(id, filename, size) {\n",
              "      if (!google.colab.kernel.accessAllowed) {\n",
              "        return;\n",
              "      }\n",
              "      const div = document.createElement('div');\n",
              "      const label = document.createElement('label');\n",
              "      label.textContent = `Downloading \"${filename}\": `;\n",
              "      div.appendChild(label);\n",
              "      const progress = document.createElement('progress');\n",
              "      progress.max = size;\n",
              "      div.appendChild(progress);\n",
              "      document.body.appendChild(div);\n",
              "\n",
              "      const buffers = [];\n",
              "      let downloaded = 0;\n",
              "\n",
              "      const channel = await google.colab.kernel.comms.open(id);\n",
              "      // Send a message to notify the kernel that we're ready.\n",
              "      channel.send({})\n",
              "\n",
              "      for await (const message of channel.messages) {\n",
              "        // Send a message to notify the kernel that we're ready.\n",
              "        channel.send({})\n",
              "        if (message.buffers) {\n",
              "          for (const buffer of message.buffers) {\n",
              "            buffers.push(buffer);\n",
              "            downloaded += buffer.byteLength;\n",
              "            progress.value = downloaded;\n",
              "          }\n",
              "        }\n",
              "      }\n",
              "      const blob = new Blob(buffers, {type: 'application/binary'});\n",
              "      const a = document.createElement('a');\n",
              "      a.href = window.URL.createObjectURL(blob);\n",
              "      a.download = filename;\n",
              "      div.appendChild(a);\n",
              "      a.click();\n",
              "      div.remove();\n",
              "    }\n",
              "  "
            ]
          },
          "metadata": {}
        },
        {
          "output_type": "display_data",
          "data": {
            "text/plain": [
              "<IPython.core.display.Javascript object>"
            ],
            "application/javascript": [
              "download(\"download_7769a201-c148-465f-bfb2-3277a0febcfc\", \"Ajmer_Region_SO_offices.csv\", 42081)"
            ]
          },
          "metadata": {}
        },
        {
          "output_type": "stream",
          "name": "stdout",
          "text": [
            "Downloaded Ajmer_Region_SO_offices.csv\n"
          ]
        },
        {
          "output_type": "display_data",
          "data": {
            "text/plain": [
              "<IPython.core.display.Javascript object>"
            ],
            "application/javascript": [
              "\n",
              "    async function download(id, filename, size) {\n",
              "      if (!google.colab.kernel.accessAllowed) {\n",
              "        return;\n",
              "      }\n",
              "      const div = document.createElement('div');\n",
              "      const label = document.createElement('label');\n",
              "      label.textContent = `Downloading \"${filename}\": `;\n",
              "      div.appendChild(label);\n",
              "      const progress = document.createElement('progress');\n",
              "      progress.max = size;\n",
              "      div.appendChild(progress);\n",
              "      document.body.appendChild(div);\n",
              "\n",
              "      const buffers = [];\n",
              "      let downloaded = 0;\n",
              "\n",
              "      const channel = await google.colab.kernel.comms.open(id);\n",
              "      // Send a message to notify the kernel that we're ready.\n",
              "      channel.send({})\n",
              "\n",
              "      for await (const message of channel.messages) {\n",
              "        // Send a message to notify the kernel that we're ready.\n",
              "        channel.send({})\n",
              "        if (message.buffers) {\n",
              "          for (const buffer of message.buffers) {\n",
              "            buffers.push(buffer);\n",
              "            downloaded += buffer.byteLength;\n",
              "            progress.value = downloaded;\n",
              "          }\n",
              "        }\n",
              "      }\n",
              "      const blob = new Blob(buffers, {type: 'application/binary'});\n",
              "      const a = document.createElement('a');\n",
              "      a.href = window.URL.createObjectURL(blob);\n",
              "      a.download = filename;\n",
              "      div.appendChild(a);\n",
              "      a.click();\n",
              "      div.remove();\n",
              "    }\n",
              "  "
            ]
          },
          "metadata": {}
        },
        {
          "output_type": "display_data",
          "data": {
            "text/plain": [
              "<IPython.core.display.Javascript object>"
            ],
            "application/javascript": [
              "download(\"download_d6de5397-af69-4eef-b4a3-be1dee874b5e\", \"Ajmer_Region_BO_offices.csv\", 298000)"
            ]
          },
          "metadata": {}
        },
        {
          "output_type": "stream",
          "name": "stdout",
          "text": [
            "Downloaded Ajmer_Region_BO_offices.csv\n"
          ]
        },
        {
          "output_type": "display_data",
          "data": {
            "text/plain": [
              "<IPython.core.display.Javascript object>"
            ],
            "application/javascript": [
              "\n",
              "    async function download(id, filename, size) {\n",
              "      if (!google.colab.kernel.accessAllowed) {\n",
              "        return;\n",
              "      }\n",
              "      const div = document.createElement('div');\n",
              "      const label = document.createElement('label');\n",
              "      label.textContent = `Downloading \"${filename}\": `;\n",
              "      div.appendChild(label);\n",
              "      const progress = document.createElement('progress');\n",
              "      progress.max = size;\n",
              "      div.appendChild(progress);\n",
              "      document.body.appendChild(div);\n",
              "\n",
              "      const buffers = [];\n",
              "      let downloaded = 0;\n",
              "\n",
              "      const channel = await google.colab.kernel.comms.open(id);\n",
              "      // Send a message to notify the kernel that we're ready.\n",
              "      channel.send({})\n",
              "\n",
              "      for await (const message of channel.messages) {\n",
              "        // Send a message to notify the kernel that we're ready.\n",
              "        channel.send({})\n",
              "        if (message.buffers) {\n",
              "          for (const buffer of message.buffers) {\n",
              "            buffers.push(buffer);\n",
              "            downloaded += buffer.byteLength;\n",
              "            progress.value = downloaded;\n",
              "          }\n",
              "        }\n",
              "      }\n",
              "      const blob = new Blob(buffers, {type: 'application/binary'});\n",
              "      const a = document.createElement('a');\n",
              "      a.href = window.URL.createObjectURL(blob);\n",
              "      a.download = filename;\n",
              "      div.appendChild(a);\n",
              "      a.click();\n",
              "      div.remove();\n",
              "    }\n",
              "  "
            ]
          },
          "metadata": {}
        },
        {
          "output_type": "display_data",
          "data": {
            "text/plain": [
              "<IPython.core.display.Javascript object>"
            ],
            "application/javascript": [
              "download(\"download_ec4a8863-87ad-4e3d-8d6f-46ad0bc133fe\", \"Jodhpur_Region_HO_offices.csv\", 1872)"
            ]
          },
          "metadata": {}
        },
        {
          "output_type": "stream",
          "name": "stdout",
          "text": [
            "Downloaded Jodhpur_Region_HO_offices.csv\n"
          ]
        },
        {
          "output_type": "display_data",
          "data": {
            "text/plain": [
              "<IPython.core.display.Javascript object>"
            ],
            "application/javascript": [
              "\n",
              "    async function download(id, filename, size) {\n",
              "      if (!google.colab.kernel.accessAllowed) {\n",
              "        return;\n",
              "      }\n",
              "      const div = document.createElement('div');\n",
              "      const label = document.createElement('label');\n",
              "      label.textContent = `Downloading \"${filename}\": `;\n",
              "      div.appendChild(label);\n",
              "      const progress = document.createElement('progress');\n",
              "      progress.max = size;\n",
              "      div.appendChild(progress);\n",
              "      document.body.appendChild(div);\n",
              "\n",
              "      const buffers = [];\n",
              "      let downloaded = 0;\n",
              "\n",
              "      const channel = await google.colab.kernel.comms.open(id);\n",
              "      // Send a message to notify the kernel that we're ready.\n",
              "      channel.send({})\n",
              "\n",
              "      for await (const message of channel.messages) {\n",
              "        // Send a message to notify the kernel that we're ready.\n",
              "        channel.send({})\n",
              "        if (message.buffers) {\n",
              "          for (const buffer of message.buffers) {\n",
              "            buffers.push(buffer);\n",
              "            downloaded += buffer.byteLength;\n",
              "            progress.value = downloaded;\n",
              "          }\n",
              "        }\n",
              "      }\n",
              "      const blob = new Blob(buffers, {type: 'application/binary'});\n",
              "      const a = document.createElement('a');\n",
              "      a.href = window.URL.createObjectURL(blob);\n",
              "      a.download = filename;\n",
              "      div.appendChild(a);\n",
              "      a.click();\n",
              "      div.remove();\n",
              "    }\n",
              "  "
            ]
          },
          "metadata": {}
        },
        {
          "output_type": "display_data",
          "data": {
            "text/plain": [
              "<IPython.core.display.Javascript object>"
            ],
            "application/javascript": [
              "download(\"download_fbaa89a0-0bc3-4bcf-838a-d1883d58a1c3\", \"Jodhpur_Region_SO_offices.csv\", 55733)"
            ]
          },
          "metadata": {}
        },
        {
          "output_type": "stream",
          "name": "stdout",
          "text": [
            "Downloaded Jodhpur_Region_SO_offices.csv\n"
          ]
        },
        {
          "output_type": "display_data",
          "data": {
            "text/plain": [
              "<IPython.core.display.Javascript object>"
            ],
            "application/javascript": [
              "\n",
              "    async function download(id, filename, size) {\n",
              "      if (!google.colab.kernel.accessAllowed) {\n",
              "        return;\n",
              "      }\n",
              "      const div = document.createElement('div');\n",
              "      const label = document.createElement('label');\n",
              "      label.textContent = `Downloading \"${filename}\": `;\n",
              "      div.appendChild(label);\n",
              "      const progress = document.createElement('progress');\n",
              "      progress.max = size;\n",
              "      div.appendChild(progress);\n",
              "      document.body.appendChild(div);\n",
              "\n",
              "      const buffers = [];\n",
              "      let downloaded = 0;\n",
              "\n",
              "      const channel = await google.colab.kernel.comms.open(id);\n",
              "      // Send a message to notify the kernel that we're ready.\n",
              "      channel.send({})\n",
              "\n",
              "      for await (const message of channel.messages) {\n",
              "        // Send a message to notify the kernel that we're ready.\n",
              "        channel.send({})\n",
              "        if (message.buffers) {\n",
              "          for (const buffer of message.buffers) {\n",
              "            buffers.push(buffer);\n",
              "            downloaded += buffer.byteLength;\n",
              "            progress.value = downloaded;\n",
              "          }\n",
              "        }\n",
              "      }\n",
              "      const blob = new Blob(buffers, {type: 'application/binary'});\n",
              "      const a = document.createElement('a');\n",
              "      a.href = window.URL.createObjectURL(blob);\n",
              "      a.download = filename;\n",
              "      div.appendChild(a);\n",
              "      a.click();\n",
              "      div.remove();\n",
              "    }\n",
              "  "
            ]
          },
          "metadata": {}
        },
        {
          "output_type": "display_data",
          "data": {
            "text/plain": [
              "<IPython.core.display.Javascript object>"
            ],
            "application/javascript": [
              "download(\"download_ce7996e9-469c-4e36-b3bc-1e380f9410a6\", \"Jodhpur_Region_BO_offices.csv\", 384578)"
            ]
          },
          "metadata": {}
        },
        {
          "output_type": "stream",
          "name": "stdout",
          "text": [
            "Downloaded Jodhpur_Region_BO_offices.csv\n"
          ]
        },
        {
          "output_type": "display_data",
          "data": {
            "text/plain": [
              "<IPython.core.display.Javascript object>"
            ],
            "application/javascript": [
              "\n",
              "    async function download(id, filename, size) {\n",
              "      if (!google.colab.kernel.accessAllowed) {\n",
              "        return;\n",
              "      }\n",
              "      const div = document.createElement('div');\n",
              "      const label = document.createElement('label');\n",
              "      label.textContent = `Downloading \"${filename}\": `;\n",
              "      div.appendChild(label);\n",
              "      const progress = document.createElement('progress');\n",
              "      progress.max = size;\n",
              "      div.appendChild(progress);\n",
              "      document.body.appendChild(div);\n",
              "\n",
              "      const buffers = [];\n",
              "      let downloaded = 0;\n",
              "\n",
              "      const channel = await google.colab.kernel.comms.open(id);\n",
              "      // Send a message to notify the kernel that we're ready.\n",
              "      channel.send({})\n",
              "\n",
              "      for await (const message of channel.messages) {\n",
              "        // Send a message to notify the kernel that we're ready.\n",
              "        channel.send({})\n",
              "        if (message.buffers) {\n",
              "          for (const buffer of message.buffers) {\n",
              "            buffers.push(buffer);\n",
              "            downloaded += buffer.byteLength;\n",
              "            progress.value = downloaded;\n",
              "          }\n",
              "        }\n",
              "      }\n",
              "      const blob = new Blob(buffers, {type: 'application/binary'});\n",
              "      const a = document.createElement('a');\n",
              "      a.href = window.URL.createObjectURL(blob);\n",
              "      a.download = filename;\n",
              "      div.appendChild(a);\n",
              "      a.click();\n",
              "      div.remove();\n",
              "    }\n",
              "  "
            ]
          },
          "metadata": {}
        },
        {
          "output_type": "display_data",
          "data": {
            "text/plain": [
              "<IPython.core.display.Javascript object>"
            ],
            "application/javascript": [
              "download(\"download_22fc4348-f885-4628-88db-d0dd5370f3d5\", \"Central_Region,_Trichirapalli_HO_offices.csv\", 3122)"
            ]
          },
          "metadata": {}
        },
        {
          "output_type": "stream",
          "name": "stdout",
          "text": [
            "Downloaded Central_Region,_Trichirapalli_HO_offices.csv\n"
          ]
        },
        {
          "output_type": "display_data",
          "data": {
            "text/plain": [
              "<IPython.core.display.Javascript object>"
            ],
            "application/javascript": [
              "\n",
              "    async function download(id, filename, size) {\n",
              "      if (!google.colab.kernel.accessAllowed) {\n",
              "        return;\n",
              "      }\n",
              "      const div = document.createElement('div');\n",
              "      const label = document.createElement('label');\n",
              "      label.textContent = `Downloading \"${filename}\": `;\n",
              "      div.appendChild(label);\n",
              "      const progress = document.createElement('progress');\n",
              "      progress.max = size;\n",
              "      div.appendChild(progress);\n",
              "      document.body.appendChild(div);\n",
              "\n",
              "      const buffers = [];\n",
              "      let downloaded = 0;\n",
              "\n",
              "      const channel = await google.colab.kernel.comms.open(id);\n",
              "      // Send a message to notify the kernel that we're ready.\n",
              "      channel.send({})\n",
              "\n",
              "      for await (const message of channel.messages) {\n",
              "        // Send a message to notify the kernel that we're ready.\n",
              "        channel.send({})\n",
              "        if (message.buffers) {\n",
              "          for (const buffer of message.buffers) {\n",
              "            buffers.push(buffer);\n",
              "            downloaded += buffer.byteLength;\n",
              "            progress.value = downloaded;\n",
              "          }\n",
              "        }\n",
              "      }\n",
              "      const blob = new Blob(buffers, {type: 'application/binary'});\n",
              "      const a = document.createElement('a');\n",
              "      a.href = window.URL.createObjectURL(blob);\n",
              "      a.download = filename;\n",
              "      div.appendChild(a);\n",
              "      a.click();\n",
              "      div.remove();\n",
              "    }\n",
              "  "
            ]
          },
          "metadata": {}
        },
        {
          "output_type": "display_data",
          "data": {
            "text/plain": [
              "<IPython.core.display.Javascript object>"
            ],
            "application/javascript": [
              "download(\"download_d0d26be2-bad3-4e96-a230-3f01d26bc28d\", \"Central_Region,_Trichirapalli_SO_offices.csv\", 85089)"
            ]
          },
          "metadata": {}
        },
        {
          "output_type": "stream",
          "name": "stdout",
          "text": [
            "Downloaded Central_Region,_Trichirapalli_SO_offices.csv\n"
          ]
        },
        {
          "output_type": "display_data",
          "data": {
            "text/plain": [
              "<IPython.core.display.Javascript object>"
            ],
            "application/javascript": [
              "\n",
              "    async function download(id, filename, size) {\n",
              "      if (!google.colab.kernel.accessAllowed) {\n",
              "        return;\n",
              "      }\n",
              "      const div = document.createElement('div');\n",
              "      const label = document.createElement('label');\n",
              "      label.textContent = `Downloading \"${filename}\": `;\n",
              "      div.appendChild(label);\n",
              "      const progress = document.createElement('progress');\n",
              "      progress.max = size;\n",
              "      div.appendChild(progress);\n",
              "      document.body.appendChild(div);\n",
              "\n",
              "      const buffers = [];\n",
              "      let downloaded = 0;\n",
              "\n",
              "      const channel = await google.colab.kernel.comms.open(id);\n",
              "      // Send a message to notify the kernel that we're ready.\n",
              "      channel.send({})\n",
              "\n",
              "      for await (const message of channel.messages) {\n",
              "        // Send a message to notify the kernel that we're ready.\n",
              "        channel.send({})\n",
              "        if (message.buffers) {\n",
              "          for (const buffer of message.buffers) {\n",
              "            buffers.push(buffer);\n",
              "            downloaded += buffer.byteLength;\n",
              "            progress.value = downloaded;\n",
              "          }\n",
              "        }\n",
              "      }\n",
              "      const blob = new Blob(buffers, {type: 'application/binary'});\n",
              "      const a = document.createElement('a');\n",
              "      a.href = window.URL.createObjectURL(blob);\n",
              "      a.download = filename;\n",
              "      div.appendChild(a);\n",
              "      a.click();\n",
              "      div.remove();\n",
              "    }\n",
              "  "
            ]
          },
          "metadata": {}
        },
        {
          "output_type": "display_data",
          "data": {
            "text/plain": [
              "<IPython.core.display.Javascript object>"
            ],
            "application/javascript": [
              "download(\"download_97979751-a1ee-4be1-8828-a4b60230c58d\", \"Central_Region,_Trichirapalli_BO_offices.csv\", 360090)"
            ]
          },
          "metadata": {}
        },
        {
          "output_type": "stream",
          "name": "stdout",
          "text": [
            "Downloaded Central_Region,_Trichirapalli_BO_offices.csv\n"
          ]
        },
        {
          "output_type": "display_data",
          "data": {
            "text/plain": [
              "<IPython.core.display.Javascript object>"
            ],
            "application/javascript": [
              "\n",
              "    async function download(id, filename, size) {\n",
              "      if (!google.colab.kernel.accessAllowed) {\n",
              "        return;\n",
              "      }\n",
              "      const div = document.createElement('div');\n",
              "      const label = document.createElement('label');\n",
              "      label.textContent = `Downloading \"${filename}\": `;\n",
              "      div.appendChild(label);\n",
              "      const progress = document.createElement('progress');\n",
              "      progress.max = size;\n",
              "      div.appendChild(progress);\n",
              "      document.body.appendChild(div);\n",
              "\n",
              "      const buffers = [];\n",
              "      let downloaded = 0;\n",
              "\n",
              "      const channel = await google.colab.kernel.comms.open(id);\n",
              "      // Send a message to notify the kernel that we're ready.\n",
              "      channel.send({})\n",
              "\n",
              "      for await (const message of channel.messages) {\n",
              "        // Send a message to notify the kernel that we're ready.\n",
              "        channel.send({})\n",
              "        if (message.buffers) {\n",
              "          for (const buffer of message.buffers) {\n",
              "            buffers.push(buffer);\n",
              "            downloaded += buffer.byteLength;\n",
              "            progress.value = downloaded;\n",
              "          }\n",
              "        }\n",
              "      }\n",
              "      const blob = new Blob(buffers, {type: 'application/binary'});\n",
              "      const a = document.createElement('a');\n",
              "      a.href = window.URL.createObjectURL(blob);\n",
              "      a.download = filename;\n",
              "      div.appendChild(a);\n",
              "      a.click();\n",
              "      div.remove();\n",
              "    }\n",
              "  "
            ]
          },
          "metadata": {}
        },
        {
          "output_type": "display_data",
          "data": {
            "text/plain": [
              "<IPython.core.display.Javascript object>"
            ],
            "application/javascript": [
              "download(\"download_1c01632e-bca4-4f68-b4ae-91cb6aa03c2b\", \"Chennai_City_Region_HO_offices.csv\", 2370)"
            ]
          },
          "metadata": {}
        },
        {
          "output_type": "stream",
          "name": "stdout",
          "text": [
            "Downloaded Chennai_City_Region_HO_offices.csv\n"
          ]
        },
        {
          "output_type": "display_data",
          "data": {
            "text/plain": [
              "<IPython.core.display.Javascript object>"
            ],
            "application/javascript": [
              "\n",
              "    async function download(id, filename, size) {\n",
              "      if (!google.colab.kernel.accessAllowed) {\n",
              "        return;\n",
              "      }\n",
              "      const div = document.createElement('div');\n",
              "      const label = document.createElement('label');\n",
              "      label.textContent = `Downloading \"${filename}\": `;\n",
              "      div.appendChild(label);\n",
              "      const progress = document.createElement('progress');\n",
              "      progress.max = size;\n",
              "      div.appendChild(progress);\n",
              "      document.body.appendChild(div);\n",
              "\n",
              "      const buffers = [];\n",
              "      let downloaded = 0;\n",
              "\n",
              "      const channel = await google.colab.kernel.comms.open(id);\n",
              "      // Send a message to notify the kernel that we're ready.\n",
              "      channel.send({})\n",
              "\n",
              "      for await (const message of channel.messages) {\n",
              "        // Send a message to notify the kernel that we're ready.\n",
              "        channel.send({})\n",
              "        if (message.buffers) {\n",
              "          for (const buffer of message.buffers) {\n",
              "            buffers.push(buffer);\n",
              "            downloaded += buffer.byteLength;\n",
              "            progress.value = downloaded;\n",
              "          }\n",
              "        }\n",
              "      }\n",
              "      const blob = new Blob(buffers, {type: 'application/binary'});\n",
              "      const a = document.createElement('a');\n",
              "      a.href = window.URL.createObjectURL(blob);\n",
              "      a.download = filename;\n",
              "      div.appendChild(a);\n",
              "      a.click();\n",
              "      div.remove();\n",
              "    }\n",
              "  "
            ]
          },
          "metadata": {}
        },
        {
          "output_type": "display_data",
          "data": {
            "text/plain": [
              "<IPython.core.display.Javascript object>"
            ],
            "application/javascript": [
              "download(\"download_e9838879-c693-4acf-b2bf-9290771ee768\", \"Chennai_City_Region_SO_offices.csv\", 65252)"
            ]
          },
          "metadata": {}
        },
        {
          "output_type": "stream",
          "name": "stdout",
          "text": [
            "Downloaded Chennai_City_Region_SO_offices.csv\n"
          ]
        },
        {
          "output_type": "display_data",
          "data": {
            "text/plain": [
              "<IPython.core.display.Javascript object>"
            ],
            "application/javascript": [
              "\n",
              "    async function download(id, filename, size) {\n",
              "      if (!google.colab.kernel.accessAllowed) {\n",
              "        return;\n",
              "      }\n",
              "      const div = document.createElement('div');\n",
              "      const label = document.createElement('label');\n",
              "      label.textContent = `Downloading \"${filename}\": `;\n",
              "      div.appendChild(label);\n",
              "      const progress = document.createElement('progress');\n",
              "      progress.max = size;\n",
              "      div.appendChild(progress);\n",
              "      document.body.appendChild(div);\n",
              "\n",
              "      const buffers = [];\n",
              "      let downloaded = 0;\n",
              "\n",
              "      const channel = await google.colab.kernel.comms.open(id);\n",
              "      // Send a message to notify the kernel that we're ready.\n",
              "      channel.send({})\n",
              "\n",
              "      for await (const message of channel.messages) {\n",
              "        // Send a message to notify the kernel that we're ready.\n",
              "        channel.send({})\n",
              "        if (message.buffers) {\n",
              "          for (const buffer of message.buffers) {\n",
              "            buffers.push(buffer);\n",
              "            downloaded += buffer.byteLength;\n",
              "            progress.value = downloaded;\n",
              "          }\n",
              "        }\n",
              "      }\n",
              "      const blob = new Blob(buffers, {type: 'application/binary'});\n",
              "      const a = document.createElement('a');\n",
              "      a.href = window.URL.createObjectURL(blob);\n",
              "      a.download = filename;\n",
              "      div.appendChild(a);\n",
              "      a.click();\n",
              "      div.remove();\n",
              "    }\n",
              "  "
            ]
          },
          "metadata": {}
        },
        {
          "output_type": "display_data",
          "data": {
            "text/plain": [
              "<IPython.core.display.Javascript object>"
            ],
            "application/javascript": [
              "download(\"download_436039d3-fb0e-469f-84c3-6a63083e9e09\", \"Chennai_City_Region_BO_offices.csv\", 186519)"
            ]
          },
          "metadata": {}
        },
        {
          "output_type": "stream",
          "name": "stdout",
          "text": [
            "Downloaded Chennai_City_Region_BO_offices.csv\n"
          ]
        },
        {
          "output_type": "display_data",
          "data": {
            "text/plain": [
              "<IPython.core.display.Javascript object>"
            ],
            "application/javascript": [
              "\n",
              "    async function download(id, filename, size) {\n",
              "      if (!google.colab.kernel.accessAllowed) {\n",
              "        return;\n",
              "      }\n",
              "      const div = document.createElement('div');\n",
              "      const label = document.createElement('label');\n",
              "      label.textContent = `Downloading \"${filename}\": `;\n",
              "      div.appendChild(label);\n",
              "      const progress = document.createElement('progress');\n",
              "      progress.max = size;\n",
              "      div.appendChild(progress);\n",
              "      document.body.appendChild(div);\n",
              "\n",
              "      const buffers = [];\n",
              "      let downloaded = 0;\n",
              "\n",
              "      const channel = await google.colab.kernel.comms.open(id);\n",
              "      // Send a message to notify the kernel that we're ready.\n",
              "      channel.send({})\n",
              "\n",
              "      for await (const message of channel.messages) {\n",
              "        // Send a message to notify the kernel that we're ready.\n",
              "        channel.send({})\n",
              "        if (message.buffers) {\n",
              "          for (const buffer of message.buffers) {\n",
              "            buffers.push(buffer);\n",
              "            downloaded += buffer.byteLength;\n",
              "            progress.value = downloaded;\n",
              "          }\n",
              "        }\n",
              "      }\n",
              "      const blob = new Blob(buffers, {type: 'application/binary'});\n",
              "      const a = document.createElement('a');\n",
              "      a.href = window.URL.createObjectURL(blob);\n",
              "      a.download = filename;\n",
              "      div.appendChild(a);\n",
              "      a.click();\n",
              "      div.remove();\n",
              "    }\n",
              "  "
            ]
          },
          "metadata": {}
        },
        {
          "output_type": "display_data",
          "data": {
            "text/plain": [
              "<IPython.core.display.Javascript object>"
            ],
            "application/javascript": [
              "download(\"download_873e4732-c9ce-47d6-a1d2-5401a0b750dc\", \"Southern_Region,_Madurai_HO_offices.csv\", 3549)"
            ]
          },
          "metadata": {}
        },
        {
          "output_type": "stream",
          "name": "stdout",
          "text": [
            "Downloaded Southern_Region,_Madurai_HO_offices.csv\n"
          ]
        },
        {
          "output_type": "display_data",
          "data": {
            "text/plain": [
              "<IPython.core.display.Javascript object>"
            ],
            "application/javascript": [
              "\n",
              "    async function download(id, filename, size) {\n",
              "      if (!google.colab.kernel.accessAllowed) {\n",
              "        return;\n",
              "      }\n",
              "      const div = document.createElement('div');\n",
              "      const label = document.createElement('label');\n",
              "      label.textContent = `Downloading \"${filename}\": `;\n",
              "      div.appendChild(label);\n",
              "      const progress = document.createElement('progress');\n",
              "      progress.max = size;\n",
              "      div.appendChild(progress);\n",
              "      document.body.appendChild(div);\n",
              "\n",
              "      const buffers = [];\n",
              "      let downloaded = 0;\n",
              "\n",
              "      const channel = await google.colab.kernel.comms.open(id);\n",
              "      // Send a message to notify the kernel that we're ready.\n",
              "      channel.send({})\n",
              "\n",
              "      for await (const message of channel.messages) {\n",
              "        // Send a message to notify the kernel that we're ready.\n",
              "        channel.send({})\n",
              "        if (message.buffers) {\n",
              "          for (const buffer of message.buffers) {\n",
              "            buffers.push(buffer);\n",
              "            downloaded += buffer.byteLength;\n",
              "            progress.value = downloaded;\n",
              "          }\n",
              "        }\n",
              "      }\n",
              "      const blob = new Blob(buffers, {type: 'application/binary'});\n",
              "      const a = document.createElement('a');\n",
              "      a.href = window.URL.createObjectURL(blob);\n",
              "      a.download = filename;\n",
              "      div.appendChild(a);\n",
              "      a.click();\n",
              "      div.remove();\n",
              "    }\n",
              "  "
            ]
          },
          "metadata": {}
        },
        {
          "output_type": "display_data",
          "data": {
            "text/plain": [
              "<IPython.core.display.Javascript object>"
            ],
            "application/javascript": [
              "download(\"download_68ade609-ecde-4833-b573-cff9829533ba\", \"Southern_Region,_Madurai_SO_offices.csv\", 89069)"
            ]
          },
          "metadata": {}
        },
        {
          "output_type": "stream",
          "name": "stdout",
          "text": [
            "Downloaded Southern_Region,_Madurai_SO_offices.csv\n"
          ]
        },
        {
          "output_type": "display_data",
          "data": {
            "text/plain": [
              "<IPython.core.display.Javascript object>"
            ],
            "application/javascript": [
              "\n",
              "    async function download(id, filename, size) {\n",
              "      if (!google.colab.kernel.accessAllowed) {\n",
              "        return;\n",
              "      }\n",
              "      const div = document.createElement('div');\n",
              "      const label = document.createElement('label');\n",
              "      label.textContent = `Downloading \"${filename}\": `;\n",
              "      div.appendChild(label);\n",
              "      const progress = document.createElement('progress');\n",
              "      progress.max = size;\n",
              "      div.appendChild(progress);\n",
              "      document.body.appendChild(div);\n",
              "\n",
              "      const buffers = [];\n",
              "      let downloaded = 0;\n",
              "\n",
              "      const channel = await google.colab.kernel.comms.open(id);\n",
              "      // Send a message to notify the kernel that we're ready.\n",
              "      channel.send({})\n",
              "\n",
              "      for await (const message of channel.messages) {\n",
              "        // Send a message to notify the kernel that we're ready.\n",
              "        channel.send({})\n",
              "        if (message.buffers) {\n",
              "          for (const buffer of message.buffers) {\n",
              "            buffers.push(buffer);\n",
              "            downloaded += buffer.byteLength;\n",
              "            progress.value = downloaded;\n",
              "          }\n",
              "        }\n",
              "      }\n",
              "      const blob = new Blob(buffers, {type: 'application/binary'});\n",
              "      const a = document.createElement('a');\n",
              "      a.href = window.URL.createObjectURL(blob);\n",
              "      a.download = filename;\n",
              "      div.appendChild(a);\n",
              "      a.click();\n",
              "      div.remove();\n",
              "    }\n",
              "  "
            ]
          },
          "metadata": {}
        },
        {
          "output_type": "display_data",
          "data": {
            "text/plain": [
              "<IPython.core.display.Javascript object>"
            ],
            "application/javascript": [
              "download(\"download_27bc5367-2dcc-476b-9f81-d61b857508c8\", \"Southern_Region,_Madurai_BO_offices.csv\", 289671)"
            ]
          },
          "metadata": {}
        },
        {
          "output_type": "stream",
          "name": "stdout",
          "text": [
            "Downloaded Southern_Region,_Madurai_BO_offices.csv\n"
          ]
        },
        {
          "output_type": "display_data",
          "data": {
            "text/plain": [
              "<IPython.core.display.Javascript object>"
            ],
            "application/javascript": [
              "\n",
              "    async function download(id, filename, size) {\n",
              "      if (!google.colab.kernel.accessAllowed) {\n",
              "        return;\n",
              "      }\n",
              "      const div = document.createElement('div');\n",
              "      const label = document.createElement('label');\n",
              "      label.textContent = `Downloading \"${filename}\": `;\n",
              "      div.appendChild(label);\n",
              "      const progress = document.createElement('progress');\n",
              "      progress.max = size;\n",
              "      div.appendChild(progress);\n",
              "      document.body.appendChild(div);\n",
              "\n",
              "      const buffers = [];\n",
              "      let downloaded = 0;\n",
              "\n",
              "      const channel = await google.colab.kernel.comms.open(id);\n",
              "      // Send a message to notify the kernel that we're ready.\n",
              "      channel.send({})\n",
              "\n",
              "      for await (const message of channel.messages) {\n",
              "        // Send a message to notify the kernel that we're ready.\n",
              "        channel.send({})\n",
              "        if (message.buffers) {\n",
              "          for (const buffer of message.buffers) {\n",
              "            buffers.push(buffer);\n",
              "            downloaded += buffer.byteLength;\n",
              "            progress.value = downloaded;\n",
              "          }\n",
              "        }\n",
              "      }\n",
              "      const blob = new Blob(buffers, {type: 'application/binary'});\n",
              "      const a = document.createElement('a');\n",
              "      a.href = window.URL.createObjectURL(blob);\n",
              "      a.download = filename;\n",
              "      div.appendChild(a);\n",
              "      a.click();\n",
              "      div.remove();\n",
              "    }\n",
              "  "
            ]
          },
          "metadata": {}
        },
        {
          "output_type": "display_data",
          "data": {
            "text/plain": [
              "<IPython.core.display.Javascript object>"
            ],
            "application/javascript": [
              "download(\"download_1ddf0dfe-e576-47a1-947a-b45330e8e7ef\", \"Western_Region,_Coimbatore_HO_offices.csv\", 2568)"
            ]
          },
          "metadata": {}
        },
        {
          "output_type": "stream",
          "name": "stdout",
          "text": [
            "Downloaded Western_Region,_Coimbatore_HO_offices.csv\n"
          ]
        },
        {
          "output_type": "display_data",
          "data": {
            "text/plain": [
              "<IPython.core.display.Javascript object>"
            ],
            "application/javascript": [
              "\n",
              "    async function download(id, filename, size) {\n",
              "      if (!google.colab.kernel.accessAllowed) {\n",
              "        return;\n",
              "      }\n",
              "      const div = document.createElement('div');\n",
              "      const label = document.createElement('label');\n",
              "      label.textContent = `Downloading \"${filename}\": `;\n",
              "      div.appendChild(label);\n",
              "      const progress = document.createElement('progress');\n",
              "      progress.max = size;\n",
              "      div.appendChild(progress);\n",
              "      document.body.appendChild(div);\n",
              "\n",
              "      const buffers = [];\n",
              "      let downloaded = 0;\n",
              "\n",
              "      const channel = await google.colab.kernel.comms.open(id);\n",
              "      // Send a message to notify the kernel that we're ready.\n",
              "      channel.send({})\n",
              "\n",
              "      for await (const message of channel.messages) {\n",
              "        // Send a message to notify the kernel that we're ready.\n",
              "        channel.send({})\n",
              "        if (message.buffers) {\n",
              "          for (const buffer of message.buffers) {\n",
              "            buffers.push(buffer);\n",
              "            downloaded += buffer.byteLength;\n",
              "            progress.value = downloaded;\n",
              "          }\n",
              "        }\n",
              "      }\n",
              "      const blob = new Blob(buffers, {type: 'application/binary'});\n",
              "      const a = document.createElement('a');\n",
              "      a.href = window.URL.createObjectURL(blob);\n",
              "      a.download = filename;\n",
              "      div.appendChild(a);\n",
              "      a.click();\n",
              "      div.remove();\n",
              "    }\n",
              "  "
            ]
          },
          "metadata": {}
        },
        {
          "output_type": "display_data",
          "data": {
            "text/plain": [
              "<IPython.core.display.Javascript object>"
            ],
            "application/javascript": [
              "download(\"download_e924089d-2337-4cb9-b08c-6683b5322238\", \"Western_Region,_Coimbatore_SO_offices.csv\", 71762)"
            ]
          },
          "metadata": {}
        },
        {
          "output_type": "stream",
          "name": "stdout",
          "text": [
            "Downloaded Western_Region,_Coimbatore_SO_offices.csv\n"
          ]
        },
        {
          "output_type": "display_data",
          "data": {
            "text/plain": [
              "<IPython.core.display.Javascript object>"
            ],
            "application/javascript": [
              "\n",
              "    async function download(id, filename, size) {\n",
              "      if (!google.colab.kernel.accessAllowed) {\n",
              "        return;\n",
              "      }\n",
              "      const div = document.createElement('div');\n",
              "      const label = document.createElement('label');\n",
              "      label.textContent = `Downloading \"${filename}\": `;\n",
              "      div.appendChild(label);\n",
              "      const progress = document.createElement('progress');\n",
              "      progress.max = size;\n",
              "      div.appendChild(progress);\n",
              "      document.body.appendChild(div);\n",
              "\n",
              "      const buffers = [];\n",
              "      let downloaded = 0;\n",
              "\n",
              "      const channel = await google.colab.kernel.comms.open(id);\n",
              "      // Send a message to notify the kernel that we're ready.\n",
              "      channel.send({})\n",
              "\n",
              "      for await (const message of channel.messages) {\n",
              "        // Send a message to notify the kernel that we're ready.\n",
              "        channel.send({})\n",
              "        if (message.buffers) {\n",
              "          for (const buffer of message.buffers) {\n",
              "            buffers.push(buffer);\n",
              "            downloaded += buffer.byteLength;\n",
              "            progress.value = downloaded;\n",
              "          }\n",
              "        }\n",
              "      }\n",
              "      const blob = new Blob(buffers, {type: 'application/binary'});\n",
              "      const a = document.createElement('a');\n",
              "      a.href = window.URL.createObjectURL(blob);\n",
              "      a.download = filename;\n",
              "      div.appendChild(a);\n",
              "      a.click();\n",
              "      div.remove();\n",
              "    }\n",
              "  "
            ]
          },
          "metadata": {}
        },
        {
          "output_type": "display_data",
          "data": {
            "text/plain": [
              "<IPython.core.display.Javascript object>"
            ],
            "application/javascript": [
              "download(\"download_af07f66a-7916-4bcf-9301-9277ce1a125b\", \"Western_Region,_Coimbatore_BO_offices.csv\", 290360)"
            ]
          },
          "metadata": {}
        },
        {
          "output_type": "stream",
          "name": "stdout",
          "text": [
            "Downloaded Western_Region,_Coimbatore_BO_offices.csv\n"
          ]
        },
        {
          "output_type": "display_data",
          "data": {
            "text/plain": [
              "<IPython.core.display.Javascript object>"
            ],
            "application/javascript": [
              "\n",
              "    async function download(id, filename, size) {\n",
              "      if (!google.colab.kernel.accessAllowed) {\n",
              "        return;\n",
              "      }\n",
              "      const div = document.createElement('div');\n",
              "      const label = document.createElement('label');\n",
              "      label.textContent = `Downloading \"${filename}\": `;\n",
              "      div.appendChild(label);\n",
              "      const progress = document.createElement('progress');\n",
              "      progress.max = size;\n",
              "      div.appendChild(progress);\n",
              "      document.body.appendChild(div);\n",
              "\n",
              "      const buffers = [];\n",
              "      let downloaded = 0;\n",
              "\n",
              "      const channel = await google.colab.kernel.comms.open(id);\n",
              "      // Send a message to notify the kernel that we're ready.\n",
              "      channel.send({})\n",
              "\n",
              "      for await (const message of channel.messages) {\n",
              "        // Send a message to notify the kernel that we're ready.\n",
              "        channel.send({})\n",
              "        if (message.buffers) {\n",
              "          for (const buffer of message.buffers) {\n",
              "            buffers.push(buffer);\n",
              "            downloaded += buffer.byteLength;\n",
              "            progress.value = downloaded;\n",
              "          }\n",
              "        }\n",
              "      }\n",
              "      const blob = new Blob(buffers, {type: 'application/binary'});\n",
              "      const a = document.createElement('a');\n",
              "      a.href = window.URL.createObjectURL(blob);\n",
              "      a.download = filename;\n",
              "      div.appendChild(a);\n",
              "      a.click();\n",
              "      div.remove();\n",
              "    }\n",
              "  "
            ]
          },
          "metadata": {}
        },
        {
          "output_type": "display_data",
          "data": {
            "text/plain": [
              "<IPython.core.display.Javascript object>"
            ],
            "application/javascript": [
              "download(\"download_ffaf1709-5052-404c-8862-cbf670c36f92\", \"Hyderabad_City_Region_HO_offices.csv\", 1371)"
            ]
          },
          "metadata": {}
        },
        {
          "output_type": "stream",
          "name": "stdout",
          "text": [
            "Downloaded Hyderabad_City_Region_HO_offices.csv\n"
          ]
        },
        {
          "output_type": "display_data",
          "data": {
            "text/plain": [
              "<IPython.core.display.Javascript object>"
            ],
            "application/javascript": [
              "\n",
              "    async function download(id, filename, size) {\n",
              "      if (!google.colab.kernel.accessAllowed) {\n",
              "        return;\n",
              "      }\n",
              "      const div = document.createElement('div');\n",
              "      const label = document.createElement('label');\n",
              "      label.textContent = `Downloading \"${filename}\": `;\n",
              "      div.appendChild(label);\n",
              "      const progress = document.createElement('progress');\n",
              "      progress.max = size;\n",
              "      div.appendChild(progress);\n",
              "      document.body.appendChild(div);\n",
              "\n",
              "      const buffers = [];\n",
              "      let downloaded = 0;\n",
              "\n",
              "      const channel = await google.colab.kernel.comms.open(id);\n",
              "      // Send a message to notify the kernel that we're ready.\n",
              "      channel.send({})\n",
              "\n",
              "      for await (const message of channel.messages) {\n",
              "        // Send a message to notify the kernel that we're ready.\n",
              "        channel.send({})\n",
              "        if (message.buffers) {\n",
              "          for (const buffer of message.buffers) {\n",
              "            buffers.push(buffer);\n",
              "            downloaded += buffer.byteLength;\n",
              "            progress.value = downloaded;\n",
              "          }\n",
              "        }\n",
              "      }\n",
              "      const blob = new Blob(buffers, {type: 'application/binary'});\n",
              "      const a = document.createElement('a');\n",
              "      a.href = window.URL.createObjectURL(blob);\n",
              "      a.download = filename;\n",
              "      div.appendChild(a);\n",
              "      a.click();\n",
              "      div.remove();\n",
              "    }\n",
              "  "
            ]
          },
          "metadata": {}
        },
        {
          "output_type": "display_data",
          "data": {
            "text/plain": [
              "<IPython.core.display.Javascript object>"
            ],
            "application/javascript": [
              "download(\"download_8eb69454-578f-4254-98a2-76fe1f2c853f\", \"Hyderabad_City_Region_SO_offices.csv\", 35194)"
            ]
          },
          "metadata": {}
        },
        {
          "output_type": "stream",
          "name": "stdout",
          "text": [
            "Downloaded Hyderabad_City_Region_SO_offices.csv\n"
          ]
        },
        {
          "output_type": "display_data",
          "data": {
            "text/plain": [
              "<IPython.core.display.Javascript object>"
            ],
            "application/javascript": [
              "\n",
              "    async function download(id, filename, size) {\n",
              "      if (!google.colab.kernel.accessAllowed) {\n",
              "        return;\n",
              "      }\n",
              "      const div = document.createElement('div');\n",
              "      const label = document.createElement('label');\n",
              "      label.textContent = `Downloading \"${filename}\": `;\n",
              "      div.appendChild(label);\n",
              "      const progress = document.createElement('progress');\n",
              "      progress.max = size;\n",
              "      div.appendChild(progress);\n",
              "      document.body.appendChild(div);\n",
              "\n",
              "      const buffers = [];\n",
              "      let downloaded = 0;\n",
              "\n",
              "      const channel = await google.colab.kernel.comms.open(id);\n",
              "      // Send a message to notify the kernel that we're ready.\n",
              "      channel.send({})\n",
              "\n",
              "      for await (const message of channel.messages) {\n",
              "        // Send a message to notify the kernel that we're ready.\n",
              "        channel.send({})\n",
              "        if (message.buffers) {\n",
              "          for (const buffer of message.buffers) {\n",
              "            buffers.push(buffer);\n",
              "            downloaded += buffer.byteLength;\n",
              "            progress.value = downloaded;\n",
              "          }\n",
              "        }\n",
              "      }\n",
              "      const blob = new Blob(buffers, {type: 'application/binary'});\n",
              "      const a = document.createElement('a');\n",
              "      a.href = window.URL.createObjectURL(blob);\n",
              "      a.download = filename;\n",
              "      div.appendChild(a);\n",
              "      a.click();\n",
              "      div.remove();\n",
              "    }\n",
              "  "
            ]
          },
          "metadata": {}
        },
        {
          "output_type": "display_data",
          "data": {
            "text/plain": [
              "<IPython.core.display.Javascript object>"
            ],
            "application/javascript": [
              "download(\"download_04bc7e59-0563-419c-9dcb-eb894a520483\", \"Hyderabad_City_Region_BO_offices.csv\", 91797)"
            ]
          },
          "metadata": {}
        },
        {
          "output_type": "stream",
          "name": "stdout",
          "text": [
            "Downloaded Hyderabad_City_Region_BO_offices.csv\n"
          ]
        },
        {
          "output_type": "display_data",
          "data": {
            "text/plain": [
              "<IPython.core.display.Javascript object>"
            ],
            "application/javascript": [
              "\n",
              "    async function download(id, filename, size) {\n",
              "      if (!google.colab.kernel.accessAllowed) {\n",
              "        return;\n",
              "      }\n",
              "      const div = document.createElement('div');\n",
              "      const label = document.createElement('label');\n",
              "      label.textContent = `Downloading \"${filename}\": `;\n",
              "      div.appendChild(label);\n",
              "      const progress = document.createElement('progress');\n",
              "      progress.max = size;\n",
              "      div.appendChild(progress);\n",
              "      document.body.appendChild(div);\n",
              "\n",
              "      const buffers = [];\n",
              "      let downloaded = 0;\n",
              "\n",
              "      const channel = await google.colab.kernel.comms.open(id);\n",
              "      // Send a message to notify the kernel that we're ready.\n",
              "      channel.send({})\n",
              "\n",
              "      for await (const message of channel.messages) {\n",
              "        // Send a message to notify the kernel that we're ready.\n",
              "        channel.send({})\n",
              "        if (message.buffers) {\n",
              "          for (const buffer of message.buffers) {\n",
              "            buffers.push(buffer);\n",
              "            downloaded += buffer.byteLength;\n",
              "            progress.value = downloaded;\n",
              "          }\n",
              "        }\n",
              "      }\n",
              "      const blob = new Blob(buffers, {type: 'application/binary'});\n",
              "      const a = document.createElement('a');\n",
              "      a.href = window.URL.createObjectURL(blob);\n",
              "      a.download = filename;\n",
              "      div.appendChild(a);\n",
              "      a.click();\n",
              "      div.remove();\n",
              "    }\n",
              "  "
            ]
          },
          "metadata": {}
        },
        {
          "output_type": "display_data",
          "data": {
            "text/plain": [
              "<IPython.core.display.Javascript object>"
            ],
            "application/javascript": [
              "download(\"download_d4eabba7-ea06-45cc-8e5c-e5fe5c03b3d1\", \"Hyderabad_Region_HO_offices.csv\", 2753)"
            ]
          },
          "metadata": {}
        },
        {
          "output_type": "stream",
          "name": "stdout",
          "text": [
            "Downloaded Hyderabad_Region_HO_offices.csv\n"
          ]
        },
        {
          "output_type": "display_data",
          "data": {
            "text/plain": [
              "<IPython.core.display.Javascript object>"
            ],
            "application/javascript": [
              "\n",
              "    async function download(id, filename, size) {\n",
              "      if (!google.colab.kernel.accessAllowed) {\n",
              "        return;\n",
              "      }\n",
              "      const div = document.createElement('div');\n",
              "      const label = document.createElement('label');\n",
              "      label.textContent = `Downloading \"${filename}\": `;\n",
              "      div.appendChild(label);\n",
              "      const progress = document.createElement('progress');\n",
              "      progress.max = size;\n",
              "      div.appendChild(progress);\n",
              "      document.body.appendChild(div);\n",
              "\n",
              "      const buffers = [];\n",
              "      let downloaded = 0;\n",
              "\n",
              "      const channel = await google.colab.kernel.comms.open(id);\n",
              "      // Send a message to notify the kernel that we're ready.\n",
              "      channel.send({})\n",
              "\n",
              "      for await (const message of channel.messages) {\n",
              "        // Send a message to notify the kernel that we're ready.\n",
              "        channel.send({})\n",
              "        if (message.buffers) {\n",
              "          for (const buffer of message.buffers) {\n",
              "            buffers.push(buffer);\n",
              "            downloaded += buffer.byteLength;\n",
              "            progress.value = downloaded;\n",
              "          }\n",
              "        }\n",
              "      }\n",
              "      const blob = new Blob(buffers, {type: 'application/binary'});\n",
              "      const a = document.createElement('a');\n",
              "      a.href = window.URL.createObjectURL(blob);\n",
              "      a.download = filename;\n",
              "      div.appendChild(a);\n",
              "      a.click();\n",
              "      div.remove();\n",
              "    }\n",
              "  "
            ]
          },
          "metadata": {}
        },
        {
          "output_type": "display_data",
          "data": {
            "text/plain": [
              "<IPython.core.display.Javascript object>"
            ],
            "application/javascript": [
              "download(\"download_1ee46ac3-071b-41f6-8e5e-7f2f97f8ea52\", \"Hyderabad_Region_SO_offices.csv\", 55979)"
            ]
          },
          "metadata": {}
        },
        {
          "output_type": "stream",
          "name": "stdout",
          "text": [
            "Downloaded Hyderabad_Region_SO_offices.csv\n"
          ]
        },
        {
          "output_type": "display_data",
          "data": {
            "text/plain": [
              "<IPython.core.display.Javascript object>"
            ],
            "application/javascript": [
              "\n",
              "    async function download(id, filename, size) {\n",
              "      if (!google.colab.kernel.accessAllowed) {\n",
              "        return;\n",
              "      }\n",
              "      const div = document.createElement('div');\n",
              "      const label = document.createElement('label');\n",
              "      label.textContent = `Downloading \"${filename}\": `;\n",
              "      div.appendChild(label);\n",
              "      const progress = document.createElement('progress');\n",
              "      progress.max = size;\n",
              "      div.appendChild(progress);\n",
              "      document.body.appendChild(div);\n",
              "\n",
              "      const buffers = [];\n",
              "      let downloaded = 0;\n",
              "\n",
              "      const channel = await google.colab.kernel.comms.open(id);\n",
              "      // Send a message to notify the kernel that we're ready.\n",
              "      channel.send({})\n",
              "\n",
              "      for await (const message of channel.messages) {\n",
              "        // Send a message to notify the kernel that we're ready.\n",
              "        channel.send({})\n",
              "        if (message.buffers) {\n",
              "          for (const buffer of message.buffers) {\n",
              "            buffers.push(buffer);\n",
              "            downloaded += buffer.byteLength;\n",
              "            progress.value = downloaded;\n",
              "          }\n",
              "        }\n",
              "      }\n",
              "      const blob = new Blob(buffers, {type: 'application/binary'});\n",
              "      const a = document.createElement('a');\n",
              "      a.href = window.URL.createObjectURL(blob);\n",
              "      a.download = filename;\n",
              "      div.appendChild(a);\n",
              "      a.click();\n",
              "      div.remove();\n",
              "    }\n",
              "  "
            ]
          },
          "metadata": {}
        },
        {
          "output_type": "display_data",
          "data": {
            "text/plain": [
              "<IPython.core.display.Javascript object>"
            ],
            "application/javascript": [
              "download(\"download_b407e98a-00fb-43d0-b603-68fb41427034\", \"Hyderabad_Region_BO_offices.csv\", 443081)"
            ]
          },
          "metadata": {}
        },
        {
          "output_type": "stream",
          "name": "stdout",
          "text": [
            "Downloaded Hyderabad_Region_BO_offices.csv\n"
          ]
        },
        {
          "output_type": "display_data",
          "data": {
            "text/plain": [
              "<IPython.core.display.Javascript object>"
            ],
            "application/javascript": [
              "\n",
              "    async function download(id, filename, size) {\n",
              "      if (!google.colab.kernel.accessAllowed) {\n",
              "        return;\n",
              "      }\n",
              "      const div = document.createElement('div');\n",
              "      const label = document.createElement('label');\n",
              "      label.textContent = `Downloading \"${filename}\": `;\n",
              "      div.appendChild(label);\n",
              "      const progress = document.createElement('progress');\n",
              "      progress.max = size;\n",
              "      div.appendChild(progress);\n",
              "      document.body.appendChild(div);\n",
              "\n",
              "      const buffers = [];\n",
              "      let downloaded = 0;\n",
              "\n",
              "      const channel = await google.colab.kernel.comms.open(id);\n",
              "      // Send a message to notify the kernel that we're ready.\n",
              "      channel.send({})\n",
              "\n",
              "      for await (const message of channel.messages) {\n",
              "        // Send a message to notify the kernel that we're ready.\n",
              "        channel.send({})\n",
              "        if (message.buffers) {\n",
              "          for (const buffer of message.buffers) {\n",
              "            buffers.push(buffer);\n",
              "            downloaded += buffer.byteLength;\n",
              "            progress.value = downloaded;\n",
              "          }\n",
              "        }\n",
              "      }\n",
              "      const blob = new Blob(buffers, {type: 'application/binary'});\n",
              "      const a = document.createElement('a');\n",
              "      a.href = window.URL.createObjectURL(blob);\n",
              "      a.download = filename;\n",
              "      div.appendChild(a);\n",
              "      a.click();\n",
              "      div.remove();\n",
              "    }\n",
              "  "
            ]
          },
          "metadata": {}
        },
        {
          "output_type": "display_data",
          "data": {
            "text/plain": [
              "<IPython.core.display.Javascript object>"
            ],
            "application/javascript": [
              "download(\"download_4a30f44c-e520-400b-9860-940b3ae0997e\", \"Agra_Region_HO_offices.csv\", 1521)"
            ]
          },
          "metadata": {}
        },
        {
          "output_type": "stream",
          "name": "stdout",
          "text": [
            "Downloaded Agra_Region_HO_offices.csv\n"
          ]
        },
        {
          "output_type": "display_data",
          "data": {
            "text/plain": [
              "<IPython.core.display.Javascript object>"
            ],
            "application/javascript": [
              "\n",
              "    async function download(id, filename, size) {\n",
              "      if (!google.colab.kernel.accessAllowed) {\n",
              "        return;\n",
              "      }\n",
              "      const div = document.createElement('div');\n",
              "      const label = document.createElement('label');\n",
              "      label.textContent = `Downloading \"${filename}\": `;\n",
              "      div.appendChild(label);\n",
              "      const progress = document.createElement('progress');\n",
              "      progress.max = size;\n",
              "      div.appendChild(progress);\n",
              "      document.body.appendChild(div);\n",
              "\n",
              "      const buffers = [];\n",
              "      let downloaded = 0;\n",
              "\n",
              "      const channel = await google.colab.kernel.comms.open(id);\n",
              "      // Send a message to notify the kernel that we're ready.\n",
              "      channel.send({})\n",
              "\n",
              "      for await (const message of channel.messages) {\n",
              "        // Send a message to notify the kernel that we're ready.\n",
              "        channel.send({})\n",
              "        if (message.buffers) {\n",
              "          for (const buffer of message.buffers) {\n",
              "            buffers.push(buffer);\n",
              "            downloaded += buffer.byteLength;\n",
              "            progress.value = downloaded;\n",
              "          }\n",
              "        }\n",
              "      }\n",
              "      const blob = new Blob(buffers, {type: 'application/binary'});\n",
              "      const a = document.createElement('a');\n",
              "      a.href = window.URL.createObjectURL(blob);\n",
              "      a.download = filename;\n",
              "      div.appendChild(a);\n",
              "      a.click();\n",
              "      div.remove();\n",
              "    }\n",
              "  "
            ]
          },
          "metadata": {}
        },
        {
          "output_type": "display_data",
          "data": {
            "text/plain": [
              "<IPython.core.display.Javascript object>"
            ],
            "application/javascript": [
              "download(\"download_7cefed67-6cc2-4efe-9172-448ca968a764\", \"Agra_Region_SO_offices.csv\", 48221)"
            ]
          },
          "metadata": {}
        },
        {
          "output_type": "stream",
          "name": "stdout",
          "text": [
            "Downloaded Agra_Region_SO_offices.csv\n"
          ]
        },
        {
          "output_type": "display_data",
          "data": {
            "text/plain": [
              "<IPython.core.display.Javascript object>"
            ],
            "application/javascript": [
              "\n",
              "    async function download(id, filename, size) {\n",
              "      if (!google.colab.kernel.accessAllowed) {\n",
              "        return;\n",
              "      }\n",
              "      const div = document.createElement('div');\n",
              "      const label = document.createElement('label');\n",
              "      label.textContent = `Downloading \"${filename}\": `;\n",
              "      div.appendChild(label);\n",
              "      const progress = document.createElement('progress');\n",
              "      progress.max = size;\n",
              "      div.appendChild(progress);\n",
              "      document.body.appendChild(div);\n",
              "\n",
              "      const buffers = [];\n",
              "      let downloaded = 0;\n",
              "\n",
              "      const channel = await google.colab.kernel.comms.open(id);\n",
              "      // Send a message to notify the kernel that we're ready.\n",
              "      channel.send({})\n",
              "\n",
              "      for await (const message of channel.messages) {\n",
              "        // Send a message to notify the kernel that we're ready.\n",
              "        channel.send({})\n",
              "        if (message.buffers) {\n",
              "          for (const buffer of message.buffers) {\n",
              "            buffers.push(buffer);\n",
              "            downloaded += buffer.byteLength;\n",
              "            progress.value = downloaded;\n",
              "          }\n",
              "        }\n",
              "      }\n",
              "      const blob = new Blob(buffers, {type: 'application/binary'});\n",
              "      const a = document.createElement('a');\n",
              "      a.href = window.URL.createObjectURL(blob);\n",
              "      a.download = filename;\n",
              "      div.appendChild(a);\n",
              "      a.click();\n",
              "      div.remove();\n",
              "    }\n",
              "  "
            ]
          },
          "metadata": {}
        },
        {
          "output_type": "display_data",
          "data": {
            "text/plain": [
              "<IPython.core.display.Javascript object>"
            ],
            "application/javascript": [
              "download(\"download_6d48ca6a-e568-4c35-b604-5c2f5eba2bc7\", \"Agra_Region_BO_offices.csv\", 267559)"
            ]
          },
          "metadata": {}
        },
        {
          "output_type": "stream",
          "name": "stdout",
          "text": [
            "Downloaded Agra_Region_BO_offices.csv\n"
          ]
        },
        {
          "output_type": "display_data",
          "data": {
            "text/plain": [
              "<IPython.core.display.Javascript object>"
            ],
            "application/javascript": [
              "\n",
              "    async function download(id, filename, size) {\n",
              "      if (!google.colab.kernel.accessAllowed) {\n",
              "        return;\n",
              "      }\n",
              "      const div = document.createElement('div');\n",
              "      const label = document.createElement('label');\n",
              "      label.textContent = `Downloading \"${filename}\": `;\n",
              "      div.appendChild(label);\n",
              "      const progress = document.createElement('progress');\n",
              "      progress.max = size;\n",
              "      div.appendChild(progress);\n",
              "      document.body.appendChild(div);\n",
              "\n",
              "      const buffers = [];\n",
              "      let downloaded = 0;\n",
              "\n",
              "      const channel = await google.colab.kernel.comms.open(id);\n",
              "      // Send a message to notify the kernel that we're ready.\n",
              "      channel.send({})\n",
              "\n",
              "      for await (const message of channel.messages) {\n",
              "        // Send a message to notify the kernel that we're ready.\n",
              "        channel.send({})\n",
              "        if (message.buffers) {\n",
              "          for (const buffer of message.buffers) {\n",
              "            buffers.push(buffer);\n",
              "            downloaded += buffer.byteLength;\n",
              "            progress.value = downloaded;\n",
              "          }\n",
              "        }\n",
              "      }\n",
              "      const blob = new Blob(buffers, {type: 'application/binary'});\n",
              "      const a = document.createElement('a');\n",
              "      a.href = window.URL.createObjectURL(blob);\n",
              "      a.download = filename;\n",
              "      div.appendChild(a);\n",
              "      a.click();\n",
              "      div.remove();\n",
              "    }\n",
              "  "
            ]
          },
          "metadata": {}
        },
        {
          "output_type": "display_data",
          "data": {
            "text/plain": [
              "<IPython.core.display.Javascript object>"
            ],
            "application/javascript": [
              "download(\"download_b281ba01-82ce-4516-b312-e9139cf6af46\", \"Allahabad_Region_HO_offices.csv\", 889)"
            ]
          },
          "metadata": {}
        },
        {
          "output_type": "stream",
          "name": "stdout",
          "text": [
            "Downloaded Allahabad_Region_HO_offices.csv\n"
          ]
        },
        {
          "output_type": "display_data",
          "data": {
            "text/plain": [
              "<IPython.core.display.Javascript object>"
            ],
            "application/javascript": [
              "\n",
              "    async function download(id, filename, size) {\n",
              "      if (!google.colab.kernel.accessAllowed) {\n",
              "        return;\n",
              "      }\n",
              "      const div = document.createElement('div');\n",
              "      const label = document.createElement('label');\n",
              "      label.textContent = `Downloading \"${filename}\": `;\n",
              "      div.appendChild(label);\n",
              "      const progress = document.createElement('progress');\n",
              "      progress.max = size;\n",
              "      div.appendChild(progress);\n",
              "      document.body.appendChild(div);\n",
              "\n",
              "      const buffers = [];\n",
              "      let downloaded = 0;\n",
              "\n",
              "      const channel = await google.colab.kernel.comms.open(id);\n",
              "      // Send a message to notify the kernel that we're ready.\n",
              "      channel.send({})\n",
              "\n",
              "      for await (const message of channel.messages) {\n",
              "        // Send a message to notify the kernel that we're ready.\n",
              "        channel.send({})\n",
              "        if (message.buffers) {\n",
              "          for (const buffer of message.buffers) {\n",
              "            buffers.push(buffer);\n",
              "            downloaded += buffer.byteLength;\n",
              "            progress.value = downloaded;\n",
              "          }\n",
              "        }\n",
              "      }\n",
              "      const blob = new Blob(buffers, {type: 'application/binary'});\n",
              "      const a = document.createElement('a');\n",
              "      a.href = window.URL.createObjectURL(blob);\n",
              "      a.download = filename;\n",
              "      div.appendChild(a);\n",
              "      a.click();\n",
              "      div.remove();\n",
              "    }\n",
              "  "
            ]
          },
          "metadata": {}
        },
        {
          "output_type": "display_data",
          "data": {
            "text/plain": [
              "<IPython.core.display.Javascript object>"
            ],
            "application/javascript": [
              "download(\"download_57aa0cbf-f13c-4e69-af2e-3c19fed88feb\", \"Allahabad_Region_SO_offices.csv\", 33872)"
            ]
          },
          "metadata": {}
        },
        {
          "output_type": "stream",
          "name": "stdout",
          "text": [
            "Downloaded Allahabad_Region_SO_offices.csv\n"
          ]
        },
        {
          "output_type": "display_data",
          "data": {
            "text/plain": [
              "<IPython.core.display.Javascript object>"
            ],
            "application/javascript": [
              "\n",
              "    async function download(id, filename, size) {\n",
              "      if (!google.colab.kernel.accessAllowed) {\n",
              "        return;\n",
              "      }\n",
              "      const div = document.createElement('div');\n",
              "      const label = document.createElement('label');\n",
              "      label.textContent = `Downloading \"${filename}\": `;\n",
              "      div.appendChild(label);\n",
              "      const progress = document.createElement('progress');\n",
              "      progress.max = size;\n",
              "      div.appendChild(progress);\n",
              "      document.body.appendChild(div);\n",
              "\n",
              "      const buffers = [];\n",
              "      let downloaded = 0;\n",
              "\n",
              "      const channel = await google.colab.kernel.comms.open(id);\n",
              "      // Send a message to notify the kernel that we're ready.\n",
              "      channel.send({})\n",
              "\n",
              "      for await (const message of channel.messages) {\n",
              "        // Send a message to notify the kernel that we're ready.\n",
              "        channel.send({})\n",
              "        if (message.buffers) {\n",
              "          for (const buffer of message.buffers) {\n",
              "            buffers.push(buffer);\n",
              "            downloaded += buffer.byteLength;\n",
              "            progress.value = downloaded;\n",
              "          }\n",
              "        }\n",
              "      }\n",
              "      const blob = new Blob(buffers, {type: 'application/binary'});\n",
              "      const a = document.createElement('a');\n",
              "      a.href = window.URL.createObjectURL(blob);\n",
              "      a.download = filename;\n",
              "      div.appendChild(a);\n",
              "      a.click();\n",
              "      div.remove();\n",
              "    }\n",
              "  "
            ]
          },
          "metadata": {}
        },
        {
          "output_type": "display_data",
          "data": {
            "text/plain": [
              "<IPython.core.display.Javascript object>"
            ],
            "application/javascript": [
              "download(\"download_71589d18-23a3-48bd-8df8-001e3b6a202a\", \"Allahabad_Region_BO_offices.csv\", 205647)"
            ]
          },
          "metadata": {}
        },
        {
          "output_type": "stream",
          "name": "stdout",
          "text": [
            "Downloaded Allahabad_Region_BO_offices.csv\n"
          ]
        },
        {
          "output_type": "display_data",
          "data": {
            "text/plain": [
              "<IPython.core.display.Javascript object>"
            ],
            "application/javascript": [
              "\n",
              "    async function download(id, filename, size) {\n",
              "      if (!google.colab.kernel.accessAllowed) {\n",
              "        return;\n",
              "      }\n",
              "      const div = document.createElement('div');\n",
              "      const label = document.createElement('label');\n",
              "      label.textContent = `Downloading \"${filename}\": `;\n",
              "      div.appendChild(label);\n",
              "      const progress = document.createElement('progress');\n",
              "      progress.max = size;\n",
              "      div.appendChild(progress);\n",
              "      document.body.appendChild(div);\n",
              "\n",
              "      const buffers = [];\n",
              "      let downloaded = 0;\n",
              "\n",
              "      const channel = await google.colab.kernel.comms.open(id);\n",
              "      // Send a message to notify the kernel that we're ready.\n",
              "      channel.send({})\n",
              "\n",
              "      for await (const message of channel.messages) {\n",
              "        // Send a message to notify the kernel that we're ready.\n",
              "        channel.send({})\n",
              "        if (message.buffers) {\n",
              "          for (const buffer of message.buffers) {\n",
              "            buffers.push(buffer);\n",
              "            downloaded += buffer.byteLength;\n",
              "            progress.value = downloaded;\n",
              "          }\n",
              "        }\n",
              "      }\n",
              "      const blob = new Blob(buffers, {type: 'application/binary'});\n",
              "      const a = document.createElement('a');\n",
              "      a.href = window.URL.createObjectURL(blob);\n",
              "      a.download = filename;\n",
              "      div.appendChild(a);\n",
              "      a.click();\n",
              "      div.remove();\n",
              "    }\n",
              "  "
            ]
          },
          "metadata": {}
        },
        {
          "output_type": "display_data",
          "data": {
            "text/plain": [
              "<IPython.core.display.Javascript object>"
            ],
            "application/javascript": [
              "download(\"download_be6734ae-2be3-4561-9ee7-1b7abb2b75b6\", \"Bareilly_Region_HO_offices.csv\", 1832)"
            ]
          },
          "metadata": {}
        },
        {
          "output_type": "stream",
          "name": "stdout",
          "text": [
            "Downloaded Bareilly_Region_HO_offices.csv\n"
          ]
        },
        {
          "output_type": "display_data",
          "data": {
            "text/plain": [
              "<IPython.core.display.Javascript object>"
            ],
            "application/javascript": [
              "\n",
              "    async function download(id, filename, size) {\n",
              "      if (!google.colab.kernel.accessAllowed) {\n",
              "        return;\n",
              "      }\n",
              "      const div = document.createElement('div');\n",
              "      const label = document.createElement('label');\n",
              "      label.textContent = `Downloading \"${filename}\": `;\n",
              "      div.appendChild(label);\n",
              "      const progress = document.createElement('progress');\n",
              "      progress.max = size;\n",
              "      div.appendChild(progress);\n",
              "      document.body.appendChild(div);\n",
              "\n",
              "      const buffers = [];\n",
              "      let downloaded = 0;\n",
              "\n",
              "      const channel = await google.colab.kernel.comms.open(id);\n",
              "      // Send a message to notify the kernel that we're ready.\n",
              "      channel.send({})\n",
              "\n",
              "      for await (const message of channel.messages) {\n",
              "        // Send a message to notify the kernel that we're ready.\n",
              "        channel.send({})\n",
              "        if (message.buffers) {\n",
              "          for (const buffer of message.buffers) {\n",
              "            buffers.push(buffer);\n",
              "            downloaded += buffer.byteLength;\n",
              "            progress.value = downloaded;\n",
              "          }\n",
              "        }\n",
              "      }\n",
              "      const blob = new Blob(buffers, {type: 'application/binary'});\n",
              "      const a = document.createElement('a');\n",
              "      a.href = window.URL.createObjectURL(blob);\n",
              "      a.download = filename;\n",
              "      div.appendChild(a);\n",
              "      a.click();\n",
              "      div.remove();\n",
              "    }\n",
              "  "
            ]
          },
          "metadata": {}
        },
        {
          "output_type": "display_data",
          "data": {
            "text/plain": [
              "<IPython.core.display.Javascript object>"
            ],
            "application/javascript": [
              "download(\"download_b1e36862-80fb-4c63-b2f8-b25e92a47f0e\", \"Bareilly_Region_SO_offices.csv\", 56025)"
            ]
          },
          "metadata": {}
        },
        {
          "output_type": "stream",
          "name": "stdout",
          "text": [
            "Downloaded Bareilly_Region_SO_offices.csv\n"
          ]
        },
        {
          "output_type": "display_data",
          "data": {
            "text/plain": [
              "<IPython.core.display.Javascript object>"
            ],
            "application/javascript": [
              "\n",
              "    async function download(id, filename, size) {\n",
              "      if (!google.colab.kernel.accessAllowed) {\n",
              "        return;\n",
              "      }\n",
              "      const div = document.createElement('div');\n",
              "      const label = document.createElement('label');\n",
              "      label.textContent = `Downloading \"${filename}\": `;\n",
              "      div.appendChild(label);\n",
              "      const progress = document.createElement('progress');\n",
              "      progress.max = size;\n",
              "      div.appendChild(progress);\n",
              "      document.body.appendChild(div);\n",
              "\n",
              "      const buffers = [];\n",
              "      let downloaded = 0;\n",
              "\n",
              "      const channel = await google.colab.kernel.comms.open(id);\n",
              "      // Send a message to notify the kernel that we're ready.\n",
              "      channel.send({})\n",
              "\n",
              "      for await (const message of channel.messages) {\n",
              "        // Send a message to notify the kernel that we're ready.\n",
              "        channel.send({})\n",
              "        if (message.buffers) {\n",
              "          for (const buffer of message.buffers) {\n",
              "            buffers.push(buffer);\n",
              "            downloaded += buffer.byteLength;\n",
              "            progress.value = downloaded;\n",
              "          }\n",
              "        }\n",
              "      }\n",
              "      const blob = new Blob(buffers, {type: 'application/binary'});\n",
              "      const a = document.createElement('a');\n",
              "      a.href = window.URL.createObjectURL(blob);\n",
              "      a.download = filename;\n",
              "      div.appendChild(a);\n",
              "      a.click();\n",
              "      div.remove();\n",
              "    }\n",
              "  "
            ]
          },
          "metadata": {}
        },
        {
          "output_type": "display_data",
          "data": {
            "text/plain": [
              "<IPython.core.display.Javascript object>"
            ],
            "application/javascript": [
              "download(\"download_287fc13e-0bb0-4db3-8e7b-ac3d8a683949\", \"Bareilly_Region_BO_offices.csv\", 329904)"
            ]
          },
          "metadata": {}
        },
        {
          "output_type": "stream",
          "name": "stdout",
          "text": [
            "Downloaded Bareilly_Region_BO_offices.csv\n"
          ]
        },
        {
          "output_type": "display_data",
          "data": {
            "text/plain": [
              "<IPython.core.display.Javascript object>"
            ],
            "application/javascript": [
              "\n",
              "    async function download(id, filename, size) {\n",
              "      if (!google.colab.kernel.accessAllowed) {\n",
              "        return;\n",
              "      }\n",
              "      const div = document.createElement('div');\n",
              "      const label = document.createElement('label');\n",
              "      label.textContent = `Downloading \"${filename}\": `;\n",
              "      div.appendChild(label);\n",
              "      const progress = document.createElement('progress');\n",
              "      progress.max = size;\n",
              "      div.appendChild(progress);\n",
              "      document.body.appendChild(div);\n",
              "\n",
              "      const buffers = [];\n",
              "      let downloaded = 0;\n",
              "\n",
              "      const channel = await google.colab.kernel.comms.open(id);\n",
              "      // Send a message to notify the kernel that we're ready.\n",
              "      channel.send({})\n",
              "\n",
              "      for await (const message of channel.messages) {\n",
              "        // Send a message to notify the kernel that we're ready.\n",
              "        channel.send({})\n",
              "        if (message.buffers) {\n",
              "          for (const buffer of message.buffers) {\n",
              "            buffers.push(buffer);\n",
              "            downloaded += buffer.byteLength;\n",
              "            progress.value = downloaded;\n",
              "          }\n",
              "        }\n",
              "      }\n",
              "      const blob = new Blob(buffers, {type: 'application/binary'});\n",
              "      const a = document.createElement('a');\n",
              "      a.href = window.URL.createObjectURL(blob);\n",
              "      a.download = filename;\n",
              "      div.appendChild(a);\n",
              "      a.click();\n",
              "      div.remove();\n",
              "    }\n",
              "  "
            ]
          },
          "metadata": {}
        },
        {
          "output_type": "display_data",
          "data": {
            "text/plain": [
              "<IPython.core.display.Javascript object>"
            ],
            "application/javascript": [
              "download(\"download_b52f9bf5-2c9b-4d03-84ee-042b5dba28fc\", \"Gorakhpur_Region_HO_offices.csv\", 1283)"
            ]
          },
          "metadata": {}
        },
        {
          "output_type": "stream",
          "name": "stdout",
          "text": [
            "Downloaded Gorakhpur_Region_HO_offices.csv\n"
          ]
        },
        {
          "output_type": "display_data",
          "data": {
            "text/plain": [
              "<IPython.core.display.Javascript object>"
            ],
            "application/javascript": [
              "\n",
              "    async function download(id, filename, size) {\n",
              "      if (!google.colab.kernel.accessAllowed) {\n",
              "        return;\n",
              "      }\n",
              "      const div = document.createElement('div');\n",
              "      const label = document.createElement('label');\n",
              "      label.textContent = `Downloading \"${filename}\": `;\n",
              "      div.appendChild(label);\n",
              "      const progress = document.createElement('progress');\n",
              "      progress.max = size;\n",
              "      div.appendChild(progress);\n",
              "      document.body.appendChild(div);\n",
              "\n",
              "      const buffers = [];\n",
              "      let downloaded = 0;\n",
              "\n",
              "      const channel = await google.colab.kernel.comms.open(id);\n",
              "      // Send a message to notify the kernel that we're ready.\n",
              "      channel.send({})\n",
              "\n",
              "      for await (const message of channel.messages) {\n",
              "        // Send a message to notify the kernel that we're ready.\n",
              "        channel.send({})\n",
              "        if (message.buffers) {\n",
              "          for (const buffer of message.buffers) {\n",
              "            buffers.push(buffer);\n",
              "            downloaded += buffer.byteLength;\n",
              "            progress.value = downloaded;\n",
              "          }\n",
              "        }\n",
              "      }\n",
              "      const blob = new Blob(buffers, {type: 'application/binary'});\n",
              "      const a = document.createElement('a');\n",
              "      a.href = window.URL.createObjectURL(blob);\n",
              "      a.download = filename;\n",
              "      div.appendChild(a);\n",
              "      a.click();\n",
              "      div.remove();\n",
              "    }\n",
              "  "
            ]
          },
          "metadata": {}
        },
        {
          "output_type": "display_data",
          "data": {
            "text/plain": [
              "<IPython.core.display.Javascript object>"
            ],
            "application/javascript": [
              "download(\"download_5bb60b05-0bee-491d-9889-a9c03d7da304\", \"Gorakhpur_Region_SO_offices.csv\", 38489)"
            ]
          },
          "metadata": {}
        },
        {
          "output_type": "stream",
          "name": "stdout",
          "text": [
            "Downloaded Gorakhpur_Region_SO_offices.csv\n"
          ]
        },
        {
          "output_type": "display_data",
          "data": {
            "text/plain": [
              "<IPython.core.display.Javascript object>"
            ],
            "application/javascript": [
              "\n",
              "    async function download(id, filename, size) {\n",
              "      if (!google.colab.kernel.accessAllowed) {\n",
              "        return;\n",
              "      }\n",
              "      const div = document.createElement('div');\n",
              "      const label = document.createElement('label');\n",
              "      label.textContent = `Downloading \"${filename}\": `;\n",
              "      div.appendChild(label);\n",
              "      const progress = document.createElement('progress');\n",
              "      progress.max = size;\n",
              "      div.appendChild(progress);\n",
              "      document.body.appendChild(div);\n",
              "\n",
              "      const buffers = [];\n",
              "      let downloaded = 0;\n",
              "\n",
              "      const channel = await google.colab.kernel.comms.open(id);\n",
              "      // Send a message to notify the kernel that we're ready.\n",
              "      channel.send({})\n",
              "\n",
              "      for await (const message of channel.messages) {\n",
              "        // Send a message to notify the kernel that we're ready.\n",
              "        channel.send({})\n",
              "        if (message.buffers) {\n",
              "          for (const buffer of message.buffers) {\n",
              "            buffers.push(buffer);\n",
              "            downloaded += buffer.byteLength;\n",
              "            progress.value = downloaded;\n",
              "          }\n",
              "        }\n",
              "      }\n",
              "      const blob = new Blob(buffers, {type: 'application/binary'});\n",
              "      const a = document.createElement('a');\n",
              "      a.href = window.URL.createObjectURL(blob);\n",
              "      a.download = filename;\n",
              "      div.appendChild(a);\n",
              "      a.click();\n",
              "      div.remove();\n",
              "    }\n",
              "  "
            ]
          },
          "metadata": {}
        },
        {
          "output_type": "display_data",
          "data": {
            "text/plain": [
              "<IPython.core.display.Javascript object>"
            ],
            "application/javascript": [
              "download(\"download_1b2b564a-8717-427f-8a81-a4faa5f757b5\", \"Gorakhpur_Region_BO_offices.csv\", 332680)"
            ]
          },
          "metadata": {}
        },
        {
          "output_type": "stream",
          "name": "stdout",
          "text": [
            "Downloaded Gorakhpur_Region_BO_offices.csv\n"
          ]
        },
        {
          "output_type": "display_data",
          "data": {
            "text/plain": [
              "<IPython.core.display.Javascript object>"
            ],
            "application/javascript": [
              "\n",
              "    async function download(id, filename, size) {\n",
              "      if (!google.colab.kernel.accessAllowed) {\n",
              "        return;\n",
              "      }\n",
              "      const div = document.createElement('div');\n",
              "      const label = document.createElement('label');\n",
              "      label.textContent = `Downloading \"${filename}\": `;\n",
              "      div.appendChild(label);\n",
              "      const progress = document.createElement('progress');\n",
              "      progress.max = size;\n",
              "      div.appendChild(progress);\n",
              "      document.body.appendChild(div);\n",
              "\n",
              "      const buffers = [];\n",
              "      let downloaded = 0;\n",
              "\n",
              "      const channel = await google.colab.kernel.comms.open(id);\n",
              "      // Send a message to notify the kernel that we're ready.\n",
              "      channel.send({})\n",
              "\n",
              "      for await (const message of channel.messages) {\n",
              "        // Send a message to notify the kernel that we're ready.\n",
              "        channel.send({})\n",
              "        if (message.buffers) {\n",
              "          for (const buffer of message.buffers) {\n",
              "            buffers.push(buffer);\n",
              "            downloaded += buffer.byteLength;\n",
              "            progress.value = downloaded;\n",
              "          }\n",
              "        }\n",
              "      }\n",
              "      const blob = new Blob(buffers, {type: 'application/binary'});\n",
              "      const a = document.createElement('a');\n",
              "      a.href = window.URL.createObjectURL(blob);\n",
              "      a.download = filename;\n",
              "      div.appendChild(a);\n",
              "      a.click();\n",
              "      div.remove();\n",
              "    }\n",
              "  "
            ]
          },
          "metadata": {}
        },
        {
          "output_type": "display_data",
          "data": {
            "text/plain": [
              "<IPython.core.display.Javascript object>"
            ],
            "application/javascript": [
              "download(\"download_91f94983-b341-41fb-a318-78d7db022e0c\", \"Kanpur_Region_HO_offices.csv\", 969)"
            ]
          },
          "metadata": {}
        },
        {
          "output_type": "stream",
          "name": "stdout",
          "text": [
            "Downloaded Kanpur_Region_HO_offices.csv\n"
          ]
        },
        {
          "output_type": "display_data",
          "data": {
            "text/plain": [
              "<IPython.core.display.Javascript object>"
            ],
            "application/javascript": [
              "\n",
              "    async function download(id, filename, size) {\n",
              "      if (!google.colab.kernel.accessAllowed) {\n",
              "        return;\n",
              "      }\n",
              "      const div = document.createElement('div');\n",
              "      const label = document.createElement('label');\n",
              "      label.textContent = `Downloading \"${filename}\": `;\n",
              "      div.appendChild(label);\n",
              "      const progress = document.createElement('progress');\n",
              "      progress.max = size;\n",
              "      div.appendChild(progress);\n",
              "      document.body.appendChild(div);\n",
              "\n",
              "      const buffers = [];\n",
              "      let downloaded = 0;\n",
              "\n",
              "      const channel = await google.colab.kernel.comms.open(id);\n",
              "      // Send a message to notify the kernel that we're ready.\n",
              "      channel.send({})\n",
              "\n",
              "      for await (const message of channel.messages) {\n",
              "        // Send a message to notify the kernel that we're ready.\n",
              "        channel.send({})\n",
              "        if (message.buffers) {\n",
              "          for (const buffer of message.buffers) {\n",
              "            buffers.push(buffer);\n",
              "            downloaded += buffer.byteLength;\n",
              "            progress.value = downloaded;\n",
              "          }\n",
              "        }\n",
              "      }\n",
              "      const blob = new Blob(buffers, {type: 'application/binary'});\n",
              "      const a = document.createElement('a');\n",
              "      a.href = window.URL.createObjectURL(blob);\n",
              "      a.download = filename;\n",
              "      div.appendChild(a);\n",
              "      a.click();\n",
              "      div.remove();\n",
              "    }\n",
              "  "
            ]
          },
          "metadata": {}
        },
        {
          "output_type": "display_data",
          "data": {
            "text/plain": [
              "<IPython.core.display.Javascript object>"
            ],
            "application/javascript": [
              "download(\"download_7b566fc3-41a4-4e43-b398-42e6b2af043e\", \"Kanpur_Region_SO_offices.csv\", 31822)"
            ]
          },
          "metadata": {}
        },
        {
          "output_type": "stream",
          "name": "stdout",
          "text": [
            "Downloaded Kanpur_Region_SO_offices.csv\n"
          ]
        },
        {
          "output_type": "display_data",
          "data": {
            "text/plain": [
              "<IPython.core.display.Javascript object>"
            ],
            "application/javascript": [
              "\n",
              "    async function download(id, filename, size) {\n",
              "      if (!google.colab.kernel.accessAllowed) {\n",
              "        return;\n",
              "      }\n",
              "      const div = document.createElement('div');\n",
              "      const label = document.createElement('label');\n",
              "      label.textContent = `Downloading \"${filename}\": `;\n",
              "      div.appendChild(label);\n",
              "      const progress = document.createElement('progress');\n",
              "      progress.max = size;\n",
              "      div.appendChild(progress);\n",
              "      document.body.appendChild(div);\n",
              "\n",
              "      const buffers = [];\n",
              "      let downloaded = 0;\n",
              "\n",
              "      const channel = await google.colab.kernel.comms.open(id);\n",
              "      // Send a message to notify the kernel that we're ready.\n",
              "      channel.send({})\n",
              "\n",
              "      for await (const message of channel.messages) {\n",
              "        // Send a message to notify the kernel that we're ready.\n",
              "        channel.send({})\n",
              "        if (message.buffers) {\n",
              "          for (const buffer of message.buffers) {\n",
              "            buffers.push(buffer);\n",
              "            downloaded += buffer.byteLength;\n",
              "            progress.value = downloaded;\n",
              "          }\n",
              "        }\n",
              "      }\n",
              "      const blob = new Blob(buffers, {type: 'application/binary'});\n",
              "      const a = document.createElement('a');\n",
              "      a.href = window.URL.createObjectURL(blob);\n",
              "      a.download = filename;\n",
              "      div.appendChild(a);\n",
              "      a.click();\n",
              "      div.remove();\n",
              "    }\n",
              "  "
            ]
          },
          "metadata": {}
        },
        {
          "output_type": "display_data",
          "data": {
            "text/plain": [
              "<IPython.core.display.Javascript object>"
            ],
            "application/javascript": [
              "download(\"download_a2716763-0366-4052-9f56-4888f857df9f\", \"Kanpur_Region_BO_offices.csv\", 169315)"
            ]
          },
          "metadata": {}
        },
        {
          "output_type": "stream",
          "name": "stdout",
          "text": [
            "Downloaded Kanpur_Region_BO_offices.csv\n"
          ]
        },
        {
          "output_type": "display_data",
          "data": {
            "text/plain": [
              "<IPython.core.display.Javascript object>"
            ],
            "application/javascript": [
              "\n",
              "    async function download(id, filename, size) {\n",
              "      if (!google.colab.kernel.accessAllowed) {\n",
              "        return;\n",
              "      }\n",
              "      const div = document.createElement('div');\n",
              "      const label = document.createElement('label');\n",
              "      label.textContent = `Downloading \"${filename}\": `;\n",
              "      div.appendChild(label);\n",
              "      const progress = document.createElement('progress');\n",
              "      progress.max = size;\n",
              "      div.appendChild(progress);\n",
              "      document.body.appendChild(div);\n",
              "\n",
              "      const buffers = [];\n",
              "      let downloaded = 0;\n",
              "\n",
              "      const channel = await google.colab.kernel.comms.open(id);\n",
              "      // Send a message to notify the kernel that we're ready.\n",
              "      channel.send({})\n",
              "\n",
              "      for await (const message of channel.messages) {\n",
              "        // Send a message to notify the kernel that we're ready.\n",
              "        channel.send({})\n",
              "        if (message.buffers) {\n",
              "          for (const buffer of message.buffers) {\n",
              "            buffers.push(buffer);\n",
              "            downloaded += buffer.byteLength;\n",
              "            progress.value = downloaded;\n",
              "          }\n",
              "        }\n",
              "      }\n",
              "      const blob = new Blob(buffers, {type: 'application/binary'});\n",
              "      const a = document.createElement('a');\n",
              "      a.href = window.URL.createObjectURL(blob);\n",
              "      a.download = filename;\n",
              "      div.appendChild(a);\n",
              "      a.click();\n",
              "      div.remove();\n",
              "    }\n",
              "  "
            ]
          },
          "metadata": {}
        },
        {
          "output_type": "display_data",
          "data": {
            "text/plain": [
              "<IPython.core.display.Javascript object>"
            ],
            "application/javascript": [
              "download(\"download_ef26e0f0-13ad-42cb-8093-4aedc7c889f0\", \"Lucknow__HQ_Region_HO_offices.csv\", 1371)"
            ]
          },
          "metadata": {}
        },
        {
          "output_type": "stream",
          "name": "stdout",
          "text": [
            "Downloaded Lucknow__HQ_Region_HO_offices.csv\n"
          ]
        },
        {
          "output_type": "display_data",
          "data": {
            "text/plain": [
              "<IPython.core.display.Javascript object>"
            ],
            "application/javascript": [
              "\n",
              "    async function download(id, filename, size) {\n",
              "      if (!google.colab.kernel.accessAllowed) {\n",
              "        return;\n",
              "      }\n",
              "      const div = document.createElement('div');\n",
              "      const label = document.createElement('label');\n",
              "      label.textContent = `Downloading \"${filename}\": `;\n",
              "      div.appendChild(label);\n",
              "      const progress = document.createElement('progress');\n",
              "      progress.max = size;\n",
              "      div.appendChild(progress);\n",
              "      document.body.appendChild(div);\n",
              "\n",
              "      const buffers = [];\n",
              "      let downloaded = 0;\n",
              "\n",
              "      const channel = await google.colab.kernel.comms.open(id);\n",
              "      // Send a message to notify the kernel that we're ready.\n",
              "      channel.send({})\n",
              "\n",
              "      for await (const message of channel.messages) {\n",
              "        // Send a message to notify the kernel that we're ready.\n",
              "        channel.send({})\n",
              "        if (message.buffers) {\n",
              "          for (const buffer of message.buffers) {\n",
              "            buffers.push(buffer);\n",
              "            downloaded += buffer.byteLength;\n",
              "            progress.value = downloaded;\n",
              "          }\n",
              "        }\n",
              "      }\n",
              "      const blob = new Blob(buffers, {type: 'application/binary'});\n",
              "      const a = document.createElement('a');\n",
              "      a.href = window.URL.createObjectURL(blob);\n",
              "      a.download = filename;\n",
              "      div.appendChild(a);\n",
              "      a.click();\n",
              "      div.remove();\n",
              "    }\n",
              "  "
            ]
          },
          "metadata": {}
        },
        {
          "output_type": "display_data",
          "data": {
            "text/plain": [
              "<IPython.core.display.Javascript object>"
            ],
            "application/javascript": [
              "download(\"download_64ab8b52-2390-4840-a104-ba4648170b96\", \"Lucknow__HQ_Region_SO_offices.csv\", 50515)"
            ]
          },
          "metadata": {}
        },
        {
          "output_type": "stream",
          "name": "stdout",
          "text": [
            "Downloaded Lucknow__HQ_Region_SO_offices.csv\n"
          ]
        },
        {
          "output_type": "display_data",
          "data": {
            "text/plain": [
              "<IPython.core.display.Javascript object>"
            ],
            "application/javascript": [
              "\n",
              "    async function download(id, filename, size) {\n",
              "      if (!google.colab.kernel.accessAllowed) {\n",
              "        return;\n",
              "      }\n",
              "      const div = document.createElement('div');\n",
              "      const label = document.createElement('label');\n",
              "      label.textContent = `Downloading \"${filename}\": `;\n",
              "      div.appendChild(label);\n",
              "      const progress = document.createElement('progress');\n",
              "      progress.max = size;\n",
              "      div.appendChild(progress);\n",
              "      document.body.appendChild(div);\n",
              "\n",
              "      const buffers = [];\n",
              "      let downloaded = 0;\n",
              "\n",
              "      const channel = await google.colab.kernel.comms.open(id);\n",
              "      // Send a message to notify the kernel that we're ready.\n",
              "      channel.send({})\n",
              "\n",
              "      for await (const message of channel.messages) {\n",
              "        // Send a message to notify the kernel that we're ready.\n",
              "        channel.send({})\n",
              "        if (message.buffers) {\n",
              "          for (const buffer of message.buffers) {\n",
              "            buffers.push(buffer);\n",
              "            downloaded += buffer.byteLength;\n",
              "            progress.value = downloaded;\n",
              "          }\n",
              "        }\n",
              "      }\n",
              "      const blob = new Blob(buffers, {type: 'application/binary'});\n",
              "      const a = document.createElement('a');\n",
              "      a.href = window.URL.createObjectURL(blob);\n",
              "      a.download = filename;\n",
              "      div.appendChild(a);\n",
              "      a.click();\n",
              "      div.remove();\n",
              "    }\n",
              "  "
            ]
          },
          "metadata": {}
        },
        {
          "output_type": "display_data",
          "data": {
            "text/plain": [
              "<IPython.core.display.Javascript object>"
            ],
            "application/javascript": [
              "download(\"download_2e8ca90e-d9e9-4a41-93e2-186bdd3998a2\", \"Lucknow__HQ_Region_BO_offices.csv\", 237371)"
            ]
          },
          "metadata": {}
        },
        {
          "output_type": "stream",
          "name": "stdout",
          "text": [
            "Downloaded Lucknow__HQ_Region_BO_offices.csv\n"
          ]
        },
        {
          "output_type": "display_data",
          "data": {
            "text/plain": [
              "<IPython.core.display.Javascript object>"
            ],
            "application/javascript": [
              "\n",
              "    async function download(id, filename, size) {\n",
              "      if (!google.colab.kernel.accessAllowed) {\n",
              "        return;\n",
              "      }\n",
              "      const div = document.createElement('div');\n",
              "      const label = document.createElement('label');\n",
              "      label.textContent = `Downloading \"${filename}\": `;\n",
              "      div.appendChild(label);\n",
              "      const progress = document.createElement('progress');\n",
              "      progress.max = size;\n",
              "      div.appendChild(progress);\n",
              "      document.body.appendChild(div);\n",
              "\n",
              "      const buffers = [];\n",
              "      let downloaded = 0;\n",
              "\n",
              "      const channel = await google.colab.kernel.comms.open(id);\n",
              "      // Send a message to notify the kernel that we're ready.\n",
              "      channel.send({})\n",
              "\n",
              "      for await (const message of channel.messages) {\n",
              "        // Send a message to notify the kernel that we're ready.\n",
              "        channel.send({})\n",
              "        if (message.buffers) {\n",
              "          for (const buffer of message.buffers) {\n",
              "            buffers.push(buffer);\n",
              "            downloaded += buffer.byteLength;\n",
              "            progress.value = downloaded;\n",
              "          }\n",
              "        }\n",
              "      }\n",
              "      const blob = new Blob(buffers, {type: 'application/binary'});\n",
              "      const a = document.createElement('a');\n",
              "      a.href = window.URL.createObjectURL(blob);\n",
              "      a.download = filename;\n",
              "      div.appendChild(a);\n",
              "      a.click();\n",
              "      div.remove();\n",
              "    }\n",
              "  "
            ]
          },
          "metadata": {}
        },
        {
          "output_type": "display_data",
          "data": {
            "text/plain": [
              "<IPython.core.display.Javascript object>"
            ],
            "application/javascript": [
              "download(\"download_c5161093-25aa-48d8-a322-f5c39f433140\", \"Varanasi_Region_HO_offices.csv\", 642)"
            ]
          },
          "metadata": {}
        },
        {
          "output_type": "stream",
          "name": "stdout",
          "text": [
            "Downloaded Varanasi_Region_HO_offices.csv\n"
          ]
        },
        {
          "output_type": "display_data",
          "data": {
            "text/plain": [
              "<IPython.core.display.Javascript object>"
            ],
            "application/javascript": [
              "\n",
              "    async function download(id, filename, size) {\n",
              "      if (!google.colab.kernel.accessAllowed) {\n",
              "        return;\n",
              "      }\n",
              "      const div = document.createElement('div');\n",
              "      const label = document.createElement('label');\n",
              "      label.textContent = `Downloading \"${filename}\": `;\n",
              "      div.appendChild(label);\n",
              "      const progress = document.createElement('progress');\n",
              "      progress.max = size;\n",
              "      div.appendChild(progress);\n",
              "      document.body.appendChild(div);\n",
              "\n",
              "      const buffers = [];\n",
              "      let downloaded = 0;\n",
              "\n",
              "      const channel = await google.colab.kernel.comms.open(id);\n",
              "      // Send a message to notify the kernel that we're ready.\n",
              "      channel.send({})\n",
              "\n",
              "      for await (const message of channel.messages) {\n",
              "        // Send a message to notify the kernel that we're ready.\n",
              "        channel.send({})\n",
              "        if (message.buffers) {\n",
              "          for (const buffer of message.buffers) {\n",
              "            buffers.push(buffer);\n",
              "            downloaded += buffer.byteLength;\n",
              "            progress.value = downloaded;\n",
              "          }\n",
              "        }\n",
              "      }\n",
              "      const blob = new Blob(buffers, {type: 'application/binary'});\n",
              "      const a = document.createElement('a');\n",
              "      a.href = window.URL.createObjectURL(blob);\n",
              "      a.download = filename;\n",
              "      div.appendChild(a);\n",
              "      a.click();\n",
              "      div.remove();\n",
              "    }\n",
              "  "
            ]
          },
          "metadata": {}
        },
        {
          "output_type": "display_data",
          "data": {
            "text/plain": [
              "<IPython.core.display.Javascript object>"
            ],
            "application/javascript": [
              "download(\"download_f1c957b7-eac4-4327-9f04-6ac51c26c60a\", \"Varanasi_Region_SO_offices.csv\", 24930)"
            ]
          },
          "metadata": {}
        },
        {
          "output_type": "stream",
          "name": "stdout",
          "text": [
            "Downloaded Varanasi_Region_SO_offices.csv\n"
          ]
        },
        {
          "output_type": "display_data",
          "data": {
            "text/plain": [
              "<IPython.core.display.Javascript object>"
            ],
            "application/javascript": [
              "\n",
              "    async function download(id, filename, size) {\n",
              "      if (!google.colab.kernel.accessAllowed) {\n",
              "        return;\n",
              "      }\n",
              "      const div = document.createElement('div');\n",
              "      const label = document.createElement('label');\n",
              "      label.textContent = `Downloading \"${filename}\": `;\n",
              "      div.appendChild(label);\n",
              "      const progress = document.createElement('progress');\n",
              "      progress.max = size;\n",
              "      div.appendChild(progress);\n",
              "      document.body.appendChild(div);\n",
              "\n",
              "      const buffers = [];\n",
              "      let downloaded = 0;\n",
              "\n",
              "      const channel = await google.colab.kernel.comms.open(id);\n",
              "      // Send a message to notify the kernel that we're ready.\n",
              "      channel.send({})\n",
              "\n",
              "      for await (const message of channel.messages) {\n",
              "        // Send a message to notify the kernel that we're ready.\n",
              "        channel.send({})\n",
              "        if (message.buffers) {\n",
              "          for (const buffer of message.buffers) {\n",
              "            buffers.push(buffer);\n",
              "            downloaded += buffer.byteLength;\n",
              "            progress.value = downloaded;\n",
              "          }\n",
              "        }\n",
              "      }\n",
              "      const blob = new Blob(buffers, {type: 'application/binary'});\n",
              "      const a = document.createElement('a');\n",
              "      a.href = window.URL.createObjectURL(blob);\n",
              "      a.download = filename;\n",
              "      div.appendChild(a);\n",
              "      a.click();\n",
              "      div.remove();\n",
              "    }\n",
              "  "
            ]
          },
          "metadata": {}
        },
        {
          "output_type": "display_data",
          "data": {
            "text/plain": [
              "<IPython.core.display.Javascript object>"
            ],
            "application/javascript": [
              "download(\"download_899656eb-d3b0-4ad6-963d-cdb8fccd1e43\", \"Varanasi_Region_BO_offices.csv\", 121174)"
            ]
          },
          "metadata": {}
        },
        {
          "output_type": "stream",
          "name": "stdout",
          "text": [
            "Downloaded Varanasi_Region_BO_offices.csv\n"
          ]
        },
        {
          "output_type": "display_data",
          "data": {
            "text/plain": [
              "<IPython.core.display.Javascript object>"
            ],
            "application/javascript": [
              "\n",
              "    async function download(id, filename, size) {\n",
              "      if (!google.colab.kernel.accessAllowed) {\n",
              "        return;\n",
              "      }\n",
              "      const div = document.createElement('div');\n",
              "      const label = document.createElement('label');\n",
              "      label.textContent = `Downloading \"${filename}\": `;\n",
              "      div.appendChild(label);\n",
              "      const progress = document.createElement('progress');\n",
              "      progress.max = size;\n",
              "      div.appendChild(progress);\n",
              "      document.body.appendChild(div);\n",
              "\n",
              "      const buffers = [];\n",
              "      let downloaded = 0;\n",
              "\n",
              "      const channel = await google.colab.kernel.comms.open(id);\n",
              "      // Send a message to notify the kernel that we're ready.\n",
              "      channel.send({})\n",
              "\n",
              "      for await (const message of channel.messages) {\n",
              "        // Send a message to notify the kernel that we're ready.\n",
              "        channel.send({})\n",
              "        if (message.buffers) {\n",
              "          for (const buffer of message.buffers) {\n",
              "            buffers.push(buffer);\n",
              "            downloaded += buffer.byteLength;\n",
              "            progress.value = downloaded;\n",
              "          }\n",
              "        }\n",
              "      }\n",
              "      const blob = new Blob(buffers, {type: 'application/binary'});\n",
              "      const a = document.createElement('a');\n",
              "      a.href = window.URL.createObjectURL(blob);\n",
              "      a.download = filename;\n",
              "      div.appendChild(a);\n",
              "      a.click();\n",
              "      div.remove();\n",
              "    }\n",
              "  "
            ]
          },
          "metadata": {}
        },
        {
          "output_type": "display_data",
          "data": {
            "text/plain": [
              "<IPython.core.display.Javascript object>"
            ],
            "application/javascript": [
              "download(\"download_be649f5c-5dcc-4c52-a756-436b7b64ec1e\", \"Calcutta_HQ_Region_HO_offices.csv\", 227)"
            ]
          },
          "metadata": {}
        },
        {
          "output_type": "stream",
          "name": "stdout",
          "text": [
            "Downloaded Calcutta_HQ_Region_HO_offices.csv\n"
          ]
        },
        {
          "output_type": "display_data",
          "data": {
            "text/plain": [
              "<IPython.core.display.Javascript object>"
            ],
            "application/javascript": [
              "\n",
              "    async function download(id, filename, size) {\n",
              "      if (!google.colab.kernel.accessAllowed) {\n",
              "        return;\n",
              "      }\n",
              "      const div = document.createElement('div');\n",
              "      const label = document.createElement('label');\n",
              "      label.textContent = `Downloading \"${filename}\": `;\n",
              "      div.appendChild(label);\n",
              "      const progress = document.createElement('progress');\n",
              "      progress.max = size;\n",
              "      div.appendChild(progress);\n",
              "      document.body.appendChild(div);\n",
              "\n",
              "      const buffers = [];\n",
              "      let downloaded = 0;\n",
              "\n",
              "      const channel = await google.colab.kernel.comms.open(id);\n",
              "      // Send a message to notify the kernel that we're ready.\n",
              "      channel.send({})\n",
              "\n",
              "      for await (const message of channel.messages) {\n",
              "        // Send a message to notify the kernel that we're ready.\n",
              "        channel.send({})\n",
              "        if (message.buffers) {\n",
              "          for (const buffer of message.buffers) {\n",
              "            buffers.push(buffer);\n",
              "            downloaded += buffer.byteLength;\n",
              "            progress.value = downloaded;\n",
              "          }\n",
              "        }\n",
              "      }\n",
              "      const blob = new Blob(buffers, {type: 'application/binary'});\n",
              "      const a = document.createElement('a');\n",
              "      a.href = window.URL.createObjectURL(blob);\n",
              "      a.download = filename;\n",
              "      div.appendChild(a);\n",
              "      a.click();\n",
              "      div.remove();\n",
              "    }\n",
              "  "
            ]
          },
          "metadata": {}
        },
        {
          "output_type": "display_data",
          "data": {
            "text/plain": [
              "<IPython.core.display.Javascript object>"
            ],
            "application/javascript": [
              "download(\"download_7603169d-4ccf-4dd2-acd5-0c5ee1fae6cb\", \"Calcutta_HQ_Region_SO_offices.csv\", 3561)"
            ]
          },
          "metadata": {}
        },
        {
          "output_type": "stream",
          "name": "stdout",
          "text": [
            "Downloaded Calcutta_HQ_Region_SO_offices.csv\n"
          ]
        },
        {
          "output_type": "display_data",
          "data": {
            "text/plain": [
              "<IPython.core.display.Javascript object>"
            ],
            "application/javascript": [
              "\n",
              "    async function download(id, filename, size) {\n",
              "      if (!google.colab.kernel.accessAllowed) {\n",
              "        return;\n",
              "      }\n",
              "      const div = document.createElement('div');\n",
              "      const label = document.createElement('label');\n",
              "      label.textContent = `Downloading \"${filename}\": `;\n",
              "      div.appendChild(label);\n",
              "      const progress = document.createElement('progress');\n",
              "      progress.max = size;\n",
              "      div.appendChild(progress);\n",
              "      document.body.appendChild(div);\n",
              "\n",
              "      const buffers = [];\n",
              "      let downloaded = 0;\n",
              "\n",
              "      const channel = await google.colab.kernel.comms.open(id);\n",
              "      // Send a message to notify the kernel that we're ready.\n",
              "      channel.send({})\n",
              "\n",
              "      for await (const message of channel.messages) {\n",
              "        // Send a message to notify the kernel that we're ready.\n",
              "        channel.send({})\n",
              "        if (message.buffers) {\n",
              "          for (const buffer of message.buffers) {\n",
              "            buffers.push(buffer);\n",
              "            downloaded += buffer.byteLength;\n",
              "            progress.value = downloaded;\n",
              "          }\n",
              "        }\n",
              "      }\n",
              "      const blob = new Blob(buffers, {type: 'application/binary'});\n",
              "      const a = document.createElement('a');\n",
              "      a.href = window.URL.createObjectURL(blob);\n",
              "      a.download = filename;\n",
              "      div.appendChild(a);\n",
              "      a.click();\n",
              "      div.remove();\n",
              "    }\n",
              "  "
            ]
          },
          "metadata": {}
        },
        {
          "output_type": "display_data",
          "data": {
            "text/plain": [
              "<IPython.core.display.Javascript object>"
            ],
            "application/javascript": [
              "download(\"download_7cf4e7ff-3081-44f6-9704-c3743d9ec240\", \"Calcutta_HQ_Region_BO_offices.csv\", 10537)"
            ]
          },
          "metadata": {}
        },
        {
          "output_type": "stream",
          "name": "stdout",
          "text": [
            "Downloaded Calcutta_HQ_Region_BO_offices.csv\n"
          ]
        },
        {
          "output_type": "display_data",
          "data": {
            "text/plain": [
              "<IPython.core.display.Javascript object>"
            ],
            "application/javascript": [
              "\n",
              "    async function download(id, filename, size) {\n",
              "      if (!google.colab.kernel.accessAllowed) {\n",
              "        return;\n",
              "      }\n",
              "      const div = document.createElement('div');\n",
              "      const label = document.createElement('label');\n",
              "      label.textContent = `Downloading \"${filename}\": `;\n",
              "      div.appendChild(label);\n",
              "      const progress = document.createElement('progress');\n",
              "      progress.max = size;\n",
              "      div.appendChild(progress);\n",
              "      document.body.appendChild(div);\n",
              "\n",
              "      const buffers = [];\n",
              "      let downloaded = 0;\n",
              "\n",
              "      const channel = await google.colab.kernel.comms.open(id);\n",
              "      // Send a message to notify the kernel that we're ready.\n",
              "      channel.send({})\n",
              "\n",
              "      for await (const message of channel.messages) {\n",
              "        // Send a message to notify the kernel that we're ready.\n",
              "        channel.send({})\n",
              "        if (message.buffers) {\n",
              "          for (const buffer of message.buffers) {\n",
              "            buffers.push(buffer);\n",
              "            downloaded += buffer.byteLength;\n",
              "            progress.value = downloaded;\n",
              "          }\n",
              "        }\n",
              "      }\n",
              "      const blob = new Blob(buffers, {type: 'application/binary'});\n",
              "      const a = document.createElement('a');\n",
              "      a.href = window.URL.createObjectURL(blob);\n",
              "      a.download = filename;\n",
              "      div.appendChild(a);\n",
              "      a.click();\n",
              "      div.remove();\n",
              "    }\n",
              "  "
            ]
          },
          "metadata": {}
        },
        {
          "output_type": "display_data",
          "data": {
            "text/plain": [
              "<IPython.core.display.Javascript object>"
            ],
            "application/javascript": [
              "download(\"download_04ed8a05-1022-4e7e-8e12-c916f40cfe5e\", \"Kolkata_Region_HO_offices.csv\", 2536)"
            ]
          },
          "metadata": {}
        },
        {
          "output_type": "stream",
          "name": "stdout",
          "text": [
            "Downloaded Kolkata_Region_HO_offices.csv\n"
          ]
        },
        {
          "output_type": "display_data",
          "data": {
            "text/plain": [
              "<IPython.core.display.Javascript object>"
            ],
            "application/javascript": [
              "\n",
              "    async function download(id, filename, size) {\n",
              "      if (!google.colab.kernel.accessAllowed) {\n",
              "        return;\n",
              "      }\n",
              "      const div = document.createElement('div');\n",
              "      const label = document.createElement('label');\n",
              "      label.textContent = `Downloading \"${filename}\": `;\n",
              "      div.appendChild(label);\n",
              "      const progress = document.createElement('progress');\n",
              "      progress.max = size;\n",
              "      div.appendChild(progress);\n",
              "      document.body.appendChild(div);\n",
              "\n",
              "      const buffers = [];\n",
              "      let downloaded = 0;\n",
              "\n",
              "      const channel = await google.colab.kernel.comms.open(id);\n",
              "      // Send a message to notify the kernel that we're ready.\n",
              "      channel.send({})\n",
              "\n",
              "      for await (const message of channel.messages) {\n",
              "        // Send a message to notify the kernel that we're ready.\n",
              "        channel.send({})\n",
              "        if (message.buffers) {\n",
              "          for (const buffer of message.buffers) {\n",
              "            buffers.push(buffer);\n",
              "            downloaded += buffer.byteLength;\n",
              "            progress.value = downloaded;\n",
              "          }\n",
              "        }\n",
              "      }\n",
              "      const blob = new Blob(buffers, {type: 'application/binary'});\n",
              "      const a = document.createElement('a');\n",
              "      a.href = window.URL.createObjectURL(blob);\n",
              "      a.download = filename;\n",
              "      div.appendChild(a);\n",
              "      a.click();\n",
              "      div.remove();\n",
              "    }\n",
              "  "
            ]
          },
          "metadata": {}
        },
        {
          "output_type": "display_data",
          "data": {
            "text/plain": [
              "<IPython.core.display.Javascript object>"
            ],
            "application/javascript": [
              "download(\"download_4038adc7-defb-49c1-9b30-9f3771ac90fb\", \"Kolkata_Region_SO_offices.csv\", 89875)"
            ]
          },
          "metadata": {}
        },
        {
          "output_type": "stream",
          "name": "stdout",
          "text": [
            "Downloaded Kolkata_Region_SO_offices.csv\n"
          ]
        },
        {
          "output_type": "display_data",
          "data": {
            "text/plain": [
              "<IPython.core.display.Javascript object>"
            ],
            "application/javascript": [
              "\n",
              "    async function download(id, filename, size) {\n",
              "      if (!google.colab.kernel.accessAllowed) {\n",
              "        return;\n",
              "      }\n",
              "      const div = document.createElement('div');\n",
              "      const label = document.createElement('label');\n",
              "      label.textContent = `Downloading \"${filename}\": `;\n",
              "      div.appendChild(label);\n",
              "      const progress = document.createElement('progress');\n",
              "      progress.max = size;\n",
              "      div.appendChild(progress);\n",
              "      document.body.appendChild(div);\n",
              "\n",
              "      const buffers = [];\n",
              "      let downloaded = 0;\n",
              "\n",
              "      const channel = await google.colab.kernel.comms.open(id);\n",
              "      // Send a message to notify the kernel that we're ready.\n",
              "      channel.send({})\n",
              "\n",
              "      for await (const message of channel.messages) {\n",
              "        // Send a message to notify the kernel that we're ready.\n",
              "        channel.send({})\n",
              "        if (message.buffers) {\n",
              "          for (const buffer of message.buffers) {\n",
              "            buffers.push(buffer);\n",
              "            downloaded += buffer.byteLength;\n",
              "            progress.value = downloaded;\n",
              "          }\n",
              "        }\n",
              "      }\n",
              "      const blob = new Blob(buffers, {type: 'application/binary'});\n",
              "      const a = document.createElement('a');\n",
              "      a.href = window.URL.createObjectURL(blob);\n",
              "      a.download = filename;\n",
              "      div.appendChild(a);\n",
              "      a.click();\n",
              "      div.remove();\n",
              "    }\n",
              "  "
            ]
          },
          "metadata": {}
        },
        {
          "output_type": "display_data",
          "data": {
            "text/plain": [
              "<IPython.core.display.Javascript object>"
            ],
            "application/javascript": [
              "download(\"download_2a64ca32-1325-4526-be32-94b40dff326a\", \"Kolkata_Region_BO_offices.csv\", 273818)"
            ]
          },
          "metadata": {}
        },
        {
          "output_type": "stream",
          "name": "stdout",
          "text": [
            "Downloaded Kolkata_Region_BO_offices.csv\n"
          ]
        },
        {
          "output_type": "display_data",
          "data": {
            "text/plain": [
              "<IPython.core.display.Javascript object>"
            ],
            "application/javascript": [
              "\n",
              "    async function download(id, filename, size) {\n",
              "      if (!google.colab.kernel.accessAllowed) {\n",
              "        return;\n",
              "      }\n",
              "      const div = document.createElement('div');\n",
              "      const label = document.createElement('label');\n",
              "      label.textContent = `Downloading \"${filename}\": `;\n",
              "      div.appendChild(label);\n",
              "      const progress = document.createElement('progress');\n",
              "      progress.max = size;\n",
              "      div.appendChild(progress);\n",
              "      document.body.appendChild(div);\n",
              "\n",
              "      const buffers = [];\n",
              "      let downloaded = 0;\n",
              "\n",
              "      const channel = await google.colab.kernel.comms.open(id);\n",
              "      // Send a message to notify the kernel that we're ready.\n",
              "      channel.send({})\n",
              "\n",
              "      for await (const message of channel.messages) {\n",
              "        // Send a message to notify the kernel that we're ready.\n",
              "        channel.send({})\n",
              "        if (message.buffers) {\n",
              "          for (const buffer of message.buffers) {\n",
              "            buffers.push(buffer);\n",
              "            downloaded += buffer.byteLength;\n",
              "            progress.value = downloaded;\n",
              "          }\n",
              "        }\n",
              "      }\n",
              "      const blob = new Blob(buffers, {type: 'application/binary'});\n",
              "      const a = document.createElement('a');\n",
              "      a.href = window.URL.createObjectURL(blob);\n",
              "      a.download = filename;\n",
              "      div.appendChild(a);\n",
              "      a.click();\n",
              "      div.remove();\n",
              "    }\n",
              "  "
            ]
          },
          "metadata": {}
        },
        {
          "output_type": "display_data",
          "data": {
            "text/plain": [
              "<IPython.core.display.Javascript object>"
            ],
            "application/javascript": [
              "download(\"download_277ed815-3b2d-4404-885f-e90f499584fe\", \"North_Bengal_Region_HO_offices.csv\", 880)"
            ]
          },
          "metadata": {}
        },
        {
          "output_type": "stream",
          "name": "stdout",
          "text": [
            "Downloaded North_Bengal_Region_HO_offices.csv\n"
          ]
        },
        {
          "output_type": "display_data",
          "data": {
            "text/plain": [
              "<IPython.core.display.Javascript object>"
            ],
            "application/javascript": [
              "\n",
              "    async function download(id, filename, size) {\n",
              "      if (!google.colab.kernel.accessAllowed) {\n",
              "        return;\n",
              "      }\n",
              "      const div = document.createElement('div');\n",
              "      const label = document.createElement('label');\n",
              "      label.textContent = `Downloading \"${filename}\": `;\n",
              "      div.appendChild(label);\n",
              "      const progress = document.createElement('progress');\n",
              "      progress.max = size;\n",
              "      div.appendChild(progress);\n",
              "      document.body.appendChild(div);\n",
              "\n",
              "      const buffers = [];\n",
              "      let downloaded = 0;\n",
              "\n",
              "      const channel = await google.colab.kernel.comms.open(id);\n",
              "      // Send a message to notify the kernel that we're ready.\n",
              "      channel.send({})\n",
              "\n",
              "      for await (const message of channel.messages) {\n",
              "        // Send a message to notify the kernel that we're ready.\n",
              "        channel.send({})\n",
              "        if (message.buffers) {\n",
              "          for (const buffer of message.buffers) {\n",
              "            buffers.push(buffer);\n",
              "            downloaded += buffer.byteLength;\n",
              "            progress.value = downloaded;\n",
              "          }\n",
              "        }\n",
              "      }\n",
              "      const blob = new Blob(buffers, {type: 'application/binary'});\n",
              "      const a = document.createElement('a');\n",
              "      a.href = window.URL.createObjectURL(blob);\n",
              "      a.download = filename;\n",
              "      div.appendChild(a);\n",
              "      a.click();\n",
              "      div.remove();\n",
              "    }\n",
              "  "
            ]
          },
          "metadata": {}
        },
        {
          "output_type": "display_data",
          "data": {
            "text/plain": [
              "<IPython.core.display.Javascript object>"
            ],
            "application/javascript": [
              "download(\"download_cbab553c-f463-46b0-937c-9fe9b7ffd6c4\", \"North_Bengal_Region_SO_offices.csv\", 29964)"
            ]
          },
          "metadata": {}
        },
        {
          "output_type": "stream",
          "name": "stdout",
          "text": [
            "Downloaded North_Bengal_Region_SO_offices.csv\n"
          ]
        },
        {
          "output_type": "display_data",
          "data": {
            "text/plain": [
              "<IPython.core.display.Javascript object>"
            ],
            "application/javascript": [
              "\n",
              "    async function download(id, filename, size) {\n",
              "      if (!google.colab.kernel.accessAllowed) {\n",
              "        return;\n",
              "      }\n",
              "      const div = document.createElement('div');\n",
              "      const label = document.createElement('label');\n",
              "      label.textContent = `Downloading \"${filename}\": `;\n",
              "      div.appendChild(label);\n",
              "      const progress = document.createElement('progress');\n",
              "      progress.max = size;\n",
              "      div.appendChild(progress);\n",
              "      document.body.appendChild(div);\n",
              "\n",
              "      const buffers = [];\n",
              "      let downloaded = 0;\n",
              "\n",
              "      const channel = await google.colab.kernel.comms.open(id);\n",
              "      // Send a message to notify the kernel that we're ready.\n",
              "      channel.send({})\n",
              "\n",
              "      for await (const message of channel.messages) {\n",
              "        // Send a message to notify the kernel that we're ready.\n",
              "        channel.send({})\n",
              "        if (message.buffers) {\n",
              "          for (const buffer of message.buffers) {\n",
              "            buffers.push(buffer);\n",
              "            downloaded += buffer.byteLength;\n",
              "            progress.value = downloaded;\n",
              "          }\n",
              "        }\n",
              "      }\n",
              "      const blob = new Blob(buffers, {type: 'application/binary'});\n",
              "      const a = document.createElement('a');\n",
              "      a.href = window.URL.createObjectURL(blob);\n",
              "      a.download = filename;\n",
              "      div.appendChild(a);\n",
              "      a.click();\n",
              "      div.remove();\n",
              "    }\n",
              "  "
            ]
          },
          "metadata": {}
        },
        {
          "output_type": "display_data",
          "data": {
            "text/plain": [
              "<IPython.core.display.Javascript object>"
            ],
            "application/javascript": [
              "download(\"download_f079284b-5fcf-4ed9-b3d1-0b18f34c7041\", \"North_Bengal_Region_BO_offices.csv\", 151071)"
            ]
          },
          "metadata": {}
        },
        {
          "output_type": "stream",
          "name": "stdout",
          "text": [
            "Downloaded North_Bengal_Region_BO_offices.csv\n"
          ]
        },
        {
          "output_type": "display_data",
          "data": {
            "text/plain": [
              "<IPython.core.display.Javascript object>"
            ],
            "application/javascript": [
              "\n",
              "    async function download(id, filename, size) {\n",
              "      if (!google.colab.kernel.accessAllowed) {\n",
              "        return;\n",
              "      }\n",
              "      const div = document.createElement('div');\n",
              "      const label = document.createElement('label');\n",
              "      label.textContent = `Downloading \"${filename}\": `;\n",
              "      div.appendChild(label);\n",
              "      const progress = document.createElement('progress');\n",
              "      progress.max = size;\n",
              "      div.appendChild(progress);\n",
              "      document.body.appendChild(div);\n",
              "\n",
              "      const buffers = [];\n",
              "      let downloaded = 0;\n",
              "\n",
              "      const channel = await google.colab.kernel.comms.open(id);\n",
              "      // Send a message to notify the kernel that we're ready.\n",
              "      channel.send({})\n",
              "\n",
              "      for await (const message of channel.messages) {\n",
              "        // Send a message to notify the kernel that we're ready.\n",
              "        channel.send({})\n",
              "        if (message.buffers) {\n",
              "          for (const buffer of message.buffers) {\n",
              "            buffers.push(buffer);\n",
              "            downloaded += buffer.byteLength;\n",
              "            progress.value = downloaded;\n",
              "          }\n",
              "        }\n",
              "      }\n",
              "      const blob = new Blob(buffers, {type: 'application/binary'});\n",
              "      const a = document.createElement('a');\n",
              "      a.href = window.URL.createObjectURL(blob);\n",
              "      a.download = filename;\n",
              "      div.appendChild(a);\n",
              "      a.click();\n",
              "      div.remove();\n",
              "    }\n",
              "  "
            ]
          },
          "metadata": {}
        },
        {
          "output_type": "display_data",
          "data": {
            "text/plain": [
              "<IPython.core.display.Javascript object>"
            ],
            "application/javascript": [
              "download(\"download_2b363a08-c359-4963-9cde-272e41dc5581\", \"South_Bengal_Region_HO_offices.csv\", 1852)"
            ]
          },
          "metadata": {}
        },
        {
          "output_type": "stream",
          "name": "stdout",
          "text": [
            "Downloaded South_Bengal_Region_HO_offices.csv\n"
          ]
        },
        {
          "output_type": "display_data",
          "data": {
            "text/plain": [
              "<IPython.core.display.Javascript object>"
            ],
            "application/javascript": [
              "\n",
              "    async function download(id, filename, size) {\n",
              "      if (!google.colab.kernel.accessAllowed) {\n",
              "        return;\n",
              "      }\n",
              "      const div = document.createElement('div');\n",
              "      const label = document.createElement('label');\n",
              "      label.textContent = `Downloading \"${filename}\": `;\n",
              "      div.appendChild(label);\n",
              "      const progress = document.createElement('progress');\n",
              "      progress.max = size;\n",
              "      div.appendChild(progress);\n",
              "      document.body.appendChild(div);\n",
              "\n",
              "      const buffers = [];\n",
              "      let downloaded = 0;\n",
              "\n",
              "      const channel = await google.colab.kernel.comms.open(id);\n",
              "      // Send a message to notify the kernel that we're ready.\n",
              "      channel.send({})\n",
              "\n",
              "      for await (const message of channel.messages) {\n",
              "        // Send a message to notify the kernel that we're ready.\n",
              "        channel.send({})\n",
              "        if (message.buffers) {\n",
              "          for (const buffer of message.buffers) {\n",
              "            buffers.push(buffer);\n",
              "            downloaded += buffer.byteLength;\n",
              "            progress.value = downloaded;\n",
              "          }\n",
              "        }\n",
              "      }\n",
              "      const blob = new Blob(buffers, {type: 'application/binary'});\n",
              "      const a = document.createElement('a');\n",
              "      a.href = window.URL.createObjectURL(blob);\n",
              "      a.download = filename;\n",
              "      div.appendChild(a);\n",
              "      a.click();\n",
              "      div.remove();\n",
              "    }\n",
              "  "
            ]
          },
          "metadata": {}
        },
        {
          "output_type": "display_data",
          "data": {
            "text/plain": [
              "<IPython.core.display.Javascript object>"
            ],
            "application/javascript": [
              "download(\"download_3e68e5e1-fb4d-48c0-a071-7f807b38f6de\", \"South_Bengal_Region_SO_offices.csv\", 74939)"
            ]
          },
          "metadata": {}
        },
        {
          "output_type": "stream",
          "name": "stdout",
          "text": [
            "Downloaded South_Bengal_Region_SO_offices.csv\n"
          ]
        },
        {
          "output_type": "display_data",
          "data": {
            "text/plain": [
              "<IPython.core.display.Javascript object>"
            ],
            "application/javascript": [
              "\n",
              "    async function download(id, filename, size) {\n",
              "      if (!google.colab.kernel.accessAllowed) {\n",
              "        return;\n",
              "      }\n",
              "      const div = document.createElement('div');\n",
              "      const label = document.createElement('label');\n",
              "      label.textContent = `Downloading \"${filename}\": `;\n",
              "      div.appendChild(label);\n",
              "      const progress = document.createElement('progress');\n",
              "      progress.max = size;\n",
              "      div.appendChild(progress);\n",
              "      document.body.appendChild(div);\n",
              "\n",
              "      const buffers = [];\n",
              "      let downloaded = 0;\n",
              "\n",
              "      const channel = await google.colab.kernel.comms.open(id);\n",
              "      // Send a message to notify the kernel that we're ready.\n",
              "      channel.send({})\n",
              "\n",
              "      for await (const message of channel.messages) {\n",
              "        // Send a message to notify the kernel that we're ready.\n",
              "        channel.send({})\n",
              "        if (message.buffers) {\n",
              "          for (const buffer of message.buffers) {\n",
              "            buffers.push(buffer);\n",
              "            downloaded += buffer.byteLength;\n",
              "            progress.value = downloaded;\n",
              "          }\n",
              "        }\n",
              "      }\n",
              "      const blob = new Blob(buffers, {type: 'application/binary'});\n",
              "      const a = document.createElement('a');\n",
              "      a.href = window.URL.createObjectURL(blob);\n",
              "      a.download = filename;\n",
              "      div.appendChild(a);\n",
              "      a.click();\n",
              "      div.remove();\n",
              "    }\n",
              "  "
            ]
          },
          "metadata": {}
        },
        {
          "output_type": "display_data",
          "data": {
            "text/plain": [
              "<IPython.core.display.Javascript object>"
            ],
            "application/javascript": [
              "download(\"download_aba97111-1f32-4fc7-8c43-daab67970d90\", \"South_Bengal_Region_BO_offices.csv\", 369156)"
            ]
          },
          "metadata": {}
        },
        {
          "output_type": "stream",
          "name": "stdout",
          "text": [
            "Downloaded South_Bengal_Region_BO_offices.csv\n"
          ]
        }
      ]
    },
    {
      "cell_type": "code",
      "source": [
        "import pandas as pd\n",
        "import requests\n",
        "import time\n",
        "\n",
        "# Load the dataset\n",
        "file_path = '/content/vijay_pallu.csv'  # Adjust to the actual file path\n",
        "df = pd.read_csv(file_path, encoding='ISO-8859-1')\n",
        "\n",
        "# Function to get latitude and longitude from the pincode using OSM Nominatim API\n",
        "def get_lat_long_osm(pincode):\n",
        "    base_url = \"https://nominatim.openstreetmap.org/search\"\n",
        "    params = {\n",
        "        \"postalcode\": pincode,\n",
        "        \"countrycodes\": \"IN\",  # Set to India, change it as needed\n",
        "        \"format\": \"json\"\n",
        "    }\n",
        "    response = requests.get(base_url, params=params, headers={'User-Agent': 'Mozilla/5.0'})\n",
        "    if response.status_code == 200 and len(response.json()) > 0:\n",
        "        result = response.json()[0]\n",
        "        return result['lat'], result['lon']\n",
        "    return None, None\n",
        "\n",
        "# Add Latitude and Longitude columns\n",
        "df['Latitude'] = None\n",
        "df['Longitude'] = None\n",
        "\n",
        "# Iterate through unique pin codes to avoid repeated API calls\n",
        "unique_pincodes = df['Pincode'].unique()\n",
        "\n",
        "for pincode in unique_pincodes:\n",
        "    lat, lng = get_lat_long_osm(pincode)\n",
        "\n",
        "    # Update the corresponding rows with the latitude and longitude\n",
        "    df.loc[df['Pincode'] == pincode, 'Latitude'] = lat\n",
        "    df.loc[df['Pincode'] == pincode, 'Longitude'] = lng\n",
        "\n",
        "    print(f\"Processed Pincode: {pincode} | Latitude: {lat}, Longitude: {lng}\")\n",
        "\n",
        "    # Delay to respect API rate limits\n",
        "    time.sleep(1)  # Add delay to avoid hitting the request limit\n",
        "\n",
        "# Save the updated dataset with latitudes and longitudes\n",
        "output_file = 'kurnool_vs_vijayawada.csv'\n",
        "df.to_csv(output_file, index=False)\n",
        "\n",
        "print(f\"Updated dataset saved to {output_file}\")"
      ],
      "metadata": {
        "colab": {
          "base_uri": "https://localhost:8080/"
        },
        "id": "l_2LjpQP3lAa",
        "outputId": "cac4044c-f223-4367-a6c3-0054e47f38ad"
      },
      "execution_count": null,
      "outputs": [
        {
          "output_type": "stream",
          "name": "stdout",
          "text": [
            "Processed Pincode: 515004 | Latitude: 14.743604210344827, Longitude: 77.6916881275862\n",
            "Processed Pincode: 515731 | Latitude: 14.8181186, Longitude: 77.59799345\n",
            "Processed Pincode: 515002 | Latitude: 14.681397621052632, Longitude: 77.61501318421053\n",
            "Processed Pincode: 515766 | Latitude: 14.2914167, Longitude: 77.0348529\n",
            "Processed Pincode: 515415 | Latitude: 14.9489458, Longitude: 78.0290549\n",
            "Processed Pincode: 515822 | Latitude: 14.8289023, Longitude: 77.2527061\n",
            "Processed Pincode: 515445 | Latitude: 14.9296529, Longitude: 77.8611195\n",
            "Processed Pincode: 515001 | Latitude: 14.673444204615384, Longitude: 77.60027021076924\n",
            "Processed Pincode: 515741 | Latitude: 14.71633745, Longitude: 77.1308029\n",
            "Processed Pincode: 515775 | Latitude: 14.946338566666666, Longitude: 77.59040526666666\n",
            "Processed Pincode: 515455 | Latitude: 15.0627154, Longitude: 77.7825672\n",
            "Processed Pincode: 515465 | Latitude: 14.661599, Longitude: 78.03633915\n",
            "Processed Pincode: 515751 | Latitude: 14.655567033333334, Longitude: 77.41259216666666\n",
            "Processed Pincode: 515867 | Latitude: 14.691094, Longitude: 76.972639\n",
            "Processed Pincode: 515763 | Latitude: None, Longitude: None\n",
            "Processed Pincode: 515767 | Latitude: 14.44578725, Longitude: 76.9789915\n",
            "Processed Pincode: 515722 | Latitude: 14.575399, Longitude: 77.590148\n",
            "Processed Pincode: 534338 | Latitude: None, Longitude: None\n",
            "Processed Pincode: 534268 | Latitude: 16.48030045, Longitude: 81.78401205\n",
            "Processed Pincode: 534330 | Latitude: None, Longitude: None\n",
            "Processed Pincode: 534269 | Latitude: 16.5726487, Longitude: 81.82009373333334\n",
            "Processed Pincode: 534199 | Latitude: 16.584494693333333, Longitude: 81.45757837333333\n",
            "Processed Pincode: 534237 | Latitude: 16.53628135, Longitude: 81.4038679\n",
            "Processed Pincode: 534235 | Latitude: 16.587118286666666, Longitude: 81.40188455333333\n",
            "Processed Pincode: 534208 | Latitude: 16.53933, Longitude: 81.5102857\n",
            "Processed Pincode: 534222 | Latitude: 16.7355605, Longitude: 81.681757\n",
            "Processed Pincode: 534134 | Latitude: 16.68822708, Longitude: 81.60240836\n",
            "Processed Pincode: 534210 | Latitude: 16.5663032, Longitude: 81.54222865\n",
            "Processed Pincode: 534240 | Latitude: None, Longitude: None\n",
            "Processed Pincode: 534206 | Latitude: 16.5381256, Longitude: 81.4563796\n",
            "Processed Pincode: 534275 | Latitude: 16.438183573333333, Longitude: 81.69675633333334\n",
            "Processed Pincode: 534209 | Latitude: 16.59181605, Longitude: 81.58721455\n",
            "Processed Pincode: 534320 | Latitude: 16.6664124625, Longitude: 81.7444662625\n",
            "Processed Pincode: 534217 | Latitude: 16.6920289, Longitude: 81.7070286\n",
            "Processed Pincode: 534328 | Latitude: None, Longitude: None\n",
            "Processed Pincode: 534280 | Latitude: 16.3642172, Longitude: 81.6335943\n",
            "Updated dataset saved to kurnool_vs_vijayawada.csv\n"
          ]
        }
      ]
    },
    {
      "cell_type": "code",
      "source": [],
      "metadata": {
        "id": "7JDFHfubU5BF"
      },
      "execution_count": null,
      "outputs": []
    },
    {
      "cell_type": "code",
      "source": [
        "import pandas as pd\n",
        "\n",
        "# Load the CSV data\n",
        "file_path = '/content/pincodes_all.csv'  # Adjust path if necessary\n",
        "\n",
        "# Use 'latin-1' encoding to handle special characters\n",
        "data = pd.read_csv(file_path, encoding='latin-1')\n",
        "\n",
        "# Step 1: Display the column names to ensure we have the right fields to filter on\n",
        "print(data.columns)\n",
        "\n",
        "# Step 2: Filter entries from Kurnool and Vijayawada for 'SO' and 'BO' types\n",
        "# Added .str.strip() to remove leading/trailing spaces that might cause issues with filtering\n",
        "kurnool_data = data[\n",
        "    (data['Region Name'].str.strip() == 'Kurnool') &\n",
        "    (data['OfficeType'].str.strip().isin(['SO', 'BO']))\n",
        "]\n",
        "\n",
        "vijayawada_data = data[\n",
        "    (data['Region Name'].str.strip() == 'Vijayawada') &\n",
        "    (data['OfficeType'].str.strip().isin(['SO', 'BO']))\n",
        "]\n",
        "\n",
        "# Print the number of rows in each DataFrame to check if they are empty\n",
        "print(f\"Number of rows in kurnool_data: {len(kurnool_data)}\")\n",
        "print(f\"Number of rows in vijayawada_data: {len(vijayawada_data)}\")\n",
        "\n",
        "# Step 3: Limit the results to 25 entries from each region\n",
        "# Only sample if the DataFrames are not empty\n",
        "if len(kurnool_data) > 0:\n",
        "    kurnool_sample = kurnool_data.sample(n=25, random_state=42)\n",
        "else:\n",
        "    kurnool_sample = pd.DataFrame(columns=kurnool_data.columns) # Create empty DataFrame with same columns\n",
        "\n",
        "if len(vijayawada_data) > 0:\n",
        "    vijayawada_sample = vijayawada_data.sample(n=25, random_state=42)\n",
        "else:\n",
        "    vijayawada_sample = pd.DataFrame(columns=vijayawada_data.columns) # Create empty DataFrame with same columns\n",
        "\n",
        "# Step 4: Combine the two samples\n",
        "combined_sample = pd.concat([kurnool_sample, vijayawada_sample])\n",
        "\n",
        "# Step 5: Display the combined 50 selected entries\n",
        "print(combined_sample)\n",
        "\n",
        "# Step 6: Save the result as a CSV file\n",
        "output_file_path = '/content/kurnool_vijayawadarrr_sample.csv'\n",
        "combined_sample.to_csv(output_file_path, index=False)\n",
        "print(f\"CSV file saved: {output_file_path}\")\n",
        "\n"
      ],
      "metadata": {
        "colab": {
          "base_uri": "https://localhost:8080/"
        },
        "id": "3Rmol0Uv5SQX",
        "outputId": "745d001a-57f8-4070-9b53-13e6bbef1eb3"
      },
      "execution_count": null,
      "outputs": [
        {
          "output_type": "stream",
          "name": "stdout",
          "text": [
            "Index(['Circle Name', 'Region Name', 'Division Name', 'Office Name', 'Pincode',\n",
            "       'OfficeType', 'Delivery', 'District', 'StateName'],\n",
            "      dtype='object')\n",
            "Number of rows in kurnool_data: 0\n",
            "Number of rows in vijayawada_data: 0\n",
            "Empty DataFrame\n",
            "Columns: [Circle Name, Region Name, Division Name, Office Name, Pincode, OfficeType, Delivery, District, StateName]\n",
            "Index: []\n",
            "CSV file saved: /content/kurnool_vijayawadarrr_sample.csv\n"
          ]
        }
      ]
    },
    {
      "cell_type": "markdown",
      "metadata": {
        "id": "4eUaMkZgal0X"
      },
      "source": []
    },
    {
      "cell_type": "code",
      "execution_count": null,
      "metadata": {
        "colab": {
          "base_uri": "https://localhost:8080/"
        },
        "id": "qkA0slGjauC6",
        "outputId": "9d88a319-9393-4d95-ac8c-04a031f72204"
      },
      "outputs": [
        {
          "name": "stdout",
          "output_type": "stream",
          "text": [
            "Requirement already satisfied: pandas in /usr/local/lib/python3.10/dist-packages (2.1.4)\n",
            "Requirement already satisfied: scikit-learn in /usr/local/lib/python3.10/dist-packages (1.3.2)\n",
            "Requirement already satisfied: numpy<2,>=1.22.4 in /usr/local/lib/python3.10/dist-packages (from pandas) (1.26.4)\n",
            "Requirement already satisfied: python-dateutil>=2.8.2 in /usr/local/lib/python3.10/dist-packages (from pandas) (2.8.2)\n",
            "Requirement already satisfied: pytz>=2020.1 in /usr/local/lib/python3.10/dist-packages (from pandas) (2024.1)\n",
            "Requirement already satisfied: tzdata>=2022.1 in /usr/local/lib/python3.10/dist-packages (from pandas) (2024.1)\n",
            "Requirement already satisfied: scipy>=1.5.0 in /usr/local/lib/python3.10/dist-packages (from scikit-learn) (1.13.1)\n",
            "Requirement already satisfied: joblib>=1.1.1 in /usr/local/lib/python3.10/dist-packages (from scikit-learn) (1.4.2)\n",
            "Requirement already satisfied: threadpoolctl>=2.0.0 in /usr/local/lib/python3.10/dist-packages (from scikit-learn) (3.5.0)\n",
            "Requirement already satisfied: six>=1.5 in /usr/local/lib/python3.10/dist-packages (from python-dateutil>=2.8.2->pandas) (1.16.0)\n"
          ]
        }
      ],
      "source": [
        "!pip install pandas scikit-learn\n"
      ]
    }
  ],
  "metadata": {
    "colab": {
      "provenance": []
    },
    "kernelspec": {
      "display_name": "Python 3",
      "name": "python3"
    },
    "language_info": {
      "name": "python"
    }
  },
  "nbformat": 4,
  "nbformat_minor": 0
}